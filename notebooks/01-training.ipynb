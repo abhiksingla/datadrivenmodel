{
 "cells": [
  {
   "cell_type": "markdown",
   "metadata": {},
   "source": [
    "# Training Models with the Data-Driven Library\n",
    "\n",
    "The datadriven library provides an extensible command-line interface for training, evaluating, and predicting data-driven simulators. However, you may prefer training and sweeping models inside a notebook. This notebook provides an example for doing so."
   ]
  },
  {
   "cell_type": "markdown",
   "metadata": {},
   "source": [
    "## Set Working Directory and Import Necessary Libraries"
   ]
  },
  {
   "cell_type": "code",
   "execution_count": 1,
   "metadata": {},
   "outputs": [
    {
     "name": "stdout",
     "output_type": "stream",
     "text": [
      "/Users/jill/bonsai/datadrivenmodel\n"
     ]
    }
   ],
   "source": [
    "cd .."
   ]
  },
  {
   "cell_type": "code",
   "execution_count": 2,
   "metadata": {},
   "outputs": [],
   "source": [
    "from hydra.experimental import initialize, compose\n",
    "from omegaconf import DictConfig, ListConfig, OmegaConf\n",
    "from model_loader import available_models\n",
    "from base import plot_parallel_coords\n",
    "import logging\n",
    "import matplotlib.pyplot as plt\n",
    "import numpy as np\n",
    "from rich import print\n",
    "from rich.logging import RichHandler\n",
    "import copy\n",
    "import pandas as pd\n",
    "from assessment_metrics_loader import available_metrics\n",
    "\n",
    "logging.basicConfig(\n",
    "    level=logging.INFO,\n",
    "    format=\"%(message)s\",\n",
    "    datefmt=\"[%X]\",\n",
    "    handlers=[RichHandler()]\n",
    ")\n",
    "logger = logging.getLogger(\"ddm_training\")\n",
    "logger.setLevel(logging.INFO)"
   ]
  },
  {
   "cell_type": "markdown",
   "metadata": {},
   "source": [
    "## Initialize Configuration\n",
    "\n",
    "While you can provide every argument manually, there is benefit in directly using the `hydra` config class to load an existing configuration file. This way you can ensure your parameters are saved to a file for later use, and you automatically gain the benefit of all the logging and model artifacts that are provided by our workflow of `hydra` and `mlflow`.\n",
    "\n",
    "If you want to override any settings of the configurations, provide them in a list of `overrides` as shown below."
   ]
  },
  {
   "cell_type": "code",
   "execution_count": 3,
   "metadata": {},
   "outputs": [
    {
     "name": "stderr",
     "output_type": "stream",
     "text": [
      "/Users/jill/opt/anaconda3/envs/ddm/lib/python3.8/site-packages/hydra/plugins/config_source.py:190: UserWarning: \n",
      "Missing @package directive model/xgboost.yaml in file:///Users/jill/bonsai/datadrivenmodel/conf.\n",
      "See https://hydra.cc/docs/next/upgrades/0.11_to_1.0/adding_a_package_directive\n",
      "  warnings.warn(message=msg, category=UserWarning)\n",
      "/Users/jill/opt/anaconda3/envs/ddm/lib/python3.8/site-packages/hydra/plugins/config_source.py:190: UserWarning: \n",
      "Missing @package directive data/cartpole_st1_at.yaml in file:///Users/jill/bonsai/datadrivenmodel/conf.\n",
      "See https://hydra.cc/docs/next/upgrades/0.11_to_1.0/adding_a_package_directive\n",
      "  warnings.warn(message=msg, category=UserWarning)\n",
      "/Users/jill/opt/anaconda3/envs/ddm/lib/python3.8/site-packages/hydra/plugins/config_source.py:190: UserWarning: \n",
      "Missing @package directive simulator/house_energy_simparam.yaml in file:///Users/jill/bonsai/datadrivenmodel/conf.\n",
      "See https://hydra.cc/docs/next/upgrades/0.11_to_1.0/adding_a_package_directive\n",
      "  warnings.warn(message=msg, category=UserWarning)\n"
     ]
    }
   ],
   "source": [
    "initialize(config_path=\"../conf\", job_name=\"ddm_training\")\n",
    "cfg = compose(config_name=\"config\", overrides=[\"data=cartpole-updated\", \"model=xgboost\"])"
   ]
  },
  {
   "cell_type": "code",
   "execution_count": 4,
   "metadata": {},
   "outputs": [
    {
     "data": {
      "text/html": [
       "<pre style=\"white-space:pre;overflow-x:auto;line-height:normal;font-family:Menlo,'DejaVu Sans Mono',consolas,'Courier New',monospace\">model:\n",
       "  name: xgboost\n",
       "  build_params:\n",
       "    model_type: xgboost\n",
       "    fit_separate: false\n",
       "    halt_model: false\n",
       "    n_estimators: <span style=\"color: #000080; text-decoration-color: #000080; font-weight: bold\">100</span>\n",
       "    objective: reg:squarederror\n",
       "    learning_rate: <span style=\"color: #000080; text-decoration-color: #000080; font-weight: bold\">0.3</span>\n",
       "    scale_data: true\n",
       "    max_depth: <span style=\"color: #000080; text-decoration-color: #000080; font-weight: bold\">6</span>\n",
       "  saver:\n",
       "    filename: models/xgboost_models/house-energy\n",
       "  sweep:\n",
       "    run: false\n",
       "    split_strategy: timeseries\n",
       "    search_algorithm: bayesian\n",
       "    num_trials: <span style=\"color: #000080; text-decoration-color: #000080; font-weight: bold\">15</span>\n",
       "    scoring_func: r2\n",
       "    early_stopping: false\n",
       "    results_csv_path: xgboost_gridsearch/search_results.csv\n",
       "    params:\n",
       "      estimator__max_depth:\n",
       "      - <span style=\"color: #000080; text-decoration-color: #000080; font-weight: bold\">1</span>\n",
       "      - <span style=\"color: #000080; text-decoration-color: #000080; font-weight: bold\">3</span>\n",
       "      - <span style=\"color: #000080; text-decoration-color: #000080; font-weight: bold\">5</span>\n",
       "      - <span style=\"color: #000080; text-decoration-color: #000080; font-weight: bold\">10</span>\n",
       "      estimator__gamma:\n",
       "      - <span style=\"color: #000080; text-decoration-color: #000080; font-weight: bold\">0</span>\n",
       "      - <span style=\"color: #000080; text-decoration-color: #000080; font-weight: bold\">0.5</span>\n",
       "      - <span style=\"color: #000080; text-decoration-color: #000080; font-weight: bold\">1</span>\n",
       "      - <span style=\"color: #000080; text-decoration-color: #000080; font-weight: bold\">5</span>\n",
       "      estimator__subsample:\n",
       "      - <span style=\"color: #000080; text-decoration-color: #000080; font-weight: bold\">0.1</span>\n",
       "      - <span style=\"color: #000080; text-decoration-color: #000080; font-weight: bold\">0.5</span>\n",
       "      - <span style=\"color: #000080; text-decoration-color: #000080; font-weight: bold\">1</span>\n",
       "      estimator__eta:\n",
       "      - <span style=\"color: #000080; text-decoration-color: #000080; font-weight: bold\">0.3</span>\n",
       "      - <span style=\"color: #000080; text-decoration-color: #000080; font-weight: bold\">0.1</span>\n",
       "      - <span style=\"color: #000080; text-decoration-color: #000080; font-weight: bold\">0.5</span>\n",
       "data:\n",
       "  path: csv_data/cartpole-log.csv\n",
       "  full_or_relative: relative\n",
       "  inputs: state\n",
       "  outputs: state\n",
       "  augmented_cols:\n",
       "  - config_length\n",
       "  - config_masspole\n",
       "  - action_command\n",
       "  iteration_order: <span style=\"color: #000080; text-decoration-color: #000080; font-weight: bold\">-1</span>\n",
       "  episode_col: episode\n",
       "  iteration_col: iteration\n",
       "  max_rows: <span style=\"color: #000080; text-decoration-color: #000080; font-weight: bold\">1000</span>\n",
       "  scale_data: true\n",
       "  diff_state: false\n",
       "  test_perc: <span style=\"color: #000080; text-decoration-color: #000080; font-weight: bold\">0.25</span>\n",
       "simulator:\n",
       "  states:\n",
       "  - Tin\n",
       "  - Tout\n",
       "  actions:\n",
       "  - hvacON\n",
       "  configs:\n",
       "  - K\n",
       "  - C\n",
       "  - Qhvac\n",
       "  - horizon\n",
       "  - Tset_start\n",
       "  - Tset_stop\n",
       "  - Tset_transition\n",
       "  - Tout_amplitude\n",
       "  - Tout_median\n",
       "  episode_inits:\n",
       "    K: <span style=\"color: #000080; text-decoration-color: #000080; font-weight: bold\">0.5</span>\n",
       "    C: <span style=\"color: #000080; text-decoration-color: #000080; font-weight: bold\">0.3</span>\n",
       "    Qhvac: <span style=\"color: #000080; text-decoration-color: #000080; font-weight: bold\">9</span>\n",
       "    horizon: <span style=\"color: #000080; text-decoration-color: #000080; font-weight: bold\">288</span>\n",
       "    Tset_start: <span style=\"color: #000080; text-decoration-color: #000080; font-weight: bold\">25</span>\n",
       "    Tset_stop: <span style=\"color: #000080; text-decoration-color: #000080; font-weight: bold\">20</span>\n",
       "    Tset_transition: <span style=\"color: #000080; text-decoration-color: #000080; font-weight: bold\">100</span>\n",
       "    Tout_amplitude: <span style=\"color: #000080; text-decoration-color: #000080; font-weight: bold\">5</span>\n",
       "    Tout_median: <span style=\"color: #000080; text-decoration-color: #000080; font-weight: bold\">25</span>\n",
       "  initial_states:\n",
       "    Tin:\n",
       "      inkling_name: Tin_initial\n",
       "      min: <span style=\"color: #000080; text-decoration-color: #000080; font-weight: bold\">18</span>\n",
       "      max: <span style=\"color: #000080; text-decoration-color: #000080; font-weight: bold\">30</span>\n",
       "    Tout:\n",
       "      inkling_name: Tout\n",
       "      min: <span style=\"color: #000080; text-decoration-color: #000080; font-weight: bold\">25</span>\n",
       "      max: <span style=\"color: #000080; text-decoration-color: #000080; font-weight: bold\">25</span>\n",
       "  signal_builder:\n",
       "    signal_types:\n",
       "      Tset: step_function\n",
       "      Tout: sinewave\n",
       "    horizon: <span style=\"color: #000080; text-decoration-color: #000080; font-weight: bold\">288</span>\n",
       "    signal_params:\n",
       "      Tset:\n",
       "        start:\n",
       "          min: <span style=\"color: #000080; text-decoration-color: #000080; font-weight: bold\">25</span>\n",
       "          max: <span style=\"color: #000080; text-decoration-color: #000080; font-weight: bold\">25</span>\n",
       "        stop:\n",
       "          min: <span style=\"color: #000080; text-decoration-color: #000080; font-weight: bold\">20</span>\n",
       "          max: <span style=\"color: #000080; text-decoration-color: #000080; font-weight: bold\">22</span>\n",
       "        transition:\n",
       "          min: <span style=\"color: #000080; text-decoration-color: #000080; font-weight: bold\">100</span>\n",
       "          max: <span style=\"color: #000080; text-decoration-color: #000080; font-weight: bold\">148</span>\n",
       "      Tout:\n",
       "        amplitude:\n",
       "          min: <span style=\"color: #000080; text-decoration-color: #000080; font-weight: bold\">3</span>\n",
       "          max: <span style=\"color: #000080; text-decoration-color: #000080; font-weight: bold\">5</span>\n",
       "        median:\n",
       "          min: <span style=\"color: #000080; text-decoration-color: #000080; font-weight: bold\">23</span>\n",
       "          max: <span style=\"color: #000080; text-decoration-color: #000080; font-weight: bold\">30</span>\n",
       "  policy: bonsai\n",
       "  logging: enable\n",
       "  workspace_setup: true\n",
       "\n",
       "</pre>\n"
      ],
      "text/plain": [
       "<rich.jupyter.JupyterRenderable at 0x7fc8ca5649a0>"
      ]
     },
     "metadata": {},
     "output_type": "display_data"
    }
   ],
   "source": [
    "print(OmegaConf.to_yaml(cfg))"
   ]
  },
  {
   "cell_type": "code",
   "execution_count": 5,
   "metadata": {},
   "outputs": [],
   "source": [
    "# Extract features from yaml file\n",
    "input_cols = cfg['data']['inputs']\n",
    "output_cols = cfg['data']['outputs']\n",
    "augmented_cols = cfg['data']['augmented_cols']\n",
    "dataset_path = cfg['data']['path']\n",
    "iteration_order = cfg['data']['iteration_order']\n",
    "episode_col = cfg['data']['episode_col']\n",
    "iteration_col = cfg['data']['iteration_col']\n",
    "max_rows = cfg['data']['max_rows']\n",
    "test_perc = cfg['data']['test_perc']"
   ]
  },
  {
   "cell_type": "markdown",
   "metadata": {},
   "source": [
    "## Model Trainer\n",
    "\n",
    "To make it easy to sweep over models later, we create a simple `train_models` function here:"
   ]
  },
  {
   "cell_type": "code",
   "execution_count": 6,
   "metadata": {},
   "outputs": [],
   "source": [
    "def train_models(config=cfg):\n",
    "\n",
    "    logger.info(f'Model type: {available_models[config[\"model\"][\"name\"]]}')\n",
    "    Model = available_models[config[\"model\"][\"name\"]]\n",
    "    model = Model()\n",
    "    logger.info(f\"Building model with parameters: {config}\")\n",
    "    model.build_model(\n",
    "        **config[\"model\"][\"build_params\"]\n",
    "    )\n",
    "    logger.info(f\"Loading data from {dataset_path}\")\n",
    "    X, y = model.load_csv(\n",
    "        input_cols=input_cols,\n",
    "        output_cols=output_cols,\n",
    "        augm_cols=list(augmented_cols),\n",
    "        dataset_path=dataset_path,\n",
    "        iteration_order=iteration_order,\n",
    "        episode_col=episode_col,\n",
    "        iteration_col=iteration_col,\n",
    "        max_rows=max_rows,\n",
    "    )\n",
    "    global X_train, y_train, episode_ids_train, X_test, y_test, episode_ids_test\n",
    "    train_id_end = int(np.floor(X.shape[0] * (1 - test_perc)))\n",
    "    X_train, y_train, episode_ids_train = (X[:train_id_end,],y[:train_id_end,],model.episode_ids[:train_id_end,])\n",
    "    X_test, y_test, episode_ids_test = (X[train_id_end:,],y[train_id_end:,],model.episode_ids[train_id_end:,])\n",
    "    \n",
    "    \n",
    "    logger.info(f\"Fitting model...\")\n",
    "    model.fit(X_train, y_train)\n",
    "    logger.info(f\"Model trained!\")\n",
    "    y_pred = model.predict(X_test)\n",
    "    r2_score = available_metrics[\"r2_score\"]\n",
    "    logger.info(f\"R^2 score is {r2_score(y_test,y_pred)} for the test set.\")\n",
    "\n",
    "    return model"
   ]
  },
  {
   "cell_type": "code",
   "execution_count": 7,
   "metadata": {},
   "outputs": [
    {
     "data": {
      "text/html": [
       "<pre style=\"white-space:pre;overflow-x:auto;line-height:normal;font-family:Menlo,'DejaVu Sans Mono',consolas,'Courier New',monospace\"><span style=\"color: #7fbfbf; text-decoration-color: #7fbfbf\">[11:35:05] </span><span style=\"color: #000080; text-decoration-color: #000080\">INFO    </span> Model type: <span style=\"font-weight: bold\">&lt;</span><span style=\"color: #ff00ff; text-decoration-color: #ff00ff; font-weight: bold\">class</span><span style=\"color: #000000; text-decoration-color: #000000\"> </span><span style=\"color: #008000; text-decoration-color: #008000\">'gboost_models.GBoostModel'</span><span style=\"font-weight: bold\">&gt;</span>           <a href=\"file:///var/folders/0n/4grcjjyx7sv7zx8fr2h1yxym0000gn/T/ipykernel_56067/1073314026.py\"><span style=\"color: #7f7f7f; text-decoration-color: #7f7f7f\">1073314026.py</span></a><span style=\"color: #7f7f7f; text-decoration-color: #7f7f7f\">:3</span>\n",
       "</pre>\n"
      ],
      "text/plain": [
       "<rich.jupyter.JupyterRenderable at 0x7fc8ca438880>"
      ]
     },
     "metadata": {},
     "output_type": "display_data"
    },
    {
     "data": {
      "text/html": [
       "<pre style=\"white-space:pre;overflow-x:auto;line-height:normal;font-family:Menlo,'DejaVu Sans Mono',consolas,'Courier New',monospace\"><span style=\"color: #7fbfbf; text-decoration-color: #7fbfbf\">           </span><span style=\"color: #000080; text-decoration-color: #000080\">INFO    </span> Building model with parameters: <span style=\"font-weight: bold\">{</span><span style=\"color: #008000; text-decoration-color: #008000\">'model'</span>: <span style=\"font-weight: bold\">{</span><span style=\"color: #008000; text-decoration-color: #008000\">'name'</span>:        <a href=\"file:///var/folders/0n/4grcjjyx7sv7zx8fr2h1yxym0000gn/T/ipykernel_56067/1073314026.py\"><span style=\"color: #7f7f7f; text-decoration-color: #7f7f7f\">1073314026.py</span></a><span style=\"color: #7f7f7f; text-decoration-color: #7f7f7f\">:6</span>\n",
       "                    <span style=\"color: #008000; text-decoration-color: #008000\">'xgboost'</span>, <span style=\"color: #008000; text-decoration-color: #008000\">'build_params'</span>: <span style=\"font-weight: bold\">{</span><span style=\"color: #008000; text-decoration-color: #008000\">'model_type'</span>: <span style=\"color: #008000; text-decoration-color: #008000\">'xgboost'</span>,                     \n",
       "                    <span style=\"color: #008000; text-decoration-color: #008000\">'fit_separate'</span>: <span style=\"color: #ff0000; text-decoration-color: #ff0000; font-style: italic\">False</span>, <span style=\"color: #008000; text-decoration-color: #008000\">'halt_model'</span>: <span style=\"color: #ff0000; text-decoration-color: #ff0000; font-style: italic\">False</span>,                              \n",
       "                    <span style=\"color: #008000; text-decoration-color: #008000\">'n_estimators'</span>: <span style=\"color: #000080; text-decoration-color: #000080; font-weight: bold\">100</span>, <span style=\"color: #008000; text-decoration-color: #008000\">'objective'</span>: <span style=\"color: #008000; text-decoration-color: #008000\">'reg:squarederror'</span>,                    \n",
       "                    <span style=\"color: #008000; text-decoration-color: #008000\">'learning_rate'</span>: <span style=\"color: #000080; text-decoration-color: #000080; font-weight: bold\">0.3</span>, <span style=\"color: #008000; text-decoration-color: #008000\">'scale_data'</span>: <span style=\"color: #00ff00; text-decoration-color: #00ff00; font-style: italic\">True</span>, <span style=\"color: #008000; text-decoration-color: #008000\">'max_depth'</span>:                   \n",
       "                    <span style=\"color: #000080; text-decoration-color: #000080; font-weight: bold\">6</span><span style=\"font-weight: bold\">}</span>, <span style=\"color: #008000; text-decoration-color: #008000\">'saver'</span>: <span style=\"font-weight: bold\">{</span><span style=\"color: #008000; text-decoration-color: #008000\">'filename'</span>:                                                \n",
       "                    <span style=\"color: #008000; text-decoration-color: #008000\">'models/xgboost_models/house-energy'</span><span style=\"font-weight: bold\">}</span>, <span style=\"color: #008000; text-decoration-color: #008000\">'sweep'</span>: <span style=\"font-weight: bold\">{</span><span style=\"color: #008000; text-decoration-color: #008000\">'run'</span>:                  \n",
       "                    <span style=\"color: #ff0000; text-decoration-color: #ff0000; font-style: italic\">False</span>, <span style=\"color: #008000; text-decoration-color: #008000\">'split_strategy'</span>: <span style=\"color: #008000; text-decoration-color: #008000\">'timeseries'</span>,                                   \n",
       "                    <span style=\"color: #008000; text-decoration-color: #008000\">'search_algorithm'</span>: <span style=\"color: #008000; text-decoration-color: #008000\">'bayesian'</span>, <span style=\"color: #008000; text-decoration-color: #008000\">'num_trials'</span>: <span style=\"color: #000080; text-decoration-color: #000080; font-weight: bold\">15</span>,                        \n",
       "                    <span style=\"color: #008000; text-decoration-color: #008000\">'scoring_func'</span>: <span style=\"color: #008000; text-decoration-color: #008000\">'r2'</span>, <span style=\"color: #008000; text-decoration-color: #008000\">'early_stopping'</span>: <span style=\"color: #ff0000; text-decoration-color: #ff0000; font-style: italic\">False</span>,                           \n",
       "                    <span style=\"color: #008000; text-decoration-color: #008000\">'results_csv_path'</span>:                                                      \n",
       "                    <span style=\"color: #008000; text-decoration-color: #008000\">'xgboost_gridsearch/search_results.csv'</span>, <span style=\"color: #008000; text-decoration-color: #008000\">'params'</span>:                       \n",
       "                    <span style=\"font-weight: bold\">{</span><span style=\"color: #008000; text-decoration-color: #008000\">'estimator__max_depth'</span>: <span style=\"font-weight: bold\">[</span><span style=\"color: #000080; text-decoration-color: #000080; font-weight: bold\">1</span>, <span style=\"color: #000080; text-decoration-color: #000080; font-weight: bold\">3</span>, <span style=\"color: #000080; text-decoration-color: #000080; font-weight: bold\">5</span>, <span style=\"color: #000080; text-decoration-color: #000080; font-weight: bold\">10</span><span style=\"font-weight: bold\">]</span>,                                  \n",
       "                    <span style=\"color: #008000; text-decoration-color: #008000\">'estimator__gamma'</span>: <span style=\"font-weight: bold\">[</span><span style=\"color: #000080; text-decoration-color: #000080; font-weight: bold\">0</span>, <span style=\"color: #000080; text-decoration-color: #000080; font-weight: bold\">0.5</span>, <span style=\"color: #000080; text-decoration-color: #000080; font-weight: bold\">1</span>, <span style=\"color: #000080; text-decoration-color: #000080; font-weight: bold\">5</span><span style=\"font-weight: bold\">]</span>,                                      \n",
       "                    <span style=\"color: #008000; text-decoration-color: #008000\">'estimator__subsample'</span>: <span style=\"font-weight: bold\">[</span><span style=\"color: #000080; text-decoration-color: #000080; font-weight: bold\">0.1</span>, <span style=\"color: #000080; text-decoration-color: #000080; font-weight: bold\">0.5</span>, <span style=\"color: #000080; text-decoration-color: #000080; font-weight: bold\">1</span><span style=\"font-weight: bold\">]</span>, <span style=\"color: #008000; text-decoration-color: #008000\">'estimator__eta'</span>:                 \n",
       "                    <span style=\"font-weight: bold\">[</span><span style=\"color: #000080; text-decoration-color: #000080; font-weight: bold\">0.3</span>, <span style=\"color: #000080; text-decoration-color: #000080; font-weight: bold\">0.1</span>, <span style=\"color: #000080; text-decoration-color: #000080; font-weight: bold\">0.5</span><span style=\"font-weight: bold\">]}}}</span>, <span style=\"color: #008000; text-decoration-color: #008000\">'data'</span>: <span style=\"font-weight: bold\">{</span><span style=\"color: #008000; text-decoration-color: #008000\">'path'</span>:                                     \n",
       "                    <span style=\"color: #008000; text-decoration-color: #008000\">'csv_data/cartpole-log.csv'</span>, <span style=\"color: #008000; text-decoration-color: #008000\">'full_or_relative'</span>:                         \n",
       "                    <span style=\"color: #008000; text-decoration-color: #008000\">'relative'</span>, <span style=\"color: #008000; text-decoration-color: #008000\">'inputs'</span>: <span style=\"color: #008000; text-decoration-color: #008000\">'state'</span>, <span style=\"color: #008000; text-decoration-color: #008000\">'outputs'</span>: <span style=\"color: #008000; text-decoration-color: #008000\">'state'</span>,                       \n",
       "                    <span style=\"color: #008000; text-decoration-color: #008000\">'augmented_cols'</span>: <span style=\"font-weight: bold\">[</span><span style=\"color: #008000; text-decoration-color: #008000\">'config_length'</span>, <span style=\"color: #008000; text-decoration-color: #008000\">'config_masspole'</span>,                   \n",
       "                    <span style=\"color: #008000; text-decoration-color: #008000\">'action_command'</span><span style=\"font-weight: bold\">]</span>, <span style=\"color: #008000; text-decoration-color: #008000\">'iteration_order'</span>: <span style=\"color: #000080; text-decoration-color: #000080; font-weight: bold\">-1</span>, <span style=\"color: #008000; text-decoration-color: #008000\">'episode_col'</span>:                 \n",
       "                    <span style=\"color: #008000; text-decoration-color: #008000\">'episode'</span>, <span style=\"color: #008000; text-decoration-color: #008000\">'iteration_col'</span>: <span style=\"color: #008000; text-decoration-color: #008000\">'iteration'</span>, <span style=\"color: #008000; text-decoration-color: #008000\">'max_rows'</span>:                     \n",
       "                    <span style=\"color: #000080; text-decoration-color: #000080; font-weight: bold\">1000</span>, <span style=\"color: #008000; text-decoration-color: #008000\">'scale_data'</span>: <span style=\"color: #00ff00; text-decoration-color: #00ff00; font-style: italic\">True</span>, <span style=\"color: #008000; text-decoration-color: #008000\">'diff_state'</span>: <span style=\"color: #ff0000; text-decoration-color: #ff0000; font-style: italic\">False</span>,                           \n",
       "                    <span style=\"color: #008000; text-decoration-color: #008000\">'test_perc'</span>: <span style=\"color: #000080; text-decoration-color: #000080; font-weight: bold\">0.25</span><span style=\"font-weight: bold\">}</span>, <span style=\"color: #008000; text-decoration-color: #008000\">'simulator'</span>: <span style=\"font-weight: bold\">{</span><span style=\"color: #008000; text-decoration-color: #008000\">'states'</span>: <span style=\"font-weight: bold\">[</span><span style=\"color: #008000; text-decoration-color: #008000\">'Tin'</span>,                      \n",
       "                    <span style=\"color: #008000; text-decoration-color: #008000\">'Tout'</span><span style=\"font-weight: bold\">]</span>, <span style=\"color: #008000; text-decoration-color: #008000\">'actions'</span>: <span style=\"font-weight: bold\">[</span><span style=\"color: #008000; text-decoration-color: #008000\">'hvacON'</span><span style=\"font-weight: bold\">]</span>, <span style=\"color: #008000; text-decoration-color: #008000\">'configs'</span>: <span style=\"font-weight: bold\">[</span><span style=\"color: #008000; text-decoration-color: #008000\">'K'</span>, <span style=\"color: #008000; text-decoration-color: #008000\">'C'</span>,                    \n",
       "                    <span style=\"color: #008000; text-decoration-color: #008000\">'Qhvac'</span>, <span style=\"color: #008000; text-decoration-color: #008000\">'horizon'</span>, <span style=\"color: #008000; text-decoration-color: #008000\">'Tset_start'</span>, <span style=\"color: #008000; text-decoration-color: #008000\">'Tset_stop'</span>,                           \n",
       "                    <span style=\"color: #008000; text-decoration-color: #008000\">'Tset_transition'</span>, <span style=\"color: #008000; text-decoration-color: #008000\">'Tout_amplitude'</span>, <span style=\"color: #008000; text-decoration-color: #008000\">'Tout_median'</span><span style=\"font-weight: bold\">]</span>,                     \n",
       "                    <span style=\"color: #008000; text-decoration-color: #008000\">'episode_inits'</span>: <span style=\"font-weight: bold\">{</span><span style=\"color: #008000; text-decoration-color: #008000\">'K'</span>: <span style=\"color: #000080; text-decoration-color: #000080; font-weight: bold\">0.5</span>, <span style=\"color: #008000; text-decoration-color: #008000\">'C'</span>: <span style=\"color: #000080; text-decoration-color: #000080; font-weight: bold\">0.3</span>, <span style=\"color: #008000; text-decoration-color: #008000\">'Qhvac'</span>: <span style=\"color: #000080; text-decoration-color: #000080; font-weight: bold\">9</span>,                        \n",
       "                    <span style=\"color: #008000; text-decoration-color: #008000\">'horizon'</span>: <span style=\"color: #000080; text-decoration-color: #000080; font-weight: bold\">288</span>, <span style=\"color: #008000; text-decoration-color: #008000\">'Tset_start'</span>: <span style=\"color: #000080; text-decoration-color: #000080; font-weight: bold\">25</span>, <span style=\"color: #008000; text-decoration-color: #008000\">'Tset_stop'</span>: <span style=\"color: #000080; text-decoration-color: #000080; font-weight: bold\">20</span>,                       \n",
       "                    <span style=\"color: #008000; text-decoration-color: #008000\">'Tset_transition'</span>: <span style=\"color: #000080; text-decoration-color: #000080; font-weight: bold\">100</span>, <span style=\"color: #008000; text-decoration-color: #008000\">'Tout_amplitude'</span>: <span style=\"color: #000080; text-decoration-color: #000080; font-weight: bold\">5</span>,                             \n",
       "                    <span style=\"color: #008000; text-decoration-color: #008000\">'Tout_median'</span>: <span style=\"color: #000080; text-decoration-color: #000080; font-weight: bold\">25</span><span style=\"font-weight: bold\">}</span>, <span style=\"color: #008000; text-decoration-color: #008000\">'initial_states'</span>: <span style=\"font-weight: bold\">{</span><span style=\"color: #008000; text-decoration-color: #008000\">'Tin'</span>:                            \n",
       "                    <span style=\"font-weight: bold\">{</span><span style=\"color: #008000; text-decoration-color: #008000\">'inkling_name'</span>: <span style=\"color: #008000; text-decoration-color: #008000\">'Tin_initial'</span>, <span style=\"color: #008000; text-decoration-color: #008000\">'min'</span>: <span style=\"color: #000080; text-decoration-color: #000080; font-weight: bold\">18</span>, <span style=\"color: #008000; text-decoration-color: #008000\">'max'</span>: <span style=\"color: #000080; text-decoration-color: #000080; font-weight: bold\">30</span><span style=\"font-weight: bold\">}</span>,                   \n",
       "                    <span style=\"color: #008000; text-decoration-color: #008000\">'Tout'</span>: <span style=\"font-weight: bold\">{</span><span style=\"color: #008000; text-decoration-color: #008000\">'inkling_name'</span>: <span style=\"color: #008000; text-decoration-color: #008000\">'Tout'</span>, <span style=\"color: #008000; text-decoration-color: #008000\">'min'</span>: <span style=\"color: #000080; text-decoration-color: #000080; font-weight: bold\">25</span>, <span style=\"color: #008000; text-decoration-color: #008000\">'max'</span>: <span style=\"color: #000080; text-decoration-color: #000080; font-weight: bold\">25</span><span style=\"font-weight: bold\">}}</span>,                 \n",
       "                    <span style=\"color: #008000; text-decoration-color: #008000\">'signal_builder'</span>: <span style=\"font-weight: bold\">{</span><span style=\"color: #008000; text-decoration-color: #008000\">'signal_types'</span>: <span style=\"font-weight: bold\">{</span><span style=\"color: #008000; text-decoration-color: #008000\">'Tset'</span>:                              \n",
       "                    <span style=\"color: #008000; text-decoration-color: #008000\">'step_function'</span>, <span style=\"color: #008000; text-decoration-color: #008000\">'Tout'</span>: <span style=\"color: #008000; text-decoration-color: #008000\">'sinewave'</span><span style=\"font-weight: bold\">}</span>, <span style=\"color: #008000; text-decoration-color: #008000\">'horizon'</span>: <span style=\"color: #000080; text-decoration-color: #000080; font-weight: bold\">288</span>,                    \n",
       "                    <span style=\"color: #008000; text-decoration-color: #008000\">'signal_params'</span>: <span style=\"font-weight: bold\">{</span><span style=\"color: #008000; text-decoration-color: #008000\">'Tset'</span>: <span style=\"font-weight: bold\">{</span><span style=\"color: #008000; text-decoration-color: #008000\">'start'</span>: <span style=\"font-weight: bold\">{</span><span style=\"color: #008000; text-decoration-color: #008000\">'min'</span>: <span style=\"color: #000080; text-decoration-color: #000080; font-weight: bold\">25</span>, <span style=\"color: #008000; text-decoration-color: #008000\">'max'</span>:                   \n",
       "                    <span style=\"color: #000080; text-decoration-color: #000080; font-weight: bold\">25</span><span style=\"font-weight: bold\">}</span>, <span style=\"color: #008000; text-decoration-color: #008000\">'stop'</span>: <span style=\"font-weight: bold\">{</span><span style=\"color: #008000; text-decoration-color: #008000\">'min'</span>: <span style=\"color: #000080; text-decoration-color: #000080; font-weight: bold\">20</span>, <span style=\"color: #008000; text-decoration-color: #008000\">'max'</span>: <span style=\"color: #000080; text-decoration-color: #000080; font-weight: bold\">22</span><span style=\"font-weight: bold\">}</span>, <span style=\"color: #008000; text-decoration-color: #008000\">'transition'</span>:                       \n",
       "                    <span style=\"font-weight: bold\">{</span><span style=\"color: #008000; text-decoration-color: #008000\">'min'</span>: <span style=\"color: #000080; text-decoration-color: #000080; font-weight: bold\">100</span>, <span style=\"color: #008000; text-decoration-color: #008000\">'max'</span>: <span style=\"color: #000080; text-decoration-color: #000080; font-weight: bold\">148</span><span style=\"font-weight: bold\">}}</span>, <span style=\"color: #008000; text-decoration-color: #008000\">'Tout'</span>: <span style=\"font-weight: bold\">{</span><span style=\"color: #008000; text-decoration-color: #008000\">'amplitude'</span>: <span style=\"font-weight: bold\">{</span><span style=\"color: #008000; text-decoration-color: #008000\">'min'</span>:                 \n",
       "                    <span style=\"color: #000080; text-decoration-color: #000080; font-weight: bold\">3</span>, <span style=\"color: #008000; text-decoration-color: #008000\">'max'</span>: <span style=\"color: #000080; text-decoration-color: #000080; font-weight: bold\">5</span><span style=\"font-weight: bold\">}</span>, <span style=\"color: #008000; text-decoration-color: #008000\">'median'</span>: <span style=\"font-weight: bold\">{</span><span style=\"color: #008000; text-decoration-color: #008000\">'min'</span>: <span style=\"color: #000080; text-decoration-color: #000080; font-weight: bold\">23</span>, <span style=\"color: #008000; text-decoration-color: #008000\">'max'</span>: <span style=\"color: #000080; text-decoration-color: #000080; font-weight: bold\">30</span><span style=\"font-weight: bold\">}}}}</span>,                       \n",
       "                    <span style=\"color: #008000; text-decoration-color: #008000\">'policy'</span>: <span style=\"color: #008000; text-decoration-color: #008000\">'bonsai'</span>, <span style=\"color: #008000; text-decoration-color: #008000\">'logging'</span>: <span style=\"color: #008000; text-decoration-color: #008000\">'enable'</span>,                                 \n",
       "                    <span style=\"color: #008000; text-decoration-color: #008000\">'workspace_setup'</span>: <span style=\"color: #00ff00; text-decoration-color: #00ff00; font-style: italic\">True</span><span style=\"font-weight: bold\">}}</span>                                                \n",
       "</pre>\n"
      ],
      "text/plain": [
       "<rich.jupyter.JupyterRenderable at 0x7fc8ca5649a0>"
      ]
     },
     "metadata": {},
     "output_type": "display_data"
    },
    {
     "data": {
      "text/html": [
       "<pre style=\"white-space:pre;overflow-x:auto;line-height:normal;font-family:Menlo,'DejaVu Sans Mono',consolas,'Courier New',monospace\"><span style=\"color: #7fbfbf; text-decoration-color: #7fbfbf\">           </span><span style=\"color: #000080; text-decoration-color: #000080\">INFO    </span> Loading data from csv_data/cartpole-log.csv              <a href=\"file:///var/folders/0n/4grcjjyx7sv7zx8fr2h1yxym0000gn/T/ipykernel_56067/1073314026.py\"><span style=\"color: #7f7f7f; text-decoration-color: #7f7f7f\">1073314026.py</span></a><span style=\"color: #7f7f7f; text-decoration-color: #7f7f7f\">:10</span>\n",
       "</pre>\n"
      ],
      "text/plain": [
       "<rich.jupyter.JupyterRenderable at 0x7fc8ca438880>"
      ]
     },
     "metadata": {},
     "output_type": "display_data"
    },
    {
     "data": {
      "text/html": [
       "<pre style=\"white-space:pre;overflow-x:auto;line-height:normal;font-family:Menlo,'DejaVu Sans Mono',consolas,'Courier New',monospace\"><span style=\"color: #7fbfbf; text-decoration-color: #7fbfbf\">           </span><span style=\"color: #000080; text-decoration-color: #000080\">INFO    </span> Using <span style=\"font-weight: bold\">[</span><span style=\"color: #008000; text-decoration-color: #008000\">'state_x_position'</span>, <span style=\"color: #008000; text-decoration-color: #008000\">'state_x_velocity'</span>,                <a href=\"file:///Users/jill/bonsai/datadrivenmodel/base.py\"><span style=\"color: #7f7f7f; text-decoration-color: #7f7f7f\">base.py</span></a><span style=\"color: #7f7f7f; text-decoration-color: #7f7f7f\">:119</span>\n",
       "                    <span style=\"color: #008000; text-decoration-color: #008000\">'state_angle_position'</span>, <span style=\"color: #008000; text-decoration-color: #008000\">'state_angle_velocity'</span>,                          \n",
       "                    <span style=\"color: #008000; text-decoration-color: #008000\">'config_length'</span>, <span style=\"color: #008000; text-decoration-color: #008000\">'config_masspole'</span>, <span style=\"color: #008000; text-decoration-color: #008000\">'action_command'</span><span style=\"font-weight: bold\">]</span> as the             \n",
       "                    features for modeling DDM                                                \n",
       "</pre>\n"
      ],
      "text/plain": [
       "<rich.jupyter.JupyterRenderable at 0x7fc8ca438550>"
      ]
     },
     "metadata": {},
     "output_type": "display_data"
    },
    {
     "data": {
      "text/html": [
       "<pre style=\"white-space:pre;overflow-x:auto;line-height:normal;font-family:Menlo,'DejaVu Sans Mono',consolas,'Courier New',monospace\"><span style=\"color: #7fbfbf; text-decoration-color: #7fbfbf\">           </span><span style=\"color: #000080; text-decoration-color: #000080\">INFO    </span> Using <span style=\"font-weight: bold\">[</span><span style=\"color: #008000; text-decoration-color: #008000\">'state_x_position'</span>, <span style=\"color: #008000; text-decoration-color: #008000\">'state_x_velocity'</span>,                <a href=\"file:///Users/jill/bonsai/datadrivenmodel/base.py\"><span style=\"color: #7f7f7f; text-decoration-color: #7f7f7f\">base.py</span></a><span style=\"color: #7f7f7f; text-decoration-color: #7f7f7f\">:130</span>\n",
       "                    <span style=\"color: #008000; text-decoration-color: #008000\">'state_angle_position'</span>, <span style=\"color: #008000; text-decoration-color: #008000\">'state_angle_velocity'</span><span style=\"font-weight: bold\">]</span> as the labels            \n",
       "                    for modeling DDM                                                         \n",
       "</pre>\n"
      ],
      "text/plain": [
       "<rich.jupyter.JupyterRenderable at 0x7fc8c5169070>"
      ]
     },
     "metadata": {},
     "output_type": "display_data"
    },
    {
     "data": {
      "text/html": [
       "<pre style=\"white-space:pre;overflow-x:auto;line-height:normal;font-family:Menlo,'DejaVu Sans Mono',consolas,'Courier New',monospace\"><span style=\"color: #7fbfbf; text-decoration-color: #7fbfbf\">           </span><span style=\"color: #000080; text-decoration-color: #000080\">INFO    </span> Iteration order set to <span style=\"color: #000080; text-decoration-color: #000080; font-weight: bold\">-1</span> so using inputs from previous <span style=\"color: #000080; text-decoration-color: #000080; font-weight: bold\">-1</span>  <a href=\"file:///Users/jill/bonsai/datadrivenmodel/loaders.py\"><span style=\"color: #7f7f7f; text-decoration-color: #7f7f7f\">loaders.py</span></a><span style=\"color: #7f7f7f; text-decoration-color: #7f7f7f\">:49</span>\n",
       "                    row                                                                      \n",
       "</pre>\n"
      ],
      "text/plain": [
       "<rich.jupyter.JupyterRenderable at 0x7fc8ca438550>"
      ]
     },
     "metadata": {},
     "output_type": "display_data"
    },
    {
     "data": {
      "text/html": [
       "<pre style=\"white-space:pre;overflow-x:auto;line-height:normal;font-family:Menlo,'DejaVu Sans Mono',consolas,'Courier New',monospace\"><span style=\"color: #7fbfbf; text-decoration-color: #7fbfbf\">           </span><span style=\"color: #000080; text-decoration-color: #000080\">INFO    </span> Feature columns are: <span style=\"font-weight: bold\">[</span><span style=\"color: #008000; text-decoration-color: #008000\">'prev_state_x_position'</span>,              <a href=\"file:///Users/jill/bonsai/datadrivenmodel/loaders.py\"><span style=\"color: #7f7f7f; text-decoration-color: #7f7f7f\">loaders.py</span></a><span style=\"color: #7f7f7f; text-decoration-color: #7f7f7f\">:91</span>\n",
       "                    <span style=\"color: #008000; text-decoration-color: #008000\">'prev_state_x_velocity'</span>, <span style=\"color: #008000; text-decoration-color: #008000\">'prev_state_angle_position'</span>,                    \n",
       "                    <span style=\"color: #008000; text-decoration-color: #008000\">'prev_state_angle_velocity'</span>, <span style=\"color: #008000; text-decoration-color: #008000\">'config_length'</span>,                            \n",
       "                    <span style=\"color: #008000; text-decoration-color: #008000\">'config_masspole'</span>, <span style=\"color: #008000; text-decoration-color: #008000\">'action_command'</span><span style=\"font-weight: bold\">]</span>                                     \n",
       "</pre>\n"
      ],
      "text/plain": [
       "<rich.jupyter.JupyterRenderable at 0x7fc8ca54d790>"
      ]
     },
     "metadata": {},
     "output_type": "display_data"
    },
    {
     "data": {
      "text/html": [
       "<pre style=\"white-space:pre;overflow-x:auto;line-height:normal;font-family:Menlo,'DejaVu Sans Mono',consolas,'Courier New',monospace\"><span style=\"color: #7fbfbf; text-decoration-color: #7fbfbf\">           </span><span style=\"color: #000080; text-decoration-color: #000080\">INFO    </span> Label columns are: <span style=\"font-weight: bold\">[</span><span style=\"color: #008000; text-decoration-color: #008000\">'state_x_position'</span>, <span style=\"color: #008000; text-decoration-color: #008000\">'state_x_velocity'</span>, <a href=\"file:///Users/jill/bonsai/datadrivenmodel/loaders.py\"><span style=\"color: #7f7f7f; text-decoration-color: #7f7f7f\">loaders.py</span></a><span style=\"color: #7f7f7f; text-decoration-color: #7f7f7f\">:92</span>\n",
       "                    <span style=\"color: #008000; text-decoration-color: #008000\">'state_angle_position'</span>, <span style=\"color: #008000; text-decoration-color: #008000\">'state_angle_velocity'</span><span style=\"font-weight: bold\">]</span>                          \n",
       "</pre>\n"
      ],
      "text/plain": [
       "<rich.jupyter.JupyterRenderable at 0x7fc8ca54db20>"
      ]
     },
     "metadata": {},
     "output_type": "display_data"
    },
    {
     "data": {
      "text/html": [
       "<pre style=\"white-space:pre;overflow-x:auto;line-height:normal;font-family:Menlo,'DejaVu Sans Mono',consolas,'Courier New',monospace\"><span style=\"color: #7fbfbf; text-decoration-color: #7fbfbf\">           </span><span style=\"color: #000080; text-decoration-color: #000080\">INFO    </span> Fitting model<span style=\"color: #808000; text-decoration-color: #808000\">...</span>                                         <a href=\"file:///var/folders/0n/4grcjjyx7sv7zx8fr2h1yxym0000gn/T/ipykernel_56067/1073314026.py\"><span style=\"color: #7f7f7f; text-decoration-color: #7f7f7f\">1073314026.py</span></a><span style=\"color: #7f7f7f; text-decoration-color: #7f7f7f\">:27</span>\n",
       "</pre>\n"
      ],
      "text/plain": [
       "<rich.jupyter.JupyterRenderable at 0x7fc8ca5560a0>"
      ]
     },
     "metadata": {},
     "output_type": "display_data"
    },
    {
     "data": {
      "text/html": [
       "<pre style=\"white-space:pre;overflow-x:auto;line-height:normal;font-family:Menlo,'DejaVu Sans Mono',consolas,'Courier New',monospace\"><span style=\"color: #7fbfbf; text-decoration-color: #7fbfbf\">           </span><span style=\"color: #000080; text-decoration-color: #000080\">INFO    </span> Model trained!                                           <a href=\"file:///var/folders/0n/4grcjjyx7sv7zx8fr2h1yxym0000gn/T/ipykernel_56067/1073314026.py\"><span style=\"color: #7f7f7f; text-decoration-color: #7f7f7f\">1073314026.py</span></a><span style=\"color: #7f7f7f; text-decoration-color: #7f7f7f\">:29</span>\n",
       "</pre>\n"
      ],
      "text/plain": [
       "<rich.jupyter.JupyterRenderable at 0x7fc8ca5560a0>"
      ]
     },
     "metadata": {},
     "output_type": "display_data"
    },
    {
     "data": {
      "text/html": [
       "<pre style=\"white-space:pre;overflow-x:auto;line-height:normal;font-family:Menlo,'DejaVu Sans Mono',consolas,'Courier New',monospace\"><span style=\"color: #7fbfbf; text-decoration-color: #7fbfbf\">           </span><span style=\"color: #000080; text-decoration-color: #000080\">INFO    </span> R^<span style=\"color: #000080; text-decoration-color: #000080; font-weight: bold\">2</span> score is <span style=\"color: #000080; text-decoration-color: #000080; font-weight: bold\">0.948468840918681</span> for the test set.         <a href=\"file:///var/folders/0n/4grcjjyx7sv7zx8fr2h1yxym0000gn/T/ipykernel_56067/1073314026.py\"><span style=\"color: #7f7f7f; text-decoration-color: #7f7f7f\">1073314026.py</span></a><span style=\"color: #7f7f7f; text-decoration-color: #7f7f7f\">:32</span>\n",
       "</pre>\n"
      ],
      "text/plain": [
       "<rich.jupyter.JupyterRenderable at 0x7fc8c5169070>"
      ]
     },
     "metadata": {},
     "output_type": "display_data"
    }
   ],
   "source": [
    "model = train_models(cfg)"
   ]
  },
  {
   "cell_type": "markdown",
   "metadata": {},
   "source": [
    "## Hyperparameter Sweeping\n",
    "\n",
    "The `datadrivenmodel` has an automatic solution for hyperparameter sweeping and tuning. These settings are provided in the config `model.sweep` parameters. Provide the limits of the variables you want to sweep over and the `sweep` method will automatically parallelize the sweep over the available number of cores and find the optimal solution according to your `scoring_func`."
   ]
  },
  {
   "cell_type": "markdown",
   "metadata": {},
   "source": [
    "### Configuration Parameters\n",
    "\n",
    "You can select the search algorithm you'd like to use: `bayesian` runs bayesian optimiziation (using scikit-optimize), `hyperopt` runs [Tree-Parzen Estimators](https://papers.nips.cc/paper/2011/file/86e8f7ab32cfd12577bc2619bc635690-Paper.pdf) with the `hyperopt` package, `bohb` uses Bayesian Opt/HyperBand, or `optuna` which also runs Tree-Parzen estimators but using the [`optuna`](https://optuna.readthedocs.io/en/stable/) package."
   ]
  },
  {
   "cell_type": "code",
   "execution_count": 8,
   "metadata": {},
   "outputs": [
    {
     "data": {
      "text/html": [
       "<pre style=\"white-space:pre;overflow-x:auto;line-height:normal;font-family:Menlo,'DejaVu Sans Mono',consolas,'Courier New',monospace\">run: false\n",
       "split_strategy: timeseries\n",
       "search_algorithm: bayesian\n",
       "num_trials: <span style=\"color: #000080; text-decoration-color: #000080; font-weight: bold\">15</span>\n",
       "scoring_func: r2\n",
       "early_stopping: false\n",
       "results_csv_path: xgboost_gridsearch/search_results.csv\n",
       "params:\n",
       "  estimator__max_depth:\n",
       "  - <span style=\"color: #000080; text-decoration-color: #000080; font-weight: bold\">1</span>\n",
       "  - <span style=\"color: #000080; text-decoration-color: #000080; font-weight: bold\">3</span>\n",
       "  - <span style=\"color: #000080; text-decoration-color: #000080; font-weight: bold\">5</span>\n",
       "  - <span style=\"color: #000080; text-decoration-color: #000080; font-weight: bold\">10</span>\n",
       "  estimator__gamma:\n",
       "  - <span style=\"color: #000080; text-decoration-color: #000080; font-weight: bold\">0</span>\n",
       "  - <span style=\"color: #000080; text-decoration-color: #000080; font-weight: bold\">0.5</span>\n",
       "  - <span style=\"color: #000080; text-decoration-color: #000080; font-weight: bold\">1</span>\n",
       "  - <span style=\"color: #000080; text-decoration-color: #000080; font-weight: bold\">5</span>\n",
       "  estimator__subsample:\n",
       "  - <span style=\"color: #000080; text-decoration-color: #000080; font-weight: bold\">0.1</span>\n",
       "  - <span style=\"color: #000080; text-decoration-color: #000080; font-weight: bold\">0.5</span>\n",
       "  - <span style=\"color: #000080; text-decoration-color: #000080; font-weight: bold\">1</span>\n",
       "  estimator__eta:\n",
       "  - <span style=\"color: #000080; text-decoration-color: #000080; font-weight: bold\">0.3</span>\n",
       "  - <span style=\"color: #000080; text-decoration-color: #000080; font-weight: bold\">0.1</span>\n",
       "  - <span style=\"color: #000080; text-decoration-color: #000080; font-weight: bold\">0.5</span>\n",
       "\n",
       "</pre>\n"
      ],
      "text/plain": [
       "<rich.jupyter.JupyterRenderable at 0x7fc8c9b0a4f0>"
      ]
     },
     "metadata": {},
     "output_type": "display_data"
    }
   ],
   "source": [
    "print(OmegaConf.to_yaml(cfg[\"model\"][\"sweep\"]))"
   ]
  },
  {
   "cell_type": "code",
   "execution_count": 10,
   "metadata": {
    "tags": []
   },
   "outputs": [
    {
     "data": {
      "text/html": [
       "<pre style=\"white-space:pre;overflow-x:auto;line-height:normal;font-family:Menlo,'DejaVu Sans Mono',consolas,'Courier New',monospace\"><span style=\"color: #7fbfbf; text-decoration-color: #7fbfbf\">[11:35:29] </span><span style=\"color: #000080; text-decoration-color: #000080\">INFO    </span> Sweeping with parameters: <span style=\"font-weight: bold\">{</span><span style=\"color: #008000; text-decoration-color: #008000\">'estimator__max_depth'</span>: <span style=\"font-weight: bold\">[</span><span style=\"color: #000080; text-decoration-color: #000080; font-weight: bold\">1</span>, <span style=\"color: #000080; text-decoration-color: #000080; font-weight: bold\">3</span>, <a href=\"file:///var/folders/0n/4grcjjyx7sv7zx8fr2h1yxym0000gn/T/ipykernel_56067/1585857999.py\"><span style=\"color: #7f7f7f; text-decoration-color: #7f7f7f\">1585857999.py</span></a><span style=\"color: #7f7f7f; text-decoration-color: #7f7f7f\">:2</span>\n",
       "                    <span style=\"color: #000080; text-decoration-color: #000080; font-weight: bold\">5</span>, <span style=\"color: #000080; text-decoration-color: #000080; font-weight: bold\">10</span><span style=\"font-weight: bold\">]</span>, <span style=\"color: #008000; text-decoration-color: #008000\">'estimator__gamma'</span>: <span style=\"font-weight: bold\">[</span><span style=\"color: #000080; text-decoration-color: #000080; font-weight: bold\">0</span>, <span style=\"color: #000080; text-decoration-color: #000080; font-weight: bold\">0.5</span>, <span style=\"color: #000080; text-decoration-color: #000080; font-weight: bold\">1</span>, <span style=\"color: #000080; text-decoration-color: #000080; font-weight: bold\">5</span><span style=\"font-weight: bold\">]</span>,                              \n",
       "                    <span style=\"color: #008000; text-decoration-color: #008000\">'estimator__subsample'</span>: <span style=\"font-weight: bold\">[</span><span style=\"color: #000080; text-decoration-color: #000080; font-weight: bold\">0.1</span>, <span style=\"color: #000080; text-decoration-color: #000080; font-weight: bold\">0.5</span>, <span style=\"color: #000080; text-decoration-color: #000080; font-weight: bold\">1</span><span style=\"font-weight: bold\">]</span>, <span style=\"color: #008000; text-decoration-color: #008000\">'estimator__eta'</span>:                 \n",
       "                    <span style=\"font-weight: bold\">[</span><span style=\"color: #000080; text-decoration-color: #000080; font-weight: bold\">0.3</span>, <span style=\"color: #000080; text-decoration-color: #000080; font-weight: bold\">0.1</span>, <span style=\"color: #000080; text-decoration-color: #000080; font-weight: bold\">0.5</span><span style=\"font-weight: bold\">]}</span>                                                         \n",
       "</pre>\n"
      ],
      "text/plain": [
       "<rich.jupyter.JupyterRenderable at 0x7fc8ca53c3a0>"
      ]
     },
     "metadata": {},
     "output_type": "display_data"
    },
    {
     "data": {
      "text/html": [
       "<pre style=\"white-space:pre;overflow-x:auto;line-height:normal;font-family:Menlo,'DejaVu Sans Mono',consolas,'Courier New',monospace\"><span style=\"color: #7fbfbf; text-decoration-color: #7fbfbf\">[11:35:36] </span><span style=\"color: #000080; text-decoration-color: #000080\">INFO    </span> TIP: Hiding process output by default. To show     <a href=\"file:///Users/jill/opt/anaconda3/envs/ddm/lib/python3.8/site-packages/tune_sklearn/tune_basesearch.py\"><span style=\"color: #7f7f7f; text-decoration-color: #7f7f7f\">tune_basesearch.py</span></a><span style=\"color: #7f7f7f; text-decoration-color: #7f7f7f\">:661</span>\n",
       "                    process output, set <span style=\"color: #808000; text-decoration-color: #808000\">verbose</span>=<span style=\"color: #000080; text-decoration-color: #000080; font-weight: bold\">2</span>.                                           \n",
       "</pre>\n"
      ],
      "text/plain": [
       "<rich.jupyter.JupyterRenderable at 0x7fc8b13b1070>"
      ]
     },
     "metadata": {},
     "output_type": "display_data"
    },
    {
     "data": {
      "text/html": [
       "<pre style=\"white-space:pre;overflow-x:auto;line-height:normal;font-family:Menlo,'DejaVu Sans Mono',consolas,'Courier New',monospace\"><span style=\"color: #7fbfbf; text-decoration-color: #7fbfbf\">[11:35:37] </span><span style=\"color: #800000; text-decoration-color: #800000\">WARNING </span> The agent on node msuddon-z440.redmond.corp.microsoft.com  <a href=\"file:///Users/jill/opt/anaconda3/envs/ddm/lib/python3.8/site-packages/ray/worker.py\"><span style=\"color: #7f7f7f; text-decoration-color: #7f7f7f\">worker.py</span></a><span style=\"color: #7f7f7f; text-decoration-color: #7f7f7f\">:1107</span>\n",
       "                    failed with the following error:                                         \n",
       "                    Traceback <span style=\"font-weight: bold\">(</span>most recent call last<span style=\"font-weight: bold\">)</span>:                                       \n",
       "                      File <span style=\"color: #008000; text-decoration-color: #008000\">\"/Users/jill/opt/anaconda3/envs/ddm/lib/python3.8/s</span>               \n",
       "                    <span style=\"color: #008000; text-decoration-color: #008000\">ite-packages/ray/new_dashboard/agent.py\"</span>, line <span style=\"color: #000080; text-decoration-color: #000080; font-weight: bold\">323</span>, in                   \n",
       "                    <span style=\"font-weight: bold\">&lt;</span><span style=\"color: #ff00ff; text-decoration-color: #ff00ff; font-weight: bold\">module</span><span style=\"font-weight: bold\">&gt;</span>                                                                 \n",
       "                        loop.run_until_complete<span style=\"font-weight: bold\">(</span>agent.run<span style=\"font-weight: bold\">())</span>                                 \n",
       "                      File <span style=\"color: #008000; text-decoration-color: #008000\">\"/Users/jill/opt/anaconda3/envs/ddm/lib/python3.8/a</span>               \n",
       "                    <span style=\"color: #008000; text-decoration-color: #008000\">syncio/base_events.py\"</span>, line <span style=\"color: #000080; text-decoration-color: #000080; font-weight: bold\">616</span>, in run_until_complete                  \n",
       "                        return future.result<span style=\"font-weight: bold\">()</span>                                               \n",
       "                      File <span style=\"color: #008000; text-decoration-color: #008000\">\"/Users/jill/opt/anaconda3/envs/ddm/lib/python3.8/s</span>               \n",
       "                    <span style=\"color: #008000; text-decoration-color: #008000\">ite-packages/ray/new_dashboard/agent.py\"</span>, line <span style=\"color: #000080; text-decoration-color: #000080; font-weight: bold\">121</span>, in run               \n",
       "                        self.aioredis_client = await                                         \n",
       "                    dashboard_utils.get_aioredis_client<span style=\"font-weight: bold\">(</span>                                     \n",
       "                      File <span style=\"color: #008000; text-decoration-color: #008000\">\"/Users/jill/opt/anaconda3/envs/ddm/lib/python3.8/s</span>               \n",
       "                    <span style=\"color: #008000; text-decoration-color: #008000\">ite-packages/ray/new_dashboard/utils.py\"</span>, line <span style=\"color: #000080; text-decoration-color: #000080; font-weight: bold\">662</span>, in                   \n",
       "                    get_aioredis_client                                                      \n",
       "                        return await aioredis.create_redis_pool<span style=\"font-weight: bold\">(</span>                             \n",
       "                    AttributeError: module <span style=\"color: #008000; text-decoration-color: #008000\">'aioredis'</span> has no attribute                       \n",
       "                    <span style=\"color: #008000; text-decoration-color: #008000\">'create_redis_pool'</span>                                                      \n",
       "                                                                                             \n",
       "</pre>\n"
      ],
      "text/plain": [
       "<rich.jupyter.JupyterRenderable at 0x7fc8b18bb4f0>"
      ]
     },
     "metadata": {},
     "output_type": "display_data"
    },
    {
     "name": "stderr",
     "output_type": "stream",
     "text": [
      "\u001b[2m\u001b[33m(raylet)\u001b[0m Traceback (most recent call last):\n",
      "\u001b[2m\u001b[33m(raylet)\u001b[0m   File \"/Users/jill/opt/anaconda3/envs/ddm/lib/python3.8/site-packages/ray/new_dashboard/agent.py\", line 334, in <module>\n",
      "\u001b[2m\u001b[33m(raylet)\u001b[0m     raise e\n",
      "\u001b[2m\u001b[33m(raylet)\u001b[0m   File \"/Users/jill/opt/anaconda3/envs/ddm/lib/python3.8/site-packages/ray/new_dashboard/agent.py\", line 323, in <module>\n",
      "\u001b[2m\u001b[33m(raylet)\u001b[0m     loop.run_until_complete(agent.run())\n",
      "\u001b[2m\u001b[33m(raylet)\u001b[0m   File \"/Users/jill/opt/anaconda3/envs/ddm/lib/python3.8/asyncio/base_events.py\", line 616, in run_until_complete\n",
      "\u001b[2m\u001b[33m(raylet)\u001b[0m     return future.result()\n",
      "\u001b[2m\u001b[33m(raylet)\u001b[0m   File \"/Users/jill/opt/anaconda3/envs/ddm/lib/python3.8/site-packages/ray/new_dashboard/agent.py\", line 121, in run\n",
      "\u001b[2m\u001b[33m(raylet)\u001b[0m     self.aioredis_client = await dashboard_utils.get_aioredis_client(\n",
      "\u001b[2m\u001b[33m(raylet)\u001b[0m   File \"/Users/jill/opt/anaconda3/envs/ddm/lib/python3.8/site-packages/ray/new_dashboard/utils.py\", line 662, in get_aioredis_client\n",
      "\u001b[2m\u001b[33m(raylet)\u001b[0m     return await aioredis.create_redis_pool(\n",
      "\u001b[2m\u001b[33m(raylet)\u001b[0m AttributeError: module 'aioredis' has no attribute 'create_redis_pool'\n",
      "\u001b[2m\u001b[36m(pid=56095)\u001b[0m /Users/jill/opt/anaconda3/envs/ddm/lib/python3.8/site-packages/xgboost/data.py:104: UserWarning: Use subset (sliced data) of np.ndarray is not recommended because it will generate extra copies and increase memory consumption\n",
      "\u001b[2m\u001b[36m(pid=56095)\u001b[0m   warnings.warn(\n",
      "\u001b[2m\u001b[36m(pid=56095)\u001b[0m /Users/jill/opt/anaconda3/envs/ddm/lib/python3.8/site-packages/xgboost/data.py:104: UserWarning: Use subset (sliced data) of np.ndarray is not recommended because it will generate extra copies and increase memory consumption\n",
      "\u001b[2m\u001b[36m(pid=56095)\u001b[0m   warnings.warn(\n",
      "\u001b[2m\u001b[36m(pid=56095)\u001b[0m /Users/jill/opt/anaconda3/envs/ddm/lib/python3.8/site-packages/xgboost/data.py:104: UserWarning: Use subset (sliced data) of np.ndarray is not recommended because it will generate extra copies and increase memory consumption\n",
      "\u001b[2m\u001b[36m(pid=56095)\u001b[0m   warnings.warn(\n"
     ]
    },
    {
     "data": {
      "text/html": [
       "<pre style=\"white-space:pre;overflow-x:auto;line-height:normal;font-family:Menlo,'DejaVu Sans Mono',consolas,'Courier New',monospace\"><span style=\"color: #7fbfbf; text-decoration-color: #7fbfbf\">[11:35:39] </span><span style=\"color: #800000; text-decoration-color: #800000\">WARNING </span> The agent on node msuddon-z440.redmond.corp.microsoft.com  <a href=\"file:///Users/jill/opt/anaconda3/envs/ddm/lib/python3.8/site-packages/ray/worker.py\"><span style=\"color: #7f7f7f; text-decoration-color: #7f7f7f\">worker.py</span></a><span style=\"color: #7f7f7f; text-decoration-color: #7f7f7f\">:1107</span>\n",
       "                    failed with the following error:                                         \n",
       "                    Traceback <span style=\"font-weight: bold\">(</span>most recent call last<span style=\"font-weight: bold\">)</span>:                                       \n",
       "                      File <span style=\"color: #008000; text-decoration-color: #008000\">\"/Users/jill/opt/anaconda3/envs/ddm/lib/python3.8/s</span>               \n",
       "                    <span style=\"color: #008000; text-decoration-color: #008000\">ite-packages/ray/new_dashboard/agent.py\"</span>, line <span style=\"color: #000080; text-decoration-color: #000080; font-weight: bold\">323</span>, in                   \n",
       "                    <span style=\"font-weight: bold\">&lt;</span><span style=\"color: #ff00ff; text-decoration-color: #ff00ff; font-weight: bold\">module</span><span style=\"font-weight: bold\">&gt;</span>                                                                 \n",
       "                        loop.run_until_complete<span style=\"font-weight: bold\">(</span>agent.run<span style=\"font-weight: bold\">())</span>                                 \n",
       "                      File <span style=\"color: #008000; text-decoration-color: #008000\">\"/Users/jill/opt/anaconda3/envs/ddm/lib/python3.8/a</span>               \n",
       "                    <span style=\"color: #008000; text-decoration-color: #008000\">syncio/base_events.py\"</span>, line <span style=\"color: #000080; text-decoration-color: #000080; font-weight: bold\">616</span>, in run_until_complete                  \n",
       "                        return future.result<span style=\"font-weight: bold\">()</span>                                               \n",
       "                      File <span style=\"color: #008000; text-decoration-color: #008000\">\"/Users/jill/opt/anaconda3/envs/ddm/lib/python3.8/s</span>               \n",
       "                    <span style=\"color: #008000; text-decoration-color: #008000\">ite-packages/ray/new_dashboard/agent.py\"</span>, line <span style=\"color: #000080; text-decoration-color: #000080; font-weight: bold\">121</span>, in run               \n",
       "                        self.aioredis_client = await                                         \n",
       "                    dashboard_utils.get_aioredis_client<span style=\"font-weight: bold\">(</span>                                     \n",
       "                      File <span style=\"color: #008000; text-decoration-color: #008000\">\"/Users/jill/opt/anaconda3/envs/ddm/lib/python3.8/s</span>               \n",
       "                    <span style=\"color: #008000; text-decoration-color: #008000\">ite-packages/ray/new_dashboard/utils.py\"</span>, line <span style=\"color: #000080; text-decoration-color: #000080; font-weight: bold\">662</span>, in                   \n",
       "                    get_aioredis_client                                                      \n",
       "                        return await aioredis.create_redis_pool<span style=\"font-weight: bold\">(</span>                             \n",
       "                    AttributeError: module <span style=\"color: #008000; text-decoration-color: #008000\">'aioredis'</span> has no attribute                       \n",
       "                    <span style=\"color: #008000; text-decoration-color: #008000\">'create_redis_pool'</span>                                                      \n",
       "                                                                                             \n",
       "</pre>\n"
      ],
      "text/plain": [
       "<rich.jupyter.JupyterRenderable at 0x7fc8b28a7760>"
      ]
     },
     "metadata": {},
     "output_type": "display_data"
    },
    {
     "name": "stderr",
     "output_type": "stream",
     "text": [
      "\u001b[2m\u001b[33m(raylet)\u001b[0m Traceback (most recent call last):\n",
      "\u001b[2m\u001b[33m(raylet)\u001b[0m   File \"/Users/jill/opt/anaconda3/envs/ddm/lib/python3.8/site-packages/ray/new_dashboard/agent.py\", line 334, in <module>\n",
      "\u001b[2m\u001b[33m(raylet)\u001b[0m     raise e\n",
      "\u001b[2m\u001b[33m(raylet)\u001b[0m   File \"/Users/jill/opt/anaconda3/envs/ddm/lib/python3.8/site-packages/ray/new_dashboard/agent.py\", line 323, in <module>\n",
      "\u001b[2m\u001b[33m(raylet)\u001b[0m     loop.run_until_complete(agent.run())\n",
      "\u001b[2m\u001b[33m(raylet)\u001b[0m   File \"/Users/jill/opt/anaconda3/envs/ddm/lib/python3.8/asyncio/base_events.py\", line 616, in run_until_complete\n",
      "\u001b[2m\u001b[33m(raylet)\u001b[0m     return future.result()\n",
      "\u001b[2m\u001b[33m(raylet)\u001b[0m   File \"/Users/jill/opt/anaconda3/envs/ddm/lib/python3.8/site-packages/ray/new_dashboard/agent.py\", line 121, in run\n",
      "\u001b[2m\u001b[33m(raylet)\u001b[0m     self.aioredis_client = await dashboard_utils.get_aioredis_client(\n",
      "\u001b[2m\u001b[33m(raylet)\u001b[0m   File \"/Users/jill/opt/anaconda3/envs/ddm/lib/python3.8/site-packages/ray/new_dashboard/utils.py\", line 662, in get_aioredis_client\n",
      "\u001b[2m\u001b[33m(raylet)\u001b[0m     return await aioredis.create_redis_pool(\n",
      "\u001b[2m\u001b[33m(raylet)\u001b[0m AttributeError: module 'aioredis' has no attribute 'create_redis_pool'\n",
      "\u001b[2m\u001b[36m(pid=56095)\u001b[0m /Users/jill/opt/anaconda3/envs/ddm/lib/python3.8/site-packages/xgboost/data.py:104: UserWarning: Use subset (sliced data) of np.ndarray is not recommended because it will generate extra copies and increase memory consumption\n",
      "\u001b[2m\u001b[36m(pid=56095)\u001b[0m   warnings.warn(\n",
      "\u001b[2m\u001b[36m(pid=56095)\u001b[0m /Users/jill/opt/anaconda3/envs/ddm/lib/python3.8/site-packages/xgboost/data.py:104: UserWarning: Use subset (sliced data) of np.ndarray is not recommended because it will generate extra copies and increase memory consumption\n",
      "\u001b[2m\u001b[36m(pid=56095)\u001b[0m   warnings.warn(\n"
     ]
    },
    {
     "data": {
      "text/html": [
       "<pre style=\"white-space:pre;overflow-x:auto;line-height:normal;font-family:Menlo,'DejaVu Sans Mono',consolas,'Courier New',monospace\"><span style=\"color: #7fbfbf; text-decoration-color: #7fbfbf\">[11:35:40] </span><span style=\"color: #800000; text-decoration-color: #800000\">WARNING </span> Trial Runner checkpointing failed: cannot pickle      <a href=\"file:///Users/jill/opt/anaconda3/envs/ddm/lib/python3.8/site-packages/ray/tune/trial_runner.py\"><span style=\"color: #7f7f7f; text-decoration-color: #7f7f7f\">trial_runner.py</span></a><span style=\"color: #7f7f7f; text-decoration-color: #7f7f7f\">:420</span>\n",
       "                    <span style=\"color: #008000; text-decoration-color: #008000\">'dict_values'</span> object                                                     \n",
       "</pre>\n"
      ],
      "text/plain": [
       "<rich.jupyter.JupyterRenderable at 0x7fc8b2db3a60>"
      ]
     },
     "metadata": {},
     "output_type": "display_data"
    },
    {
     "data": {
      "text/html": [
       "<pre style=\"white-space:pre;overflow-x:auto;line-height:normal;font-family:Menlo,'DejaVu Sans Mono',consolas,'Courier New',monospace\"><span style=\"color: #7fbfbf; text-decoration-color: #7fbfbf\">[11:35:41] </span><span style=\"color: #800000; text-decoration-color: #800000\">WARNING </span> The agent on node msuddon-z440.redmond.corp.microsoft.com  <a href=\"file:///Users/jill/opt/anaconda3/envs/ddm/lib/python3.8/site-packages/ray/worker.py\"><span style=\"color: #7f7f7f; text-decoration-color: #7f7f7f\">worker.py</span></a><span style=\"color: #7f7f7f; text-decoration-color: #7f7f7f\">:1107</span>\n",
       "                    failed with the following error:                                         \n",
       "                    Traceback <span style=\"font-weight: bold\">(</span>most recent call last<span style=\"font-weight: bold\">)</span>:                                       \n",
       "                      File <span style=\"color: #008000; text-decoration-color: #008000\">\"/Users/jill/opt/anaconda3/envs/ddm/lib/python3.8/s</span>               \n",
       "                    <span style=\"color: #008000; text-decoration-color: #008000\">ite-packages/ray/new_dashboard/agent.py\"</span>, line <span style=\"color: #000080; text-decoration-color: #000080; font-weight: bold\">323</span>, in                   \n",
       "                    <span style=\"font-weight: bold\">&lt;</span><span style=\"color: #ff00ff; text-decoration-color: #ff00ff; font-weight: bold\">module</span><span style=\"font-weight: bold\">&gt;</span>                                                                 \n",
       "                        loop.run_until_complete<span style=\"font-weight: bold\">(</span>agent.run<span style=\"font-weight: bold\">())</span>                                 \n",
       "                      File <span style=\"color: #008000; text-decoration-color: #008000\">\"/Users/jill/opt/anaconda3/envs/ddm/lib/python3.8/a</span>               \n",
       "                    <span style=\"color: #008000; text-decoration-color: #008000\">syncio/base_events.py\"</span>, line <span style=\"color: #000080; text-decoration-color: #000080; font-weight: bold\">616</span>, in run_until_complete                  \n",
       "                        return future.result<span style=\"font-weight: bold\">()</span>                                               \n",
       "                      File <span style=\"color: #008000; text-decoration-color: #008000\">\"/Users/jill/opt/anaconda3/envs/ddm/lib/python3.8/s</span>               \n",
       "                    <span style=\"color: #008000; text-decoration-color: #008000\">ite-packages/ray/new_dashboard/agent.py\"</span>, line <span style=\"color: #000080; text-decoration-color: #000080; font-weight: bold\">121</span>, in run               \n",
       "                        self.aioredis_client = await                                         \n",
       "                    dashboard_utils.get_aioredis_client<span style=\"font-weight: bold\">(</span>                                     \n",
       "                      File <span style=\"color: #008000; text-decoration-color: #008000\">\"/Users/jill/opt/anaconda3/envs/ddm/lib/python3.8/s</span>               \n",
       "                    <span style=\"color: #008000; text-decoration-color: #008000\">ite-packages/ray/new_dashboard/utils.py\"</span>, line <span style=\"color: #000080; text-decoration-color: #000080; font-weight: bold\">662</span>, in                   \n",
       "                    get_aioredis_client                                                      \n",
       "                        return await aioredis.create_redis_pool<span style=\"font-weight: bold\">(</span>                             \n",
       "                    AttributeError: module <span style=\"color: #008000; text-decoration-color: #008000\">'aioredis'</span> has no attribute                       \n",
       "                    <span style=\"color: #008000; text-decoration-color: #008000\">'create_redis_pool'</span>                                                      \n",
       "                                                                                             \n",
       "</pre>\n"
      ],
      "text/plain": [
       "<rich.jupyter.JupyterRenderable at 0x7fc8b2f9da30>"
      ]
     },
     "metadata": {},
     "output_type": "display_data"
    },
    {
     "name": "stderr",
     "output_type": "stream",
     "text": [
      "\u001b[2m\u001b[33m(raylet)\u001b[0m Traceback (most recent call last):\n",
      "\u001b[2m\u001b[33m(raylet)\u001b[0m   File \"/Users/jill/opt/anaconda3/envs/ddm/lib/python3.8/site-packages/ray/new_dashboard/agent.py\", line 334, in <module>\n",
      "\u001b[2m\u001b[33m(raylet)\u001b[0m     raise e\n",
      "\u001b[2m\u001b[33m(raylet)\u001b[0m   File \"/Users/jill/opt/anaconda3/envs/ddm/lib/python3.8/site-packages/ray/new_dashboard/agent.py\", line 323, in <module>\n",
      "\u001b[2m\u001b[33m(raylet)\u001b[0m     loop.run_until_complete(agent.run())\n",
      "\u001b[2m\u001b[33m(raylet)\u001b[0m   File \"/Users/jill/opt/anaconda3/envs/ddm/lib/python3.8/asyncio/base_events.py\", line 616, in run_until_complete\n",
      "\u001b[2m\u001b[33m(raylet)\u001b[0m     return future.result()\n",
      "\u001b[2m\u001b[33m(raylet)\u001b[0m   File \"/Users/jill/opt/anaconda3/envs/ddm/lib/python3.8/site-packages/ray/new_dashboard/agent.py\", line 121, in run\n",
      "\u001b[2m\u001b[33m(raylet)\u001b[0m     self.aioredis_client = await dashboard_utils.get_aioredis_client(\n",
      "\u001b[2m\u001b[33m(raylet)\u001b[0m   File \"/Users/jill/opt/anaconda3/envs/ddm/lib/python3.8/site-packages/ray/new_dashboard/utils.py\", line 662, in get_aioredis_client\n",
      "\u001b[2m\u001b[33m(raylet)\u001b[0m     return await aioredis.create_redis_pool(\n",
      "\u001b[2m\u001b[33m(raylet)\u001b[0m AttributeError: module 'aioredis' has no attribute 'create_redis_pool'\n",
      "\u001b[2m\u001b[36m(pid=56099)\u001b[0m /Users/jill/opt/anaconda3/envs/ddm/lib/python3.8/site-packages/xgboost/data.py:104: UserWarning: Use subset (sliced data) of np.ndarray is not recommended because it will generate extra copies and increase memory consumption\n",
      "\u001b[2m\u001b[36m(pid=56099)\u001b[0m   warnings.warn(\n",
      "\u001b[2m\u001b[36m(pid=56100)\u001b[0m /Users/jill/opt/anaconda3/envs/ddm/lib/python3.8/site-packages/xgboost/data.py:104: UserWarning: Use subset (sliced data) of np.ndarray is not recommended because it will generate extra copies and increase memory consumption\n",
      "\u001b[2m\u001b[36m(pid=56100)\u001b[0m   warnings.warn(\n",
      "\u001b[2m\u001b[36m(pid=56102)\u001b[0m /Users/jill/opt/anaconda3/envs/ddm/lib/python3.8/site-packages/xgboost/data.py:104: UserWarning: Use subset (sliced data) of np.ndarray is not recommended because it will generate extra copies and increase memory consumption\n",
      "\u001b[2m\u001b[36m(pid=56102)\u001b[0m   warnings.warn(\n",
      "\u001b[2m\u001b[36m(pid=56097)\u001b[0m /Users/jill/opt/anaconda3/envs/ddm/lib/python3.8/site-packages/xgboost/data.py:104: UserWarning: Use subset (sliced data) of np.ndarray is not recommended because it will generate extra copies and increase memory consumption\n",
      "\u001b[2m\u001b[36m(pid=56097)\u001b[0m   warnings.warn(\n",
      "\u001b[2m\u001b[36m(pid=56091)\u001b[0m /Users/jill/opt/anaconda3/envs/ddm/lib/python3.8/site-packages/xgboost/data.py:104: UserWarning: Use subset (sliced data) of np.ndarray is not recommended because it will generate extra copies and increase memory consumption\n",
      "\u001b[2m\u001b[36m(pid=56091)\u001b[0m   warnings.warn(\n",
      "\u001b[2m\u001b[36m(pid=56094)\u001b[0m /Users/jill/opt/anaconda3/envs/ddm/lib/python3.8/site-packages/xgboost/data.py:104: UserWarning: Use subset (sliced data) of np.ndarray is not recommended because it will generate extra copies and increase memory consumption\n",
      "\u001b[2m\u001b[36m(pid=56094)\u001b[0m   warnings.warn(\n",
      "\u001b[2m\u001b[36m(pid=56101)\u001b[0m /Users/jill/opt/anaconda3/envs/ddm/lib/python3.8/site-packages/xgboost/data.py:104: UserWarning: Use subset (sliced data) of np.ndarray is not recommended because it will generate extra copies and increase memory consumption\n",
      "\u001b[2m\u001b[36m(pid=56101)\u001b[0m   warnings.warn(\n",
      "\u001b[2m\u001b[36m(pid=56089)\u001b[0m /Users/jill/opt/anaconda3/envs/ddm/lib/python3.8/site-packages/xgboost/data.py:104: UserWarning: Use subset (sliced data) of np.ndarray is not recommended because it will generate extra copies and increase memory consumption\n",
      "\u001b[2m\u001b[36m(pid=56089)\u001b[0m   warnings.warn(\n",
      "\u001b[2m\u001b[36m(pid=56103)\u001b[0m /Users/jill/opt/anaconda3/envs/ddm/lib/python3.8/site-packages/xgboost/data.py:104: UserWarning: Use subset (sliced data) of np.ndarray is not recommended because it will generate extra copies and increase memory consumption\n",
      "\u001b[2m\u001b[36m(pid=56103)\u001b[0m   warnings.warn(\n",
      "\u001b[2m\u001b[36m(pid=56088)\u001b[0m /Users/jill/opt/anaconda3/envs/ddm/lib/python3.8/site-packages/xgboost/data.py:104: UserWarning: Use subset (sliced data) of np.ndarray is not recommended because it will generate extra copies and increase memory consumption\n",
      "\u001b[2m\u001b[36m(pid=56088)\u001b[0m   warnings.warn(\n",
      "\u001b[2m\u001b[36m(pid=56096)\u001b[0m /Users/jill/opt/anaconda3/envs/ddm/lib/python3.8/site-packages/xgboost/data.py:104: UserWarning: Use subset (sliced data) of np.ndarray is not recommended because it will generate extra copies and increase memory consumption\n",
      "\u001b[2m\u001b[36m(pid=56096)\u001b[0m   warnings.warn(\n",
      "\u001b[2m\u001b[36m(pid=56093)\u001b[0m /Users/jill/opt/anaconda3/envs/ddm/lib/python3.8/site-packages/xgboost/data.py:104: UserWarning: Use subset (sliced data) of np.ndarray is not recommended because it will generate extra copies and increase memory consumption\n",
      "\u001b[2m\u001b[36m(pid=56093)\u001b[0m   warnings.warn(\n"
     ]
    },
    {
     "data": {
      "text/html": [
       "<pre style=\"white-space:pre;overflow-x:auto;line-height:normal;font-family:Menlo,'DejaVu Sans Mono',consolas,'Courier New',monospace\"><span style=\"color: #7fbfbf; text-decoration-color: #7fbfbf\">[11:35:43] </span><span style=\"color: #800000; text-decoration-color: #800000\">WARNING </span> The agent on node msuddon-z440.redmond.corp.microsoft.com  <a href=\"file:///Users/jill/opt/anaconda3/envs/ddm/lib/python3.8/site-packages/ray/worker.py\"><span style=\"color: #7f7f7f; text-decoration-color: #7f7f7f\">worker.py</span></a><span style=\"color: #7f7f7f; text-decoration-color: #7f7f7f\">:1107</span>\n",
       "                    failed with the following error:                                         \n",
       "                    Traceback <span style=\"font-weight: bold\">(</span>most recent call last<span style=\"font-weight: bold\">)</span>:                                       \n",
       "                      File <span style=\"color: #008000; text-decoration-color: #008000\">\"/Users/jill/opt/anaconda3/envs/ddm/lib/python3.8/s</span>               \n",
       "                    <span style=\"color: #008000; text-decoration-color: #008000\">ite-packages/ray/new_dashboard/agent.py\"</span>, line <span style=\"color: #000080; text-decoration-color: #000080; font-weight: bold\">323</span>, in                   \n",
       "                    <span style=\"font-weight: bold\">&lt;</span><span style=\"color: #ff00ff; text-decoration-color: #ff00ff; font-weight: bold\">module</span><span style=\"font-weight: bold\">&gt;</span>                                                                 \n",
       "                        loop.run_until_complete<span style=\"font-weight: bold\">(</span>agent.run<span style=\"font-weight: bold\">())</span>                                 \n",
       "                      File <span style=\"color: #008000; text-decoration-color: #008000\">\"/Users/jill/opt/anaconda3/envs/ddm/lib/python3.8/a</span>               \n",
       "                    <span style=\"color: #008000; text-decoration-color: #008000\">syncio/base_events.py\"</span>, line <span style=\"color: #000080; text-decoration-color: #000080; font-weight: bold\">616</span>, in run_until_complete                  \n",
       "                        return future.result<span style=\"font-weight: bold\">()</span>                                               \n",
       "                      File <span style=\"color: #008000; text-decoration-color: #008000\">\"/Users/jill/opt/anaconda3/envs/ddm/lib/python3.8/s</span>               \n",
       "                    <span style=\"color: #008000; text-decoration-color: #008000\">ite-packages/ray/new_dashboard/agent.py\"</span>, line <span style=\"color: #000080; text-decoration-color: #000080; font-weight: bold\">121</span>, in run               \n",
       "                        self.aioredis_client = await                                         \n",
       "                    dashboard_utils.get_aioredis_client<span style=\"font-weight: bold\">(</span>                                     \n",
       "                      File <span style=\"color: #008000; text-decoration-color: #008000\">\"/Users/jill/opt/anaconda3/envs/ddm/lib/python3.8/s</span>               \n",
       "                    <span style=\"color: #008000; text-decoration-color: #008000\">ite-packages/ray/new_dashboard/utils.py\"</span>, line <span style=\"color: #000080; text-decoration-color: #000080; font-weight: bold\">662</span>, in                   \n",
       "                    get_aioredis_client                                                      \n",
       "                        return await aioredis.create_redis_pool<span style=\"font-weight: bold\">(</span>                             \n",
       "                    AttributeError: module <span style=\"color: #008000; text-decoration-color: #008000\">'aioredis'</span> has no attribute                       \n",
       "                    <span style=\"color: #008000; text-decoration-color: #008000\">'create_redis_pool'</span>                                                      \n",
       "                                                                                             \n",
       "</pre>\n"
      ],
      "text/plain": [
       "<rich.jupyter.JupyterRenderable at 0x7fc8b18704f0>"
      ]
     },
     "metadata": {},
     "output_type": "display_data"
    },
    {
     "name": "stderr",
     "output_type": "stream",
     "text": [
      "\u001b[2m\u001b[33m(raylet)\u001b[0m Traceback (most recent call last):\n",
      "\u001b[2m\u001b[33m(raylet)\u001b[0m   File \"/Users/jill/opt/anaconda3/envs/ddm/lib/python3.8/site-packages/ray/new_dashboard/agent.py\", line 334, in <module>\n",
      "\u001b[2m\u001b[33m(raylet)\u001b[0m     raise e\n",
      "\u001b[2m\u001b[33m(raylet)\u001b[0m   File \"/Users/jill/opt/anaconda3/envs/ddm/lib/python3.8/site-packages/ray/new_dashboard/agent.py\", line 323, in <module>\n",
      "\u001b[2m\u001b[33m(raylet)\u001b[0m     loop.run_until_complete(agent.run())\n",
      "\u001b[2m\u001b[33m(raylet)\u001b[0m   File \"/Users/jill/opt/anaconda3/envs/ddm/lib/python3.8/asyncio/base_events.py\", line 616, in run_until_complete\n",
      "\u001b[2m\u001b[33m(raylet)\u001b[0m     return future.result()\n",
      "\u001b[2m\u001b[33m(raylet)\u001b[0m   File \"/Users/jill/opt/anaconda3/envs/ddm/lib/python3.8/site-packages/ray/new_dashboard/agent.py\", line 121, in run\n",
      "\u001b[2m\u001b[33m(raylet)\u001b[0m     self.aioredis_client = await dashboard_utils.get_aioredis_client(\n",
      "\u001b[2m\u001b[33m(raylet)\u001b[0m   File \"/Users/jill/opt/anaconda3/envs/ddm/lib/python3.8/site-packages/ray/new_dashboard/utils.py\", line 662, in get_aioredis_client\n",
      "\u001b[2m\u001b[33m(raylet)\u001b[0m     return await aioredis.create_redis_pool(\n",
      "\u001b[2m\u001b[33m(raylet)\u001b[0m AttributeError: module 'aioredis' has no attribute 'create_redis_pool'\n",
      "\u001b[2m\u001b[36m(pid=56090)\u001b[0m /Users/jill/opt/anaconda3/envs/ddm/lib/python3.8/site-packages/xgboost/data.py:104: UserWarning: Use subset (sliced data) of np.ndarray is not recommended because it will generate extra copies and increase memory consumption\n",
      "\u001b[2m\u001b[36m(pid=56090)\u001b[0m   warnings.warn(\n",
      "\u001b[2m\u001b[36m(pid=56092)\u001b[0m /Users/jill/opt/anaconda3/envs/ddm/lib/python3.8/site-packages/xgboost/data.py:104: UserWarning: Use subset (sliced data) of np.ndarray is not recommended because it will generate extra copies and increase memory consumption\n",
      "\u001b[2m\u001b[36m(pid=56092)\u001b[0m   warnings.warn(\n",
      "\u001b[2m\u001b[36m(pid=56100)\u001b[0m /Users/jill/opt/anaconda3/envs/ddm/lib/python3.8/site-packages/xgboost/data.py:104: UserWarning: Use subset (sliced data) of np.ndarray is not recommended because it will generate extra copies and increase memory consumption\n",
      "\u001b[2m\u001b[36m(pid=56100)\u001b[0m   warnings.warn(\n",
      "\u001b[2m\u001b[36m(pid=56102)\u001b[0m /Users/jill/opt/anaconda3/envs/ddm/lib/python3.8/site-packages/xgboost/data.py:104: UserWarning: Use subset (sliced data) of np.ndarray is not recommended because it will generate extra copies and increase memory consumption\n",
      "\u001b[2m\u001b[36m(pid=56102)\u001b[0m   warnings.warn(\n",
      "\u001b[2m\u001b[36m(pid=56089)\u001b[0m /Users/jill/opt/anaconda3/envs/ddm/lib/python3.8/site-packages/xgboost/data.py:104: UserWarning: Use subset (sliced data) of np.ndarray is not recommended because it will generate extra copies and increase memory consumption\n",
      "\u001b[2m\u001b[36m(pid=56089)\u001b[0m   warnings.warn(\n",
      "\u001b[2m\u001b[36m(pid=56096)\u001b[0m /Users/jill/opt/anaconda3/envs/ddm/lib/python3.8/site-packages/xgboost/data.py:104: UserWarning: Use subset (sliced data) of np.ndarray is not recommended because it will generate extra copies and increase memory consumption\n",
      "\u001b[2m\u001b[36m(pid=56096)\u001b[0m   warnings.warn(\n"
     ]
    },
    {
     "data": {
      "text/html": [
       "<pre style=\"white-space:pre;overflow-x:auto;line-height:normal;font-family:Menlo,'DejaVu Sans Mono',consolas,'Courier New',monospace\"><span style=\"color: #7fbfbf; text-decoration-color: #7fbfbf\">[11:35:46] </span><span style=\"color: #800000; text-decoration-color: #800000\">WARNING </span> The agent on node msuddon-z440.redmond.corp.microsoft.com  <a href=\"file:///Users/jill/opt/anaconda3/envs/ddm/lib/python3.8/site-packages/ray/worker.py\"><span style=\"color: #7f7f7f; text-decoration-color: #7f7f7f\">worker.py</span></a><span style=\"color: #7f7f7f; text-decoration-color: #7f7f7f\">:1107</span>\n",
       "                    failed with the following error:                                         \n",
       "                    Traceback <span style=\"font-weight: bold\">(</span>most recent call last<span style=\"font-weight: bold\">)</span>:                                       \n",
       "                      File <span style=\"color: #008000; text-decoration-color: #008000\">\"/Users/jill/opt/anaconda3/envs/ddm/lib/python3.8/s</span>               \n",
       "                    <span style=\"color: #008000; text-decoration-color: #008000\">ite-packages/ray/new_dashboard/agent.py\"</span>, line <span style=\"color: #000080; text-decoration-color: #000080; font-weight: bold\">323</span>, in                   \n",
       "                    <span style=\"font-weight: bold\">&lt;</span><span style=\"color: #ff00ff; text-decoration-color: #ff00ff; font-weight: bold\">module</span><span style=\"font-weight: bold\">&gt;</span>                                                                 \n",
       "                        loop.run_until_complete<span style=\"font-weight: bold\">(</span>agent.run<span style=\"font-weight: bold\">())</span>                                 \n",
       "                      File <span style=\"color: #008000; text-decoration-color: #008000\">\"/Users/jill/opt/anaconda3/envs/ddm/lib/python3.8/a</span>               \n",
       "                    <span style=\"color: #008000; text-decoration-color: #008000\">syncio/base_events.py\"</span>, line <span style=\"color: #000080; text-decoration-color: #000080; font-weight: bold\">616</span>, in run_until_complete                  \n",
       "                        return future.result<span style=\"font-weight: bold\">()</span>                                               \n",
       "                      File <span style=\"color: #008000; text-decoration-color: #008000\">\"/Users/jill/opt/anaconda3/envs/ddm/lib/python3.8/s</span>               \n",
       "                    <span style=\"color: #008000; text-decoration-color: #008000\">ite-packages/ray/new_dashboard/agent.py\"</span>, line <span style=\"color: #000080; text-decoration-color: #000080; font-weight: bold\">121</span>, in run               \n",
       "                        self.aioredis_client = await                                         \n",
       "                    dashboard_utils.get_aioredis_client<span style=\"font-weight: bold\">(</span>                                     \n",
       "                      File <span style=\"color: #008000; text-decoration-color: #008000\">\"/Users/jill/opt/anaconda3/envs/ddm/lib/python3.8/s</span>               \n",
       "                    <span style=\"color: #008000; text-decoration-color: #008000\">ite-packages/ray/new_dashboard/utils.py\"</span>, line <span style=\"color: #000080; text-decoration-color: #000080; font-weight: bold\">662</span>, in                   \n",
       "                    get_aioredis_client                                                      \n",
       "                        return await aioredis.create_redis_pool<span style=\"font-weight: bold\">(</span>                             \n",
       "                    AttributeError: module <span style=\"color: #008000; text-decoration-color: #008000\">'aioredis'</span> has no attribute                       \n",
       "                    <span style=\"color: #008000; text-decoration-color: #008000\">'create_redis_pool'</span>                                                      \n",
       "                                                                                             \n",
       "</pre>\n"
      ],
      "text/plain": [
       "<rich.jupyter.JupyterRenderable at 0x7fc8b2f9dc70>"
      ]
     },
     "metadata": {},
     "output_type": "display_data"
    },
    {
     "name": "stderr",
     "output_type": "stream",
     "text": [
      "\u001b[2m\u001b[33m(raylet)\u001b[0m Traceback (most recent call last):\n",
      "\u001b[2m\u001b[33m(raylet)\u001b[0m   File \"/Users/jill/opt/anaconda3/envs/ddm/lib/python3.8/site-packages/ray/new_dashboard/agent.py\", line 334, in <module>\n",
      "\u001b[2m\u001b[33m(raylet)\u001b[0m     raise e\n",
      "\u001b[2m\u001b[33m(raylet)\u001b[0m   File \"/Users/jill/opt/anaconda3/envs/ddm/lib/python3.8/site-packages/ray/new_dashboard/agent.py\", line 323, in <module>\n",
      "\u001b[2m\u001b[33m(raylet)\u001b[0m     loop.run_until_complete(agent.run())\n",
      "\u001b[2m\u001b[33m(raylet)\u001b[0m   File \"/Users/jill/opt/anaconda3/envs/ddm/lib/python3.8/asyncio/base_events.py\", line 616, in run_until_complete\n",
      "\u001b[2m\u001b[33m(raylet)\u001b[0m     return future.result()\n",
      "\u001b[2m\u001b[33m(raylet)\u001b[0m   File \"/Users/jill/opt/anaconda3/envs/ddm/lib/python3.8/site-packages/ray/new_dashboard/agent.py\", line 121, in run\n",
      "\u001b[2m\u001b[33m(raylet)\u001b[0m     self.aioredis_client = await dashboard_utils.get_aioredis_client(\n",
      "\u001b[2m\u001b[33m(raylet)\u001b[0m   File \"/Users/jill/opt/anaconda3/envs/ddm/lib/python3.8/site-packages/ray/new_dashboard/utils.py\", line 662, in get_aioredis_client\n",
      "\u001b[2m\u001b[33m(raylet)\u001b[0m     return await aioredis.create_redis_pool(\n",
      "\u001b[2m\u001b[33m(raylet)\u001b[0m AttributeError: module 'aioredis' has no attribute 'create_redis_pool'\n",
      "\u001b[2m\u001b[36m(pid=56100)\u001b[0m /Users/jill/opt/anaconda3/envs/ddm/lib/python3.8/site-packages/xgboost/data.py:104: UserWarning: Use subset (sliced data) of np.ndarray is not recommended because it will generate extra copies and increase memory consumption\n",
      "\u001b[2m\u001b[36m(pid=56100)\u001b[0m   warnings.warn(\n",
      "\u001b[2m\u001b[36m(pid=56102)\u001b[0m /Users/jill/opt/anaconda3/envs/ddm/lib/python3.8/site-packages/xgboost/data.py:104: UserWarning: Use subset (sliced data) of np.ndarray is not recommended because it will generate extra copies and increase memory consumption\n",
      "\u001b[2m\u001b[36m(pid=56102)\u001b[0m   warnings.warn(\n",
      "\u001b[2m\u001b[36m(pid=56089)\u001b[0m /Users/jill/opt/anaconda3/envs/ddm/lib/python3.8/site-packages/xgboost/data.py:104: UserWarning: Use subset (sliced data) of np.ndarray is not recommended because it will generate extra copies and increase memory consumption\n",
      "\u001b[2m\u001b[36m(pid=56089)\u001b[0m   warnings.warn(\n",
      "\u001b[2m\u001b[36m(pid=56096)\u001b[0m /Users/jill/opt/anaconda3/envs/ddm/lib/python3.8/site-packages/xgboost/data.py:104: UserWarning: Use subset (sliced data) of np.ndarray is not recommended because it will generate extra copies and increase memory consumption\n",
      "\u001b[2m\u001b[36m(pid=56096)\u001b[0m   warnings.warn(\n",
      "\u001b[2m\u001b[36m(pid=56103)\u001b[0m /Users/jill/opt/anaconda3/envs/ddm/lib/python3.8/site-packages/xgboost/data.py:104: UserWarning: Use subset (sliced data) of np.ndarray is not recommended because it will generate extra copies and increase memory consumption\n",
      "\u001b[2m\u001b[36m(pid=56103)\u001b[0m   warnings.warn(\n",
      "\u001b[2m\u001b[36m(pid=56088)\u001b[0m /Users/jill/opt/anaconda3/envs/ddm/lib/python3.8/site-packages/xgboost/data.py:104: UserWarning: Use subset (sliced data) of np.ndarray is not recommended because it will generate extra copies and increase memory consumption\n",
      "\u001b[2m\u001b[36m(pid=56088)\u001b[0m   warnings.warn(\n"
     ]
    },
    {
     "data": {
      "text/html": [
       "<pre style=\"white-space:pre;overflow-x:auto;line-height:normal;font-family:Menlo,'DejaVu Sans Mono',consolas,'Courier New',monospace\"><span style=\"color: #7fbfbf; text-decoration-color: #7fbfbf\">[11:35:49] </span><span style=\"color: #800000; text-decoration-color: #800000\">WARNING </span> The agent on node msuddon-z440.redmond.corp.microsoft.com  <a href=\"file:///Users/jill/opt/anaconda3/envs/ddm/lib/python3.8/site-packages/ray/worker.py\"><span style=\"color: #7f7f7f; text-decoration-color: #7f7f7f\">worker.py</span></a><span style=\"color: #7f7f7f; text-decoration-color: #7f7f7f\">:1107</span>\n",
       "                    failed with the following error:                                         \n",
       "                    Traceback <span style=\"font-weight: bold\">(</span>most recent call last<span style=\"font-weight: bold\">)</span>:                                       \n",
       "                      File <span style=\"color: #008000; text-decoration-color: #008000\">\"/Users/jill/opt/anaconda3/envs/ddm/lib/python3.8/s</span>               \n",
       "                    <span style=\"color: #008000; text-decoration-color: #008000\">ite-packages/ray/new_dashboard/agent.py\"</span>, line <span style=\"color: #000080; text-decoration-color: #000080; font-weight: bold\">323</span>, in                   \n",
       "                    <span style=\"font-weight: bold\">&lt;</span><span style=\"color: #ff00ff; text-decoration-color: #ff00ff; font-weight: bold\">module</span><span style=\"font-weight: bold\">&gt;</span>                                                                 \n",
       "                        loop.run_until_complete<span style=\"font-weight: bold\">(</span>agent.run<span style=\"font-weight: bold\">())</span>                                 \n",
       "                      File <span style=\"color: #008000; text-decoration-color: #008000\">\"/Users/jill/opt/anaconda3/envs/ddm/lib/python3.8/a</span>               \n",
       "                    <span style=\"color: #008000; text-decoration-color: #008000\">syncio/base_events.py\"</span>, line <span style=\"color: #000080; text-decoration-color: #000080; font-weight: bold\">616</span>, in run_until_complete                  \n",
       "                        return future.result<span style=\"font-weight: bold\">()</span>                                               \n",
       "                      File <span style=\"color: #008000; text-decoration-color: #008000\">\"/Users/jill/opt/anaconda3/envs/ddm/lib/python3.8/s</span>               \n",
       "                    <span style=\"color: #008000; text-decoration-color: #008000\">ite-packages/ray/new_dashboard/agent.py\"</span>, line <span style=\"color: #000080; text-decoration-color: #000080; font-weight: bold\">121</span>, in run               \n",
       "                        self.aioredis_client = await                                         \n",
       "                    dashboard_utils.get_aioredis_client<span style=\"font-weight: bold\">(</span>                                     \n",
       "                      File <span style=\"color: #008000; text-decoration-color: #008000\">\"/Users/jill/opt/anaconda3/envs/ddm/lib/python3.8/s</span>               \n",
       "                    <span style=\"color: #008000; text-decoration-color: #008000\">ite-packages/ray/new_dashboard/utils.py\"</span>, line <span style=\"color: #000080; text-decoration-color: #000080; font-weight: bold\">662</span>, in                   \n",
       "                    get_aioredis_client                                                      \n",
       "                        return await aioredis.create_redis_pool<span style=\"font-weight: bold\">(</span>                             \n",
       "                    AttributeError: module <span style=\"color: #008000; text-decoration-color: #008000\">'aioredis'</span> has no attribute                       \n",
       "                    <span style=\"color: #008000; text-decoration-color: #008000\">'create_redis_pool'</span>                                                      \n",
       "                                                                                             \n",
       "</pre>\n"
      ],
      "text/plain": [
       "<rich.jupyter.JupyterRenderable at 0x7fc8b2f9dc70>"
      ]
     },
     "metadata": {},
     "output_type": "display_data"
    },
    {
     "name": "stderr",
     "output_type": "stream",
     "text": [
      "\u001b[2m\u001b[33m(raylet)\u001b[0m Traceback (most recent call last):\n",
      "\u001b[2m\u001b[33m(raylet)\u001b[0m   File \"/Users/jill/opt/anaconda3/envs/ddm/lib/python3.8/site-packages/ray/new_dashboard/agent.py\", line 334, in <module>\n",
      "\u001b[2m\u001b[33m(raylet)\u001b[0m     raise e\n",
      "\u001b[2m\u001b[33m(raylet)\u001b[0m   File \"/Users/jill/opt/anaconda3/envs/ddm/lib/python3.8/site-packages/ray/new_dashboard/agent.py\", line 323, in <module>\n",
      "\u001b[2m\u001b[33m(raylet)\u001b[0m     loop.run_until_complete(agent.run())\n",
      "\u001b[2m\u001b[33m(raylet)\u001b[0m   File \"/Users/jill/opt/anaconda3/envs/ddm/lib/python3.8/asyncio/base_events.py\", line 616, in run_until_complete\n",
      "\u001b[2m\u001b[33m(raylet)\u001b[0m     return future.result()\n",
      "\u001b[2m\u001b[33m(raylet)\u001b[0m   File \"/Users/jill/opt/anaconda3/envs/ddm/lib/python3.8/site-packages/ray/new_dashboard/agent.py\", line 121, in run\n",
      "\u001b[2m\u001b[33m(raylet)\u001b[0m     self.aioredis_client = await dashboard_utils.get_aioredis_client(\n",
      "\u001b[2m\u001b[33m(raylet)\u001b[0m   File \"/Users/jill/opt/anaconda3/envs/ddm/lib/python3.8/site-packages/ray/new_dashboard/utils.py\", line 662, in get_aioredis_client\n",
      "\u001b[2m\u001b[33m(raylet)\u001b[0m     return await aioredis.create_redis_pool(\n",
      "\u001b[2m\u001b[33m(raylet)\u001b[0m AttributeError: module 'aioredis' has no attribute 'create_redis_pool'\n",
      "\u001b[2m\u001b[36m(pid=56100)\u001b[0m /Users/jill/opt/anaconda3/envs/ddm/lib/python3.8/site-packages/xgboost/data.py:104: UserWarning: Use subset (sliced data) of np.ndarray is not recommended because it will generate extra copies and increase memory consumption\n",
      "\u001b[2m\u001b[36m(pid=56100)\u001b[0m   warnings.warn(\n",
      "\u001b[2m\u001b[36m(pid=56102)\u001b[0m /Users/jill/opt/anaconda3/envs/ddm/lib/python3.8/site-packages/xgboost/data.py:104: UserWarning: Use subset (sliced data) of np.ndarray is not recommended because it will generate extra copies and increase memory consumption\n",
      "\u001b[2m\u001b[36m(pid=56102)\u001b[0m   warnings.warn(\n",
      "\u001b[2m\u001b[36m(pid=56089)\u001b[0m /Users/jill/opt/anaconda3/envs/ddm/lib/python3.8/site-packages/xgboost/data.py:104: UserWarning: Use subset (sliced data) of np.ndarray is not recommended because it will generate extra copies and increase memory consumption\n",
      "\u001b[2m\u001b[36m(pid=56089)\u001b[0m   warnings.warn(\n",
      "\u001b[2m\u001b[36m(pid=56096)\u001b[0m /Users/jill/opt/anaconda3/envs/ddm/lib/python3.8/site-packages/xgboost/data.py:104: UserWarning: Use subset (sliced data) of np.ndarray is not recommended because it will generate extra copies and increase memory consumption\n",
      "\u001b[2m\u001b[36m(pid=56096)\u001b[0m   warnings.warn(\n",
      "\u001b[2m\u001b[36m(pid=56097)\u001b[0m /Users/jill/opt/anaconda3/envs/ddm/lib/python3.8/site-packages/xgboost/data.py:104: UserWarning: Use subset (sliced data) of np.ndarray is not recommended because it will generate extra copies and increase memory consumption\n",
      "\u001b[2m\u001b[36m(pid=56097)\u001b[0m   warnings.warn(\n",
      "\u001b[2m\u001b[36m(pid=56091)\u001b[0m /Users/jill/opt/anaconda3/envs/ddm/lib/python3.8/site-packages/xgboost/data.py:104: UserWarning: Use subset (sliced data) of np.ndarray is not recommended because it will generate extra copies and increase memory consumption\n",
      "\u001b[2m\u001b[36m(pid=56091)\u001b[0m   warnings.warn(\n",
      "\u001b[2m\u001b[36m(pid=56100)\u001b[0m /Users/jill/opt/anaconda3/envs/ddm/lib/python3.8/site-packages/xgboost/data.py:104: UserWarning: Use subset (sliced data) of np.ndarray is not recommended because it will generate extra copies and increase memory consumption\n",
      "\u001b[2m\u001b[36m(pid=56100)\u001b[0m   warnings.warn(\n"
     ]
    },
    {
     "data": {
      "text/html": [
       "<pre style=\"white-space:pre;overflow-x:auto;line-height:normal;font-family:Menlo,'DejaVu Sans Mono',consolas,'Courier New',monospace\"><span style=\"color: #7fbfbf; text-decoration-color: #7fbfbf\">[11:35:52] </span><span style=\"color: #800000; text-decoration-color: #800000\">WARNING </span> The agent on node msuddon-z440.redmond.corp.microsoft.com  <a href=\"file:///Users/jill/opt/anaconda3/envs/ddm/lib/python3.8/site-packages/ray/worker.py\"><span style=\"color: #7f7f7f; text-decoration-color: #7f7f7f\">worker.py</span></a><span style=\"color: #7f7f7f; text-decoration-color: #7f7f7f\">:1107</span>\n",
       "                    failed with the following error:                                         \n",
       "                    Traceback <span style=\"font-weight: bold\">(</span>most recent call last<span style=\"font-weight: bold\">)</span>:                                       \n",
       "                      File <span style=\"color: #008000; text-decoration-color: #008000\">\"/Users/jill/opt/anaconda3/envs/ddm/lib/python3.8/s</span>               \n",
       "                    <span style=\"color: #008000; text-decoration-color: #008000\">ite-packages/ray/new_dashboard/agent.py\"</span>, line <span style=\"color: #000080; text-decoration-color: #000080; font-weight: bold\">323</span>, in                   \n",
       "                    <span style=\"font-weight: bold\">&lt;</span><span style=\"color: #ff00ff; text-decoration-color: #ff00ff; font-weight: bold\">module</span><span style=\"font-weight: bold\">&gt;</span>                                                                 \n",
       "                        loop.run_until_complete<span style=\"font-weight: bold\">(</span>agent.run<span style=\"font-weight: bold\">())</span>                                 \n",
       "                      File <span style=\"color: #008000; text-decoration-color: #008000\">\"/Users/jill/opt/anaconda3/envs/ddm/lib/python3.8/a</span>               \n",
       "                    <span style=\"color: #008000; text-decoration-color: #008000\">syncio/base_events.py\"</span>, line <span style=\"color: #000080; text-decoration-color: #000080; font-weight: bold\">616</span>, in run_until_complete                  \n",
       "                        return future.result<span style=\"font-weight: bold\">()</span>                                               \n",
       "                      File <span style=\"color: #008000; text-decoration-color: #008000\">\"/Users/jill/opt/anaconda3/envs/ddm/lib/python3.8/s</span>               \n",
       "                    <span style=\"color: #008000; text-decoration-color: #008000\">ite-packages/ray/new_dashboard/agent.py\"</span>, line <span style=\"color: #000080; text-decoration-color: #000080; font-weight: bold\">121</span>, in run               \n",
       "                        self.aioredis_client = await                                         \n",
       "                    dashboard_utils.get_aioredis_client<span style=\"font-weight: bold\">(</span>                                     \n",
       "                      File <span style=\"color: #008000; text-decoration-color: #008000\">\"/Users/jill/opt/anaconda3/envs/ddm/lib/python3.8/s</span>               \n",
       "                    <span style=\"color: #008000; text-decoration-color: #008000\">ite-packages/ray/new_dashboard/utils.py\"</span>, line <span style=\"color: #000080; text-decoration-color: #000080; font-weight: bold\">662</span>, in                   \n",
       "                    get_aioredis_client                                                      \n",
       "                        return await aioredis.create_redis_pool<span style=\"font-weight: bold\">(</span>                             \n",
       "                    AttributeError: module <span style=\"color: #008000; text-decoration-color: #008000\">'aioredis'</span> has no attribute                       \n",
       "                    <span style=\"color: #008000; text-decoration-color: #008000\">'create_redis_pool'</span>                                                      \n",
       "                                                                                             \n",
       "</pre>\n"
      ],
      "text/plain": [
       "<rich.jupyter.JupyterRenderable at 0x7fc8b2fce400>"
      ]
     },
     "metadata": {},
     "output_type": "display_data"
    },
    {
     "name": "stderr",
     "output_type": "stream",
     "text": [
      "\u001b[2m\u001b[33m(raylet)\u001b[0m Traceback (most recent call last):\n",
      "\u001b[2m\u001b[33m(raylet)\u001b[0m   File \"/Users/jill/opt/anaconda3/envs/ddm/lib/python3.8/site-packages/ray/new_dashboard/agent.py\", line 334, in <module>\n",
      "\u001b[2m\u001b[33m(raylet)\u001b[0m     raise e\n",
      "\u001b[2m\u001b[33m(raylet)\u001b[0m   File \"/Users/jill/opt/anaconda3/envs/ddm/lib/python3.8/site-packages/ray/new_dashboard/agent.py\", line 323, in <module>\n",
      "\u001b[2m\u001b[33m(raylet)\u001b[0m     loop.run_until_complete(agent.run())\n",
      "\u001b[2m\u001b[33m(raylet)\u001b[0m   File \"/Users/jill/opt/anaconda3/envs/ddm/lib/python3.8/asyncio/base_events.py\", line 616, in run_until_complete\n",
      "\u001b[2m\u001b[33m(raylet)\u001b[0m     return future.result()\n",
      "\u001b[2m\u001b[33m(raylet)\u001b[0m   File \"/Users/jill/opt/anaconda3/envs/ddm/lib/python3.8/site-packages/ray/new_dashboard/agent.py\", line 121, in run\n",
      "\u001b[2m\u001b[33m(raylet)\u001b[0m     self.aioredis_client = await dashboard_utils.get_aioredis_client(\n",
      "\u001b[2m\u001b[33m(raylet)\u001b[0m   File \"/Users/jill/opt/anaconda3/envs/ddm/lib/python3.8/site-packages/ray/new_dashboard/utils.py\", line 662, in get_aioredis_client\n",
      "\u001b[2m\u001b[33m(raylet)\u001b[0m     return await aioredis.create_redis_pool(\n",
      "\u001b[2m\u001b[33m(raylet)\u001b[0m AttributeError: module 'aioredis' has no attribute 'create_redis_pool'\n",
      "\u001b[2m\u001b[36m(pid=56102)\u001b[0m /Users/jill/opt/anaconda3/envs/ddm/lib/python3.8/site-packages/xgboost/data.py:104: UserWarning: Use subset (sliced data) of np.ndarray is not recommended because it will generate extra copies and increase memory consumption\n",
      "\u001b[2m\u001b[36m(pid=56102)\u001b[0m   warnings.warn(\n",
      "\u001b[2m\u001b[36m(pid=56093)\u001b[0m /Users/jill/opt/anaconda3/envs/ddm/lib/python3.8/site-packages/xgboost/data.py:104: UserWarning: Use subset (sliced data) of np.ndarray is not recommended because it will generate extra copies and increase memory consumption\n",
      "\u001b[2m\u001b[36m(pid=56093)\u001b[0m   warnings.warn(\n",
      "\u001b[2m\u001b[36m(pid=56089)\u001b[0m /Users/jill/opt/anaconda3/envs/ddm/lib/python3.8/site-packages/xgboost/data.py:104: UserWarning: Use subset (sliced data) of np.ndarray is not recommended because it will generate extra copies and increase memory consumption\n",
      "\u001b[2m\u001b[36m(pid=56089)\u001b[0m   warnings.warn(\n",
      "\u001b[2m\u001b[36m(pid=56090)\u001b[0m /Users/jill/opt/anaconda3/envs/ddm/lib/python3.8/site-packages/xgboost/data.py:104: UserWarning: Use subset (sliced data) of np.ndarray is not recommended because it will generate extra copies and increase memory consumption\n",
      "\u001b[2m\u001b[36m(pid=56090)\u001b[0m   warnings.warn(\n",
      "\u001b[2m\u001b[36m(pid=56092)\u001b[0m /Users/jill/opt/anaconda3/envs/ddm/lib/python3.8/site-packages/xgboost/data.py:104: UserWarning: Use subset (sliced data) of np.ndarray is not recommended because it will generate extra copies and increase memory consumption\n",
      "\u001b[2m\u001b[36m(pid=56092)\u001b[0m   warnings.warn(\n",
      "\u001b[2m\u001b[36m(pid=56096)\u001b[0m /Users/jill/opt/anaconda3/envs/ddm/lib/python3.8/site-packages/xgboost/data.py:104: UserWarning: Use subset (sliced data) of np.ndarray is not recommended because it will generate extra copies and increase memory consumption\n",
      "\u001b[2m\u001b[36m(pid=56096)\u001b[0m   warnings.warn(\n",
      "\u001b[2m\u001b[36m(pid=56103)\u001b[0m /Users/jill/opt/anaconda3/envs/ddm/lib/python3.8/site-packages/xgboost/data.py:104: UserWarning: Use subset (sliced data) of np.ndarray is not recommended because it will generate extra copies and increase memory consumption\n",
      "\u001b[2m\u001b[36m(pid=56103)\u001b[0m   warnings.warn(\n",
      "\u001b[2m\u001b[36m(pid=56088)\u001b[0m /Users/jill/opt/anaconda3/envs/ddm/lib/python3.8/site-packages/xgboost/data.py:104: UserWarning: Use subset (sliced data) of np.ndarray is not recommended because it will generate extra copies and increase memory consumption\n",
      "\u001b[2m\u001b[36m(pid=56088)\u001b[0m   warnings.warn(\n"
     ]
    },
    {
     "data": {
      "text/html": [
       "<pre style=\"white-space:pre;overflow-x:auto;line-height:normal;font-family:Menlo,'DejaVu Sans Mono',consolas,'Courier New',monospace\"><span style=\"color: #7fbfbf; text-decoration-color: #7fbfbf\">[11:35:54] </span><span style=\"color: #800000; text-decoration-color: #800000\">WARNING </span> Trial Runner checkpointing failed: cannot pickle      <a href=\"file:///Users/jill/opt/anaconda3/envs/ddm/lib/python3.8/site-packages/ray/tune/trial_runner.py\"><span style=\"color: #7f7f7f; text-decoration-color: #7f7f7f\">trial_runner.py</span></a><span style=\"color: #7f7f7f; text-decoration-color: #7f7f7f\">:420</span>\n",
       "                    <span style=\"color: #008000; text-decoration-color: #008000\">'dict_values'</span> object                                                     \n",
       "</pre>\n"
      ],
      "text/plain": [
       "<rich.jupyter.JupyterRenderable at 0x7fc8b394cf10>"
      ]
     },
     "metadata": {},
     "output_type": "display_data"
    },
    {
     "data": {
      "text/html": [
       "<pre style=\"white-space:pre;overflow-x:auto;line-height:normal;font-family:Menlo,'DejaVu Sans Mono',consolas,'Courier New',monospace\"><span style=\"color: #7fbfbf; text-decoration-color: #7fbfbf\">[11:35:55] </span><span style=\"color: #800000; text-decoration-color: #800000\">WARNING </span> The agent on node msuddon-z440.redmond.corp.microsoft.com  <a href=\"file:///Users/jill/opt/anaconda3/envs/ddm/lib/python3.8/site-packages/ray/worker.py\"><span style=\"color: #7f7f7f; text-decoration-color: #7f7f7f\">worker.py</span></a><span style=\"color: #7f7f7f; text-decoration-color: #7f7f7f\">:1107</span>\n",
       "                    failed with the following error:                                         \n",
       "                    Traceback <span style=\"font-weight: bold\">(</span>most recent call last<span style=\"font-weight: bold\">)</span>:                                       \n",
       "                      File <span style=\"color: #008000; text-decoration-color: #008000\">\"/Users/jill/opt/anaconda3/envs/ddm/lib/python3.8/s</span>               \n",
       "                    <span style=\"color: #008000; text-decoration-color: #008000\">ite-packages/ray/new_dashboard/agent.py\"</span>, line <span style=\"color: #000080; text-decoration-color: #000080; font-weight: bold\">323</span>, in                   \n",
       "                    <span style=\"font-weight: bold\">&lt;</span><span style=\"color: #ff00ff; text-decoration-color: #ff00ff; font-weight: bold\">module</span><span style=\"font-weight: bold\">&gt;</span>                                                                 \n",
       "                        loop.run_until_complete<span style=\"font-weight: bold\">(</span>agent.run<span style=\"font-weight: bold\">())</span>                                 \n",
       "                      File <span style=\"color: #008000; text-decoration-color: #008000\">\"/Users/jill/opt/anaconda3/envs/ddm/lib/python3.8/a</span>               \n",
       "                    <span style=\"color: #008000; text-decoration-color: #008000\">syncio/base_events.py\"</span>, line <span style=\"color: #000080; text-decoration-color: #000080; font-weight: bold\">616</span>, in run_until_complete                  \n",
       "                        return future.result<span style=\"font-weight: bold\">()</span>                                               \n",
       "                      File <span style=\"color: #008000; text-decoration-color: #008000\">\"/Users/jill/opt/anaconda3/envs/ddm/lib/python3.8/s</span>               \n",
       "                    <span style=\"color: #008000; text-decoration-color: #008000\">ite-packages/ray/new_dashboard/agent.py\"</span>, line <span style=\"color: #000080; text-decoration-color: #000080; font-weight: bold\">121</span>, in run               \n",
       "                        self.aioredis_client = await                                         \n",
       "                    dashboard_utils.get_aioredis_client<span style=\"font-weight: bold\">(</span>                                     \n",
       "                      File <span style=\"color: #008000; text-decoration-color: #008000\">\"/Users/jill/opt/anaconda3/envs/ddm/lib/python3.8/s</span>               \n",
       "                    <span style=\"color: #008000; text-decoration-color: #008000\">ite-packages/ray/new_dashboard/utils.py\"</span>, line <span style=\"color: #000080; text-decoration-color: #000080; font-weight: bold\">662</span>, in                   \n",
       "                    get_aioredis_client                                                      \n",
       "                        return await aioredis.create_redis_pool<span style=\"font-weight: bold\">(</span>                             \n",
       "                    AttributeError: module <span style=\"color: #008000; text-decoration-color: #008000\">'aioredis'</span> has no attribute                       \n",
       "                    <span style=\"color: #008000; text-decoration-color: #008000\">'create_redis_pool'</span>                                                      \n",
       "                                                                                             \n",
       "</pre>\n"
      ],
      "text/plain": [
       "<rich.jupyter.JupyterRenderable at 0x7fc8b2db3c10>"
      ]
     },
     "metadata": {},
     "output_type": "display_data"
    },
    {
     "name": "stderr",
     "output_type": "stream",
     "text": [
      "\u001b[2m\u001b[33m(raylet)\u001b[0m Traceback (most recent call last):\n",
      "\u001b[2m\u001b[33m(raylet)\u001b[0m   File \"/Users/jill/opt/anaconda3/envs/ddm/lib/python3.8/site-packages/ray/new_dashboard/agent.py\", line 334, in <module>\n",
      "\u001b[2m\u001b[33m(raylet)\u001b[0m     raise e\n",
      "\u001b[2m\u001b[33m(raylet)\u001b[0m   File \"/Users/jill/opt/anaconda3/envs/ddm/lib/python3.8/site-packages/ray/new_dashboard/agent.py\", line 323, in <module>\n",
      "\u001b[2m\u001b[33m(raylet)\u001b[0m     loop.run_until_complete(agent.run())\n",
      "\u001b[2m\u001b[33m(raylet)\u001b[0m   File \"/Users/jill/opt/anaconda3/envs/ddm/lib/python3.8/asyncio/base_events.py\", line 616, in run_until_complete\n",
      "\u001b[2m\u001b[33m(raylet)\u001b[0m     return future.result()\n",
      "\u001b[2m\u001b[33m(raylet)\u001b[0m   File \"/Users/jill/opt/anaconda3/envs/ddm/lib/python3.8/site-packages/ray/new_dashboard/agent.py\", line 121, in run\n",
      "\u001b[2m\u001b[33m(raylet)\u001b[0m     self.aioredis_client = await dashboard_utils.get_aioredis_client(\n",
      "\u001b[2m\u001b[33m(raylet)\u001b[0m   File \"/Users/jill/opt/anaconda3/envs/ddm/lib/python3.8/site-packages/ray/new_dashboard/utils.py\", line 662, in get_aioredis_client\n",
      "\u001b[2m\u001b[33m(raylet)\u001b[0m     return await aioredis.create_redis_pool(\n",
      "\u001b[2m\u001b[33m(raylet)\u001b[0m AttributeError: module 'aioredis' has no attribute 'create_redis_pool'\n"
     ]
    },
    {
     "data": {
      "text/html": [
       "<pre style=\"white-space:pre;overflow-x:auto;line-height:normal;font-family:Menlo,'DejaVu Sans Mono',consolas,'Courier New',monospace\"><span style=\"color: #7fbfbf; text-decoration-color: #7fbfbf\">[11:35:58] </span><span style=\"color: #800000; text-decoration-color: #800000\">WARNING </span> The agent on node msuddon-z440.redmond.corp.microsoft.com  <a href=\"file:///Users/jill/opt/anaconda3/envs/ddm/lib/python3.8/site-packages/ray/worker.py\"><span style=\"color: #7f7f7f; text-decoration-color: #7f7f7f\">worker.py</span></a><span style=\"color: #7f7f7f; text-decoration-color: #7f7f7f\">:1107</span>\n",
       "                    failed with the following error:                                         \n",
       "                    Traceback <span style=\"font-weight: bold\">(</span>most recent call last<span style=\"font-weight: bold\">)</span>:                                       \n",
       "                      File <span style=\"color: #008000; text-decoration-color: #008000\">\"/Users/jill/opt/anaconda3/envs/ddm/lib/python3.8/s</span>               \n",
       "                    <span style=\"color: #008000; text-decoration-color: #008000\">ite-packages/ray/new_dashboard/agent.py\"</span>, line <span style=\"color: #000080; text-decoration-color: #000080; font-weight: bold\">323</span>, in                   \n",
       "                    <span style=\"font-weight: bold\">&lt;</span><span style=\"color: #ff00ff; text-decoration-color: #ff00ff; font-weight: bold\">module</span><span style=\"font-weight: bold\">&gt;</span>                                                                 \n",
       "                        loop.run_until_complete<span style=\"font-weight: bold\">(</span>agent.run<span style=\"font-weight: bold\">())</span>                                 \n",
       "                      File <span style=\"color: #008000; text-decoration-color: #008000\">\"/Users/jill/opt/anaconda3/envs/ddm/lib/python3.8/a</span>               \n",
       "                    <span style=\"color: #008000; text-decoration-color: #008000\">syncio/base_events.py\"</span>, line <span style=\"color: #000080; text-decoration-color: #000080; font-weight: bold\">616</span>, in run_until_complete                  \n",
       "                        return future.result<span style=\"font-weight: bold\">()</span>                                               \n",
       "                      File <span style=\"color: #008000; text-decoration-color: #008000\">\"/Users/jill/opt/anaconda3/envs/ddm/lib/python3.8/s</span>               \n",
       "                    <span style=\"color: #008000; text-decoration-color: #008000\">ite-packages/ray/new_dashboard/agent.py\"</span>, line <span style=\"color: #000080; text-decoration-color: #000080; font-weight: bold\">121</span>, in run               \n",
       "                        self.aioredis_client = await                                         \n",
       "                    dashboard_utils.get_aioredis_client<span style=\"font-weight: bold\">(</span>                                     \n",
       "                      File <span style=\"color: #008000; text-decoration-color: #008000\">\"/Users/jill/opt/anaconda3/envs/ddm/lib/python3.8/s</span>               \n",
       "                    <span style=\"color: #008000; text-decoration-color: #008000\">ite-packages/ray/new_dashboard/utils.py\"</span>, line <span style=\"color: #000080; text-decoration-color: #000080; font-weight: bold\">662</span>, in                   \n",
       "                    get_aioredis_client                                                      \n",
       "                        return await aioredis.create_redis_pool<span style=\"font-weight: bold\">(</span>                             \n",
       "                    AttributeError: module <span style=\"color: #008000; text-decoration-color: #008000\">'aioredis'</span> has no attribute                       \n",
       "                    <span style=\"color: #008000; text-decoration-color: #008000\">'create_redis_pool'</span>                                                      \n",
       "                                                                                             \n",
       "</pre>\n"
      ],
      "text/plain": [
       "<rich.jupyter.JupyterRenderable at 0x7fc8b2f9db50>"
      ]
     },
     "metadata": {},
     "output_type": "display_data"
    },
    {
     "name": "stderr",
     "output_type": "stream",
     "text": [
      "\u001b[2m\u001b[33m(raylet)\u001b[0m Traceback (most recent call last):\n",
      "\u001b[2m\u001b[33m(raylet)\u001b[0m   File \"/Users/jill/opt/anaconda3/envs/ddm/lib/python3.8/site-packages/ray/new_dashboard/agent.py\", line 334, in <module>\n",
      "\u001b[2m\u001b[33m(raylet)\u001b[0m     raise e\n",
      "\u001b[2m\u001b[33m(raylet)\u001b[0m   File \"/Users/jill/opt/anaconda3/envs/ddm/lib/python3.8/site-packages/ray/new_dashboard/agent.py\", line 323, in <module>\n",
      "\u001b[2m\u001b[33m(raylet)\u001b[0m     loop.run_until_complete(agent.run())\n",
      "\u001b[2m\u001b[33m(raylet)\u001b[0m   File \"/Users/jill/opt/anaconda3/envs/ddm/lib/python3.8/asyncio/base_events.py\", line 616, in run_until_complete\n",
      "\u001b[2m\u001b[33m(raylet)\u001b[0m     return future.result()\n",
      "\u001b[2m\u001b[33m(raylet)\u001b[0m   File \"/Users/jill/opt/anaconda3/envs/ddm/lib/python3.8/site-packages/ray/new_dashboard/agent.py\", line 121, in run\n",
      "\u001b[2m\u001b[33m(raylet)\u001b[0m     self.aioredis_client = await dashboard_utils.get_aioredis_client(\n",
      "\u001b[2m\u001b[33m(raylet)\u001b[0m   File \"/Users/jill/opt/anaconda3/envs/ddm/lib/python3.8/site-packages/ray/new_dashboard/utils.py\", line 662, in get_aioredis_client\n",
      "\u001b[2m\u001b[33m(raylet)\u001b[0m     return await aioredis.create_redis_pool(\n",
      "\u001b[2m\u001b[33m(raylet)\u001b[0m AttributeError: module 'aioredis' has no attribute 'create_redis_pool'\n",
      "\u001b[2m\u001b[36m(pid=56088)\u001b[0m /Users/jill/opt/anaconda3/envs/ddm/lib/python3.8/site-packages/xgboost/data.py:104: UserWarning: Use subset (sliced data) of np.ndarray is not recommended because it will generate extra copies and increase memory consumption\n",
      "\u001b[2m\u001b[36m(pid=56088)\u001b[0m   warnings.warn(\n",
      "\u001b[2m\u001b[36m(pid=56103)\u001b[0m /Users/jill/opt/anaconda3/envs/ddm/lib/python3.8/site-packages/xgboost/data.py:104: UserWarning: Use subset (sliced data) of np.ndarray is not recommended because it will generate extra copies and increase memory consumption\n",
      "\u001b[2m\u001b[36m(pid=56103)\u001b[0m   warnings.warn(\n",
      "\u001b[2m\u001b[36m(pid=56097)\u001b[0m /Users/jill/opt/anaconda3/envs/ddm/lib/python3.8/site-packages/xgboost/data.py:104: UserWarning: Use subset (sliced data) of np.ndarray is not recommended because it will generate extra copies and increase memory consumption\n",
      "\u001b[2m\u001b[36m(pid=56097)\u001b[0m   warnings.warn(\n",
      "\u001b[2m\u001b[36m(pid=56091)\u001b[0m /Users/jill/opt/anaconda3/envs/ddm/lib/python3.8/site-packages/xgboost/data.py:104: UserWarning: Use subset (sliced data) of np.ndarray is not recommended because it will generate extra copies and increase memory consumption\n",
      "\u001b[2m\u001b[36m(pid=56091)\u001b[0m   warnings.warn(\n",
      "\u001b[2m\u001b[36m(pid=56099)\u001b[0m /Users/jill/opt/anaconda3/envs/ddm/lib/python3.8/site-packages/xgboost/data.py:104: UserWarning: Use subset (sliced data) of np.ndarray is not recommended because it will generate extra copies and increase memory consumption\n",
      "\u001b[2m\u001b[36m(pid=56099)\u001b[0m   warnings.warn(\n",
      "\u001b[2m\u001b[36m(pid=56093)\u001b[0m /Users/jill/opt/anaconda3/envs/ddm/lib/python3.8/site-packages/xgboost/data.py:104: UserWarning: Use subset (sliced data) of np.ndarray is not recommended because it will generate extra copies and increase memory consumption\n",
      "\u001b[2m\u001b[36m(pid=56093)\u001b[0m   warnings.warn(\n",
      "\u001b[2m\u001b[36m(pid=56090)\u001b[0m /Users/jill/opt/anaconda3/envs/ddm/lib/python3.8/site-packages/xgboost/data.py:104: UserWarning: Use subset (sliced data) of np.ndarray is not recommended because it will generate extra copies and increase memory consumption\n",
      "\u001b[2m\u001b[36m(pid=56090)\u001b[0m   warnings.warn(\n",
      "\u001b[2m\u001b[36m(pid=56092)\u001b[0m /Users/jill/opt/anaconda3/envs/ddm/lib/python3.8/site-packages/xgboost/data.py:104: UserWarning: Use subset (sliced data) of np.ndarray is not recommended because it will generate extra copies and increase memory consumption\n",
      "\u001b[2m\u001b[36m(pid=56092)\u001b[0m   warnings.warn(\n",
      "\u001b[2m\u001b[36m(pid=56094)\u001b[0m /Users/jill/opt/anaconda3/envs/ddm/lib/python3.8/site-packages/xgboost/data.py:104: UserWarning: Use subset (sliced data) of np.ndarray is not recommended because it will generate extra copies and increase memory consumption\n",
      "\u001b[2m\u001b[36m(pid=56094)\u001b[0m   warnings.warn(\n",
      "\u001b[2m\u001b[36m(pid=56101)\u001b[0m /Users/jill/opt/anaconda3/envs/ddm/lib/python3.8/site-packages/xgboost/data.py:104: UserWarning: Use subset (sliced data) of np.ndarray is not recommended because it will generate extra copies and increase memory consumption\n",
      "\u001b[2m\u001b[36m(pid=56101)\u001b[0m   warnings.warn(\n"
     ]
    },
    {
     "data": {
      "text/html": [
       "<pre style=\"white-space:pre;overflow-x:auto;line-height:normal;font-family:Menlo,'DejaVu Sans Mono',consolas,'Courier New',monospace\"><span style=\"color: #7fbfbf; text-decoration-color: #7fbfbf\">[11:36:01] </span><span style=\"color: #800000; text-decoration-color: #800000\">WARNING </span> The agent on node msuddon-z440.redmond.corp.microsoft.com  <a href=\"file:///Users/jill/opt/anaconda3/envs/ddm/lib/python3.8/site-packages/ray/worker.py\"><span style=\"color: #7f7f7f; text-decoration-color: #7f7f7f\">worker.py</span></a><span style=\"color: #7f7f7f; text-decoration-color: #7f7f7f\">:1107</span>\n",
       "                    failed with the following error:                                         \n",
       "                    Traceback <span style=\"font-weight: bold\">(</span>most recent call last<span style=\"font-weight: bold\">)</span>:                                       \n",
       "                      File <span style=\"color: #008000; text-decoration-color: #008000\">\"/Users/jill/opt/anaconda3/envs/ddm/lib/python3.8/s</span>               \n",
       "                    <span style=\"color: #008000; text-decoration-color: #008000\">ite-packages/ray/new_dashboard/agent.py\"</span>, line <span style=\"color: #000080; text-decoration-color: #000080; font-weight: bold\">323</span>, in                   \n",
       "                    <span style=\"font-weight: bold\">&lt;</span><span style=\"color: #ff00ff; text-decoration-color: #ff00ff; font-weight: bold\">module</span><span style=\"font-weight: bold\">&gt;</span>                                                                 \n",
       "                        loop.run_until_complete<span style=\"font-weight: bold\">(</span>agent.run<span style=\"font-weight: bold\">())</span>                                 \n",
       "                      File <span style=\"color: #008000; text-decoration-color: #008000\">\"/Users/jill/opt/anaconda3/envs/ddm/lib/python3.8/a</span>               \n",
       "                    <span style=\"color: #008000; text-decoration-color: #008000\">syncio/base_events.py\"</span>, line <span style=\"color: #000080; text-decoration-color: #000080; font-weight: bold\">616</span>, in run_until_complete                  \n",
       "                        return future.result<span style=\"font-weight: bold\">()</span>                                               \n",
       "                      File <span style=\"color: #008000; text-decoration-color: #008000\">\"/Users/jill/opt/anaconda3/envs/ddm/lib/python3.8/s</span>               \n",
       "                    <span style=\"color: #008000; text-decoration-color: #008000\">ite-packages/ray/new_dashboard/agent.py\"</span>, line <span style=\"color: #000080; text-decoration-color: #000080; font-weight: bold\">121</span>, in run               \n",
       "                        self.aioredis_client = await                                         \n",
       "                    dashboard_utils.get_aioredis_client<span style=\"font-weight: bold\">(</span>                                     \n",
       "                      File <span style=\"color: #008000; text-decoration-color: #008000\">\"/Users/jill/opt/anaconda3/envs/ddm/lib/python3.8/s</span>               \n",
       "                    <span style=\"color: #008000; text-decoration-color: #008000\">ite-packages/ray/new_dashboard/utils.py\"</span>, line <span style=\"color: #000080; text-decoration-color: #000080; font-weight: bold\">662</span>, in                   \n",
       "                    get_aioredis_client                                                      \n",
       "                        return await aioredis.create_redis_pool<span style=\"font-weight: bold\">(</span>                             \n",
       "                    AttributeError: module <span style=\"color: #008000; text-decoration-color: #008000\">'aioredis'</span> has no attribute                       \n",
       "                    <span style=\"color: #008000; text-decoration-color: #008000\">'create_redis_pool'</span>                                                      \n",
       "                                                                                             \n",
       "</pre>\n"
      ],
      "text/plain": [
       "<rich.jupyter.JupyterRenderable at 0x7fc8b2faefa0>"
      ]
     },
     "metadata": {},
     "output_type": "display_data"
    },
    {
     "name": "stderr",
     "output_type": "stream",
     "text": [
      "\u001b[2m\u001b[33m(raylet)\u001b[0m Traceback (most recent call last):\n",
      "\u001b[2m\u001b[33m(raylet)\u001b[0m   File \"/Users/jill/opt/anaconda3/envs/ddm/lib/python3.8/site-packages/ray/new_dashboard/agent.py\", line 334, in <module>\n",
      "\u001b[2m\u001b[33m(raylet)\u001b[0m     raise e\n",
      "\u001b[2m\u001b[33m(raylet)\u001b[0m   File \"/Users/jill/opt/anaconda3/envs/ddm/lib/python3.8/site-packages/ray/new_dashboard/agent.py\", line 323, in <module>\n",
      "\u001b[2m\u001b[33m(raylet)\u001b[0m     loop.run_until_complete(agent.run())\n",
      "\u001b[2m\u001b[33m(raylet)\u001b[0m   File \"/Users/jill/opt/anaconda3/envs/ddm/lib/python3.8/asyncio/base_events.py\", line 616, in run_until_complete\n",
      "\u001b[2m\u001b[33m(raylet)\u001b[0m     return future.result()\n",
      "\u001b[2m\u001b[33m(raylet)\u001b[0m   File \"/Users/jill/opt/anaconda3/envs/ddm/lib/python3.8/site-packages/ray/new_dashboard/agent.py\", line 121, in run\n",
      "\u001b[2m\u001b[33m(raylet)\u001b[0m     self.aioredis_client = await dashboard_utils.get_aioredis_client(\n",
      "\u001b[2m\u001b[33m(raylet)\u001b[0m   File \"/Users/jill/opt/anaconda3/envs/ddm/lib/python3.8/site-packages/ray/new_dashboard/utils.py\", line 662, in get_aioredis_client\n",
      "\u001b[2m\u001b[33m(raylet)\u001b[0m     return await aioredis.create_redis_pool(\n",
      "\u001b[2m\u001b[33m(raylet)\u001b[0m AttributeError: module 'aioredis' has no attribute 'create_redis_pool'\n",
      "\u001b[2m\u001b[36m(pid=56088)\u001b[0m /Users/jill/opt/anaconda3/envs/ddm/lib/python3.8/site-packages/xgboost/data.py:104: UserWarning: Use subset (sliced data) of np.ndarray is not recommended because it will generate extra copies and increase memory consumption\n",
      "\u001b[2m\u001b[36m(pid=56088)\u001b[0m   warnings.warn(\n",
      "\u001b[2m\u001b[36m(pid=56103)\u001b[0m /Users/jill/opt/anaconda3/envs/ddm/lib/python3.8/site-packages/xgboost/data.py:104: UserWarning: Use subset (sliced data) of np.ndarray is not recommended because it will generate extra copies and increase memory consumption\n",
      "\u001b[2m\u001b[36m(pid=56103)\u001b[0m   warnings.warn(\n"
     ]
    },
    {
     "data": {
      "text/html": [
       "<pre style=\"white-space:pre;overflow-x:auto;line-height:normal;font-family:Menlo,'DejaVu Sans Mono',consolas,'Courier New',monospace\"><span style=\"color: #7fbfbf; text-decoration-color: #7fbfbf\">[11:36:05] </span><span style=\"color: #800000; text-decoration-color: #800000\">WARNING </span> The agent on node msuddon-z440.redmond.corp.microsoft.com  <a href=\"file:///Users/jill/opt/anaconda3/envs/ddm/lib/python3.8/site-packages/ray/worker.py\"><span style=\"color: #7f7f7f; text-decoration-color: #7f7f7f\">worker.py</span></a><span style=\"color: #7f7f7f; text-decoration-color: #7f7f7f\">:1107</span>\n",
       "                    failed with the following error:                                         \n",
       "                    Traceback <span style=\"font-weight: bold\">(</span>most recent call last<span style=\"font-weight: bold\">)</span>:                                       \n",
       "                      File <span style=\"color: #008000; text-decoration-color: #008000\">\"/Users/jill/opt/anaconda3/envs/ddm/lib/python3.8/s</span>               \n",
       "                    <span style=\"color: #008000; text-decoration-color: #008000\">ite-packages/ray/new_dashboard/agent.py\"</span>, line <span style=\"color: #000080; text-decoration-color: #000080; font-weight: bold\">323</span>, in                   \n",
       "                    <span style=\"font-weight: bold\">&lt;</span><span style=\"color: #ff00ff; text-decoration-color: #ff00ff; font-weight: bold\">module</span><span style=\"font-weight: bold\">&gt;</span>                                                                 \n",
       "                        loop.run_until_complete<span style=\"font-weight: bold\">(</span>agent.run<span style=\"font-weight: bold\">())</span>                                 \n",
       "                      File <span style=\"color: #008000; text-decoration-color: #008000\">\"/Users/jill/opt/anaconda3/envs/ddm/lib/python3.8/a</span>               \n",
       "                    <span style=\"color: #008000; text-decoration-color: #008000\">syncio/base_events.py\"</span>, line <span style=\"color: #000080; text-decoration-color: #000080; font-weight: bold\">616</span>, in run_until_complete                  \n",
       "                        return future.result<span style=\"font-weight: bold\">()</span>                                               \n",
       "                      File <span style=\"color: #008000; text-decoration-color: #008000\">\"/Users/jill/opt/anaconda3/envs/ddm/lib/python3.8/s</span>               \n",
       "                    <span style=\"color: #008000; text-decoration-color: #008000\">ite-packages/ray/new_dashboard/agent.py\"</span>, line <span style=\"color: #000080; text-decoration-color: #000080; font-weight: bold\">121</span>, in run               \n",
       "                        self.aioredis_client = await                                         \n",
       "                    dashboard_utils.get_aioredis_client<span style=\"font-weight: bold\">(</span>                                     \n",
       "                      File <span style=\"color: #008000; text-decoration-color: #008000\">\"/Users/jill/opt/anaconda3/envs/ddm/lib/python3.8/s</span>               \n",
       "                    <span style=\"color: #008000; text-decoration-color: #008000\">ite-packages/ray/new_dashboard/utils.py\"</span>, line <span style=\"color: #000080; text-decoration-color: #000080; font-weight: bold\">662</span>, in                   \n",
       "                    get_aioredis_client                                                      \n",
       "                        return await aioredis.create_redis_pool<span style=\"font-weight: bold\">(</span>                             \n",
       "                    AttributeError: module <span style=\"color: #008000; text-decoration-color: #008000\">'aioredis'</span> has no attribute                       \n",
       "                    <span style=\"color: #008000; text-decoration-color: #008000\">'create_redis_pool'</span>                                                      \n",
       "                                                                                             \n",
       "</pre>\n"
      ],
      "text/plain": [
       "<rich.jupyter.JupyterRenderable at 0x7fc8b2f5b790>"
      ]
     },
     "metadata": {},
     "output_type": "display_data"
    },
    {
     "name": "stderr",
     "output_type": "stream",
     "text": [
      "\u001b[2m\u001b[33m(raylet)\u001b[0m Traceback (most recent call last):\n",
      "\u001b[2m\u001b[33m(raylet)\u001b[0m   File \"/Users/jill/opt/anaconda3/envs/ddm/lib/python3.8/site-packages/ray/new_dashboard/agent.py\", line 334, in <module>\n",
      "\u001b[2m\u001b[33m(raylet)\u001b[0m     raise e\n",
      "\u001b[2m\u001b[33m(raylet)\u001b[0m   File \"/Users/jill/opt/anaconda3/envs/ddm/lib/python3.8/site-packages/ray/new_dashboard/agent.py\", line 323, in <module>\n",
      "\u001b[2m\u001b[33m(raylet)\u001b[0m     loop.run_until_complete(agent.run())\n",
      "\u001b[2m\u001b[33m(raylet)\u001b[0m   File \"/Users/jill/opt/anaconda3/envs/ddm/lib/python3.8/asyncio/base_events.py\", line 616, in run_until_complete\n",
      "\u001b[2m\u001b[33m(raylet)\u001b[0m     return future.result()\n",
      "\u001b[2m\u001b[33m(raylet)\u001b[0m   File \"/Users/jill/opt/anaconda3/envs/ddm/lib/python3.8/site-packages/ray/new_dashboard/agent.py\", line 121, in run\n",
      "\u001b[2m\u001b[33m(raylet)\u001b[0m     self.aioredis_client = await dashboard_utils.get_aioredis_client(\n",
      "\u001b[2m\u001b[33m(raylet)\u001b[0m   File \"/Users/jill/opt/anaconda3/envs/ddm/lib/python3.8/site-packages/ray/new_dashboard/utils.py\", line 662, in get_aioredis_client\n",
      "\u001b[2m\u001b[33m(raylet)\u001b[0m     return await aioredis.create_redis_pool(\n",
      "\u001b[2m\u001b[33m(raylet)\u001b[0m AttributeError: module 'aioredis' has no attribute 'create_redis_pool'\n",
      "\u001b[2m\u001b[36m(pid=56097)\u001b[0m /Users/jill/opt/anaconda3/envs/ddm/lib/python3.8/site-packages/xgboost/data.py:104: UserWarning: Use subset (sliced data) of np.ndarray is not recommended because it will generate extra copies and increase memory consumption\n",
      "\u001b[2m\u001b[36m(pid=56097)\u001b[0m   warnings.warn(\n",
      "\u001b[2m\u001b[36m(pid=56091)\u001b[0m /Users/jill/opt/anaconda3/envs/ddm/lib/python3.8/site-packages/xgboost/data.py:104: UserWarning: Use subset (sliced data) of np.ndarray is not recommended because it will generate extra copies and increase memory consumption\n",
      "\u001b[2m\u001b[36m(pid=56091)\u001b[0m   warnings.warn(\n",
      "\u001b[2m\u001b[36m(pid=56093)\u001b[0m /Users/jill/opt/anaconda3/envs/ddm/lib/python3.8/site-packages/xgboost/data.py:104: UserWarning: Use subset (sliced data) of np.ndarray is not recommended because it will generate extra copies and increase memory consumption\n",
      "\u001b[2m\u001b[36m(pid=56093)\u001b[0m   warnings.warn(\n",
      "\u001b[2m\u001b[36m(pid=56090)\u001b[0m /Users/jill/opt/anaconda3/envs/ddm/lib/python3.8/site-packages/xgboost/data.py:104: UserWarning: Use subset (sliced data) of np.ndarray is not recommended because it will generate extra copies and increase memory consumption\n",
      "\u001b[2m\u001b[36m(pid=56090)\u001b[0m   warnings.warn(\n"
     ]
    },
    {
     "data": {
      "text/html": [
       "<pre style=\"white-space:pre;overflow-x:auto;line-height:normal;font-family:Menlo,'DejaVu Sans Mono',consolas,'Courier New',monospace\"><span style=\"color: #7fbfbf; text-decoration-color: #7fbfbf\">[11:36:07] </span><span style=\"color: #800000; text-decoration-color: #800000\">WARNING </span> Trial Runner checkpointing failed: cannot pickle      <a href=\"file:///Users/jill/opt/anaconda3/envs/ddm/lib/python3.8/site-packages/ray/tune/trial_runner.py\"><span style=\"color: #7f7f7f; text-decoration-color: #7f7f7f\">trial_runner.py</span></a><span style=\"color: #7f7f7f; text-decoration-color: #7f7f7f\">:420</span>\n",
       "                    <span style=\"color: #008000; text-decoration-color: #008000\">'dict_values'</span> object                                                     \n",
       "</pre>\n"
      ],
      "text/plain": [
       "<rich.jupyter.JupyterRenderable at 0x7fc8b2f5b8b0>"
      ]
     },
     "metadata": {},
     "output_type": "display_data"
    },
    {
     "name": "stderr",
     "output_type": "stream",
     "text": [
      "\u001b[2m\u001b[36m(pid=56092)\u001b[0m /Users/jill/opt/anaconda3/envs/ddm/lib/python3.8/site-packages/xgboost/data.py:104: UserWarning: Use subset (sliced data) of np.ndarray is not recommended because it will generate extra copies and increase memory consumption\n",
      "\u001b[2m\u001b[36m(pid=56092)\u001b[0m   warnings.warn(\n"
     ]
    },
    {
     "data": {
      "text/html": [
       "<pre style=\"white-space:pre;overflow-x:auto;line-height:normal;font-family:Menlo,'DejaVu Sans Mono',consolas,'Courier New',monospace\"><span style=\"color: #7fbfbf; text-decoration-color: #7fbfbf\">[11:36:08] </span><span style=\"color: #800000; text-decoration-color: #800000\">WARNING </span> The agent on node msuddon-z440.redmond.corp.microsoft.com  <a href=\"file:///Users/jill/opt/anaconda3/envs/ddm/lib/python3.8/site-packages/ray/worker.py\"><span style=\"color: #7f7f7f; text-decoration-color: #7f7f7f\">worker.py</span></a><span style=\"color: #7f7f7f; text-decoration-color: #7f7f7f\">:1107</span>\n",
       "                    failed with the following error:                                         \n",
       "                    Traceback <span style=\"font-weight: bold\">(</span>most recent call last<span style=\"font-weight: bold\">)</span>:                                       \n",
       "                      File <span style=\"color: #008000; text-decoration-color: #008000\">\"/Users/jill/opt/anaconda3/envs/ddm/lib/python3.8/s</span>               \n",
       "                    <span style=\"color: #008000; text-decoration-color: #008000\">ite-packages/ray/new_dashboard/agent.py\"</span>, line <span style=\"color: #000080; text-decoration-color: #000080; font-weight: bold\">323</span>, in                   \n",
       "                    <span style=\"font-weight: bold\">&lt;</span><span style=\"color: #ff00ff; text-decoration-color: #ff00ff; font-weight: bold\">module</span><span style=\"font-weight: bold\">&gt;</span>                                                                 \n",
       "                        loop.run_until_complete<span style=\"font-weight: bold\">(</span>agent.run<span style=\"font-weight: bold\">())</span>                                 \n",
       "                      File <span style=\"color: #008000; text-decoration-color: #008000\">\"/Users/jill/opt/anaconda3/envs/ddm/lib/python3.8/a</span>               \n",
       "                    <span style=\"color: #008000; text-decoration-color: #008000\">syncio/base_events.py\"</span>, line <span style=\"color: #000080; text-decoration-color: #000080; font-weight: bold\">616</span>, in run_until_complete                  \n",
       "                        return future.result<span style=\"font-weight: bold\">()</span>                                               \n",
       "                      File <span style=\"color: #008000; text-decoration-color: #008000\">\"/Users/jill/opt/anaconda3/envs/ddm/lib/python3.8/s</span>               \n",
       "                    <span style=\"color: #008000; text-decoration-color: #008000\">ite-packages/ray/new_dashboard/agent.py\"</span>, line <span style=\"color: #000080; text-decoration-color: #000080; font-weight: bold\">121</span>, in run               \n",
       "                        self.aioredis_client = await                                         \n",
       "                    dashboard_utils.get_aioredis_client<span style=\"font-weight: bold\">(</span>                                     \n",
       "                      File <span style=\"color: #008000; text-decoration-color: #008000\">\"/Users/jill/opt/anaconda3/envs/ddm/lib/python3.8/s</span>               \n",
       "                    <span style=\"color: #008000; text-decoration-color: #008000\">ite-packages/ray/new_dashboard/utils.py\"</span>, line <span style=\"color: #000080; text-decoration-color: #000080; font-weight: bold\">662</span>, in                   \n",
       "                    get_aioredis_client                                                      \n",
       "                        return await aioredis.create_redis_pool<span style=\"font-weight: bold\">(</span>                             \n",
       "                    AttributeError: module <span style=\"color: #008000; text-decoration-color: #008000\">'aioredis'</span> has no attribute                       \n",
       "                    <span style=\"color: #008000; text-decoration-color: #008000\">'create_redis_pool'</span>                                                      \n",
       "                                                                                             \n",
       "</pre>\n"
      ],
      "text/plain": [
       "<rich.jupyter.JupyterRenderable at 0x7fc8b2ed4400>"
      ]
     },
     "metadata": {},
     "output_type": "display_data"
    },
    {
     "name": "stderr",
     "output_type": "stream",
     "text": [
      "\u001b[2m\u001b[33m(raylet)\u001b[0m Traceback (most recent call last):\n",
      "\u001b[2m\u001b[33m(raylet)\u001b[0m   File \"/Users/jill/opt/anaconda3/envs/ddm/lib/python3.8/site-packages/ray/new_dashboard/agent.py\", line 334, in <module>\n",
      "\u001b[2m\u001b[33m(raylet)\u001b[0m     raise e\n",
      "\u001b[2m\u001b[33m(raylet)\u001b[0m   File \"/Users/jill/opt/anaconda3/envs/ddm/lib/python3.8/site-packages/ray/new_dashboard/agent.py\", line 323, in <module>\n",
      "\u001b[2m\u001b[33m(raylet)\u001b[0m     loop.run_until_complete(agent.run())\n",
      "\u001b[2m\u001b[33m(raylet)\u001b[0m   File \"/Users/jill/opt/anaconda3/envs/ddm/lib/python3.8/asyncio/base_events.py\", line 616, in run_until_complete\n",
      "\u001b[2m\u001b[33m(raylet)\u001b[0m     return future.result()\n",
      "\u001b[2m\u001b[33m(raylet)\u001b[0m   File \"/Users/jill/opt/anaconda3/envs/ddm/lib/python3.8/site-packages/ray/new_dashboard/agent.py\", line 121, in run\n",
      "\u001b[2m\u001b[33m(raylet)\u001b[0m     self.aioredis_client = await dashboard_utils.get_aioredis_client(\n",
      "\u001b[2m\u001b[33m(raylet)\u001b[0m   File \"/Users/jill/opt/anaconda3/envs/ddm/lib/python3.8/site-packages/ray/new_dashboard/utils.py\", line 662, in get_aioredis_client\n",
      "\u001b[2m\u001b[33m(raylet)\u001b[0m     return await aioredis.create_redis_pool(\n",
      "\u001b[2m\u001b[33m(raylet)\u001b[0m AttributeError: module 'aioredis' has no attribute 'create_redis_pool'\n",
      "\u001b[2m\u001b[36m(pid=56097)\u001b[0m /Users/jill/opt/anaconda3/envs/ddm/lib/python3.8/site-packages/xgboost/data.py:104: UserWarning: Use subset (sliced data) of np.ndarray is not recommended because it will generate extra copies and increase memory consumption\n",
      "\u001b[2m\u001b[36m(pid=56097)\u001b[0m   warnings.warn(\n",
      "\u001b[2m\u001b[36m(pid=56091)\u001b[0m /Users/jill/opt/anaconda3/envs/ddm/lib/python3.8/site-packages/xgboost/data.py:104: UserWarning: Use subset (sliced data) of np.ndarray is not recommended because it will generate extra copies and increase memory consumption\n",
      "\u001b[2m\u001b[36m(pid=56091)\u001b[0m   warnings.warn(\n"
     ]
    },
    {
     "data": {
      "text/html": [
       "<pre style=\"white-space:pre;overflow-x:auto;line-height:normal;font-family:Menlo,'DejaVu Sans Mono',consolas,'Courier New',monospace\"><span style=\"color: #7fbfbf; text-decoration-color: #7fbfbf\">[11:36:11] </span><span style=\"color: #800000; text-decoration-color: #800000\">WARNING </span> The agent on node msuddon-z440.redmond.corp.microsoft.com  <a href=\"file:///Users/jill/opt/anaconda3/envs/ddm/lib/python3.8/site-packages/ray/worker.py\"><span style=\"color: #7f7f7f; text-decoration-color: #7f7f7f\">worker.py</span></a><span style=\"color: #7f7f7f; text-decoration-color: #7f7f7f\">:1107</span>\n",
       "                    failed with the following error:                                         \n",
       "                    Traceback <span style=\"font-weight: bold\">(</span>most recent call last<span style=\"font-weight: bold\">)</span>:                                       \n",
       "                      File <span style=\"color: #008000; text-decoration-color: #008000\">\"/Users/jill/opt/anaconda3/envs/ddm/lib/python3.8/s</span>               \n",
       "                    <span style=\"color: #008000; text-decoration-color: #008000\">ite-packages/ray/new_dashboard/agent.py\"</span>, line <span style=\"color: #000080; text-decoration-color: #000080; font-weight: bold\">323</span>, in                   \n",
       "                    <span style=\"font-weight: bold\">&lt;</span><span style=\"color: #ff00ff; text-decoration-color: #ff00ff; font-weight: bold\">module</span><span style=\"font-weight: bold\">&gt;</span>                                                                 \n",
       "                        loop.run_until_complete<span style=\"font-weight: bold\">(</span>agent.run<span style=\"font-weight: bold\">())</span>                                 \n",
       "                      File <span style=\"color: #008000; text-decoration-color: #008000\">\"/Users/jill/opt/anaconda3/envs/ddm/lib/python3.8/a</span>               \n",
       "                    <span style=\"color: #008000; text-decoration-color: #008000\">syncio/base_events.py\"</span>, line <span style=\"color: #000080; text-decoration-color: #000080; font-weight: bold\">616</span>, in run_until_complete                  \n",
       "                        return future.result<span style=\"font-weight: bold\">()</span>                                               \n",
       "                      File <span style=\"color: #008000; text-decoration-color: #008000\">\"/Users/jill/opt/anaconda3/envs/ddm/lib/python3.8/s</span>               \n",
       "                    <span style=\"color: #008000; text-decoration-color: #008000\">ite-packages/ray/new_dashboard/agent.py\"</span>, line <span style=\"color: #000080; text-decoration-color: #000080; font-weight: bold\">121</span>, in run               \n",
       "                        self.aioredis_client = await                                         \n",
       "                    dashboard_utils.get_aioredis_client<span style=\"font-weight: bold\">(</span>                                     \n",
       "                      File <span style=\"color: #008000; text-decoration-color: #008000\">\"/Users/jill/opt/anaconda3/envs/ddm/lib/python3.8/s</span>               \n",
       "                    <span style=\"color: #008000; text-decoration-color: #008000\">ite-packages/ray/new_dashboard/utils.py\"</span>, line <span style=\"color: #000080; text-decoration-color: #000080; font-weight: bold\">662</span>, in                   \n",
       "                    get_aioredis_client                                                      \n",
       "                        return await aioredis.create_redis_pool<span style=\"font-weight: bold\">(</span>                             \n",
       "                    AttributeError: module <span style=\"color: #008000; text-decoration-color: #008000\">'aioredis'</span> has no attribute                       \n",
       "                    <span style=\"color: #008000; text-decoration-color: #008000\">'create_redis_pool'</span>                                                      \n",
       "                                                                                             \n",
       "</pre>\n"
      ],
      "text/plain": [
       "<rich.jupyter.JupyterRenderable at 0x7fc8b2f6e0d0>"
      ]
     },
     "metadata": {},
     "output_type": "display_data"
    },
    {
     "name": "stderr",
     "output_type": "stream",
     "text": [
      "\u001b[2m\u001b[33m(raylet)\u001b[0m Traceback (most recent call last):\n",
      "\u001b[2m\u001b[33m(raylet)\u001b[0m   File \"/Users/jill/opt/anaconda3/envs/ddm/lib/python3.8/site-packages/ray/new_dashboard/agent.py\", line 334, in <module>\n",
      "\u001b[2m\u001b[33m(raylet)\u001b[0m     raise e\n",
      "\u001b[2m\u001b[33m(raylet)\u001b[0m   File \"/Users/jill/opt/anaconda3/envs/ddm/lib/python3.8/site-packages/ray/new_dashboard/agent.py\", line 323, in <module>\n",
      "\u001b[2m\u001b[33m(raylet)\u001b[0m     loop.run_until_complete(agent.run())\n",
      "\u001b[2m\u001b[33m(raylet)\u001b[0m   File \"/Users/jill/opt/anaconda3/envs/ddm/lib/python3.8/asyncio/base_events.py\", line 616, in run_until_complete\n",
      "\u001b[2m\u001b[33m(raylet)\u001b[0m     return future.result()\n",
      "\u001b[2m\u001b[33m(raylet)\u001b[0m   File \"/Users/jill/opt/anaconda3/envs/ddm/lib/python3.8/site-packages/ray/new_dashboard/agent.py\", line 121, in run\n",
      "\u001b[2m\u001b[33m(raylet)\u001b[0m     self.aioredis_client = await dashboard_utils.get_aioredis_client(\n",
      "\u001b[2m\u001b[33m(raylet)\u001b[0m   File \"/Users/jill/opt/anaconda3/envs/ddm/lib/python3.8/site-packages/ray/new_dashboard/utils.py\", line 662, in get_aioredis_client\n",
      "\u001b[2m\u001b[33m(raylet)\u001b[0m     return await aioredis.create_redis_pool(\n",
      "\u001b[2m\u001b[33m(raylet)\u001b[0m AttributeError: module 'aioredis' has no attribute 'create_redis_pool'\n",
      "\u001b[2m\u001b[36m(pid=56093)\u001b[0m /Users/jill/opt/anaconda3/envs/ddm/lib/python3.8/site-packages/xgboost/data.py:104: UserWarning: Use subset (sliced data) of np.ndarray is not recommended because it will generate extra copies and increase memory consumption\n",
      "\u001b[2m\u001b[36m(pid=56093)\u001b[0m   warnings.warn(\n",
      "\u001b[2m\u001b[36m(pid=56090)\u001b[0m /Users/jill/opt/anaconda3/envs/ddm/lib/python3.8/site-packages/xgboost/data.py:104: UserWarning: Use subset (sliced data) of np.ndarray is not recommended because it will generate extra copies and increase memory consumption\n",
      "\u001b[2m\u001b[36m(pid=56090)\u001b[0m   warnings.warn(\n",
      "\u001b[2m\u001b[36m(pid=56092)\u001b[0m /Users/jill/opt/anaconda3/envs/ddm/lib/python3.8/site-packages/xgboost/data.py:104: UserWarning: Use subset (sliced data) of np.ndarray is not recommended because it will generate extra copies and increase memory consumption\n",
      "\u001b[2m\u001b[36m(pid=56092)\u001b[0m   warnings.warn(\n",
      "\u001b[2m\u001b[36m(pid=56099)\u001b[0m /Users/jill/opt/anaconda3/envs/ddm/lib/python3.8/site-packages/xgboost/data.py:104: UserWarning: Use subset (sliced data) of np.ndarray is not recommended because it will generate extra copies and increase memory consumption\n",
      "\u001b[2m\u001b[36m(pid=56099)\u001b[0m   warnings.warn(\n",
      "\u001b[2m\u001b[36m(pid=56094)\u001b[0m /Users/jill/opt/anaconda3/envs/ddm/lib/python3.8/site-packages/xgboost/data.py:104: UserWarning: Use subset (sliced data) of np.ndarray is not recommended because it will generate extra copies and increase memory consumption\n",
      "\u001b[2m\u001b[36m(pid=56094)\u001b[0m   warnings.warn(\n",
      "\u001b[2m\u001b[36m(pid=56101)\u001b[0m /Users/jill/opt/anaconda3/envs/ddm/lib/python3.8/site-packages/xgboost/data.py:104: UserWarning: Use subset (sliced data) of np.ndarray is not recommended because it will generate extra copies and increase memory consumption\n",
      "\u001b[2m\u001b[36m(pid=56101)\u001b[0m   warnings.warn(\n"
     ]
    },
    {
     "data": {
      "text/html": [
       "<pre style=\"white-space:pre;overflow-x:auto;line-height:normal;font-family:Menlo,'DejaVu Sans Mono',consolas,'Courier New',monospace\"><span style=\"color: #7fbfbf; text-decoration-color: #7fbfbf\">[11:36:14] </span><span style=\"color: #800000; text-decoration-color: #800000\">WARNING </span> The agent on node msuddon-z440.redmond.corp.microsoft.com  <a href=\"file:///Users/jill/opt/anaconda3/envs/ddm/lib/python3.8/site-packages/ray/worker.py\"><span style=\"color: #7f7f7f; text-decoration-color: #7f7f7f\">worker.py</span></a><span style=\"color: #7f7f7f; text-decoration-color: #7f7f7f\">:1107</span>\n",
       "                    failed with the following error:                                         \n",
       "                    Traceback <span style=\"font-weight: bold\">(</span>most recent call last<span style=\"font-weight: bold\">)</span>:                                       \n",
       "                      File <span style=\"color: #008000; text-decoration-color: #008000\">\"/Users/jill/opt/anaconda3/envs/ddm/lib/python3.8/s</span>               \n",
       "                    <span style=\"color: #008000; text-decoration-color: #008000\">ite-packages/ray/new_dashboard/agent.py\"</span>, line <span style=\"color: #000080; text-decoration-color: #000080; font-weight: bold\">323</span>, in                   \n",
       "                    <span style=\"font-weight: bold\">&lt;</span><span style=\"color: #ff00ff; text-decoration-color: #ff00ff; font-weight: bold\">module</span><span style=\"font-weight: bold\">&gt;</span>                                                                 \n",
       "                        loop.run_until_complete<span style=\"font-weight: bold\">(</span>agent.run<span style=\"font-weight: bold\">())</span>                                 \n",
       "                      File <span style=\"color: #008000; text-decoration-color: #008000\">\"/Users/jill/opt/anaconda3/envs/ddm/lib/python3.8/a</span>               \n",
       "                    <span style=\"color: #008000; text-decoration-color: #008000\">syncio/base_events.py\"</span>, line <span style=\"color: #000080; text-decoration-color: #000080; font-weight: bold\">616</span>, in run_until_complete                  \n",
       "                        return future.result<span style=\"font-weight: bold\">()</span>                                               \n",
       "                      File <span style=\"color: #008000; text-decoration-color: #008000\">\"/Users/jill/opt/anaconda3/envs/ddm/lib/python3.8/s</span>               \n",
       "                    <span style=\"color: #008000; text-decoration-color: #008000\">ite-packages/ray/new_dashboard/agent.py\"</span>, line <span style=\"color: #000080; text-decoration-color: #000080; font-weight: bold\">121</span>, in run               \n",
       "                        self.aioredis_client = await                                         \n",
       "                    dashboard_utils.get_aioredis_client<span style=\"font-weight: bold\">(</span>                                     \n",
       "                      File <span style=\"color: #008000; text-decoration-color: #008000\">\"/Users/jill/opt/anaconda3/envs/ddm/lib/python3.8/s</span>               \n",
       "                    <span style=\"color: #008000; text-decoration-color: #008000\">ite-packages/ray/new_dashboard/utils.py\"</span>, line <span style=\"color: #000080; text-decoration-color: #000080; font-weight: bold\">662</span>, in                   \n",
       "                    get_aioredis_client                                                      \n",
       "                        return await aioredis.create_redis_pool<span style=\"font-weight: bold\">(</span>                             \n",
       "                    AttributeError: module <span style=\"color: #008000; text-decoration-color: #008000\">'aioredis'</span> has no attribute                       \n",
       "                    <span style=\"color: #008000; text-decoration-color: #008000\">'create_redis_pool'</span>                                                      \n",
       "                                                                                             \n",
       "</pre>\n"
      ],
      "text/plain": [
       "<rich.jupyter.JupyterRenderable at 0x7fc8b2f46c40>"
      ]
     },
     "metadata": {},
     "output_type": "display_data"
    },
    {
     "name": "stderr",
     "output_type": "stream",
     "text": [
      "\u001b[2m\u001b[33m(raylet)\u001b[0m Traceback (most recent call last):\n",
      "\u001b[2m\u001b[33m(raylet)\u001b[0m   File \"/Users/jill/opt/anaconda3/envs/ddm/lib/python3.8/site-packages/ray/new_dashboard/agent.py\", line 334, in <module>\n",
      "\u001b[2m\u001b[33m(raylet)\u001b[0m     raise e\n",
      "\u001b[2m\u001b[33m(raylet)\u001b[0m   File \"/Users/jill/opt/anaconda3/envs/ddm/lib/python3.8/site-packages/ray/new_dashboard/agent.py\", line 323, in <module>\n",
      "\u001b[2m\u001b[33m(raylet)\u001b[0m     loop.run_until_complete(agent.run())\n",
      "\u001b[2m\u001b[33m(raylet)\u001b[0m   File \"/Users/jill/opt/anaconda3/envs/ddm/lib/python3.8/asyncio/base_events.py\", line 616, in run_until_complete\n",
      "\u001b[2m\u001b[33m(raylet)\u001b[0m     return future.result()\n",
      "\u001b[2m\u001b[33m(raylet)\u001b[0m   File \"/Users/jill/opt/anaconda3/envs/ddm/lib/python3.8/site-packages/ray/new_dashboard/agent.py\", line 121, in run\n",
      "\u001b[2m\u001b[33m(raylet)\u001b[0m     self.aioredis_client = await dashboard_utils.get_aioredis_client(\n",
      "\u001b[2m\u001b[33m(raylet)\u001b[0m   File \"/Users/jill/opt/anaconda3/envs/ddm/lib/python3.8/site-packages/ray/new_dashboard/utils.py\", line 662, in get_aioredis_client\n",
      "\u001b[2m\u001b[33m(raylet)\u001b[0m     return await aioredis.create_redis_pool(\n",
      "\u001b[2m\u001b[33m(raylet)\u001b[0m AttributeError: module 'aioredis' has no attribute 'create_redis_pool'\n"
     ]
    },
    {
     "data": {
      "text/html": [
       "<pre style=\"white-space:pre;overflow-x:auto;line-height:normal;font-family:Menlo,'DejaVu Sans Mono',consolas,'Courier New',monospace\"><span style=\"color: #7fbfbf; text-decoration-color: #7fbfbf\">[11:36:17] </span><span style=\"color: #800000; text-decoration-color: #800000\">WARNING </span> The agent on node msuddon-z440.redmond.corp.microsoft.com  <a href=\"file:///Users/jill/opt/anaconda3/envs/ddm/lib/python3.8/site-packages/ray/worker.py\"><span style=\"color: #7f7f7f; text-decoration-color: #7f7f7f\">worker.py</span></a><span style=\"color: #7f7f7f; text-decoration-color: #7f7f7f\">:1107</span>\n",
       "                    failed with the following error:                                         \n",
       "                    Traceback <span style=\"font-weight: bold\">(</span>most recent call last<span style=\"font-weight: bold\">)</span>:                                       \n",
       "                      File <span style=\"color: #008000; text-decoration-color: #008000\">\"/Users/jill/opt/anaconda3/envs/ddm/lib/python3.8/s</span>               \n",
       "                    <span style=\"color: #008000; text-decoration-color: #008000\">ite-packages/ray/new_dashboard/agent.py\"</span>, line <span style=\"color: #000080; text-decoration-color: #000080; font-weight: bold\">323</span>, in                   \n",
       "                    <span style=\"font-weight: bold\">&lt;</span><span style=\"color: #ff00ff; text-decoration-color: #ff00ff; font-weight: bold\">module</span><span style=\"font-weight: bold\">&gt;</span>                                                                 \n",
       "                        loop.run_until_complete<span style=\"font-weight: bold\">(</span>agent.run<span style=\"font-weight: bold\">())</span>                                 \n",
       "                      File <span style=\"color: #008000; text-decoration-color: #008000\">\"/Users/jill/opt/anaconda3/envs/ddm/lib/python3.8/a</span>               \n",
       "                    <span style=\"color: #008000; text-decoration-color: #008000\">syncio/base_events.py\"</span>, line <span style=\"color: #000080; text-decoration-color: #000080; font-weight: bold\">616</span>, in run_until_complete                  \n",
       "                        return future.result<span style=\"font-weight: bold\">()</span>                                               \n",
       "                      File <span style=\"color: #008000; text-decoration-color: #008000\">\"/Users/jill/opt/anaconda3/envs/ddm/lib/python3.8/s</span>               \n",
       "                    <span style=\"color: #008000; text-decoration-color: #008000\">ite-packages/ray/new_dashboard/agent.py\"</span>, line <span style=\"color: #000080; text-decoration-color: #000080; font-weight: bold\">121</span>, in run               \n",
       "                        self.aioredis_client = await                                         \n",
       "                    dashboard_utils.get_aioredis_client<span style=\"font-weight: bold\">(</span>                                     \n",
       "                      File <span style=\"color: #008000; text-decoration-color: #008000\">\"/Users/jill/opt/anaconda3/envs/ddm/lib/python3.8/s</span>               \n",
       "                    <span style=\"color: #008000; text-decoration-color: #008000\">ite-packages/ray/new_dashboard/utils.py\"</span>, line <span style=\"color: #000080; text-decoration-color: #000080; font-weight: bold\">662</span>, in                   \n",
       "                    get_aioredis_client                                                      \n",
       "                        return await aioredis.create_redis_pool<span style=\"font-weight: bold\">(</span>                             \n",
       "                    AttributeError: module <span style=\"color: #008000; text-decoration-color: #008000\">'aioredis'</span> has no attribute                       \n",
       "                    <span style=\"color: #008000; text-decoration-color: #008000\">'create_redis_pool'</span>                                                      \n",
       "                                                                                             \n",
       "</pre>\n"
      ],
      "text/plain": [
       "<rich.jupyter.JupyterRenderable at 0x7fc8b2fb1cd0>"
      ]
     },
     "metadata": {},
     "output_type": "display_data"
    },
    {
     "name": "stderr",
     "output_type": "stream",
     "text": [
      "\u001b[2m\u001b[33m(raylet)\u001b[0m Traceback (most recent call last):\n",
      "\u001b[2m\u001b[33m(raylet)\u001b[0m   File \"/Users/jill/opt/anaconda3/envs/ddm/lib/python3.8/site-packages/ray/new_dashboard/agent.py\", line 334, in <module>\n",
      "\u001b[2m\u001b[33m(raylet)\u001b[0m     raise e\n",
      "\u001b[2m\u001b[33m(raylet)\u001b[0m   File \"/Users/jill/opt/anaconda3/envs/ddm/lib/python3.8/site-packages/ray/new_dashboard/agent.py\", line 323, in <module>\n",
      "\u001b[2m\u001b[33m(raylet)\u001b[0m     loop.run_until_complete(agent.run())\n",
      "\u001b[2m\u001b[33m(raylet)\u001b[0m   File \"/Users/jill/opt/anaconda3/envs/ddm/lib/python3.8/asyncio/base_events.py\", line 616, in run_until_complete\n",
      "\u001b[2m\u001b[33m(raylet)\u001b[0m     return future.result()\n",
      "\u001b[2m\u001b[33m(raylet)\u001b[0m   File \"/Users/jill/opt/anaconda3/envs/ddm/lib/python3.8/site-packages/ray/new_dashboard/agent.py\", line 121, in run\n",
      "\u001b[2m\u001b[33m(raylet)\u001b[0m     self.aioredis_client = await dashboard_utils.get_aioredis_client(\n",
      "\u001b[2m\u001b[33m(raylet)\u001b[0m   File \"/Users/jill/opt/anaconda3/envs/ddm/lib/python3.8/site-packages/ray/new_dashboard/utils.py\", line 662, in get_aioredis_client\n",
      "\u001b[2m\u001b[33m(raylet)\u001b[0m     return await aioredis.create_redis_pool(\n",
      "\u001b[2m\u001b[33m(raylet)\u001b[0m AttributeError: module 'aioredis' has no attribute 'create_redis_pool'\n",
      "2021/11/18 11:36:17 WARNING mlflow.sklearn: RegressorMixin.score failed. The 'training_score' metric will not be recorded. Scoring error: 'GaussianProcessRegressor' object has no attribute 'y_train_std_'\n",
      "2021/11/18 11:36:17 WARNING mlflow.sklearn.utils: Failed to autolog metrics for GaussianProcessRegressor. Logging error: 'GaussianProcessRegressor' object has no attribute 'y_train_std_'\n",
      "2021/11/18 11:36:17 WARNING mlflow.sklearn: Failed to infer model signature: 'GaussianProcessRegressor' object has no attribute 'y_train_std_'\n"
     ]
    },
    {
     "data": {
      "text/html": [
       "<pre style=\"white-space:pre;overflow-x:auto;line-height:normal;font-family:Menlo,'DejaVu Sans Mono',consolas,'Courier New',monospace\"><span style=\"color: #7fbfbf; text-decoration-color: #7fbfbf\">[11:36:18] </span><span style=\"color: #800000; text-decoration-color: #800000\">WARNING </span> Trial Runner checkpointing failed: cannot pickle      <a href=\"file:///Users/jill/opt/anaconda3/envs/ddm/lib/python3.8/site-packages/ray/tune/trial_runner.py\"><span style=\"color: #7f7f7f; text-decoration-color: #7f7f7f\">trial_runner.py</span></a><span style=\"color: #7f7f7f; text-decoration-color: #7f7f7f\">:420</span>\n",
       "                    <span style=\"color: #008000; text-decoration-color: #008000\">'dict_values'</span> object                                                     \n",
       "</pre>\n"
      ],
      "text/plain": [
       "<rich.jupyter.JupyterRenderable at 0x7fc8b2f04340>"
      ]
     },
     "metadata": {},
     "output_type": "display_data"
    },
    {
     "name": "stderr",
     "output_type": "stream",
     "text": [
      "2021/11/18 11:36:18 WARNING mlflow.sklearn: RegressorMixin.score failed. The 'training_score' metric will not be recorded. Scoring error: 'GaussianProcessRegressor' object has no attribute 'y_train_std_'\n",
      "2021/11/18 11:36:18 WARNING mlflow.sklearn.utils: Failed to autolog metrics for GaussianProcessRegressor. Logging error: 'GaussianProcessRegressor' object has no attribute 'y_train_std_'\n",
      "2021/11/18 11:36:18 WARNING mlflow.sklearn: Failed to infer model signature: 'GaussianProcessRegressor' object has no attribute 'y_train_std_'\n",
      "2021/11/18 11:36:19 WARNING mlflow.sklearn: RegressorMixin.score failed. The 'training_score' metric will not be recorded. Scoring error: 'GaussianProcessRegressor' object has no attribute 'y_train_std_'\n",
      "2021/11/18 11:36:19 WARNING mlflow.sklearn.utils: Failed to autolog metrics for GaussianProcessRegressor. Logging error: 'GaussianProcessRegressor' object has no attribute 'y_train_std_'\n",
      "2021/11/18 11:36:19 WARNING mlflow.sklearn: Failed to infer model signature: 'GaussianProcessRegressor' object has no attribute 'y_train_std_'\n"
     ]
    },
    {
     "data": {
      "text/html": [
       "<pre style=\"white-space:pre;overflow-x:auto;line-height:normal;font-family:Menlo,'DejaVu Sans Mono',consolas,'Courier New',monospace\"><span style=\"color: #7fbfbf; text-decoration-color: #7fbfbf\">[11:36:20] </span><span style=\"color: #800000; text-decoration-color: #800000\">WARNING </span> The agent on node msuddon-z440.redmond.corp.microsoft.com  <a href=\"file:///Users/jill/opt/anaconda3/envs/ddm/lib/python3.8/site-packages/ray/worker.py\"><span style=\"color: #7f7f7f; text-decoration-color: #7f7f7f\">worker.py</span></a><span style=\"color: #7f7f7f; text-decoration-color: #7f7f7f\">:1107</span>\n",
       "                    failed with the following error:                                         \n",
       "                    Traceback <span style=\"font-weight: bold\">(</span>most recent call last<span style=\"font-weight: bold\">)</span>:                                       \n",
       "                      File <span style=\"color: #008000; text-decoration-color: #008000\">\"/Users/jill/opt/anaconda3/envs/ddm/lib/python3.8/s</span>               \n",
       "                    <span style=\"color: #008000; text-decoration-color: #008000\">ite-packages/ray/new_dashboard/agent.py\"</span>, line <span style=\"color: #000080; text-decoration-color: #000080; font-weight: bold\">323</span>, in                   \n",
       "                    <span style=\"font-weight: bold\">&lt;</span><span style=\"color: #ff00ff; text-decoration-color: #ff00ff; font-weight: bold\">module</span><span style=\"font-weight: bold\">&gt;</span>                                                                 \n",
       "                        loop.run_until_complete<span style=\"font-weight: bold\">(</span>agent.run<span style=\"font-weight: bold\">())</span>                                 \n",
       "                      File <span style=\"color: #008000; text-decoration-color: #008000\">\"/Users/jill/opt/anaconda3/envs/ddm/lib/python3.8/a</span>               \n",
       "                    <span style=\"color: #008000; text-decoration-color: #008000\">syncio/base_events.py\"</span>, line <span style=\"color: #000080; text-decoration-color: #000080; font-weight: bold\">616</span>, in run_until_complete                  \n",
       "                        return future.result<span style=\"font-weight: bold\">()</span>                                               \n",
       "                      File <span style=\"color: #008000; text-decoration-color: #008000\">\"/Users/jill/opt/anaconda3/envs/ddm/lib/python3.8/s</span>               \n",
       "                    <span style=\"color: #008000; text-decoration-color: #008000\">ite-packages/ray/new_dashboard/agent.py\"</span>, line <span style=\"color: #000080; text-decoration-color: #000080; font-weight: bold\">121</span>, in run               \n",
       "                        self.aioredis_client = await                                         \n",
       "                    dashboard_utils.get_aioredis_client<span style=\"font-weight: bold\">(</span>                                     \n",
       "                      File <span style=\"color: #008000; text-decoration-color: #008000\">\"/Users/jill/opt/anaconda3/envs/ddm/lib/python3.8/s</span>               \n",
       "                    <span style=\"color: #008000; text-decoration-color: #008000\">ite-packages/ray/new_dashboard/utils.py\"</span>, line <span style=\"color: #000080; text-decoration-color: #000080; font-weight: bold\">662</span>, in                   \n",
       "                    get_aioredis_client                                                      \n",
       "                        return await aioredis.create_redis_pool<span style=\"font-weight: bold\">(</span>                             \n",
       "                    AttributeError: module <span style=\"color: #008000; text-decoration-color: #008000\">'aioredis'</span> has no attribute                       \n",
       "                    <span style=\"color: #008000; text-decoration-color: #008000\">'create_redis_pool'</span>                                                      \n",
       "                                                                                             \n",
       "</pre>\n"
      ],
      "text/plain": [
       "<rich.jupyter.JupyterRenderable at 0x7fc8b2f5bcd0>"
      ]
     },
     "metadata": {},
     "output_type": "display_data"
    },
    {
     "name": "stderr",
     "output_type": "stream",
     "text": [
      "\u001b[2m\u001b[33m(raylet)\u001b[0m Traceback (most recent call last):\n",
      "\u001b[2m\u001b[33m(raylet)\u001b[0m   File \"/Users/jill/opt/anaconda3/envs/ddm/lib/python3.8/site-packages/ray/new_dashboard/agent.py\", line 334, in <module>\n",
      "\u001b[2m\u001b[33m(raylet)\u001b[0m     raise e\n",
      "\u001b[2m\u001b[33m(raylet)\u001b[0m   File \"/Users/jill/opt/anaconda3/envs/ddm/lib/python3.8/site-packages/ray/new_dashboard/agent.py\", line 323, in <module>\n",
      "\u001b[2m\u001b[33m(raylet)\u001b[0m     loop.run_until_complete(agent.run())\n",
      "\u001b[2m\u001b[33m(raylet)\u001b[0m   File \"/Users/jill/opt/anaconda3/envs/ddm/lib/python3.8/asyncio/base_events.py\", line 616, in run_until_complete\n",
      "\u001b[2m\u001b[33m(raylet)\u001b[0m     return future.result()\n",
      "\u001b[2m\u001b[33m(raylet)\u001b[0m   File \"/Users/jill/opt/anaconda3/envs/ddm/lib/python3.8/site-packages/ray/new_dashboard/agent.py\", line 121, in run\n",
      "\u001b[2m\u001b[33m(raylet)\u001b[0m     self.aioredis_client = await dashboard_utils.get_aioredis_client(\n",
      "\u001b[2m\u001b[33m(raylet)\u001b[0m   File \"/Users/jill/opt/anaconda3/envs/ddm/lib/python3.8/site-packages/ray/new_dashboard/utils.py\", line 662, in get_aioredis_client\n",
      "\u001b[2m\u001b[33m(raylet)\u001b[0m     return await aioredis.create_redis_pool(\n",
      "\u001b[2m\u001b[33m(raylet)\u001b[0m AttributeError: module 'aioredis' has no attribute 'create_redis_pool'\n",
      "\u001b[2m\u001b[36m(pid=56099)\u001b[0m /Users/jill/opt/anaconda3/envs/ddm/lib/python3.8/site-packages/xgboost/data.py:104: UserWarning: Use subset (sliced data) of np.ndarray is not recommended because it will generate extra copies and increase memory consumption\n",
      "\u001b[2m\u001b[36m(pid=56099)\u001b[0m   warnings.warn(\n",
      "\u001b[2m\u001b[36m(pid=56094)\u001b[0m /Users/jill/opt/anaconda3/envs/ddm/lib/python3.8/site-packages/xgboost/data.py:104: UserWarning: Use subset (sliced data) of np.ndarray is not recommended because it will generate extra copies and increase memory consumption\n",
      "\u001b[2m\u001b[36m(pid=56094)\u001b[0m   warnings.warn(\n",
      "\u001b[2m\u001b[36m(pid=56101)\u001b[0m /Users/jill/opt/anaconda3/envs/ddm/lib/python3.8/site-packages/xgboost/data.py:104: UserWarning: Use subset (sliced data) of np.ndarray is not recommended because it will generate extra copies and increase memory consumption\n",
      "\u001b[2m\u001b[36m(pid=56101)\u001b[0m   warnings.warn(\n"
     ]
    },
    {
     "data": {
      "text/html": [
       "<pre style=\"white-space:pre;overflow-x:auto;line-height:normal;font-family:Menlo,'DejaVu Sans Mono',consolas,'Courier New',monospace\"><span style=\"color: #7fbfbf; text-decoration-color: #7fbfbf\">[11:36:23] </span><span style=\"color: #800000; text-decoration-color: #800000\">WARNING </span> The agent on node msuddon-z440.redmond.corp.microsoft.com  <a href=\"file:///Users/jill/opt/anaconda3/envs/ddm/lib/python3.8/site-packages/ray/worker.py\"><span style=\"color: #7f7f7f; text-decoration-color: #7f7f7f\">worker.py</span></a><span style=\"color: #7f7f7f; text-decoration-color: #7f7f7f\">:1107</span>\n",
       "                    failed with the following error:                                         \n",
       "                    Traceback <span style=\"font-weight: bold\">(</span>most recent call last<span style=\"font-weight: bold\">)</span>:                                       \n",
       "                      File <span style=\"color: #008000; text-decoration-color: #008000\">\"/Users/jill/opt/anaconda3/envs/ddm/lib/python3.8/s</span>               \n",
       "                    <span style=\"color: #008000; text-decoration-color: #008000\">ite-packages/ray/new_dashboard/agent.py\"</span>, line <span style=\"color: #000080; text-decoration-color: #000080; font-weight: bold\">323</span>, in                   \n",
       "                    <span style=\"font-weight: bold\">&lt;</span><span style=\"color: #ff00ff; text-decoration-color: #ff00ff; font-weight: bold\">module</span><span style=\"font-weight: bold\">&gt;</span>                                                                 \n",
       "                        loop.run_until_complete<span style=\"font-weight: bold\">(</span>agent.run<span style=\"font-weight: bold\">())</span>                                 \n",
       "                      File <span style=\"color: #008000; text-decoration-color: #008000\">\"/Users/jill/opt/anaconda3/envs/ddm/lib/python3.8/a</span>               \n",
       "                    <span style=\"color: #008000; text-decoration-color: #008000\">syncio/base_events.py\"</span>, line <span style=\"color: #000080; text-decoration-color: #000080; font-weight: bold\">616</span>, in run_until_complete                  \n",
       "                        return future.result<span style=\"font-weight: bold\">()</span>                                               \n",
       "                      File <span style=\"color: #008000; text-decoration-color: #008000\">\"/Users/jill/opt/anaconda3/envs/ddm/lib/python3.8/s</span>               \n",
       "                    <span style=\"color: #008000; text-decoration-color: #008000\">ite-packages/ray/new_dashboard/agent.py\"</span>, line <span style=\"color: #000080; text-decoration-color: #000080; font-weight: bold\">121</span>, in run               \n",
       "                        self.aioredis_client = await                                         \n",
       "                    dashboard_utils.get_aioredis_client<span style=\"font-weight: bold\">(</span>                                     \n",
       "                      File <span style=\"color: #008000; text-decoration-color: #008000\">\"/Users/jill/opt/anaconda3/envs/ddm/lib/python3.8/s</span>               \n",
       "                    <span style=\"color: #008000; text-decoration-color: #008000\">ite-packages/ray/new_dashboard/utils.py\"</span>, line <span style=\"color: #000080; text-decoration-color: #000080; font-weight: bold\">662</span>, in                   \n",
       "                    get_aioredis_client                                                      \n",
       "                        return await aioredis.create_redis_pool<span style=\"font-weight: bold\">(</span>                             \n",
       "                    AttributeError: module <span style=\"color: #008000; text-decoration-color: #008000\">'aioredis'</span> has no attribute                       \n",
       "                    <span style=\"color: #008000; text-decoration-color: #008000\">'create_redis_pool'</span>                                                      \n",
       "                                                                                             \n",
       "</pre>\n"
      ],
      "text/plain": [
       "<rich.jupyter.JupyterRenderable at 0x7fc8b390cf40>"
      ]
     },
     "metadata": {},
     "output_type": "display_data"
    },
    {
     "name": "stderr",
     "output_type": "stream",
     "text": [
      "\u001b[2m\u001b[33m(raylet)\u001b[0m Traceback (most recent call last):\n",
      "\u001b[2m\u001b[33m(raylet)\u001b[0m   File \"/Users/jill/opt/anaconda3/envs/ddm/lib/python3.8/site-packages/ray/new_dashboard/agent.py\", line 334, in <module>\n",
      "\u001b[2m\u001b[33m(raylet)\u001b[0m     raise e\n",
      "\u001b[2m\u001b[33m(raylet)\u001b[0m   File \"/Users/jill/opt/anaconda3/envs/ddm/lib/python3.8/site-packages/ray/new_dashboard/agent.py\", line 323, in <module>\n",
      "\u001b[2m\u001b[33m(raylet)\u001b[0m     loop.run_until_complete(agent.run())\n",
      "\u001b[2m\u001b[33m(raylet)\u001b[0m   File \"/Users/jill/opt/anaconda3/envs/ddm/lib/python3.8/asyncio/base_events.py\", line 616, in run_until_complete\n",
      "\u001b[2m\u001b[33m(raylet)\u001b[0m     return future.result()\n",
      "\u001b[2m\u001b[33m(raylet)\u001b[0m   File \"/Users/jill/opt/anaconda3/envs/ddm/lib/python3.8/site-packages/ray/new_dashboard/agent.py\", line 121, in run\n",
      "\u001b[2m\u001b[33m(raylet)\u001b[0m     self.aioredis_client = await dashboard_utils.get_aioredis_client(\n",
      "\u001b[2m\u001b[33m(raylet)\u001b[0m   File \"/Users/jill/opt/anaconda3/envs/ddm/lib/python3.8/site-packages/ray/new_dashboard/utils.py\", line 662, in get_aioredis_client\n",
      "\u001b[2m\u001b[33m(raylet)\u001b[0m     return await aioredis.create_redis_pool(\n",
      "\u001b[2m\u001b[33m(raylet)\u001b[0m AttributeError: module 'aioredis' has no attribute 'create_redis_pool'\n"
     ]
    },
    {
     "data": {
      "text/html": [
       "<pre style=\"white-space:pre;overflow-x:auto;line-height:normal;font-family:Menlo,'DejaVu Sans Mono',consolas,'Courier New',monospace\"><span style=\"color: #7fbfbf; text-decoration-color: #7fbfbf\">[11:36:25] </span><span style=\"color: #800000; text-decoration-color: #800000\">WARNING </span> The agent on node msuddon-z440.redmond.corp.microsoft.com  <a href=\"file:///Users/jill/opt/anaconda3/envs/ddm/lib/python3.8/site-packages/ray/worker.py\"><span style=\"color: #7f7f7f; text-decoration-color: #7f7f7f\">worker.py</span></a><span style=\"color: #7f7f7f; text-decoration-color: #7f7f7f\">:1107</span>\n",
       "                    failed with the following error:                                         \n",
       "                    Traceback <span style=\"font-weight: bold\">(</span>most recent call last<span style=\"font-weight: bold\">)</span>:                                       \n",
       "                      File <span style=\"color: #008000; text-decoration-color: #008000\">\"/Users/jill/opt/anaconda3/envs/ddm/lib/python3.8/s</span>               \n",
       "                    <span style=\"color: #008000; text-decoration-color: #008000\">ite-packages/ray/new_dashboard/agent.py\"</span>, line <span style=\"color: #000080; text-decoration-color: #000080; font-weight: bold\">323</span>, in                   \n",
       "                    <span style=\"font-weight: bold\">&lt;</span><span style=\"color: #ff00ff; text-decoration-color: #ff00ff; font-weight: bold\">module</span><span style=\"font-weight: bold\">&gt;</span>                                                                 \n",
       "                        loop.run_until_complete<span style=\"font-weight: bold\">(</span>agent.run<span style=\"font-weight: bold\">())</span>                                 \n",
       "                      File <span style=\"color: #008000; text-decoration-color: #008000\">\"/Users/jill/opt/anaconda3/envs/ddm/lib/python3.8/a</span>               \n",
       "                    <span style=\"color: #008000; text-decoration-color: #008000\">syncio/base_events.py\"</span>, line <span style=\"color: #000080; text-decoration-color: #000080; font-weight: bold\">616</span>, in run_until_complete                  \n",
       "                        return future.result<span style=\"font-weight: bold\">()</span>                                               \n",
       "                      File <span style=\"color: #008000; text-decoration-color: #008000\">\"/Users/jill/opt/anaconda3/envs/ddm/lib/python3.8/s</span>               \n",
       "                    <span style=\"color: #008000; text-decoration-color: #008000\">ite-packages/ray/new_dashboard/agent.py\"</span>, line <span style=\"color: #000080; text-decoration-color: #000080; font-weight: bold\">121</span>, in run               \n",
       "                        self.aioredis_client = await                                         \n",
       "                    dashboard_utils.get_aioredis_client<span style=\"font-weight: bold\">(</span>                                     \n",
       "                      File <span style=\"color: #008000; text-decoration-color: #008000\">\"/Users/jill/opt/anaconda3/envs/ddm/lib/python3.8/s</span>               \n",
       "                    <span style=\"color: #008000; text-decoration-color: #008000\">ite-packages/ray/new_dashboard/utils.py\"</span>, line <span style=\"color: #000080; text-decoration-color: #000080; font-weight: bold\">662</span>, in                   \n",
       "                    get_aioredis_client                                                      \n",
       "                        return await aioredis.create_redis_pool<span style=\"font-weight: bold\">(</span>                             \n",
       "                    AttributeError: module <span style=\"color: #008000; text-decoration-color: #008000\">'aioredis'</span> has no attribute                       \n",
       "                    <span style=\"color: #008000; text-decoration-color: #008000\">'create_redis_pool'</span>                                                      \n",
       "                                                                                             \n",
       "</pre>\n"
      ],
      "text/plain": [
       "<rich.jupyter.JupyterRenderable at 0x7fc8b2fccd30>"
      ]
     },
     "metadata": {},
     "output_type": "display_data"
    },
    {
     "name": "stderr",
     "output_type": "stream",
     "text": [
      "\u001b[2m\u001b[33m(raylet)\u001b[0m Traceback (most recent call last):\n",
      "\u001b[2m\u001b[33m(raylet)\u001b[0m   File \"/Users/jill/opt/anaconda3/envs/ddm/lib/python3.8/site-packages/ray/new_dashboard/agent.py\", line 334, in <module>\n",
      "\u001b[2m\u001b[33m(raylet)\u001b[0m     raise e\n",
      "\u001b[2m\u001b[33m(raylet)\u001b[0m   File \"/Users/jill/opt/anaconda3/envs/ddm/lib/python3.8/site-packages/ray/new_dashboard/agent.py\", line 323, in <module>\n",
      "\u001b[2m\u001b[33m(raylet)\u001b[0m     loop.run_until_complete(agent.run())\n",
      "\u001b[2m\u001b[33m(raylet)\u001b[0m   File \"/Users/jill/opt/anaconda3/envs/ddm/lib/python3.8/asyncio/base_events.py\", line 616, in run_until_complete\n",
      "\u001b[2m\u001b[33m(raylet)\u001b[0m     return future.result()\n",
      "\u001b[2m\u001b[33m(raylet)\u001b[0m   File \"/Users/jill/opt/anaconda3/envs/ddm/lib/python3.8/site-packages/ray/new_dashboard/agent.py\", line 121, in run\n",
      "\u001b[2m\u001b[33m(raylet)\u001b[0m     self.aioredis_client = await dashboard_utils.get_aioredis_client(\n",
      "\u001b[2m\u001b[33m(raylet)\u001b[0m   File \"/Users/jill/opt/anaconda3/envs/ddm/lib/python3.8/site-packages/ray/new_dashboard/utils.py\", line 662, in get_aioredis_client\n",
      "\u001b[2m\u001b[33m(raylet)\u001b[0m     return await aioredis.create_redis_pool(\n",
      "\u001b[2m\u001b[33m(raylet)\u001b[0m AttributeError: module 'aioredis' has no attribute 'create_redis_pool'\n",
      "\u001b[2m\u001b[36m(pid=56099)\u001b[0m /Users/jill/opt/anaconda3/envs/ddm/lib/python3.8/site-packages/xgboost/data.py:104: UserWarning: Use subset (sliced data) of np.ndarray is not recommended because it will generate extra copies and increase memory consumption\n",
      "\u001b[2m\u001b[36m(pid=56099)\u001b[0m   warnings.warn(\n",
      "\u001b[2m\u001b[36m(pid=56094)\u001b[0m /Users/jill/opt/anaconda3/envs/ddm/lib/python3.8/site-packages/xgboost/data.py:104: UserWarning: Use subset (sliced data) of np.ndarray is not recommended because it will generate extra copies and increase memory consumption\n",
      "\u001b[2m\u001b[36m(pid=56094)\u001b[0m   warnings.warn(\n",
      "\u001b[2m\u001b[36m(pid=56101)\u001b[0m /Users/jill/opt/anaconda3/envs/ddm/lib/python3.8/site-packages/xgboost/data.py:104: UserWarning: Use subset (sliced data) of np.ndarray is not recommended because it will generate extra copies and increase memory consumption\n",
      "\u001b[2m\u001b[36m(pid=56101)\u001b[0m   warnings.warn(\n"
     ]
    },
    {
     "data": {
      "text/html": [
       "<pre style=\"white-space:pre;overflow-x:auto;line-height:normal;font-family:Menlo,'DejaVu Sans Mono',consolas,'Courier New',monospace\"><span style=\"color: #7fbfbf; text-decoration-color: #7fbfbf\">[11:36:28] </span><span style=\"color: #800000; text-decoration-color: #800000\">WARNING </span> The agent on node msuddon-z440.redmond.corp.microsoft.com  <a href=\"file:///Users/jill/opt/anaconda3/envs/ddm/lib/python3.8/site-packages/ray/worker.py\"><span style=\"color: #7f7f7f; text-decoration-color: #7f7f7f\">worker.py</span></a><span style=\"color: #7f7f7f; text-decoration-color: #7f7f7f\">:1107</span>\n",
       "                    failed with the following error:                                         \n",
       "                    Traceback <span style=\"font-weight: bold\">(</span>most recent call last<span style=\"font-weight: bold\">)</span>:                                       \n",
       "                      File <span style=\"color: #008000; text-decoration-color: #008000\">\"/Users/jill/opt/anaconda3/envs/ddm/lib/python3.8/s</span>               \n",
       "                    <span style=\"color: #008000; text-decoration-color: #008000\">ite-packages/ray/new_dashboard/agent.py\"</span>, line <span style=\"color: #000080; text-decoration-color: #000080; font-weight: bold\">323</span>, in                   \n",
       "                    <span style=\"font-weight: bold\">&lt;</span><span style=\"color: #ff00ff; text-decoration-color: #ff00ff; font-weight: bold\">module</span><span style=\"font-weight: bold\">&gt;</span>                                                                 \n",
       "                        loop.run_until_complete<span style=\"font-weight: bold\">(</span>agent.run<span style=\"font-weight: bold\">())</span>                                 \n",
       "                      File <span style=\"color: #008000; text-decoration-color: #008000\">\"/Users/jill/opt/anaconda3/envs/ddm/lib/python3.8/a</span>               \n",
       "                    <span style=\"color: #008000; text-decoration-color: #008000\">syncio/base_events.py\"</span>, line <span style=\"color: #000080; text-decoration-color: #000080; font-weight: bold\">616</span>, in run_until_complete                  \n",
       "                        return future.result<span style=\"font-weight: bold\">()</span>                                               \n",
       "                      File <span style=\"color: #008000; text-decoration-color: #008000\">\"/Users/jill/opt/anaconda3/envs/ddm/lib/python3.8/s</span>               \n",
       "                    <span style=\"color: #008000; text-decoration-color: #008000\">ite-packages/ray/new_dashboard/agent.py\"</span>, line <span style=\"color: #000080; text-decoration-color: #000080; font-weight: bold\">121</span>, in run               \n",
       "                        self.aioredis_client = await                                         \n",
       "                    dashboard_utils.get_aioredis_client<span style=\"font-weight: bold\">(</span>                                     \n",
       "                      File <span style=\"color: #008000; text-decoration-color: #008000\">\"/Users/jill/opt/anaconda3/envs/ddm/lib/python3.8/s</span>               \n",
       "                    <span style=\"color: #008000; text-decoration-color: #008000\">ite-packages/ray/new_dashboard/utils.py\"</span>, line <span style=\"color: #000080; text-decoration-color: #000080; font-weight: bold\">662</span>, in                   \n",
       "                    get_aioredis_client                                                      \n",
       "                        return await aioredis.create_redis_pool<span style=\"font-weight: bold\">(</span>                             \n",
       "                    AttributeError: module <span style=\"color: #008000; text-decoration-color: #008000\">'aioredis'</span> has no attribute                       \n",
       "                    <span style=\"color: #008000; text-decoration-color: #008000\">'create_redis_pool'</span>                                                      \n",
       "                                                                                             \n",
       "</pre>\n"
      ],
      "text/plain": [
       "<rich.jupyter.JupyterRenderable at 0x7fc8b2f04730>"
      ]
     },
     "metadata": {},
     "output_type": "display_data"
    },
    {
     "name": "stderr",
     "output_type": "stream",
     "text": [
      "\u001b[2m\u001b[33m(raylet)\u001b[0m Traceback (most recent call last):\n",
      "\u001b[2m\u001b[33m(raylet)\u001b[0m   File \"/Users/jill/opt/anaconda3/envs/ddm/lib/python3.8/site-packages/ray/new_dashboard/agent.py\", line 334, in <module>\n",
      "\u001b[2m\u001b[33m(raylet)\u001b[0m     raise e\n",
      "\u001b[2m\u001b[33m(raylet)\u001b[0m   File \"/Users/jill/opt/anaconda3/envs/ddm/lib/python3.8/site-packages/ray/new_dashboard/agent.py\", line 323, in <module>\n",
      "\u001b[2m\u001b[33m(raylet)\u001b[0m     loop.run_until_complete(agent.run())\n",
      "\u001b[2m\u001b[33m(raylet)\u001b[0m   File \"/Users/jill/opt/anaconda3/envs/ddm/lib/python3.8/asyncio/base_events.py\", line 616, in run_until_complete\n",
      "\u001b[2m\u001b[33m(raylet)\u001b[0m     return future.result()\n",
      "\u001b[2m\u001b[33m(raylet)\u001b[0m   File \"/Users/jill/opt/anaconda3/envs/ddm/lib/python3.8/site-packages/ray/new_dashboard/agent.py\", line 121, in run\n",
      "\u001b[2m\u001b[33m(raylet)\u001b[0m     self.aioredis_client = await dashboard_utils.get_aioredis_client(\n",
      "\u001b[2m\u001b[33m(raylet)\u001b[0m   File \"/Users/jill/opt/anaconda3/envs/ddm/lib/python3.8/site-packages/ray/new_dashboard/utils.py\", line 662, in get_aioredis_client\n",
      "\u001b[2m\u001b[33m(raylet)\u001b[0m     return await aioredis.create_redis_pool(\n",
      "\u001b[2m\u001b[33m(raylet)\u001b[0m AttributeError: module 'aioredis' has no attribute 'create_redis_pool'\n",
      "\u001b[2m\u001b[33m(raylet)\u001b[0m Traceback (most recent call last):"
     ]
    },
    {
     "data": {
      "text/html": [
       "<pre style=\"white-space:pre;overflow-x:auto;line-height:normal;font-family:Menlo,'DejaVu Sans Mono',consolas,'Courier New',monospace\"><span style=\"color: #7fbfbf; text-decoration-color: #7fbfbf\">[11:36:31] </span><span style=\"color: #800000; text-decoration-color: #800000\">WARNING </span> The agent on node msuddon-z440.redmond.corp.microsoft.com  <a href=\"file:///Users/jill/opt/anaconda3/envs/ddm/lib/python3.8/site-packages/ray/worker.py\"><span style=\"color: #7f7f7f; text-decoration-color: #7f7f7f\">worker.py</span></a><span style=\"color: #7f7f7f; text-decoration-color: #7f7f7f\">:1107</span>\n",
       "                    failed with the following error:                                         \n",
       "                    Traceback <span style=\"font-weight: bold\">(</span>most recent call last<span style=\"font-weight: bold\">)</span>:                                       \n",
       "                      File <span style=\"color: #008000; text-decoration-color: #008000\">\"/Users/jill/opt/anaconda3/envs/ddm/lib/python3.8/s</span>               \n",
       "                    <span style=\"color: #008000; text-decoration-color: #008000\">ite-packages/ray/new_dashboard/agent.py\"</span>, line <span style=\"color: #000080; text-decoration-color: #000080; font-weight: bold\">323</span>, in                   \n",
       "                    <span style=\"font-weight: bold\">&lt;</span><span style=\"color: #ff00ff; text-decoration-color: #ff00ff; font-weight: bold\">module</span><span style=\"font-weight: bold\">&gt;</span>                                                                 \n",
       "                        loop.run_until_complete<span style=\"font-weight: bold\">(</span>agent.run<span style=\"font-weight: bold\">())</span>                                 \n",
       "                      File <span style=\"color: #008000; text-decoration-color: #008000\">\"/Users/jill/opt/anaconda3/envs/ddm/lib/python3.8/a</span>               \n",
       "                    <span style=\"color: #008000; text-decoration-color: #008000\">syncio/base_events.py\"</span>, line <span style=\"color: #000080; text-decoration-color: #000080; font-weight: bold\">616</span>, in run_until_complete                  \n",
       "                        return future.result<span style=\"font-weight: bold\">()</span>                                               \n",
       "                      File <span style=\"color: #008000; text-decoration-color: #008000\">\"/Users/jill/opt/anaconda3/envs/ddm/lib/python3.8/s</span>               \n",
       "                    <span style=\"color: #008000; text-decoration-color: #008000\">ite-packages/ray/new_dashboard/agent.py\"</span>, line <span style=\"color: #000080; text-decoration-color: #000080; font-weight: bold\">121</span>, in run               \n",
       "                        self.aioredis_client = await                                         \n",
       "                    dashboard_utils.get_aioredis_client<span style=\"font-weight: bold\">(</span>                                     \n",
       "                      File <span style=\"color: #008000; text-decoration-color: #008000\">\"/Users/jill/opt/anaconda3/envs/ddm/lib/python3.8/s</span>               \n",
       "                    <span style=\"color: #008000; text-decoration-color: #008000\">ite-packages/ray/new_dashboard/utils.py\"</span>, line <span style=\"color: #000080; text-decoration-color: #000080; font-weight: bold\">662</span>, in                   \n",
       "                    get_aioredis_client                                                      \n",
       "                        return await aioredis.create_redis_pool<span style=\"font-weight: bold\">(</span>                             \n",
       "                    AttributeError: module <span style=\"color: #008000; text-decoration-color: #008000\">'aioredis'</span> has no attribute                       \n",
       "                    <span style=\"color: #008000; text-decoration-color: #008000\">'create_redis_pool'</span>                                                      \n",
       "                                                                                             \n",
       "</pre>\n"
      ],
      "text/plain": [
       "<rich.jupyter.JupyterRenderable at 0x7fc8b390cca0>"
      ]
     },
     "metadata": {},
     "output_type": "display_data"
    },
    {
     "name": "stderr",
     "output_type": "stream",
     "text": [
      "\n",
      "\u001b[2m\u001b[33m(raylet)\u001b[0m   File \"/Users/jill/opt/anaconda3/envs/ddm/lib/python3.8/site-packages/ray/new_dashboard/agent.py\", line 334, in <module>\n",
      "\u001b[2m\u001b[33m(raylet)\u001b[0m     raise e\n",
      "\u001b[2m\u001b[33m(raylet)\u001b[0m   File \"/Users/jill/opt/anaconda3/envs/ddm/lib/python3.8/site-packages/ray/new_dashboard/agent.py\", line 323, in <module>\n",
      "\u001b[2m\u001b[33m(raylet)\u001b[0m     loop.run_until_complete(agent.run())\n",
      "\u001b[2m\u001b[33m(raylet)\u001b[0m   File \"/Users/jill/opt/anaconda3/envs/ddm/lib/python3.8/asyncio/base_events.py\", line 616, in run_until_complete\n",
      "\u001b[2m\u001b[33m(raylet)\u001b[0m     return future.result()\n",
      "\u001b[2m\u001b[33m(raylet)\u001b[0m   File \"/Users/jill/opt/anaconda3/envs/ddm/lib/python3.8/site-packages/ray/new_dashboard/agent.py\", line 121, in run\n",
      "\u001b[2m\u001b[33m(raylet)\u001b[0m     self.aioredis_client = await dashboard_utils.get_aioredis_client(\n",
      "\u001b[2m\u001b[33m(raylet)\u001b[0m   File \"/Users/jill/opt/anaconda3/envs/ddm/lib/python3.8/site-packages/ray/new_dashboard/utils.py\", line 662, in get_aioredis_client\n",
      "\u001b[2m\u001b[33m(raylet)\u001b[0m     return await aioredis.create_redis_pool(\n",
      "\u001b[2m\u001b[33m(raylet)\u001b[0m AttributeError: module 'aioredis' has no attribute 'create_redis_pool'\n",
      "2021/11/18 11:36:31 WARNING mlflow.sklearn: RegressorMixin.score failed. The 'training_score' metric will not be recorded. Scoring error: 'GaussianProcessRegressor' object has no attribute 'y_train_std_'\n",
      "2021/11/18 11:36:31 WARNING mlflow.sklearn.utils: Failed to autolog metrics for GaussianProcessRegressor. Logging error: 'GaussianProcessRegressor' object has no attribute 'y_train_std_'\n",
      "2021/11/18 11:36:31 WARNING mlflow.sklearn: Failed to infer model signature: 'GaussianProcessRegressor' object has no attribute 'y_train_std_'\n"
     ]
    },
    {
     "data": {
      "text/html": [
       "<pre style=\"white-space:pre;overflow-x:auto;line-height:normal;font-family:Menlo,'DejaVu Sans Mono',consolas,'Courier New',monospace\"><span style=\"color: #7fbfbf; text-decoration-color: #7fbfbf\">           </span><span style=\"color: #800000; text-decoration-color: #800000\">WARNING </span> The `process_trial_result` operation took <span style=\"color: #000080; text-decoration-color: #000080; font-weight: bold\">0.654</span> s, which may  <a href=\"file:///Users/jill/opt/anaconda3/envs/ddm/lib/python3.8/site-packages/ray/tune/utils/util.py\"><span style=\"color: #7f7f7f; text-decoration-color: #7f7f7f\">util.py</span></a><span style=\"color: #7f7f7f; text-decoration-color: #7f7f7f\">:151</span>\n",
       "                    be a performance bottleneck.                                             \n",
       "</pre>\n"
      ],
      "text/plain": [
       "<rich.jupyter.JupyterRenderable at 0x7fc8b2fcc940>"
      ]
     },
     "metadata": {},
     "output_type": "display_data"
    },
    {
     "data": {
      "text/html": [
       "<pre style=\"white-space:pre;overflow-x:auto;line-height:normal;font-family:Menlo,'DejaVu Sans Mono',consolas,'Courier New',monospace\"><span style=\"color: #7fbfbf; text-decoration-color: #7fbfbf\">           </span><span style=\"color: #800000; text-decoration-color: #800000\">WARNING </span> Processing trial results took <span style=\"color: #000080; text-decoration-color: #000080; font-weight: bold\">0.657</span> s, which may be a         <a href=\"file:///Users/jill/opt/anaconda3/envs/ddm/lib/python3.8/site-packages/ray/tune/utils/util.py\"><span style=\"color: #7f7f7f; text-decoration-color: #7f7f7f\">util.py</span></a><span style=\"color: #7f7f7f; text-decoration-color: #7f7f7f\">:151</span>\n",
       "                    performance bottleneck. Please consider reporting results                \n",
       "                    less frequently to Ray Tune.                                             \n",
       "</pre>\n"
      ],
      "text/plain": [
       "<rich.jupyter.JupyterRenderable at 0x7fc8b2fccbe0>"
      ]
     },
     "metadata": {},
     "output_type": "display_data"
    },
    {
     "data": {
      "text/html": [
       "<pre style=\"white-space:pre;overflow-x:auto;line-height:normal;font-family:Menlo,'DejaVu Sans Mono',consolas,'Courier New',monospace\"><span style=\"color: #7fbfbf; text-decoration-color: #7fbfbf\">           </span><span style=\"color: #800000; text-decoration-color: #800000\">WARNING </span> The `process_trial` operation took <span style=\"color: #000080; text-decoration-color: #000080; font-weight: bold\">0.660</span> s, which may be a    <a href=\"file:///Users/jill/opt/anaconda3/envs/ddm/lib/python3.8/site-packages/ray/tune/utils/util.py\"><span style=\"color: #7f7f7f; text-decoration-color: #7f7f7f\">util.py</span></a><span style=\"color: #7f7f7f; text-decoration-color: #7f7f7f\">:151</span>\n",
       "                    performance bottleneck.                                                  \n",
       "</pre>\n"
      ],
      "text/plain": [
       "<rich.jupyter.JupyterRenderable at 0x7fc8b2db3ca0>"
      ]
     },
     "metadata": {},
     "output_type": "display_data"
    },
    {
     "data": {
      "text/html": [
       "<pre style=\"white-space:pre;overflow-x:auto;line-height:normal;font-family:Menlo,'DejaVu Sans Mono',consolas,'Courier New',monospace\"><span style=\"color: #7fbfbf; text-decoration-color: #7fbfbf\">[11:36:32] </span><span style=\"color: #800000; text-decoration-color: #800000\">WARNING </span> Trial Runner checkpointing failed: cannot pickle      <a href=\"file:///Users/jill/opt/anaconda3/envs/ddm/lib/python3.8/site-packages/ray/tune/trial_runner.py\"><span style=\"color: #7f7f7f; text-decoration-color: #7f7f7f\">trial_runner.py</span></a><span style=\"color: #7f7f7f; text-decoration-color: #7f7f7f\">:420</span>\n",
       "                    <span style=\"color: #008000; text-decoration-color: #008000\">'dict_values'</span> object                                                     \n",
       "</pre>\n"
      ],
      "text/plain": [
       "<rich.jupyter.JupyterRenderable at 0x7fc8b2dc7250>"
      ]
     },
     "metadata": {},
     "output_type": "display_data"
    },
    {
     "name": "stderr",
     "output_type": "stream",
     "text": [
      "2021/11/18 11:36:32 WARNING mlflow.sklearn: RegressorMixin.score failed. The 'training_score' metric will not be recorded. Scoring error: 'GaussianProcessRegressor' object has no attribute 'y_train_std_'\n",
      "2021/11/18 11:36:32 WARNING mlflow.sklearn.utils: Failed to autolog metrics for GaussianProcessRegressor. Logging error: 'GaussianProcessRegressor' object has no attribute 'y_train_std_'\n",
      "2021/11/18 11:36:32 WARNING mlflow.sklearn: Failed to infer model signature: 'GaussianProcessRegressor' object has no attribute 'y_train_std_'\n",
      "2021/11/18 11:36:32 WARNING mlflow.sklearn: RegressorMixin.score failed. The 'training_score' metric will not be recorded. Scoring error: 'GaussianProcessRegressor' object has no attribute 'y_train_std_'\n",
      "2021/11/18 11:36:32 WARNING mlflow.sklearn.utils: Failed to autolog metrics for GaussianProcessRegressor. Logging error: 'GaussianProcessRegressor' object has no attribute 'y_train_std_'\n",
      "2021/11/18 11:36:32 WARNING mlflow.sklearn: Failed to infer model signature: 'GaussianProcessRegressor' object has no attribute 'y_train_std_'\n"
     ]
    },
    {
     "data": {
      "text/html": [
       "<pre style=\"white-space:pre;overflow-x:auto;line-height:normal;font-family:Menlo,'DejaVu Sans Mono',consolas,'Courier New',monospace\"><span style=\"color: #7fbfbf; text-decoration-color: #7fbfbf\">[11:36:33] </span><span style=\"color: #800000; text-decoration-color: #800000\">WARNING </span> The `process_trial_result` operation took <span style=\"color: #000080; text-decoration-color: #000080; font-weight: bold\">0.516</span> s, which may  <a href=\"file:///Users/jill/opt/anaconda3/envs/ddm/lib/python3.8/site-packages/ray/tune/utils/util.py\"><span style=\"color: #7f7f7f; text-decoration-color: #7f7f7f\">util.py</span></a><span style=\"color: #7f7f7f; text-decoration-color: #7f7f7f\">:151</span>\n",
       "                    be a performance bottleneck.                                             \n",
       "</pre>\n"
      ],
      "text/plain": [
       "<rich.jupyter.JupyterRenderable at 0x7fc8b2f2bfa0>"
      ]
     },
     "metadata": {},
     "output_type": "display_data"
    },
    {
     "data": {
      "text/html": [
       "<pre style=\"white-space:pre;overflow-x:auto;line-height:normal;font-family:Menlo,'DejaVu Sans Mono',consolas,'Courier New',monospace\"><span style=\"color: #7fbfbf; text-decoration-color: #7fbfbf\">           </span><span style=\"color: #800000; text-decoration-color: #800000\">WARNING </span> Processing trial results took <span style=\"color: #000080; text-decoration-color: #000080; font-weight: bold\">0.518</span> s, which may be a         <a href=\"file:///Users/jill/opt/anaconda3/envs/ddm/lib/python3.8/site-packages/ray/tune/utils/util.py\"><span style=\"color: #7f7f7f; text-decoration-color: #7f7f7f\">util.py</span></a><span style=\"color: #7f7f7f; text-decoration-color: #7f7f7f\">:151</span>\n",
       "                    performance bottleneck. Please consider reporting results                \n",
       "                    less frequently to Ray Tune.                                             \n",
       "</pre>\n"
      ],
      "text/plain": [
       "<rich.jupyter.JupyterRenderable at 0x7fc8b2f5bd60>"
      ]
     },
     "metadata": {},
     "output_type": "display_data"
    },
    {
     "data": {
      "text/html": [
       "<pre style=\"white-space:pre;overflow-x:auto;line-height:normal;font-family:Menlo,'DejaVu Sans Mono',consolas,'Courier New',monospace\"><span style=\"color: #7fbfbf; text-decoration-color: #7fbfbf\">           </span><span style=\"color: #800000; text-decoration-color: #800000\">WARNING </span> The `process_trial` operation took <span style=\"color: #000080; text-decoration-color: #000080; font-weight: bold\">0.521</span> s, which may be a    <a href=\"file:///Users/jill/opt/anaconda3/envs/ddm/lib/python3.8/site-packages/ray/tune/utils/util.py\"><span style=\"color: #7f7f7f; text-decoration-color: #7f7f7f\">util.py</span></a><span style=\"color: #7f7f7f; text-decoration-color: #7f7f7f\">:151</span>\n",
       "                    performance bottleneck.                                                  \n",
       "</pre>\n"
      ],
      "text/plain": [
       "<rich.jupyter.JupyterRenderable at 0x7fc8b2edbee0>"
      ]
     },
     "metadata": {},
     "output_type": "display_data"
    },
    {
     "data": {
      "text/html": [
       "<pre style=\"white-space:pre;overflow-x:auto;line-height:normal;font-family:Menlo,'DejaVu Sans Mono',consolas,'Courier New',monospace\"><span style=\"color: #7fbfbf; text-decoration-color: #7fbfbf\">           </span><span style=\"color: #800000; text-decoration-color: #800000\">WARNING </span> Trial Runner checkpointing failed: cannot pickle              <a href=\"file:///Users/jill/opt/anaconda3/envs/ddm/lib/python3.8/site-packages/ray/tune/tune.py\"><span style=\"color: #7f7f7f; text-decoration-color: #7f7f7f\">tune.py</span></a><span style=\"color: #7f7f7f; text-decoration-color: #7f7f7f\">:429</span>\n",
       "                    <span style=\"color: #008000; text-decoration-color: #008000\">'dict_values'</span> object                                                     \n",
       "</pre>\n"
      ],
      "text/plain": [
       "<rich.jupyter.JupyterRenderable at 0x7fc8b2edbee0>"
      ]
     },
     "metadata": {},
     "output_type": "display_data"
    },
    {
     "name": "stderr",
     "output_type": "stream",
     "text": [
      "2021/11/18 11:36:33 WARNING mlflow.sklearn.utils: Truncated the value of the key `estimator`. Truncated value: `XGBRegressor(base_score=None, booster=None, colsample_bylevel=None,\n",
      "             colsample_bynode=None, colsample_bytree=None, eta=0.3, gamma=0.5,\n",
      "             gpu_id=None, importance_type='gain', interaction_constraints=None,\n",
      "             learnin...`\n"
     ]
    },
    {
     "data": {
      "text/html": [
       "<pre style=\"white-space:pre;overflow-x:auto;line-height:normal;font-family:Menlo,'DejaVu Sans Mono',consolas,'Courier New',monospace\"><span style=\"color: #7fbfbf; text-decoration-color: #7fbfbf\">           </span><span style=\"color: #800000; text-decoration-color: #800000\">WARNING </span> The agent on node msuddon-z440.redmond.corp.microsoft.com  <a href=\"file:///Users/jill/opt/anaconda3/envs/ddm/lib/python3.8/site-packages/ray/worker.py\"><span style=\"color: #7f7f7f; text-decoration-color: #7f7f7f\">worker.py</span></a><span style=\"color: #7f7f7f; text-decoration-color: #7f7f7f\">:1107</span>\n",
       "                    failed with the following error:                                         \n",
       "                    Traceback <span style=\"font-weight: bold\">(</span>most recent call last<span style=\"font-weight: bold\">)</span>:                                       \n",
       "                      File <span style=\"color: #008000; text-decoration-color: #008000\">\"/Users/jill/opt/anaconda3/envs/ddm/lib/python3.8/s</span>               \n",
       "                    <span style=\"color: #008000; text-decoration-color: #008000\">ite-packages/ray/new_dashboard/agent.py\"</span>, line <span style=\"color: #000080; text-decoration-color: #000080; font-weight: bold\">323</span>, in                   \n",
       "                    <span style=\"font-weight: bold\">&lt;</span><span style=\"color: #ff00ff; text-decoration-color: #ff00ff; font-weight: bold\">module</span><span style=\"font-weight: bold\">&gt;</span>                                                                 \n",
       "                        loop.run_until_complete<span style=\"font-weight: bold\">(</span>agent.run<span style=\"font-weight: bold\">())</span>                                 \n",
       "                      File <span style=\"color: #008000; text-decoration-color: #008000\">\"/Users/jill/opt/anaconda3/envs/ddm/lib/python3.8/a</span>               \n",
       "                    <span style=\"color: #008000; text-decoration-color: #008000\">syncio/base_events.py\"</span>, line <span style=\"color: #000080; text-decoration-color: #000080; font-weight: bold\">616</span>, in run_until_complete                  \n",
       "                        return future.result<span style=\"font-weight: bold\">()</span>                                               \n",
       "                      File <span style=\"color: #008000; text-decoration-color: #008000\">\"/Users/jill/opt/anaconda3/envs/ddm/lib/python3.8/s</span>               \n",
       "                    <span style=\"color: #008000; text-decoration-color: #008000\">ite-packages/ray/new_dashboard/agent.py\"</span>, line <span style=\"color: #000080; text-decoration-color: #000080; font-weight: bold\">121</span>, in run               \n",
       "                        self.aioredis_client = await                                         \n",
       "                    dashboard_utils.get_aioredis_client<span style=\"font-weight: bold\">(</span>                                     \n",
       "                      File <span style=\"color: #008000; text-decoration-color: #008000\">\"/Users/jill/opt/anaconda3/envs/ddm/lib/python3.8/s</span>               \n",
       "                    <span style=\"color: #008000; text-decoration-color: #008000\">ite-packages/ray/new_dashboard/utils.py\"</span>, line <span style=\"color: #000080; text-decoration-color: #000080; font-weight: bold\">662</span>, in                   \n",
       "                    get_aioredis_client                                                      \n",
       "                        return await aioredis.create_redis_pool<span style=\"font-weight: bold\">(</span>                             \n",
       "                    AttributeError: module <span style=\"color: #008000; text-decoration-color: #008000\">'aioredis'</span> has no attribute                       \n",
       "                    <span style=\"color: #008000; text-decoration-color: #008000\">'create_redis_pool'</span>                                                      \n",
       "                                                                                             \n",
       "</pre>\n"
      ],
      "text/plain": [
       "<rich.jupyter.JupyterRenderable at 0x7fc8b2fb3eb0>"
      ]
     },
     "metadata": {},
     "output_type": "display_data"
    },
    {
     "name": "stderr",
     "output_type": "stream",
     "text": [
      "\u001b[2m\u001b[33m(raylet)\u001b[0m Traceback (most recent call last):\n",
      "\u001b[2m\u001b[33m(raylet)\u001b[0m   File \"/Users/jill/opt/anaconda3/envs/ddm/lib/python3.8/site-packages/ray/new_dashboard/agent.py\", line 334, in <module>\n",
      "\u001b[2m\u001b[33m(raylet)\u001b[0m     raise e\n",
      "\u001b[2m\u001b[33m(raylet)\u001b[0m   File \"/Users/jill/opt/anaconda3/envs/ddm/lib/python3.8/site-packages/ray/new_dashboard/agent.py\", line 323, in <module>\n",
      "\u001b[2m\u001b[33m(raylet)\u001b[0m     loop.run_until_complete(agent.run())\n",
      "\u001b[2m\u001b[33m(raylet)\u001b[0m   File \"/Users/jill/opt/anaconda3/envs/ddm/lib/python3.8/asyncio/base_events.py\", line 616, in run_until_complete\n",
      "\u001b[2m\u001b[33m(raylet)\u001b[0m     return future.result()\n",
      "\u001b[2m\u001b[33m(raylet)\u001b[0m   File \"/Users/jill/opt/anaconda3/envs/ddm/lib/python3.8/site-packages/ray/new_dashboard/agent.py\", line 121, in run\n",
      "\u001b[2m\u001b[33m(raylet)\u001b[0m     self.aioredis_client = await dashboard_utils.get_aioredis_client(\n",
      "\u001b[2m\u001b[33m(raylet)\u001b[0m   File \"/Users/jill/opt/anaconda3/envs/ddm/lib/python3.8/site-packages/ray/new_dashboard/utils.py\", line 662, in get_aioredis_client\n",
      "\u001b[2m\u001b[33m(raylet)\u001b[0m     return await aioredis.create_redis_pool(\n",
      "\u001b[2m\u001b[33m(raylet)\u001b[0m AttributeError: module 'aioredis' has no attribute 'create_redis_pool'\n"
     ]
    },
    {
     "data": {
      "text/html": [
       "<pre style=\"white-space:pre;overflow-x:auto;line-height:normal;font-family:Menlo,'DejaVu Sans Mono',consolas,'Courier New',monospace\"><span style=\"color: #7fbfbf; text-decoration-color: #7fbfbf\">[11:36:35] </span><span style=\"color: #000080; text-decoration-color: #000080\">INFO    </span> Saving sweeping results to                                    <a href=\"file:///Users/jill/bonsai/datadrivenmodel/base.py\"><span style=\"color: #7f7f7f; text-decoration-color: #7f7f7f\">base.py</span></a><span style=\"color: #7f7f7f; text-decoration-color: #7f7f7f\">:653</span>\n",
       "                    xgboost_gridsearch/search_results.csv                                    \n",
       "</pre>\n"
      ],
      "text/plain": [
       "<rich.jupyter.JupyterRenderable at 0x7fc8b1119370>"
      ]
     },
     "metadata": {},
     "output_type": "display_data"
    },
    {
     "data": {
      "text/html": [
       "<pre style=\"white-space:pre;overflow-x:auto;line-height:normal;font-family:Menlo,'DejaVu Sans Mono',consolas,'Courier New',monospace\"><span style=\"color: #7fbfbf; text-decoration-color: #7fbfbf\">           </span><span style=\"color: #000080; text-decoration-color: #000080\">INFO    </span> Best hyperparams: <span style=\"font-weight: bold\">{</span><span style=\"color: #008000; text-decoration-color: #008000\">'estimator__max_depth'</span>: <span style=\"color: #000080; text-decoration-color: #000080; font-weight: bold\">3</span>,                 <a href=\"file:///Users/jill/bonsai/datadrivenmodel/base.py\"><span style=\"color: #7f7f7f; text-decoration-color: #7f7f7f\">base.py</span></a><span style=\"color: #7f7f7f; text-decoration-color: #7f7f7f\">:655</span>\n",
       "                    <span style=\"color: #008000; text-decoration-color: #008000\">'estimator__gamma'</span>: <span style=\"color: #000080; text-decoration-color: #000080; font-weight: bold\">0.5</span>, <span style=\"color: #008000; text-decoration-color: #008000\">'estimator__subsample'</span>: <span style=\"color: #000080; text-decoration-color: #000080; font-weight: bold\">1.0</span>,                    \n",
       "                    <span style=\"color: #008000; text-decoration-color: #008000\">'estimator__eta'</span>: <span style=\"color: #000080; text-decoration-color: #000080; font-weight: bold\">0.3</span><span style=\"font-weight: bold\">}</span>                                                   \n",
       "</pre>\n"
      ],
      "text/plain": [
       "<rich.jupyter.JupyterRenderable at 0x7fc8b13fdac0>"
      ]
     },
     "metadata": {},
     "output_type": "display_data"
    },
    {
     "data": {
      "text/html": [
       "<pre style=\"white-space:pre;overflow-x:auto;line-height:normal;font-family:Menlo,'DejaVu Sans Mono',consolas,'Courier New',monospace\"><span style=\"color: #7fbfbf; text-decoration-color: #7fbfbf\">           </span><span style=\"color: #000080; text-decoration-color: #000080\">INFO    </span> Best score: <span style=\"color: #000080; text-decoration-color: #000080; font-weight: bold\">0.9859108245267872</span>                                <a href=\"file:///Users/jill/bonsai/datadrivenmodel/base.py\"><span style=\"color: #7f7f7f; text-decoration-color: #7f7f7f\">base.py</span></a><span style=\"color: #7f7f7f; text-decoration-color: #7f7f7f\">:656</span>\n",
       "</pre>\n"
      ],
      "text/plain": [
       "<rich.jupyter.JupyterRenderable at 0x7fc8b2f6d9a0>"
      ]
     },
     "metadata": {},
     "output_type": "display_data"
    }
   ],
   "source": [
    "params = OmegaConf.to_container(cfg[\"model\"][\"sweep\"][\"params\"])\n",
    "logger.info(f\"Sweeping with parameters: {params}\")\n",
    "\n",
    "sweep_df = model.sweep(\n",
    "    params=params,\n",
    "    X=X_train,\n",
    "    y=y_train,\n",
    "    search_algorithm=cfg[\"model\"][\"sweep\"][\"search_algorithm\"],\n",
    "    num_trials=cfg[\"model\"][\"sweep\"][\"num_trials\"],\n",
    "    scoring_func=cfg[\"model\"][\"sweep\"][\"scoring_func\"],\n",
    "    results_csv_path=cfg[\"model\"][\"sweep\"][\"results_csv_path\"],\n",
    ")    "
   ]
  },
  {
   "cell_type": "code",
   "execution_count": null,
   "metadata": {},
   "outputs": [],
   "source": [
    "sweep_df.head()"
   ]
  },
  {
   "cell_type": "markdown",
   "metadata": {},
   "source": [
    "## Results and Outputs\n",
    "\n",
    "All outputs are saved to a timestamped directory in `outputs`. This includes the model artifacts, hyperparameter tuning results, and a verbose log of the entire run."
   ]
  },
  {
   "cell_type": "code",
   "execution_count": null,
   "metadata": {},
   "outputs": [],
   "source": [
    "ls -lh outputs/"
   ]
  },
  {
   "cell_type": "code",
   "execution_count": null,
   "metadata": {},
   "outputs": [],
   "source": [
    "!tree -L 3 outputs/2021-04-21/"
   ]
  },
  {
   "cell_type": "markdown",
   "metadata": {},
   "source": [
    "### Visualizing Hyperparameter Results"
   ]
  },
  {
   "cell_type": "code",
   "execution_count": null,
   "metadata": {},
   "outputs": [],
   "source": [
    "plot_parallel_coords(sweep_df)"
   ]
  },
  {
   "cell_type": "markdown",
   "metadata": {},
   "source": [
    "### Reading Saved Runs from CSV\n",
    "\n",
    "Runs are automatically saved to a CSV in the outputs directory:"
   ]
  },
  {
   "cell_type": "code",
   "execution_count": null,
   "metadata": {},
   "outputs": [],
   "source": [
    "sweep_df2 = pd.read_csv(\"outputs/2021-04-21/10-29-25/xgboost_gridsearch/search_results.csv\")"
   ]
  },
  {
   "cell_type": "code",
   "execution_count": null,
   "metadata": {},
   "outputs": [],
   "source": [
    "plot_parallel_coords(sweep_df2)"
   ]
  }
 ],
 "metadata": {
  "kernelspec": {
   "display_name": "Python 3 (ipykernel)",
   "language": "python",
   "name": "python3"
  },
  "language_info": {
   "codemirror_mode": {
    "name": "ipython",
    "version": 3
   },
   "file_extension": ".py",
   "mimetype": "text/x-python",
   "name": "python",
   "nbconvert_exporter": "python",
   "pygments_lexer": "ipython3",
   "version": "3.8.11"
  }
 },
 "nbformat": 4,
 "nbformat_minor": 4
}
