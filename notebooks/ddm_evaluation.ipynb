{
 "cells": [
  {
   "cell_type": "markdown",
   "id": "d007360a",
   "metadata": {},
   "source": [
    "# DDM: Model Validation\n",
    "\n",
    "This notebook provides an overview of the tools built in the DDM for extracting predictions from your trained DDM and for evauating the performance of the DDM.\n",
    "\n",
    "---\n",
    "\n",
    "We utilize `hydra` to save the configuration of our datasets and our models. The default configuration is in the `conf/config.yaml` directory:\n",
    "\n",
    "```YAML\n",
    "defaults:\n",
    "  - data: cartpole_st1_at.yaml\n",
    "  - model: SVR.yaml\n",
    "  - simulator: gboost_cartpole.yaml\n",
    "```\n",
    "\n",
    "Note that the configuration file points to three additional configuration files for each component: the data, the model, and the simulator.\n",
    "\n",
    "While the configuration file already has default values specified you can override any element of the configuration file using the `overrides` option. For example, we override the data configuration to instead use the `yaml` file specified in `data/cartpole-st_at.yaml` and the model configuration to use the `yaml` file specified in `model/xgboost.yaml`.\n"
   ]
  },
  {
   "cell_type": "code",
   "execution_count": 1,
   "id": "f3e71662",
   "metadata": {},
   "outputs": [
    {
     "name": "stdout",
     "output_type": "stream",
     "text": [
      "C:\\Users\\JOMCDOWE\\OneDrive - Microsoft\\Documents\\bonsai\\preview-repos\\datadrivenmodel\n"
     ]
    }
   ],
   "source": [
    "cd .."
   ]
  },
  {
   "cell_type": "code",
   "execution_count": 2,
   "id": "f4861ddb",
   "metadata": {},
   "outputs": [],
   "source": [
    "from hydra.experimental import initialize, compose\n",
    "from model_loader import available_models\n",
    "import logging\n",
    "import matplotlib.pyplot as plt\n",
    "import numpy as np\n",
    "from rich import print\n",
    "from rich.logging import RichHandler\n",
    "import copy\n",
    "\n",
    "logging.basicConfig(\n",
    "    level=logging.INFO,\n",
    "    format=\"%(message)s\",\n",
    "    datefmt=\"[%X]\",\n",
    "    handlers=[RichHandler()]\n",
    ")\n",
    "logger = logging.getLogger(\"ddm_validation\")\n",
    "logger.setLevel(logging.INFO)"
   ]
  },
  {
   "cell_type": "code",
   "execution_count": 3,
   "id": "32b1a0e7",
   "metadata": {},
   "outputs": [
    {
     "name": "stderr",
     "output_type": "stream",
     "text": [
      "C:\\Users\\JOMCDOWE\\Miniconda3\\envs\\ddm\\lib\\site-packages\\hydra\\plugins\\config_source.py:190: UserWarning: \n",
      "Missing @package directive data/quanser-rand.yaml in file://C:\\Users\\JOMCDOWE\\OneDrive - Microsoft\\Documents\\bonsai\\preview-repos\\datadrivenmodel\\conf.\n",
      "See https://hydra.cc/docs/next/upgrades/0.11_to_1.0/adding_a_package_directive\n",
      "  warnings.warn(message=msg, category=UserWarning)\n",
      "C:\\Users\\JOMCDOWE\\Miniconda3\\envs\\ddm\\lib\\site-packages\\hydra\\plugins\\config_source.py:190: UserWarning: \n",
      "Missing @package directive model/xgboost.yaml in file://C:\\Users\\JOMCDOWE\\OneDrive - Microsoft\\Documents\\bonsai\\preview-repos\\datadrivenmodel\\conf.\n",
      "See https://hydra.cc/docs/next/upgrades/0.11_to_1.0/adding_a_package_directive\n",
      "  warnings.warn(message=msg, category=UserWarning)\n",
      "C:\\Users\\JOMCDOWE\\Miniconda3\\envs\\ddm\\lib\\site-packages\\hydra\\plugins\\config_source.py:190: UserWarning: \n",
      "Missing @package directive simulator/quanser-log.yaml in file://C:\\Users\\JOMCDOWE\\OneDrive - Microsoft\\Documents\\bonsai\\preview-repos\\datadrivenmodel\\conf.\n",
      "See https://hydra.cc/docs/next/upgrades/0.11_to_1.0/adding_a_package_directive\n",
      "  warnings.warn(message=msg, category=UserWarning)\n"
     ]
    }
   ],
   "source": [
    "initialize(config_path=\"../conf\", job_name=\"model_validation\")\n",
    "cfg = compose(config_name=\"config\", overrides=[\"data=quanser-rand\", \"model=xgboost\"])"
   ]
  },
  {
   "cell_type": "markdown",
   "id": "64545593",
   "metadata": {},
   "source": [
    "## 1. Importing the Dataset"
   ]
  },
  {
   "cell_type": "code",
   "execution_count": 4,
   "id": "2bb4bd87",
   "metadata": {},
   "outputs": [
    {
     "data": {
      "text/plain": [
       "{'path': 'csv_data/quanser-mixed-full-ep.csv', 'full_or_relative': 'relative', 'inputs': ['state_theta', 'state_alpha', 'state_theta_dot', 'state_alpha_dot', 'action_Vm'], 'outputs': ['state_theta', 'state_alpha', 'state_theta_dot', 'state_alpha_dot'], 'augmented_cols': [], 'iteration_order': -1, 'episode_col': 'episode', 'iteration_col': 'iteration', 'max_rows': -1, 'scale_data': False, 'diff_state': False, 'test_perc': 0.25}"
      ]
     },
     "execution_count": 4,
     "metadata": {},
     "output_type": "execute_result"
    }
   ],
   "source": [
    "cfg[\"data\"]"
   ]
  },
  {
   "cell_type": "code",
   "execution_count": 5,
   "id": "af5ea817",
   "metadata": {},
   "outputs": [
    {
     "data": {
      "text/plain": [
       "{'name': 'xgboost', 'build_params': {'model_type': 'xgboost', 'fit_separate': False, 'halt_model': False, 'n_estimators': 100, 'objective': 'reg:squarederror', 'learning_rate': 0.3, 'scale_data': True, 'max_depth': 6}, 'saver': {'filename': 'models/xgboost_models/quanser'}, 'sweep': {'run': False, 'split_strategy': 'timeseries', 'search_algorithm': 'bayesian', 'num_trials': 15, 'scoring_func': 'r2', 'early_stopping': False, 'results_csv_path': 'xgboost_gridsearch/search_results.csv', 'params': {'estimator__max_depth': [1, 3, 5, 10], 'estimator__gamma': [0, 0.5, 1, 5], 'estimator__subsample': [0.1, 0.5, 1], 'estimator__eta': [0.3, 0.1, 0.5]}}}"
      ]
     },
     "execution_count": 5,
     "metadata": {},
     "output_type": "execute_result"
    }
   ],
   "source": [
    "cfg[\"model\"]"
   ]
  },
  {
   "cell_type": "code",
   "execution_count": 6,
   "id": "0492df0e",
   "metadata": {},
   "outputs": [],
   "source": [
    "# Extract features from yaml file\n",
    "input_cols = cfg['data']['inputs']\n",
    "output_cols = cfg['data']['outputs']\n",
    "augmented_cols = cfg['data']['augmented_cols']\n",
    "dataset_path = cfg['data']['path']\n",
    "iteration_order = cfg['data']['iteration_order']\n",
    "episode_col = cfg['data']['episode_col']\n",
    "iteration_col = cfg['data']['iteration_col']\n",
    "max_rows = cfg['data']['max_rows']"
   ]
  },
  {
   "cell_type": "code",
   "execution_count": 7,
   "id": "b30784b2",
   "metadata": {},
   "outputs": [
    {
     "data": {
      "text/html": [
       "<pre style=\"white-space:pre;overflow-x:auto;line-height:normal;font-family:Menlo,'DejaVu Sans Mono',consolas,'Courier New',monospace\">DATA STRUCTURE SELECTED:\n",
       "</pre>\n"
      ],
      "text/plain": [
       "<rich.jupyter.JupyterRenderable at 0x236b9f35248>"
      ]
     },
     "metadata": {},
     "output_type": "display_data"
    },
    {
     "data": {
      "text/html": [
       "<pre style=\"white-space:pre;overflow-x:auto;line-height:normal;font-family:Menlo,'DejaVu Sans Mono',consolas,'Courier New',monospace\"> - input_cols: <span style=\"font-weight: bold\">[</span><span style=\"color: #008000; text-decoration-color: #008000\">'state_theta'</span>, <span style=\"color: #008000; text-decoration-color: #008000\">'state_alpha'</span>, <span style=\"color: #008000; text-decoration-color: #008000\">'state_theta_dot'</span>, <span style=\"color: #008000; text-decoration-color: #008000\">'state_alpha_dot'</span>, \n",
       "<span style=\"color: #008000; text-decoration-color: #008000\">'action_Vm'</span><span style=\"font-weight: bold\">]</span>\n",
       "</pre>\n"
      ],
      "text/plain": [
       "<rich.jupyter.JupyterRenderable at 0x236ce445388>"
      ]
     },
     "metadata": {},
     "output_type": "display_data"
    },
    {
     "data": {
      "text/html": [
       "<pre style=\"white-space:pre;overflow-x:auto;line-height:normal;font-family:Menlo,'DejaVu Sans Mono',consolas,'Courier New',monospace\"> - augmented_cols: <span style=\"font-weight: bold\">[]</span>\n",
       "</pre>\n"
      ],
      "text/plain": [
       "<rich.jupyter.JupyterRenderable at 0x236ce3bae48>"
      ]
     },
     "metadata": {},
     "output_type": "display_data"
    },
    {
     "data": {
      "text/html": [
       "<pre style=\"white-space:pre;overflow-x:auto;line-height:normal;font-family:Menlo,'DejaVu Sans Mono',consolas,'Courier New',monospace\"> - output_cols: <span style=\"font-weight: bold\">[</span><span style=\"color: #008000; text-decoration-color: #008000\">'state_theta'</span>, <span style=\"color: #008000; text-decoration-color: #008000\">'state_alpha'</span>, <span style=\"color: #008000; text-decoration-color: #008000\">'state_theta_dot'</span>, <span style=\"color: #008000; text-decoration-color: #008000\">'state_alpha_dot'</span><span style=\"font-weight: bold\">]</span>\n",
       "</pre>\n"
      ],
      "text/plain": [
       "<rich.jupyter.JupyterRenderable at 0x236ce3bae48>"
      ]
     },
     "metadata": {},
     "output_type": "display_data"
    }
   ],
   "source": [
    "print(\"DATA STRUCTURE SELECTED:\")\n",
    "print(\" - input_cols:\", input_cols)\n",
    "print(\" - augmented_cols:\", augmented_cols)\n",
    "print(\" - output_cols:\", output_cols)"
   ]
  },
  {
   "cell_type": "markdown",
   "id": "e8b44a0a",
   "metadata": {},
   "source": [
    "##  2. Model Definition\n",
    "\n",
    "The `available_models` dictionary provides wrappers for the available models in this repository. We utilize `cfg[\"model\"]` to load and build the model specified in the `model.yaml` file.\n",
    "\n",
    "### Training Hyperparameters\n",
    "\n",
    "Every model has its own hyperparameters, specified through the `cfg[\"model\"][\"build_params\"]` dictionary, which can be modified directly in the dictionary below or through the `hydra` overrides."
   ]
  },
  {
   "cell_type": "code",
   "execution_count": 8,
   "id": "eb8bd8f4",
   "metadata": {},
   "outputs": [
    {
     "data": {
      "text/plain": [
       "{'model_type': 'xgboost', 'fit_separate': False, 'halt_model': False, 'n_estimators': 100, 'objective': 'reg:squarederror', 'learning_rate': 0.3, 'scale_data': True, 'max_depth': 6}"
      ]
     },
     "execution_count": 8,
     "metadata": {},
     "output_type": "execute_result"
    }
   ],
   "source": [
    "cfg[\"model\"][\"build_params\"]"
   ]
  },
  {
   "cell_type": "markdown",
   "id": "3ceedbe6",
   "metadata": {},
   "source": [
    "## 3. Train the Model"
   ]
  },
  {
   "cell_type": "code",
   "execution_count": 9,
   "id": "5656f656",
   "metadata": {},
   "outputs": [],
   "source": [
    "def train_models(config=cfg):\n",
    "\n",
    "    logger.info(f'Model type: {available_models[config[\"model\"][\"name\"]]}')\n",
    "    Model = available_models[config[\"model\"][\"name\"]]\n",
    "    model = Model()\n",
    "    logger.info(f\"Building model with parameters: {config}\")\n",
    "    model.build_model(\n",
    "        **config[\"model\"][\"build_params\"]\n",
    "    )\n",
    "    logger.info(f\"Loading data from {dataset_path}\")\n",
    "    global X, y\n",
    "    X, y = model.load_csv(\n",
    "        input_cols=input_cols,\n",
    "        output_cols=output_cols,\n",
    "        augm_cols=list(augmented_cols),\n",
    "        dataset_path=dataset_path,\n",
    "        iteration_order=iteration_order,\n",
    "        episode_col=episode_col,\n",
    "        iteration_col=iteration_col,\n",
    "        max_rows=max_rows,\n",
    "    )\n",
    "\n",
    "    logger.info(f\"Fitting model...\")\n",
    "    model.fit(X, y)\n",
    "    logger.info(f\"Model trained!\")\n",
    "\n",
    "    return model"
   ]
  },
  {
   "cell_type": "code",
   "execution_count": 10,
   "id": "c4b772a1",
   "metadata": {},
   "outputs": [
    {
     "data": {
      "text/html": [
       "<pre style=\"white-space:pre;overflow-x:auto;line-height:normal;font-family:Menlo,'DejaVu Sans Mono',consolas,'Courier New',monospace\"><span style=\"color: #7fbfbf; text-decoration-color: #7fbfbf\">[12:42:30] </span><span style=\"color: #000080; text-decoration-color: #000080\">INFO    </span> Model type: <span style=\"font-weight: bold\">&lt;</span><span style=\"color: #ff00ff; text-decoration-color: #ff00ff; font-weight: bold\">class</span><span style=\"color: #000000; text-decoration-color: #000000\"> </span>                      <a href=\"file://<ipython-input-9-dbcfe859c28b>\"><span style=\"color: #7f7f7f; text-decoration-color: #7f7f7f\">&lt;ipython-input-9-dbcfe859c28b&gt;</span></a><span style=\"color: #7f7f7f; text-decoration-color: #7f7f7f\">:3</span>\n",
       "                    <span style=\"color: #008000; text-decoration-color: #008000\">'gboost_models.GBoostModel'</span><span style=\"font-weight: bold\">&gt;</span>                                             \n",
       "</pre>\n"
      ],
      "text/plain": [
       "<rich.jupyter.JupyterRenderable at 0x236ce409c08>"
      ]
     },
     "metadata": {},
     "output_type": "display_data"
    },
    {
     "data": {
      "text/html": [
       "<pre style=\"white-space:pre;overflow-x:auto;line-height:normal;font-family:Menlo,'DejaVu Sans Mono',consolas,'Courier New',monospace\"><span style=\"color: #7fbfbf; text-decoration-color: #7fbfbf\">           </span><span style=\"color: #000080; text-decoration-color: #000080\">INFO    </span> Building model with parameters: <span style=\"font-weight: bold\">{</span><span style=\"color: #008000; text-decoration-color: #008000\">'data'</span>: <a href=\"file://<ipython-input-9-dbcfe859c28b>\"><span style=\"color: #7f7f7f; text-decoration-color: #7f7f7f\">&lt;ipython-input-9-dbcfe859c28b&gt;</span></a><span style=\"color: #7f7f7f; text-decoration-color: #7f7f7f\">:6</span>\n",
       "                    <span style=\"font-weight: bold\">{</span><span style=\"color: #008000; text-decoration-color: #008000\">'path'</span>:                                                                 \n",
       "                    <span style=\"color: #008000; text-decoration-color: #008000\">'csv_data/quanser-mixed-full-ep.csv'</span>,                                    \n",
       "                    <span style=\"color: #008000; text-decoration-color: #008000\">'full_or_relative'</span>: <span style=\"color: #008000; text-decoration-color: #008000\">'relative'</span>,                                          \n",
       "                    <span style=\"color: #008000; text-decoration-color: #008000\">'inputs'</span>: <span style=\"font-weight: bold\">[</span><span style=\"color: #008000; text-decoration-color: #008000\">'state_theta'</span>, <span style=\"color: #008000; text-decoration-color: #008000\">'state_alpha'</span>,                                 \n",
       "                    <span style=\"color: #008000; text-decoration-color: #008000\">'state_theta_dot'</span>, <span style=\"color: #008000; text-decoration-color: #008000\">'state_alpha_dot'</span>,                                    \n",
       "                    <span style=\"color: #008000; text-decoration-color: #008000\">'action_Vm'</span><span style=\"font-weight: bold\">]</span>, <span style=\"color: #008000; text-decoration-color: #008000\">'outputs'</span>: <span style=\"font-weight: bold\">[</span><span style=\"color: #008000; text-decoration-color: #008000\">'state_theta'</span>,                                 \n",
       "                    <span style=\"color: #008000; text-decoration-color: #008000\">'state_alpha'</span>, <span style=\"color: #008000; text-decoration-color: #008000\">'state_theta_dot'</span>,                                        \n",
       "                    <span style=\"color: #008000; text-decoration-color: #008000\">'state_alpha_dot'</span><span style=\"font-weight: bold\">]</span>, <span style=\"color: #008000; text-decoration-color: #008000\">'augmented_cols'</span>:                                    \n",
       "                    <span style=\"font-weight: bold\">[]</span>, <span style=\"color: #008000; text-decoration-color: #008000\">'iteration_order'</span>: <span style=\"color: #000080; text-decoration-color: #000080; font-weight: bold\">-1</span>,                                               \n",
       "                    <span style=\"color: #008000; text-decoration-color: #008000\">'episode_col'</span>: <span style=\"color: #008000; text-decoration-color: #008000\">'episode'</span>,                                                \n",
       "                    <span style=\"color: #008000; text-decoration-color: #008000\">'iteration_col'</span>: <span style=\"color: #008000; text-decoration-color: #008000\">'iteration'</span>,                                            \n",
       "                    <span style=\"color: #008000; text-decoration-color: #008000\">'max_rows'</span>: <span style=\"color: #000080; text-decoration-color: #000080; font-weight: bold\">-1</span>, <span style=\"color: #008000; text-decoration-color: #008000\">'scale_data'</span>: <span style=\"color: #ff0000; text-decoration-color: #ff0000; font-style: italic\">False</span>,                                     \n",
       "                    <span style=\"color: #008000; text-decoration-color: #008000\">'diff_state'</span>: <span style=\"color: #ff0000; text-decoration-color: #ff0000; font-style: italic\">False</span>, <span style=\"color: #008000; text-decoration-color: #008000\">'test_perc'</span>: <span style=\"color: #000080; text-decoration-color: #000080; font-weight: bold\">0.25</span><span style=\"font-weight: bold\">}</span>,                                 \n",
       "                    <span style=\"color: #008000; text-decoration-color: #008000\">'model'</span>: <span style=\"font-weight: bold\">{</span><span style=\"color: #008000; text-decoration-color: #008000\">'name'</span>: <span style=\"color: #008000; text-decoration-color: #008000\">'xgboost'</span>,                                             \n",
       "                    <span style=\"color: #008000; text-decoration-color: #008000\">'build_params'</span>: <span style=\"font-weight: bold\">{</span><span style=\"color: #008000; text-decoration-color: #008000\">'model_type'</span>:                                           \n",
       "                    <span style=\"color: #008000; text-decoration-color: #008000\">'xgboost'</span>, <span style=\"color: #008000; text-decoration-color: #008000\">'fit_separate'</span>: <span style=\"color: #ff0000; text-decoration-color: #ff0000; font-style: italic\">False</span>,                                        \n",
       "                    <span style=\"color: #008000; text-decoration-color: #008000\">'halt_model'</span>: <span style=\"color: #ff0000; text-decoration-color: #ff0000; font-style: italic\">False</span>, <span style=\"color: #008000; text-decoration-color: #008000\">'n_estimators'</span>:                                     \n",
       "                    <span style=\"color: #000080; text-decoration-color: #000080; font-weight: bold\">100</span>, <span style=\"color: #008000; text-decoration-color: #008000\">'objective'</span>: <span style=\"color: #008000; text-decoration-color: #008000\">'reg:squarederror'</span>,                                    \n",
       "                    <span style=\"color: #008000; text-decoration-color: #008000\">'learning_rate'</span>: <span style=\"color: #000080; text-decoration-color: #000080; font-weight: bold\">0.3</span>, <span style=\"color: #008000; text-decoration-color: #008000\">'scale_data'</span>:                                      \n",
       "                    <span style=\"color: #00ff00; text-decoration-color: #00ff00; font-style: italic\">True</span>, <span style=\"color: #008000; text-decoration-color: #008000\">'max_depth'</span>: <span style=\"color: #000080; text-decoration-color: #000080; font-weight: bold\">6</span><span style=\"font-weight: bold\">}</span>, <span style=\"color: #008000; text-decoration-color: #008000\">'saver'</span>:                                          \n",
       "                    <span style=\"font-weight: bold\">{</span><span style=\"color: #008000; text-decoration-color: #008000\">'filename'</span>:                                                             \n",
       "                    <span style=\"color: #008000; text-decoration-color: #008000\">'models/xgboost_models/quanser'</span><span style=\"font-weight: bold\">}</span>,                                        \n",
       "                    <span style=\"color: #008000; text-decoration-color: #008000\">'sweep'</span>: <span style=\"font-weight: bold\">{</span><span style=\"color: #008000; text-decoration-color: #008000\">'run'</span>: <span style=\"color: #ff0000; text-decoration-color: #ff0000; font-style: italic\">False</span>,                                                  \n",
       "                    <span style=\"color: #008000; text-decoration-color: #008000\">'split_strategy'</span>: <span style=\"color: #008000; text-decoration-color: #008000\">'timeseries'</span>,                                          \n",
       "                    <span style=\"color: #008000; text-decoration-color: #008000\">'search_algorithm'</span>: <span style=\"color: #008000; text-decoration-color: #008000\">'bayesian'</span>,                                          \n",
       "                    <span style=\"color: #008000; text-decoration-color: #008000\">'num_trials'</span>: <span style=\"color: #000080; text-decoration-color: #000080; font-weight: bold\">15</span>, <span style=\"color: #008000; text-decoration-color: #008000\">'scoring_func'</span>: <span style=\"color: #008000; text-decoration-color: #008000\">'r2'</span>,                                  \n",
       "                    <span style=\"color: #008000; text-decoration-color: #008000\">'early_stopping'</span>: <span style=\"color: #ff0000; text-decoration-color: #ff0000; font-style: italic\">False</span>,                                                 \n",
       "                    <span style=\"color: #008000; text-decoration-color: #008000\">'results_csv_path'</span>:                                                      \n",
       "                    <span style=\"color: #008000; text-decoration-color: #008000\">'xgboost_gridsearch/search_results.csv'</span>,                                 \n",
       "                    <span style=\"color: #008000; text-decoration-color: #008000\">'params'</span>: <span style=\"font-weight: bold\">{</span><span style=\"color: #008000; text-decoration-color: #008000\">'estimator__max_depth'</span>: <span style=\"font-weight: bold\">[</span><span style=\"color: #000080; text-decoration-color: #000080; font-weight: bold\">1</span>,                                   \n",
       "                    <span style=\"color: #000080; text-decoration-color: #000080; font-weight: bold\">3</span>, <span style=\"color: #000080; text-decoration-color: #000080; font-weight: bold\">5</span>, <span style=\"color: #000080; text-decoration-color: #000080; font-weight: bold\">10</span><span style=\"font-weight: bold\">]</span>, <span style=\"color: #008000; text-decoration-color: #008000\">'estimator__gamma'</span>: <span style=\"font-weight: bold\">[</span><span style=\"color: #000080; text-decoration-color: #000080; font-weight: bold\">0</span>, <span style=\"color: #000080; text-decoration-color: #000080; font-weight: bold\">0.5</span>,                                  \n",
       "                    <span style=\"color: #000080; text-decoration-color: #000080; font-weight: bold\">1</span>, <span style=\"color: #000080; text-decoration-color: #000080; font-weight: bold\">5</span><span style=\"font-weight: bold\">]</span>, <span style=\"color: #008000; text-decoration-color: #008000\">'estimator__subsample'</span>: <span style=\"font-weight: bold\">[</span><span style=\"color: #000080; text-decoration-color: #000080; font-weight: bold\">0.1</span>,                                     \n",
       "                    <span style=\"color: #000080; text-decoration-color: #000080; font-weight: bold\">0.5</span>, <span style=\"color: #000080; text-decoration-color: #000080; font-weight: bold\">1</span><span style=\"font-weight: bold\">]</span>, <span style=\"color: #008000; text-decoration-color: #008000\">'estimator__eta'</span>: <span style=\"font-weight: bold\">[</span><span style=\"color: #000080; text-decoration-color: #000080; font-weight: bold\">0.3</span>, <span style=\"color: #000080; text-decoration-color: #000080; font-weight: bold\">0.1</span>,                                    \n",
       "                    <span style=\"color: #000080; text-decoration-color: #000080; font-weight: bold\">0.5</span><span style=\"font-weight: bold\">]}}}</span>, <span style=\"color: #008000; text-decoration-color: #008000\">'simulator'</span>: <span style=\"font-weight: bold\">{</span><span style=\"color: #008000; text-decoration-color: #008000\">'states'</span>:                                         \n",
       "                    <span style=\"font-weight: bold\">[</span><span style=\"color: #008000; text-decoration-color: #008000\">'state_theta'</span>, <span style=\"color: #008000; text-decoration-color: #008000\">'state_alpha'</span>,                                           \n",
       "                    <span style=\"color: #008000; text-decoration-color: #008000\">'state_theta_dot'</span>, <span style=\"color: #008000; text-decoration-color: #008000\">'state_alpha_dot'</span><span style=\"font-weight: bold\">]</span>,                                   \n",
       "                    <span style=\"color: #008000; text-decoration-color: #008000\">'actions'</span>: <span style=\"font-weight: bold\">[</span><span style=\"color: #008000; text-decoration-color: #008000\">'action_Vm'</span><span style=\"font-weight: bold\">]</span>, <span style=\"color: #008000; text-decoration-color: #008000\">'configs'</span>: <span style=\"font-weight: bold\">[]</span>,                                 \n",
       "                    <span style=\"color: #008000; text-decoration-color: #008000\">'episode_inits'</span>:                                                         \n",
       "                    <span style=\"font-weight: bold\">{</span><span style=\"color: #008000; text-decoration-color: #008000\">'config_initial_theta'</span>: <span style=\"color: #000080; text-decoration-color: #000080; font-weight: bold\">0</span>,                                              \n",
       "                    <span style=\"color: #008000; text-decoration-color: #008000\">'config_initial_alpha'</span>: <span style=\"color: #000080; text-decoration-color: #000080; font-weight: bold\">0</span>,                                               \n",
       "                    <span style=\"color: #008000; text-decoration-color: #008000\">'config_initial_theta_dot'</span>: <span style=\"color: #000080; text-decoration-color: #000080; font-weight: bold\">0</span>,                                           \n",
       "                    <span style=\"color: #008000; text-decoration-color: #008000\">'config_initial_alpha_dot'</span>: <span style=\"color: #000080; text-decoration-color: #000080; font-weight: bold\">0</span><span style=\"font-weight: bold\">}</span>,                                          \n",
       "                    <span style=\"color: #008000; text-decoration-color: #008000\">'initial_states'</span>: <span style=\"font-weight: bold\">{</span><span style=\"color: #008000; text-decoration-color: #008000\">'state_theta'</span>: <span style=\"color: #000080; text-decoration-color: #000080; font-weight: bold\">0.2</span>,                                   \n",
       "                    <span style=\"color: #008000; text-decoration-color: #008000\">'state_alpha'</span>: <span style=\"color: #000080; text-decoration-color: #000080; font-weight: bold\">0.2</span>, <span style=\"color: #008000; text-decoration-color: #008000\">'state_theta_dot'</span>:                                   \n",
       "                    <span style=\"color: #000080; text-decoration-color: #000080; font-weight: bold\">0.2</span>, <span style=\"color: #008000; text-decoration-color: #008000\">'state_alpha_dot'</span>: <span style=\"color: #000080; text-decoration-color: #000080; font-weight: bold\">0.2</span><span style=\"font-weight: bold\">}</span>,                                            \n",
       "                    <span style=\"color: #008000; text-decoration-color: #008000\">'initial_states_mapper'</span>:                                                 \n",
       "                    <span style=\"font-weight: bold\">{</span><span style=\"color: #008000; text-decoration-color: #008000\">'config_initial_theta'</span>: <span style=\"color: #008000; text-decoration-color: #008000\">'state_theta'</span>,                                  \n",
       "                    <span style=\"color: #008000; text-decoration-color: #008000\">'config_initial_alpha'</span>: <span style=\"color: #008000; text-decoration-color: #008000\">'state_alpha'</span>,                                   \n",
       "                    <span style=\"color: #008000; text-decoration-color: #008000\">'config_initial_theta_dot'</span>:                                              \n",
       "                    <span style=\"color: #008000; text-decoration-color: #008000\">'state_theta_dot'</span>,                                                       \n",
       "                    <span style=\"color: #008000; text-decoration-color: #008000\">'config_initial_alpha_dot'</span>:                                              \n",
       "                    <span style=\"color: #008000; text-decoration-color: #008000\">'state_alpha_dot'</span><span style=\"font-weight: bold\">}</span>, <span style=\"color: #008000; text-decoration-color: #008000\">'policy'</span>: <span style=\"color: #008000; text-decoration-color: #008000\">'bonsai'</span>,                                  \n",
       "                    <span style=\"color: #008000; text-decoration-color: #008000\">'logging'</span>: <span style=\"color: #008000; text-decoration-color: #008000\">'enable'</span>, <span style=\"color: #008000; text-decoration-color: #008000\">'workspace_setup'</span>:                                  \n",
       "                    <span style=\"color: #ff0000; text-decoration-color: #ff0000; font-style: italic\">False</span>, <span style=\"color: #008000; text-decoration-color: #008000\">'render'</span>: <span style=\"color: #ff0000; text-decoration-color: #ff0000; font-style: italic\">False</span><span style=\"font-weight: bold\">}}</span>                                                 \n",
       "</pre>\n"
      ],
      "text/plain": [
       "<rich.jupyter.JupyterRenderable at 0x236ce4f9cc8>"
      ]
     },
     "metadata": {},
     "output_type": "display_data"
    },
    {
     "data": {
      "text/html": [
       "<pre style=\"white-space:pre;overflow-x:auto;line-height:normal;font-family:Menlo,'DejaVu Sans Mono',consolas,'Courier New',monospace\"><span style=\"color: #7fbfbf; text-decoration-color: #7fbfbf\">           </span><span style=\"color: #000080; text-decoration-color: #000080\">INFO    </span> Loading data from                       <a href=\"file://<ipython-input-9-dbcfe859c28b>\"><span style=\"color: #7f7f7f; text-decoration-color: #7f7f7f\">&lt;ipython-input-9-dbcfe859c28b&gt;</span></a><span style=\"color: #7f7f7f; text-decoration-color: #7f7f7f\">:10</span>\n",
       "                    csv_data/quanser-mixed-full-ep.csv                                       \n",
       "</pre>\n"
      ],
      "text/plain": [
       "<rich.jupyter.JupyterRenderable at 0x236ce472208>"
      ]
     },
     "metadata": {},
     "output_type": "display_data"
    },
    {
     "data": {
      "text/html": [
       "<pre style=\"white-space:pre;overflow-x:auto;line-height:normal;font-family:Menlo,'DejaVu Sans Mono',consolas,'Courier New',monospace\"><span style=\"color: #7fbfbf; text-decoration-color: #7fbfbf\">[12:42:31] </span><span style=\"color: #000080; text-decoration-color: #000080\">INFO    </span> Using <span style=\"font-weight: bold\">[</span><span style=\"color: #008000; text-decoration-color: #008000\">'state_theta'</span>, <span style=\"color: #008000; text-decoration-color: #008000\">'state_alpha'</span>, <span style=\"color: #008000; text-decoration-color: #008000\">'state_theta_dot'</span>,       <span style=\"color: #7f7f7f; text-decoration-color: #7f7f7f\">base.py:118</span>\n",
       "                    <span style=\"color: #008000; text-decoration-color: #008000\">'state_alpha_dot'</span>, <span style=\"color: #008000; text-decoration-color: #008000\">'action_Vm'</span><span style=\"font-weight: bold\">]</span> as the features for modeling             \n",
       "                    DDM                                                                      \n",
       "</pre>\n"
      ],
      "text/plain": [
       "<rich.jupyter.JupyterRenderable at 0x236b9f7fb88>"
      ]
     },
     "metadata": {},
     "output_type": "display_data"
    },
    {
     "data": {
      "text/html": [
       "<pre style=\"white-space:pre;overflow-x:auto;line-height:normal;font-family:Menlo,'DejaVu Sans Mono',consolas,'Courier New',monospace\"><span style=\"color: #7fbfbf; text-decoration-color: #7fbfbf\">           </span><span style=\"color: #000080; text-decoration-color: #000080\">INFO    </span> Using <span style=\"font-weight: bold\">[</span><span style=\"color: #008000; text-decoration-color: #008000\">'state_theta'</span>, <span style=\"color: #008000; text-decoration-color: #008000\">'state_alpha'</span>, <span style=\"color: #008000; text-decoration-color: #008000\">'state_theta_dot'</span>,       <span style=\"color: #7f7f7f; text-decoration-color: #7f7f7f\">base.py:129</span>\n",
       "                    <span style=\"color: #008000; text-decoration-color: #008000\">'state_alpha_dot'</span><span style=\"font-weight: bold\">]</span> as the labels for modeling DDM                        \n",
       "</pre>\n"
      ],
      "text/plain": [
       "<rich.jupyter.JupyterRenderable at 0x236ce1a6148>"
      ]
     },
     "metadata": {},
     "output_type": "display_data"
    },
    {
     "data": {
      "text/html": [
       "<pre style=\"white-space:pre;overflow-x:auto;line-height:normal;font-family:Menlo,'DejaVu Sans Mono',consolas,'Courier New',monospace\"><span style=\"color: #7fbfbf; text-decoration-color: #7fbfbf\">           </span><span style=\"color: #000080; text-decoration-color: #000080\">INFO    </span> Iteration order set to <span style=\"color: #000080; text-decoration-color: #000080; font-weight: bold\">-1</span> so using inputs from previous <span style=\"color: #000080; text-decoration-color: #000080; font-weight: bold\">-1</span>  <span style=\"color: #7f7f7f; text-decoration-color: #7f7f7f\">loaders.py:50</span>\n",
       "                    row                                                                      \n",
       "</pre>\n"
      ],
      "text/plain": [
       "<rich.jupyter.JupyterRenderable at 0x236ce16bdc8>"
      ]
     },
     "metadata": {},
     "output_type": "display_data"
    },
    {
     "data": {
      "text/html": [
       "<pre style=\"white-space:pre;overflow-x:auto;line-height:normal;font-family:Menlo,'DejaVu Sans Mono',consolas,'Courier New',monospace\"><span style=\"color: #7fbfbf; text-decoration-color: #7fbfbf\">           </span><span style=\"color: #000080; text-decoration-color: #000080\">INFO    </span> Feature columns are: <span style=\"font-weight: bold\">[</span><span style=\"color: #008000; text-decoration-color: #008000\">'prev_state_theta'</span>,                   <span style=\"color: #7f7f7f; text-decoration-color: #7f7f7f\">loaders.py:91</span>\n",
       "                    <span style=\"color: #008000; text-decoration-color: #008000\">'prev_state_alpha'</span>, <span style=\"color: #008000; text-decoration-color: #008000\">'prev_state_theta_dot'</span>,                              \n",
       "                    <span style=\"color: #008000; text-decoration-color: #008000\">'prev_state_alpha_dot'</span>, <span style=\"color: #008000; text-decoration-color: #008000\">'action_Vm'</span><span style=\"font-weight: bold\">]</span>                                     \n",
       "</pre>\n"
      ],
      "text/plain": [
       "<rich.jupyter.JupyterRenderable at 0x236ce4e5d08>"
      ]
     },
     "metadata": {},
     "output_type": "display_data"
    },
    {
     "data": {
      "text/html": [
       "<pre style=\"white-space:pre;overflow-x:auto;line-height:normal;font-family:Menlo,'DejaVu Sans Mono',consolas,'Courier New',monospace\"><span style=\"color: #7fbfbf; text-decoration-color: #7fbfbf\">           </span><span style=\"color: #000080; text-decoration-color: #000080\">INFO    </span> Label columns are: <span style=\"font-weight: bold\">[</span><span style=\"color: #008000; text-decoration-color: #008000\">'state_theta'</span>, <span style=\"color: #008000; text-decoration-color: #008000\">'state_alpha'</span>,           <span style=\"color: #7f7f7f; text-decoration-color: #7f7f7f\">loaders.py:92</span>\n",
       "                    <span style=\"color: #008000; text-decoration-color: #008000\">'state_theta_dot'</span>, <span style=\"color: #008000; text-decoration-color: #008000\">'state_alpha_dot'</span><span style=\"font-weight: bold\">]</span>                                    \n",
       "</pre>\n"
      ],
      "text/plain": [
       "<rich.jupyter.JupyterRenderable at 0x236ce3e9648>"
      ]
     },
     "metadata": {},
     "output_type": "display_data"
    },
    {
     "data": {
      "text/html": [
       "<pre style=\"white-space:pre;overflow-x:auto;line-height:normal;font-family:Menlo,'DejaVu Sans Mono',consolas,'Courier New',monospace\"><span style=\"color: #7fbfbf; text-decoration-color: #7fbfbf\">[12:42:32] </span><span style=\"color: #000080; text-decoration-color: #000080\">INFO    </span> Fitting model<span style=\"color: #808000; text-decoration-color: #808000\">...</span>                        <a href=\"file://<ipython-input-9-dbcfe859c28b>\"><span style=\"color: #7f7f7f; text-decoration-color: #7f7f7f\">&lt;ipython-input-9-dbcfe859c28b&gt;</span></a><span style=\"color: #7f7f7f; text-decoration-color: #7f7f7f\">:23</span>\n",
       "</pre>\n"
      ],
      "text/plain": [
       "<rich.jupyter.JupyterRenderable at 0x236ce3d3e48>"
      ]
     },
     "metadata": {},
     "output_type": "display_data"
    },
    {
     "data": {
      "text/html": [
       "<pre style=\"white-space:pre;overflow-x:auto;line-height:normal;font-family:Menlo,'DejaVu Sans Mono',consolas,'Courier New',monospace\"><span style=\"color: #7fbfbf; text-decoration-color: #7fbfbf\">[12:43:26] </span><span style=\"color: #000080; text-decoration-color: #000080\">INFO    </span> Model trained!                          <a href=\"file://<ipython-input-9-dbcfe859c28b>\"><span style=\"color: #7f7f7f; text-decoration-color: #7f7f7f\">&lt;ipython-input-9-dbcfe859c28b&gt;</span></a><span style=\"color: #7f7f7f; text-decoration-color: #7f7f7f\">:25</span>\n",
       "</pre>\n"
      ],
      "text/plain": [
       "<rich.jupyter.JupyterRenderable at 0x236ce3d3608>"
      ]
     },
     "metadata": {},
     "output_type": "display_data"
    }
   ],
   "source": [
    "model = train_models(cfg)"
   ]
  },
  {
   "cell_type": "markdown",
   "id": "9bff520f",
   "metadata": {},
   "source": [
    "### Save Model"
   ]
  },
  {
   "cell_type": "code",
   "execution_count": 11,
   "id": "aebaa673",
   "metadata": {},
   "outputs": [
    {
     "data": {
      "text/html": [
       "<pre style=\"white-space:pre;overflow-x:auto;line-height:normal;font-family:Menlo,'DejaVu Sans Mono',consolas,'Courier New',monospace\"><span style=\"color: #7fbfbf; text-decoration-color: #7fbfbf\">[12:43:56] </span><span style=\"color: #000080; text-decoration-color: #000080\">INFO    </span> Scale transformations used, saving to                <span style=\"color: #7f7f7f; text-decoration-color: #7f7f7f\">gboost_models.py:117</span>\n",
       "                    models/xgboost_models/quanser                                            \n",
       "</pre>\n"
      ],
      "text/plain": [
       "<rich.jupyter.JupyterRenderable at 0x236ce48b308>"
      ]
     },
     "metadata": {},
     "output_type": "display_data"
    }
   ],
   "source": [
    "model.save_model(filename=cfg[\"model\"][\"saver\"][\"filename\"])"
   ]
  },
  {
   "cell_type": "markdown",
   "id": "922d2459",
   "metadata": {},
   "source": [
    "### Data Structure of Saved model"
   ]
  },
  {
   "cell_type": "code",
   "execution_count": 12,
   "id": "913432a0",
   "metadata": {},
   "outputs": [
    {
     "data": {
      "text/html": [
       "<pre style=\"white-space:pre;overflow-x:auto;line-height:normal;font-family:Menlo,'DejaVu Sans Mono',consolas,'Courier New',monospace\"><span style=\"color: #7fbfbf; text-decoration-color: #7fbfbf\">[12:43:58] </span><span style=\"color: #000080; text-decoration-color: #000080\">INFO    </span> Input_cols:  <span style=\"font-weight: bold\">[</span><span style=\"color: #008000; text-decoration-color: #008000\">'state_theta'</span>,            <a href=\"file://<ipython-input-12-3da48a5edf65>\"><span style=\"color: #7f7f7f; text-decoration-color: #7f7f7f\">&lt;ipython-input-12-3da48a5edf65&gt;</span></a><span style=\"color: #7f7f7f; text-decoration-color: #7f7f7f\">:1</span>\n",
       "                    <span style=\"color: #008000; text-decoration-color: #008000\">'state_alpha'</span>, <span style=\"color: #008000; text-decoration-color: #008000\">'state_theta_dot'</span>,                                        \n",
       "                    <span style=\"color: #008000; text-decoration-color: #008000\">'state_alpha_dot'</span>, <span style=\"color: #008000; text-decoration-color: #008000\">'action_Vm'</span><span style=\"font-weight: bold\">]</span>                                          \n",
       "</pre>\n"
      ],
      "text/plain": [
       "<rich.jupyter.JupyterRenderable at 0x236ce4dc348>"
      ]
     },
     "metadata": {},
     "output_type": "display_data"
    },
    {
     "data": {
      "text/html": [
       "<pre style=\"white-space:pre;overflow-x:auto;line-height:normal;font-family:Menlo,'DejaVu Sans Mono',consolas,'Courier New',monospace\"><span style=\"color: #7fbfbf; text-decoration-color: #7fbfbf\">           </span><span style=\"color: #000080; text-decoration-color: #000080\">INFO    </span> Output_cols: <span style=\"font-weight: bold\">[</span><span style=\"color: #008000; text-decoration-color: #008000\">'state_theta'</span>,            <a href=\"file://<ipython-input-12-3da48a5edf65>\"><span style=\"color: #7f7f7f; text-decoration-color: #7f7f7f\">&lt;ipython-input-12-3da48a5edf65&gt;</span></a><span style=\"color: #7f7f7f; text-decoration-color: #7f7f7f\">:2</span>\n",
       "                    <span style=\"color: #008000; text-decoration-color: #008000\">'state_alpha'</span>, <span style=\"color: #008000; text-decoration-color: #008000\">'state_theta_dot'</span>,                                        \n",
       "                    <span style=\"color: #008000; text-decoration-color: #008000\">'state_alpha_dot'</span><span style=\"font-weight: bold\">]</span>                                                       \n",
       "</pre>\n"
      ],
      "text/plain": [
       "<rich.jupyter.JupyterRenderable at 0x236ce4dc388>"
      ]
     },
     "metadata": {},
     "output_type": "display_data"
    }
   ],
   "source": [
    "logger.info(f\"Input_cols:  {model.features}\")\n",
    "logger.info(f\"Output_cols: {model.labels}\")"
   ]
  },
  {
   "cell_type": "markdown",
   "id": "c765017a",
   "metadata": {},
   "source": [
    "## 4. Model Evaluations\n",
    "\n",
    "We provide three methods for evaluating the errors of our trained models:\n",
    "\n",
    "1. Model predictive error: using a specified metric (such as RMSE) and a test set, we evaluate the metric on the test set.\n",
    "2. Visualization of per-iteration predictions vs a test set\n",
    "3. Visualization of sequential predictions vs a test set"
   ]
  },
  {
   "cell_type": "markdown",
   "id": "a7a631e6",
   "metadata": {},
   "source": [
    "### 4.1. Estimated Prediction Error\n",
    "#### 4.1.a. Estimated Prediction Error: Per-Iteration Predictions"
   ]
  },
  {
   "cell_type": "code",
   "execution_count": 13,
   "id": "16087e1d",
   "metadata": {},
   "outputs": [],
   "source": [
    "from assessment_metrics_loader import available_metrics\n",
    "rms_error = available_metrics[\"root_mean_squared_error\"]\n",
    "ms_error = available_metrics[\"mean_squared_error\"]"
   ]
  },
  {
   "cell_type": "code",
   "execution_count": 14,
   "id": "f4325296",
   "metadata": {},
   "outputs": [
    {
     "name": "stderr",
     "output_type": "stream",
     "text": [
      "C:\\Users\\JOMCDOWE\\Miniconda3\\envs\\ddm\\lib\\site-packages\\sklearn\\utils\\validation.py:70: FutureWarning: Pass sample_weight=None, multioutput=uniform_average, squared=False as keyword args. From version 0.25 passing these as positional arguments will result in an error\n",
      "  FutureWarning)\n",
      "C:\\Users\\JOMCDOWE\\Miniconda3\\envs\\ddm\\lib\\site-packages\\sklearn\\utils\\validation.py:70: FutureWarning: Pass sample_weight=None, multioutput=uniform_average, squared=False as keyword args. From version 0.25 passing these as positional arguments will result in an error\n",
      "  FutureWarning)\n",
      "C:\\Users\\JOMCDOWE\\Miniconda3\\envs\\ddm\\lib\\site-packages\\sklearn\\utils\\validation.py:70: FutureWarning: Pass sample_weight=None, multioutput=uniform_average, squared=False as keyword args. From version 0.25 passing these as positional arguments will result in an error\n",
      "  FutureWarning)\n",
      "C:\\Users\\JOMCDOWE\\Miniconda3\\envs\\ddm\\lib\\site-packages\\sklearn\\utils\\validation.py:70: FutureWarning: Pass sample_weight=None, multioutput=uniform_average, squared=False as keyword args. From version 0.25 passing these as positional arguments will result in an error\n",
      "  FutureWarning)\n"
     ]
    }
   ],
   "source": [
    "per_iteration_eval_table = model.evaluate(X, y, rms_error, marginal=True)\n",
    "per_iteration_eval_table.rename(columns = {'score':'score_per_it'}, inplace = True)"
   ]
  },
  {
   "cell_type": "code",
   "execution_count": 15,
   "id": "8e703c86",
   "metadata": {},
   "outputs": [
    {
     "data": {
      "text/html": [
       "<div>\n",
       "<style scoped>\n",
       "    .dataframe tbody tr th:only-of-type {\n",
       "        vertical-align: middle;\n",
       "    }\n",
       "\n",
       "    .dataframe tbody tr th {\n",
       "        vertical-align: top;\n",
       "    }\n",
       "\n",
       "    .dataframe thead th {\n",
       "        text-align: right;\n",
       "    }\n",
       "</style>\n",
       "<table border=\"1\" class=\"dataframe\">\n",
       "  <thead>\n",
       "    <tr style=\"text-align: right;\">\n",
       "      <th></th>\n",
       "      <th>var</th>\n",
       "      <th>score_per_it</th>\n",
       "    </tr>\n",
       "  </thead>\n",
       "  <tbody>\n",
       "    <tr>\n",
       "      <th>0</th>\n",
       "      <td>state_theta</td>\n",
       "      <td>0.000915</td>\n",
       "    </tr>\n",
       "    <tr>\n",
       "      <th>1</th>\n",
       "      <td>state_alpha</td>\n",
       "      <td>0.000803</td>\n",
       "    </tr>\n",
       "    <tr>\n",
       "      <th>2</th>\n",
       "      <td>state_theta_dot</td>\n",
       "      <td>0.088647</td>\n",
       "    </tr>\n",
       "    <tr>\n",
       "      <th>3</th>\n",
       "      <td>state_alpha_dot</td>\n",
       "      <td>0.085236</td>\n",
       "    </tr>\n",
       "  </tbody>\n",
       "</table>\n",
       "</div>"
      ],
      "text/plain": [
       "               var  score_per_it\n",
       "0      state_theta      0.000915\n",
       "1      state_alpha      0.000803\n",
       "2  state_theta_dot      0.088647\n",
       "3  state_alpha_dot      0.085236"
      ]
     },
     "execution_count": 15,
     "metadata": {},
     "output_type": "execute_result"
    }
   ],
   "source": [
    "if (per_iteration_eval_table[\"score_per_it\"] > 1.0).any():\n",
    "    logger.warn(\"Per-iteration assessment error is high. Please, review your model\")\n",
    "\n",
    "per_iteration_eval_table"
   ]
  },
  {
   "cell_type": "markdown",
   "id": "c7768eba",
   "metadata": {},
   "source": [
    "#### 4.1.b. Estimated Prediction Error: Per-Iteration Predictions"
   ]
  },
  {
   "cell_type": "code",
   "execution_count": 16,
   "id": "b2e5bb9b",
   "metadata": {},
   "outputs": [],
   "source": [
    "# number of iterations to predict sequentially\n",
    "it_per_episode = 50"
   ]
  },
  {
   "cell_type": "code",
   "execution_count": null,
   "id": "5913e32e",
   "metadata": {},
   "outputs": [],
   "source": [
    "sequential_eval_table = model.evaluate_sequentially(\n",
    "    X, y, rms_error, marginal=True, it_per_episode=it_per_episode\n",
    ")\n",
    "sequential_eval_table.rename(columns = {'score':'seq_score'}, inplace = True)"
   ]
  },
  {
   "cell_type": "code",
   "execution_count": null,
   "id": "04517791",
   "metadata": {},
   "outputs": [],
   "source": [
    "if (sequential_eval_table[\"seq_score\"] > 1.0).any():\n",
    "    logger.warn(\"Sequentially analyzed assessment error is high. Please, review your model\")\n",
    "\n",
    "sequential_eval_table"
   ]
  },
  {
   "cell_type": "markdown",
   "id": "96b2fc5f",
   "metadata": {},
   "source": [
    "### 4.2. Per-Iteration Predictions"
   ]
  },
  {
   "cell_type": "code",
   "execution_count": 17,
   "id": "012e7b3d",
   "metadata": {},
   "outputs": [],
   "source": [
    "action_feat = \"action_Vm\""
   ]
  },
  {
   "cell_type": "code",
   "execution_count": null,
   "id": "df8805e5",
   "metadata": {},
   "outputs": [],
   "source": [
    "preds = model.predict(X)"
   ]
  },
  {
   "cell_type": "code",
   "execution_count": null,
   "id": "b292be56",
   "metadata": {},
   "outputs": [],
   "source": [
    "# Plot results graphs\n",
    "label_count = np.shape(preds)[1]\n",
    "fig,axs = plt.subplots(3,2,)\n",
    "for i in range(label_count):\n",
    "    axs[i//2,i%2].set_title(f\"Per-iteration predictions: {model.labels[i]}\")\n",
    "    axs[i//2,i%2].plot(y[:,0], \"green\")\n",
    "    axs[i//2,i%2].plot(preds[:,i], \"brown\")\n",
    "    \n",
    "# select section to zoom in (for both action & episode visualization)\n",
    "sample_from = 0\n",
    "sample_to = 100\n",
    "\n",
    "# Plot action changes\n",
    "action_idx = model.features.index(action_feat)\n",
    "axs[(i+1)//2,(i+1)%2].set_title(f\"Plot [{sample_from}:{sample_to}] actions (ensure action is not stale)\")\n",
    "axs[(i+1)//2,(i+1)%2].plot(X[sample_from:sample_to,action_idx])\n",
    "    \n",
    "# Plot prediction graph -- with zoom on 100 iterations\n",
    "action_idx = model.features.index(action_feat)\n",
    "feat_idx = 0\n",
    "axs[(i+2)//2,(i+2)%2].set_title(f\"Plot [{sample_from}:{sample_to}] state preds: {model.labels[feat_idx]}\")\n",
    "axs[(i+2)//2,(i+2)%2].plot(y[sample_from:sample_to,feat_idx], \"green\")\n",
    "axs[(i+2)//2,(i+2)%2].plot(preds[sample_from:sample_to,feat_idx], \"brown\")"
   ]
  },
  {
   "cell_type": "markdown",
   "id": "d93d5c99",
   "metadata": {},
   "source": [
    "### 4.3. Sequential Predictions"
   ]
  },
  {
   "cell_type": "code",
   "execution_count": 18,
   "id": "fb28c25a",
   "metadata": {},
   "outputs": [],
   "source": [
    "# number of iterations to predict sequentially\n",
    "# - taking the value defined above by default -\n",
    "it_per_episode = it_per_episode"
   ]
  },
  {
   "cell_type": "code",
   "execution_count": 19,
   "id": "c87a111a",
   "metadata": {},
   "outputs": [
    {
     "name": "stderr",
     "output_type": "stream",
     "text": [
      "C:\\Users\\JOMCDOWE\\Miniconda3\\envs\\ddm\\lib\\site-packages\\numpy\\core\\_asarray.py:83: VisibleDeprecationWarning: Creating an ndarray from ragged nested sequences (which is a list-or-tuple of lists-or-tuples-or ndarrays with different lengths or shapes) is deprecated. If you meant to do this, you must specify 'dtype=object' when creating the ndarray\n",
      "  return array(a, dtype, copy=False, order=order)\n"
     ]
    }
   ],
   "source": [
    "preds_sequentially = model.predict_sequentially(X, it_per_episode=it_per_episode)"
   ]
  },
  {
   "cell_type": "code",
   "execution_count": 23,
   "id": "cc458ab3",
   "metadata": {},
   "outputs": [
    {
     "data": {
      "text/plain": [
       "[<matplotlib.lines.Line2D at 0x236d030c148>]"
      ]
     },
     "execution_count": 23,
     "metadata": {},
     "output_type": "execute_result"
    },
    {
     "data": {
      "image/png": "[encoded data removed]",
      "text/plain": [
       "<Figure size 864x720 with 6 Axes>"
      ]
     },
     "metadata": {
      "needs_background": "light"
     },
     "output_type": "display_data"
    }
   ],
   "source": [
    "# Plot results graphs\n",
    "label_count = np.shape(preds_sequentially)[1]\n",
    "fig,axs = plt.subplots(3,2,)\n",
    "for i in range(label_count):\n",
    "    axs[i//2,i%2].set_title(f\"Sequential predictions: {model.labels[i]}\")\n",
    "    axs[i//2,i%2].plot(y[:,0], \"green\")\n",
    "    axs[i//2,i%2].plot(preds_sequentially[:,i], \"brown\")\n",
    "    \n",
    "# select section to zoom in (for both action & episode visualization)\n",
    "sample_from = 0\n",
    "sample_to = 640\n",
    "\n",
    "# Plot action changes\n",
    "action_idx = model.features.index(action_feat)\n",
    "axs[(i+1)//2,(i+1)%2].set_title(f\"Plot [{sample_from}:{sample_to}] actions (ensure action is not stale)\")\n",
    "axs[(i+1)//2,(i+1)%2].plot(X[sample_from:sample_to,action_idx])\n",
    "    \n",
    "# Plot prediction graph -- with zoom on 100 iterations\n",
    "action_idx = model.features.index(action_feat)\n",
    "feat_idx = 0\n",
    "axs[(i+2)//2,(i+2)%2].set_title(f\"Plot [{sample_from}:{sample_to}] state preds: {model.labels[feat_idx]}\")\n",
    "axs[(i+2)//2,(i+2)%2].plot(y[sample_from:sample_to,feat_idx], \"green\")\n",
    "axs[(i+2)//2,(i+2)%2].plot(preds_sequentially[sample_from:sample_to,feat_idx], \"brown\")"
   ]
  },
  {
   "cell_type": "markdown",
   "id": "91f66f05",
   "metadata": {},
   "source": [
    "## 5. Comparing Model Evaluations\n",
    "\n",
    "If you want to compare various models, you can use the following section to save them in between runs.\n",
    "\n",
    "1. Select appropriate \"model_name\" tag, and run this section\n",
    "2. Change config through \"config.yaml\" (located at 'conf' folder)\n",
    "3. Rerun from Model Build, until this section\n",
    "4. Define a new value for \"model_name\" tag, and run this section again"
   ]
  },
  {
   "cell_type": "code",
   "execution_count": null,
   "id": "94b52838",
   "metadata": {},
   "outputs": [],
   "source": [
    "# select model name, and feats to extract\n",
    "model_name = \"xgb\""
   ]
  },
  {
   "cell_type": "code",
   "execution_count": null,
   "id": "daf26d93",
   "metadata": {},
   "outputs": [],
   "source": [
    "# per-iteration & sequential scores\n",
    "model_per_it_scores = copy.deepcopy(per_iteration_eval_table)\n",
    "model_sequential_scores = copy.deepcopy(sequential_eval_table)"
   ]
  },
  {
   "cell_type": "code",
   "execution_count": null,
   "id": "95b3b6b9",
   "metadata": {},
   "outputs": [],
   "source": [
    "# initialize models dictionary if it doesn't exist already\n",
    "if 'models_dict' not in locals():\n",
    "    models_dict = dict()\n",
    "\n",
    "# append tables to model using selected model name as key\n",
    "models_dict[model_name] = (model_per_it_scores, model_sequential_scores)\n",
    "\n",
    "# redefine column names if needed\n",
    "for model_name, score_tables in models_dict.items():\n",
    "    for score_table in score_tables:\n",
    "        for col_name in score_table.columns:\n",
    "            if \"score\" in col_name and model_name not in col_name:\n",
    "                score_table.rename(columns = {col_name:model_name+\"_\"+col_name}, inplace = True)\n",
    "\n",
    "# concatenate across all models\n",
    "all_scores = None\n",
    "for model_name, score_tables in models_dict.items():\n",
    "    for score_table in score_tables:\n",
    "        if all_scores is None:\n",
    "            all_scores = score_table\n",
    "        else:\n",
    "            all_scores = all_scores.merge(score_table,how='outer')\n",
    "\n",
    "all_scores"
   ]
  },
  {
   "cell_type": "code",
   "execution_count": null,
   "id": "79d3976e",
   "metadata": {},
   "outputs": [],
   "source": []
  }
 ],
 "metadata": {
  "kernelspec": {
   "display_name": "Python 3",
   "language": "python",
   "name": "python3"
  },
  "language_info": {
   "codemirror_mode": {
    "name": "ipython",
    "version": 3
   },
   "file_extension": ".py",
   "mimetype": "text/x-python",
   "name": "python",
   "nbconvert_exporter": "python",
   "pygments_lexer": "ipython3",
   "version": "3.7.7"
  }
 },
 "nbformat": 4,
 "nbformat_minor": 5
}
