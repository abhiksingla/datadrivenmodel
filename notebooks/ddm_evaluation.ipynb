{
 "cells": [
  {
   "cell_type": "markdown",
   "id": "2d944fb7",
   "metadata": {},
   "source": [
    "# DDM: Model Validation\n",
    "\n",
    "This notebook provides an overview of the tools built in the DDM for extracting predictions from your trained DDM and for evauating the performance of the DDM.\n",
    "\n",
    "---\n",
    "\n",
    "We utilize `hydra` to save the configuration of our datasets and our models. The default configuration is in the `conf/config.yaml` directory:\n",
    "\n",
    "```YAML\n",
    "defaults:\n",
    "  - data: cartpole_st1_at.yaml\n",
    "  - model: SVR.yaml\n",
    "  - simulator: gboost_cartpole.yaml\n",
    "```\n",
    "\n",
    "Note that the configuration file points to three additional configuration files for each component: the data, the model, and the simulator.\n",
    "\n",
    "While the configuration file already has default values specified you can override any element of the configuration file using the `overrides` option. For example, we override the data configuration to instead use the `yaml` file specified in `data/cartpole-st_at.yaml` and the model configuration to use the `yaml` file specified in `model/xgboost.yaml`.\n"
   ]
  },
  {
   "cell_type": "code",
   "execution_count": 1,
   "id": "b1c3591c",
   "metadata": {},
   "outputs": [
    {
     "name": "stdout",
     "output_type": "stream",
     "text": [
      "C:\\Users\\JOMCDOWE\\OneDrive - Microsoft\\Documents\\bonsai\\preview-repos\\datadrivenmodel\n"
     ]
    }
   ],
   "source": [
    "cd .."
   ]
  },
  {
   "cell_type": "code",
   "execution_count": 2,
   "id": "7bf9f933",
   "metadata": {},
   "outputs": [],
   "source": [
    "from hydra.experimental import initialize, compose\n",
    "from model_loader import available_models\n",
    "import logging\n",
    "import matplotlib.pyplot as plt\n",
    "import numpy as np\n",
    "from rich import print\n",
    "from rich.logging import RichHandler\n",
    "import copy\n",
    "from omegaconf import DictConfig, ListConfig, OmegaConf\n",
    "\n",
    "logging.basicConfig(\n",
    "    level=logging.INFO,\n",
    "    format=\"%(message)s\",\n",
    "    datefmt=\"[%X]\",\n",
    "    handlers=[RichHandler()]\n",
    ")\n",
    "logger = logging.getLogger(\"ddm_validation\")\n",
    "logger.setLevel(logging.INFO)"
   ]
  },
  {
   "cell_type": "code",
   "execution_count": 3,
   "id": "2a610c07",
   "metadata": {},
   "outputs": [
    {
     "name": "stderr",
     "output_type": "stream",
     "text": [
      "C:\\Users\\JOMCDOWE\\Miniconda3\\envs\\ddm\\lib\\site-packages\\hydra\\plugins\\config_source.py:190: UserWarning: \n",
      "Missing @package directive data/quanser-rand.yaml in file://C:\\Users\\JOMCDOWE\\OneDrive - Microsoft\\Documents\\bonsai\\preview-repos\\datadrivenmodel\\conf.\n",
      "See https://hydra.cc/docs/next/upgrades/0.11_to_1.0/adding_a_package_directive\n",
      "  warnings.warn(message=msg, category=UserWarning)\n",
      "C:\\Users\\JOMCDOWE\\Miniconda3\\envs\\ddm\\lib\\site-packages\\hydra\\plugins\\config_source.py:190: UserWarning: \n",
      "Missing @package directive model/xgboost.yaml in file://C:\\Users\\JOMCDOWE\\OneDrive - Microsoft\\Documents\\bonsai\\preview-repos\\datadrivenmodel\\conf.\n",
      "See https://hydra.cc/docs/next/upgrades/0.11_to_1.0/adding_a_package_directive\n",
      "  warnings.warn(message=msg, category=UserWarning)\n",
      "C:\\Users\\JOMCDOWE\\Miniconda3\\envs\\ddm\\lib\\site-packages\\hydra\\plugins\\config_source.py:190: UserWarning: \n",
      "Missing @package directive simulator/quanser-log.yaml in file://C:\\Users\\JOMCDOWE\\OneDrive - Microsoft\\Documents\\bonsai\\preview-repos\\datadrivenmodel\\conf.\n",
      "See https://hydra.cc/docs/next/upgrades/0.11_to_1.0/adding_a_package_directive\n",
      "  warnings.warn(message=msg, category=UserWarning)\n"
     ]
    }
   ],
   "source": [
    "initialize(config_path=\"../conf\", job_name=\"model_validation\")\n",
    "cfg = compose(config_name=\"config\", overrides=[\"data=quanser-rand\", \"model=xgboost\"])"
   ]
  },
  {
   "cell_type": "markdown",
   "id": "0baab5ca",
   "metadata": {},
   "source": [
    "## 1. Importing the Dataset"
   ]
  },
  {
   "cell_type": "code",
   "execution_count": 4,
   "id": "b566c688",
   "metadata": {},
   "outputs": [
    {
     "data": {
      "text/plain": [
       "{'path': 'csv_data/quanser-mixed-full-ep.csv', 'full_or_relative': 'relative', 'inputs': ['theta', 'alpha', 'theta_dot', 'alpha_dot'], 'outputs': ['theta', 'alpha', 'theta_dot', 'alpha_dot'], 'augmented_cols': ['Vm'], 'iteration_order': -1, 'episode_col': 'episode', 'iteration_col': 'iteration', 'max_rows': -1, 'scale_data': True, 'diff_state': False, 'concatenated_steps': 3, 'concatenated_zero_padding': True, 'test_perc': 0.25}"
      ]
     },
     "execution_count": 4,
     "metadata": {},
     "output_type": "execute_result"
    }
   ],
   "source": [
    "cfg[\"data\"]"
   ]
  },
  {
   "cell_type": "code",
   "execution_count": 5,
   "id": "ce592cff",
   "metadata": {},
   "outputs": [
    {
     "data": {
      "text/plain": [
       "{'name': 'xgboost', 'build_params': {'model_type': 'xgboost', 'fit_separate': False, 'halt_model': False, 'n_estimators': 100, 'objective': 'reg:squarederror', 'learning_rate': 0.3, 'scale_data': True, 'max_depth': 6}, 'saver': {'filename': 'models/xgboost_models/quanser'}, 'sweep': {'run': False, 'split_strategy': 'timeseries', 'search_algorithm': 'bayesian', 'num_trials': 2, 'scoring_func': 'r2', 'early_stopping': False, 'results_csv_path': 'xgboost_gridsearch/search_results.csv', 'params': {'estimator__max_depth': [1, 3, 5, 10], 'estimator__gamma': [0, 0.5, 1, 5], 'estimator__subsample': [0.1, 0.5, 1], 'estimator__eta': [0.3, 0.1, 0.5]}}}"
      ]
     },
     "execution_count": 5,
     "metadata": {},
     "output_type": "execute_result"
    }
   ],
   "source": [
    "cfg[\"model\"]"
   ]
  },
  {
   "cell_type": "code",
   "execution_count": 6,
   "id": "4fb00349",
   "metadata": {},
   "outputs": [],
   "source": [
    "# Extract features from yaml file \n",
    "input_cols = cfg['data']['inputs']\n",
    "output_cols = cfg['data']['outputs']\n",
    "augmented_cols = cfg['data']['augmented_cols']\n",
    "dataset_path = cfg['data']['path']\n",
    "iteration_order = cfg['data']['iteration_order']\n",
    "episode_col = cfg['data']['episode_col']\n",
    "iteration_col = cfg['data']['iteration_col']\n",
    "max_rows = cfg['data']['max_rows']\n",
    "concatenated_steps = cfg['data']['concatenated_steps']\n",
    "concatenated_zero_padding = cfg['data']['concatenated_zero_padding']\n",
    "diff_state = cfg['data']['diff_state']\n",
    "scale_data = cfg['data']['scale_data']\n",
    "if type(input_cols) == ListConfig:\n",
    "    input_cols = list(input_cols)\n",
    "if type(output_cols) == ListConfig:\n",
    "    output_cols = list(output_cols)\n",
    "if type(augmented_cols) == ListConfig:\n",
    "    augmented_cols = list(augmented_cols)"
   ]
  },
  {
   "cell_type": "code",
   "execution_count": 7,
   "id": "21e125c8",
   "metadata": {},
   "outputs": [
    {
     "data": {
      "text/html": [
       "<pre style=\"white-space:pre;overflow-x:auto;line-height:normal;font-family:Menlo,'DejaVu Sans Mono',consolas,'Courier New',monospace\">DATA STRUCTURE SELECTED:\n",
       "</pre>\n"
      ],
      "text/plain": [
       "<rich.jupyter.JupyterRenderable at 0x296134ff5c8>"
      ]
     },
     "metadata": {},
     "output_type": "display_data"
    },
    {
     "data": {
      "text/html": [
       "<pre style=\"white-space:pre;overflow-x:auto;line-height:normal;font-family:Menlo,'DejaVu Sans Mono',consolas,'Courier New',monospace\"> - input_cols:\n",
       "<span style=\"font-weight: bold\">[</span><span style=\"color: #008000; text-decoration-color: #008000\">'theta'</span>, <span style=\"color: #008000; text-decoration-color: #008000\">'alpha'</span>, <span style=\"color: #008000; text-decoration-color: #008000\">'theta_dot'</span>, <span style=\"color: #008000; text-decoration-color: #008000\">'alpha_dot'</span><span style=\"font-weight: bold\">]</span>\n",
       "</pre>\n"
      ],
      "text/plain": [
       "<rich.jupyter.JupyterRenderable at 0x296158bc288>"
      ]
     },
     "metadata": {},
     "output_type": "display_data"
    },
    {
     "data": {
      "text/html": [
       "<pre style=\"white-space:pre;overflow-x:auto;line-height:normal;font-family:Menlo,'DejaVu Sans Mono',consolas,'Courier New',monospace\"> - augmented_cols:\n",
       "<span style=\"font-weight: bold\">[</span><span style=\"color: #008000; text-decoration-color: #008000\">'Vm'</span><span style=\"font-weight: bold\">]</span>\n",
       "</pre>\n"
      ],
      "text/plain": [
       "<rich.jupyter.JupyterRenderable at 0x296158bc288>"
      ]
     },
     "metadata": {},
     "output_type": "display_data"
    },
    {
     "data": {
      "text/html": [
       "<pre style=\"white-space:pre;overflow-x:auto;line-height:normal;font-family:Menlo,'DejaVu Sans Mono',consolas,'Courier New',monospace\"> - output_cols:\n",
       "<span style=\"font-weight: bold\">[</span><span style=\"color: #008000; text-decoration-color: #008000\">'theta'</span>, <span style=\"color: #008000; text-decoration-color: #008000\">'alpha'</span>, <span style=\"color: #008000; text-decoration-color: #008000\">'theta_dot'</span>, <span style=\"color: #008000; text-decoration-color: #008000\">'alpha_dot'</span><span style=\"font-weight: bold\">]</span>\n",
       "</pre>\n"
      ],
      "text/plain": [
       "<rich.jupyter.JupyterRenderable at 0x296158bc288>"
      ]
     },
     "metadata": {},
     "output_type": "display_data"
    }
   ],
   "source": [
    "print(\"DATA STRUCTURE SELECTED:\")\n",
    "print(\" - input_cols:\", input_cols)\n",
    "print(\" - augmented_cols:\", augmented_cols)\n",
    "print(\" - output_cols:\", output_cols)"
   ]
  },
  {
   "cell_type": "markdown",
   "id": "be0c6a84",
   "metadata": {},
   "source": [
    "##  2. Model Definition\n",
    "\n",
    "The `available_models` dictionary provides wrappers for the available models in this repository. We utilize `cfg[\"model\"]` to load and build the model specified in the `model.yaml` file.\n",
    "\n",
    "### Training Hyperparameters\n",
    "\n",
    "Every model has its own hyperparameters, specified through the `cfg[\"model\"][\"build_params\"]` dictionary, which can be modified directly in the dictionary below or through the `hydra` overrides."
   ]
  },
  {
   "cell_type": "code",
   "execution_count": 8,
   "id": "a4514575",
   "metadata": {},
   "outputs": [
    {
     "data": {
      "text/plain": [
       "{'model_type': 'xgboost', 'fit_separate': False, 'halt_model': False, 'n_estimators': 100, 'objective': 'reg:squarederror', 'learning_rate': 0.3, 'scale_data': True, 'max_depth': 6}"
      ]
     },
     "execution_count": 8,
     "metadata": {},
     "output_type": "execute_result"
    }
   ],
   "source": [
    "cfg[\"model\"][\"build_params\"]"
   ]
  },
  {
   "cell_type": "markdown",
   "id": "b55afe46",
   "metadata": {},
   "source": [
    "## 3. Train the Model"
   ]
  },
  {
   "cell_type": "code",
   "execution_count": 9,
   "id": "6478583c",
   "metadata": {},
   "outputs": [],
   "source": [
    "def train_models(config=cfg):\n",
    "\n",
    "    logger.info(f'Model type: {available_models[config[\"model\"][\"name\"]]}')\n",
    "    Model = available_models[config[\"model\"][\"name\"]]\n",
    "    model = Model()\n",
    "    logger.info(f\"Building model with parameters: {config}\")\n",
    "    model.build_model(\n",
    "        **config[\"model\"][\"build_params\"]\n",
    "    )\n",
    "    logger.info(f\"Loading data from {dataset_path}\")\n",
    "    global X, y\n",
    "    X, y = model.load_csv(\n",
    "        input_cols=input_cols,\n",
    "        output_cols=output_cols,\n",
    "        augm_cols=list(augmented_cols),\n",
    "        dataset_path=dataset_path,\n",
    "        iteration_order=iteration_order,\n",
    "        episode_col=episode_col,\n",
    "        iteration_col=iteration_col,\n",
    "        max_rows=max_rows,\n",
    "        concatenated_steps=concatenated_steps,\n",
    "        concatenated_zero_padding=concatenated_zero_padding,\n",
    "        diff_state=diff_state,\n",
    "    )\n",
    "\n",
    "    logger.info(f\"Fitting model...\")\n",
    "    model.fit(X, y)\n",
    "    logger.info(f\"Model trained!\")\n",
    "\n",
    "    return model"
   ]
  },
  {
   "cell_type": "code",
   "execution_count": 10,
   "id": "3d9b6648",
   "metadata": {},
   "outputs": [
    {
     "data": {
      "text/html": [
       "<pre style=\"white-space:pre;overflow-x:auto;line-height:normal;font-family:Menlo,'DejaVu Sans Mono',consolas,'Courier New',monospace\"><span style=\"color: #7fbfbf; text-decoration-color: #7fbfbf\">[16:45:33] </span><span style=\"color: #000080; text-decoration-color: #000080\">INFO    </span> Model type: <span style=\"font-weight: bold\">&lt;</span><span style=\"color: #ff00ff; text-decoration-color: #ff00ff; font-weight: bold\">class</span><span style=\"color: #000000; text-decoration-color: #000000\"> </span>                      <a href=\"file://<ipython-input-9-ae1fac9f2918>\"><span style=\"color: #7f7f7f; text-decoration-color: #7f7f7f\">&lt;ipython-input-9-ae1fac9f2918&gt;</span></a><span style=\"color: #7f7f7f; text-decoration-color: #7f7f7f\">:3</span>\n",
       "                    <span style=\"color: #008000; text-decoration-color: #008000\">'gboost_models.GBoostModel'</span><span style=\"font-weight: bold\">&gt;</span>                                             \n",
       "</pre>\n"
      ],
      "text/plain": [
       "<rich.jupyter.JupyterRenderable at 0x2960147a1c8>"
      ]
     },
     "metadata": {},
     "output_type": "display_data"
    },
    {
     "data": {
      "text/html": [
       "<pre style=\"white-space:pre;overflow-x:auto;line-height:normal;font-family:Menlo,'DejaVu Sans Mono',consolas,'Courier New',monospace\"><span style=\"color: #7fbfbf; text-decoration-color: #7fbfbf\">           </span><span style=\"color: #000080; text-decoration-color: #000080\">INFO    </span> Building model with parameters: <span style=\"font-weight: bold\">{</span><span style=\"color: #008000; text-decoration-color: #008000\">'data'</span>: <a href=\"file://<ipython-input-9-ae1fac9f2918>\"><span style=\"color: #7f7f7f; text-decoration-color: #7f7f7f\">&lt;ipython-input-9-ae1fac9f2918&gt;</span></a><span style=\"color: #7f7f7f; text-decoration-color: #7f7f7f\">:6</span>\n",
       "                    <span style=\"font-weight: bold\">{</span><span style=\"color: #008000; text-decoration-color: #008000\">'path'</span>:                                                                 \n",
       "                    <span style=\"color: #008000; text-decoration-color: #008000\">'csv_data/quanser-mixed-full-ep.csv'</span>,                                    \n",
       "                    <span style=\"color: #008000; text-decoration-color: #008000\">'full_or_relative'</span>: <span style=\"color: #008000; text-decoration-color: #008000\">'relative'</span>,                                          \n",
       "                    <span style=\"color: #008000; text-decoration-color: #008000\">'inputs'</span>: <span style=\"font-weight: bold\">[</span><span style=\"color: #008000; text-decoration-color: #008000\">'theta'</span>, <span style=\"color: #008000; text-decoration-color: #008000\">'alpha'</span>,                                             \n",
       "                    <span style=\"color: #008000; text-decoration-color: #008000\">'theta_dot'</span>, <span style=\"color: #008000; text-decoration-color: #008000\">'alpha_dot'</span><span style=\"font-weight: bold\">]</span>, <span style=\"color: #008000; text-decoration-color: #008000\">'outputs'</span>:                                    \n",
       "                    <span style=\"font-weight: bold\">[</span><span style=\"color: #008000; text-decoration-color: #008000\">'theta'</span>, <span style=\"color: #008000; text-decoration-color: #008000\">'alpha'</span>, <span style=\"color: #008000; text-decoration-color: #008000\">'theta_dot'</span>,                                          \n",
       "                    <span style=\"color: #008000; text-decoration-color: #008000\">'alpha_dot'</span><span style=\"font-weight: bold\">]</span>, <span style=\"color: #008000; text-decoration-color: #008000\">'augmented_cols'</span>: <span style=\"font-weight: bold\">[</span><span style=\"color: #008000; text-decoration-color: #008000\">'Vm'</span><span style=\"font-weight: bold\">]</span>,                                  \n",
       "                    <span style=\"color: #008000; text-decoration-color: #008000\">'iteration_order'</span>: <span style=\"color: #000080; text-decoration-color: #000080; font-weight: bold\">-1</span>, <span style=\"color: #008000; text-decoration-color: #008000\">'episode_col'</span>:                                    \n",
       "                    <span style=\"color: #008000; text-decoration-color: #008000\">'episode'</span>, <span style=\"color: #008000; text-decoration-color: #008000\">'iteration_col'</span>: <span style=\"color: #008000; text-decoration-color: #008000\">'iteration'</span>,                                 \n",
       "                    <span style=\"color: #008000; text-decoration-color: #008000\">'max_rows'</span>: <span style=\"color: #000080; text-decoration-color: #000080; font-weight: bold\">-1</span>, <span style=\"color: #008000; text-decoration-color: #008000\">'scale_data'</span>: <span style=\"color: #00ff00; text-decoration-color: #00ff00; font-style: italic\">True</span>,                                      \n",
       "                    <span style=\"color: #008000; text-decoration-color: #008000\">'diff_state'</span>: <span style=\"color: #ff0000; text-decoration-color: #ff0000; font-style: italic\">False</span>,                                                     \n",
       "                    <span style=\"color: #008000; text-decoration-color: #008000\">'concatenated_steps'</span>: <span style=\"color: #000080; text-decoration-color: #000080; font-weight: bold\">3</span>,                                                 \n",
       "                    <span style=\"color: #008000; text-decoration-color: #008000\">'concatenated_zero_padding'</span>: <span style=\"color: #00ff00; text-decoration-color: #00ff00; font-style: italic\">True</span>,                                       \n",
       "                    <span style=\"color: #008000; text-decoration-color: #008000\">'test_perc'</span>: <span style=\"color: #000080; text-decoration-color: #000080; font-weight: bold\">0.25</span><span style=\"font-weight: bold\">}</span>, <span style=\"color: #008000; text-decoration-color: #008000\">'model'</span>: <span style=\"font-weight: bold\">{</span><span style=\"color: #008000; text-decoration-color: #008000\">'name'</span>:                                    \n",
       "                    <span style=\"color: #008000; text-decoration-color: #008000\">'xgboost'</span>, <span style=\"color: #008000; text-decoration-color: #008000\">'build_params'</span>:                                               \n",
       "                    <span style=\"font-weight: bold\">{</span><span style=\"color: #008000; text-decoration-color: #008000\">'model_type'</span>: <span style=\"color: #008000; text-decoration-color: #008000\">'xgboost'</span>,                                                \n",
       "                    <span style=\"color: #008000; text-decoration-color: #008000\">'fit_separate'</span>: <span style=\"color: #ff0000; text-decoration-color: #ff0000; font-style: italic\">False</span>, <span style=\"color: #008000; text-decoration-color: #008000\">'halt_model'</span>:                                     \n",
       "                    <span style=\"color: #ff0000; text-decoration-color: #ff0000; font-style: italic\">False</span>, <span style=\"color: #008000; text-decoration-color: #008000\">'n_estimators'</span>: <span style=\"color: #000080; text-decoration-color: #000080; font-weight: bold\">100</span>, <span style=\"color: #008000; text-decoration-color: #008000\">'objective'</span>:                                 \n",
       "                    <span style=\"color: #008000; text-decoration-color: #008000\">'reg:squarederror'</span>, <span style=\"color: #008000; text-decoration-color: #008000\">'learning_rate'</span>:                                     \n",
       "                    <span style=\"color: #000080; text-decoration-color: #000080; font-weight: bold\">0.3</span>, <span style=\"color: #008000; text-decoration-color: #008000\">'scale_data'</span>: <span style=\"color: #00ff00; text-decoration-color: #00ff00; font-style: italic\">True</span>, <span style=\"color: #008000; text-decoration-color: #008000\">'max_depth'</span>:                                    \n",
       "                    <span style=\"color: #000080; text-decoration-color: #000080; font-weight: bold\">6</span><span style=\"font-weight: bold\">}</span>, <span style=\"color: #008000; text-decoration-color: #008000\">'saver'</span>: <span style=\"font-weight: bold\">{</span><span style=\"color: #008000; text-decoration-color: #008000\">'filename'</span>:                                                \n",
       "                    <span style=\"color: #008000; text-decoration-color: #008000\">'models/xgboost_models/quanser'</span><span style=\"font-weight: bold\">}</span>,                                        \n",
       "                    <span style=\"color: #008000; text-decoration-color: #008000\">'sweep'</span>: <span style=\"font-weight: bold\">{</span><span style=\"color: #008000; text-decoration-color: #008000\">'run'</span>: <span style=\"color: #ff0000; text-decoration-color: #ff0000; font-style: italic\">False</span>,                                                  \n",
       "                    <span style=\"color: #008000; text-decoration-color: #008000\">'split_strategy'</span>: <span style=\"color: #008000; text-decoration-color: #008000\">'timeseries'</span>,                                          \n",
       "                    <span style=\"color: #008000; text-decoration-color: #008000\">'search_algorithm'</span>: <span style=\"color: #008000; text-decoration-color: #008000\">'bayesian'</span>,                                          \n",
       "                    <span style=\"color: #008000; text-decoration-color: #008000\">'num_trials'</span>: <span style=\"color: #000080; text-decoration-color: #000080; font-weight: bold\">2</span>, <span style=\"color: #008000; text-decoration-color: #008000\">'scoring_func'</span>: <span style=\"color: #008000; text-decoration-color: #008000\">'r2'</span>,                                   \n",
       "                    <span style=\"color: #008000; text-decoration-color: #008000\">'early_stopping'</span>: <span style=\"color: #ff0000; text-decoration-color: #ff0000; font-style: italic\">False</span>,                                                 \n",
       "                    <span style=\"color: #008000; text-decoration-color: #008000\">'results_csv_path'</span>:                                                      \n",
       "                    <span style=\"color: #008000; text-decoration-color: #008000\">'xgboost_gridsearch/search_results.csv'</span>,                                 \n",
       "                    <span style=\"color: #008000; text-decoration-color: #008000\">'params'</span>: <span style=\"font-weight: bold\">{</span><span style=\"color: #008000; text-decoration-color: #008000\">'estimator__max_depth'</span>: <span style=\"font-weight: bold\">[</span><span style=\"color: #000080; text-decoration-color: #000080; font-weight: bold\">1</span>,                                   \n",
       "                    <span style=\"color: #000080; text-decoration-color: #000080; font-weight: bold\">3</span>, <span style=\"color: #000080; text-decoration-color: #000080; font-weight: bold\">5</span>, <span style=\"color: #000080; text-decoration-color: #000080; font-weight: bold\">10</span><span style=\"font-weight: bold\">]</span>, <span style=\"color: #008000; text-decoration-color: #008000\">'estimator__gamma'</span>: <span style=\"font-weight: bold\">[</span><span style=\"color: #000080; text-decoration-color: #000080; font-weight: bold\">0</span>, <span style=\"color: #000080; text-decoration-color: #000080; font-weight: bold\">0.5</span>,                                  \n",
       "                    <span style=\"color: #000080; text-decoration-color: #000080; font-weight: bold\">1</span>, <span style=\"color: #000080; text-decoration-color: #000080; font-weight: bold\">5</span><span style=\"font-weight: bold\">]</span>, <span style=\"color: #008000; text-decoration-color: #008000\">'estimator__subsample'</span>: <span style=\"font-weight: bold\">[</span><span style=\"color: #000080; text-decoration-color: #000080; font-weight: bold\">0.1</span>,                                     \n",
       "                    <span style=\"color: #000080; text-decoration-color: #000080; font-weight: bold\">0.5</span>, <span style=\"color: #000080; text-decoration-color: #000080; font-weight: bold\">1</span><span style=\"font-weight: bold\">]</span>, <span style=\"color: #008000; text-decoration-color: #008000\">'estimator__eta'</span>: <span style=\"font-weight: bold\">[</span><span style=\"color: #000080; text-decoration-color: #000080; font-weight: bold\">0.3</span>, <span style=\"color: #000080; text-decoration-color: #000080; font-weight: bold\">0.1</span>,                                    \n",
       "                    <span style=\"color: #000080; text-decoration-color: #000080; font-weight: bold\">0.5</span><span style=\"font-weight: bold\">]}}}</span>, <span style=\"color: #008000; text-decoration-color: #008000\">'simulator'</span>: <span style=\"font-weight: bold\">{</span><span style=\"color: #008000; text-decoration-color: #008000\">'states'</span>:                                         \n",
       "                    <span style=\"font-weight: bold\">[</span><span style=\"color: #008000; text-decoration-color: #008000\">'theta'</span>, <span style=\"color: #008000; text-decoration-color: #008000\">'alpha'</span>, <span style=\"color: #008000; text-decoration-color: #008000\">'theta_dot'</span>,                                          \n",
       "                    <span style=\"color: #008000; text-decoration-color: #008000\">'alpha_dot'</span><span style=\"font-weight: bold\">]</span>, <span style=\"color: #008000; text-decoration-color: #008000\">'actions'</span>: <span style=\"font-weight: bold\">[</span><span style=\"color: #008000; text-decoration-color: #008000\">'Vm'</span><span style=\"font-weight: bold\">]</span>,                                         \n",
       "                    <span style=\"color: #008000; text-decoration-color: #008000\">'configs'</span>: <span style=\"font-weight: bold\">[]</span>, <span style=\"color: #008000; text-decoration-color: #008000\">'episode_inits'</span>: <span style=\"font-weight: bold\">{}</span>,                                      \n",
       "                    <span style=\"color: #008000; text-decoration-color: #008000\">'initial_states'</span>: <span style=\"font-weight: bold\">{</span><span style=\"color: #008000; text-decoration-color: #008000\">'theta'</span>: <span style=\"color: #000080; text-decoration-color: #000080; font-weight: bold\">0</span>, <span style=\"color: #008000; text-decoration-color: #008000\">'alpha'</span>:                                  \n",
       "                    <span style=\"color: #000080; text-decoration-color: #000080; font-weight: bold\">0</span>, <span style=\"color: #008000; text-decoration-color: #008000\">'theta_dot'</span>: <span style=\"color: #000080; text-decoration-color: #000080; font-weight: bold\">0</span>, <span style=\"color: #008000; text-decoration-color: #008000\">'alpha_dot'</span>: <span style=\"color: #000080; text-decoration-color: #000080; font-weight: bold\">0</span><span style=\"font-weight: bold\">}</span>,                                      \n",
       "                    <span style=\"color: #008000; text-decoration-color: #008000\">'policy'</span>: <span style=\"color: #008000; text-decoration-color: #008000\">'bonsai'</span>, <span style=\"color: #008000; text-decoration-color: #008000\">'logging'</span>: <span style=\"color: #008000; text-decoration-color: #008000\">'enable'</span>,                                 \n",
       "                    <span style=\"color: #008000; text-decoration-color: #008000\">'workspace_setup'</span>: <span style=\"color: #ff0000; text-decoration-color: #ff0000; font-style: italic\">False</span>, <span style=\"color: #008000; text-decoration-color: #008000\">'render'</span>:                                      \n",
       "                    <span style=\"color: #ff0000; text-decoration-color: #ff0000; font-style: italic\">False</span><span style=\"font-weight: bold\">}}</span>                                                                  \n",
       "</pre>\n"
      ],
      "text/plain": [
       "<rich.jupyter.JupyterRenderable at 0x296158cf188>"
      ]
     },
     "metadata": {},
     "output_type": "display_data"
    },
    {
     "data": {
      "text/html": [
       "<pre style=\"white-space:pre;overflow-x:auto;line-height:normal;font-family:Menlo,'DejaVu Sans Mono',consolas,'Courier New',monospace\"><span style=\"color: #7fbfbf; text-decoration-color: #7fbfbf\">           </span><span style=\"color: #000080; text-decoration-color: #000080\">INFO    </span> Loading data from                       <a href=\"file://<ipython-input-9-ae1fac9f2918>\"><span style=\"color: #7f7f7f; text-decoration-color: #7f7f7f\">&lt;ipython-input-9-ae1fac9f2918&gt;</span></a><span style=\"color: #7f7f7f; text-decoration-color: #7f7f7f\">:10</span>\n",
       "                    csv_data/quanser-mixed-full-ep.csv                                       \n",
       "</pre>\n"
      ],
      "text/plain": [
       "<rich.jupyter.JupyterRenderable at 0x296134f90c8>"
      ]
     },
     "metadata": {},
     "output_type": "display_data"
    },
    {
     "data": {
      "text/html": [
       "<pre style=\"white-space:pre;overflow-x:auto;line-height:normal;font-family:Menlo,'DejaVu Sans Mono',consolas,'Courier New',monospace\"><span style=\"color: #7fbfbf; text-decoration-color: #7fbfbf\">[16:45:35] </span><span style=\"color: #000080; text-decoration-color: #000080\">INFO    </span> Using <span style=\"font-weight: bold\">[</span><span style=\"color: #008000; text-decoration-color: #008000\">'theta'</span>, <span style=\"color: #008000; text-decoration-color: #008000\">'alpha'</span>, <span style=\"color: #008000; text-decoration-color: #008000\">'theta_dot'</span>, <span style=\"color: #008000; text-decoration-color: #008000\">'alpha_dot'</span>, <span style=\"color: #008000; text-decoration-color: #008000\">'Vm'</span><span style=\"font-weight: bold\">]</span> <span style=\"color: #7f7f7f; text-decoration-color: #7f7f7f\">dataclass.py:314</span>\n",
       "                    as the features for modeling DDM                                         \n",
       "</pre>\n"
      ],
      "text/plain": [
       "<rich.jupyter.JupyterRenderable at 0x296159b4208>"
      ]
     },
     "metadata": {},
     "output_type": "display_data"
    },
    {
     "data": {
      "text/html": [
       "<pre style=\"white-space:pre;overflow-x:auto;line-height:normal;font-family:Menlo,'DejaVu Sans Mono',consolas,'Courier New',monospace\"><span style=\"color: #7fbfbf; text-decoration-color: #7fbfbf\">           </span><span style=\"color: #000080; text-decoration-color: #000080\">INFO    </span> Using <span style=\"font-weight: bold\">[</span><span style=\"color: #008000; text-decoration-color: #008000\">'theta'</span>, <span style=\"color: #008000; text-decoration-color: #008000\">'alpha'</span>, <span style=\"color: #008000; text-decoration-color: #008000\">'theta_dot'</span>, <span style=\"color: #008000; text-decoration-color: #008000\">'alpha_dot'</span><span style=\"font-weight: bold\">]</span> as    <span style=\"color: #7f7f7f; text-decoration-color: #7f7f7f\">dataclass.py:325</span>\n",
       "                    the labels for modeling DDM                                              \n",
       "</pre>\n"
      ],
      "text/plain": [
       "<rich.jupyter.JupyterRenderable at 0x29615869d08>"
      ]
     },
     "metadata": {},
     "output_type": "display_data"
    },
    {
     "data": {
      "text/html": [
       "<pre style=\"white-space:pre;overflow-x:auto;line-height:normal;font-family:Menlo,'DejaVu Sans Mono',consolas,'Courier New',monospace\"><span style=\"color: #7fbfbf; text-decoration-color: #7fbfbf\">           </span><span style=\"color: #000080; text-decoration-color: #000080\">INFO    </span> Iteration order set to <span style=\"color: #000080; text-decoration-color: #000080; font-weight: bold\">-1</span> so using inputs from previous   <span style=\"color: #7f7f7f; text-decoration-color: #7f7f7f\">dataclass.py:87</span>\n",
       "                    <span style=\"color: #000080; text-decoration-color: #000080; font-weight: bold\">-1</span> row                                                                   \n",
       "</pre>\n"
      ],
      "text/plain": [
       "<rich.jupyter.JupyterRenderable at 0x29601464248>"
      ]
     },
     "metadata": {},
     "output_type": "display_data"
    },
    {
     "name": "stderr",
     "output_type": "stream",
     "text": [
      "C:\\Users\\JOMCDOWE\\Miniconda3\\envs\\ddm\\lib\\site-packages\\pandas\\core\\frame.py:3069: SettingWithCopyWarning: \n",
      "A value is trying to be set on a copy of a slice from a DataFrame.\n",
      "Try using .loc[row_indexer,col_indexer] = value instead\n",
      "\n",
      "See the caveats in the documentation: https://pandas.pydata.org/pandas-docs/stable/user_guide/indexing.html#returning-a-view-versus-a-copy\n",
      "  self[k1] = value[k2]\n"
     ]
    },
    {
     "data": {
      "text/html": [
       "<pre style=\"white-space:pre;overflow-x:auto;line-height:normal;font-family:Menlo,'DejaVu Sans Mono',consolas,'Courier New',monospace\"><span style=\"color: #7fbfbf; text-decoration-color: #7fbfbf\">           </span><span style=\"color: #000080; text-decoration-color: #000080\">INFO    </span> Feature columns are: <span style=\"font-weight: bold\">[</span><span style=\"color: #008000; text-decoration-color: #008000\">'prev_theta'</span>, <span style=\"color: #008000; text-decoration-color: #008000\">'prev_alpha'</span>,        <span style=\"color: #7f7f7f; text-decoration-color: #7f7f7f\">dataclass.py:128</span>\n",
       "                    <span style=\"color: #008000; text-decoration-color: #008000\">'prev_theta_dot'</span>, <span style=\"color: #008000; text-decoration-color: #008000\">'prev_alpha_dot'</span>, <span style=\"color: #008000; text-decoration-color: #008000\">'Vm'</span><span style=\"font-weight: bold\">]</span>                                \n",
       "</pre>\n"
      ],
      "text/plain": [
       "<rich.jupyter.JupyterRenderable at 0x296158b1c08>"
      ]
     },
     "metadata": {},
     "output_type": "display_data"
    },
    {
     "data": {
      "text/html": [
       "<pre style=\"white-space:pre;overflow-x:auto;line-height:normal;font-family:Menlo,'DejaVu Sans Mono',consolas,'Courier New',monospace\"><span style=\"color: #7fbfbf; text-decoration-color: #7fbfbf\">           </span><span style=\"color: #000080; text-decoration-color: #000080\">INFO    </span> Label columns are: <span style=\"font-weight: bold\">[</span><span style=\"color: #008000; text-decoration-color: #008000\">'theta'</span>, <span style=\"color: #008000; text-decoration-color: #008000\">'alpha'</span>, <span style=\"color: #008000; text-decoration-color: #008000\">'theta_dot'</span>,       <span style=\"color: #7f7f7f; text-decoration-color: #7f7f7f\">dataclass.py:129</span>\n",
       "                    <span style=\"color: #008000; text-decoration-color: #008000\">'alpha_dot'</span><span style=\"font-weight: bold\">]</span>                                                             \n",
       "</pre>\n"
      ],
      "text/plain": [
       "<rich.jupyter.JupyterRenderable at 0x296158b1e88>"
      ]
     },
     "metadata": {},
     "output_type": "display_data"
    },
    {
     "data": {
      "text/html": [
       "<pre style=\"white-space:pre;overflow-x:auto;line-height:normal;font-family:Menlo,'DejaVu Sans Mono',consolas,'Courier New',monospace\"><span style=\"color: #7fbfbf; text-decoration-color: #7fbfbf\">[16:45:37] </span><span style=\"color: #000080; text-decoration-color: #000080\">INFO    </span> trimmed dataframe across episodes. found <span style=\"font-weight: bold\">(</span><span style=\"color: #000080; text-decoration-color: #000080; font-weight: bold\">561</span><span style=\"font-weight: bold\">)</span> episodes. <span style=\"color: #7f7f7f; text-decoration-color: #7f7f7f\">dataclass.py:400</span>\n",
       "</pre>\n"
      ],
      "text/plain": [
       "<rich.jupyter.JupyterRenderable at 0x296159bd0c8>"
      ]
     },
     "metadata": {},
     "output_type": "display_data"
    },
    {
     "data": {
      "text/html": [
       "<pre style=\"white-space:pre;overflow-x:auto;line-height:normal;font-family:Menlo,'DejaVu Sans Mono',consolas,'Courier New',monospace\"><span style=\"color: #7fbfbf; text-decoration-color: #7fbfbf\">[16:45:51] </span><span style=\"color: #000080; text-decoration-color: #000080\">INFO    </span> divided train &amp; test set with <span style=\"font-weight: bold\">(</span><span style=\"color: #000080; text-decoration-color: #000080; font-weight: bold\">169604</span><span style=\"font-weight: bold\">)</span> and <span style=\"font-weight: bold\">(</span><span style=\"color: #000080; text-decoration-color: #000080; font-weight: bold\">29952</span><span style=\"font-weight: bold\">)</span>       <span style=\"color: #7f7f7f; text-decoration-color: #7f7f7f\">dataclass.py:444</span>\n",
       "                    iterations, respectively. Chosen split == <span style=\"color: #000080; text-decoration-color: #000080; font-weight: bold\">85.0</span>%.                         \n",
       "                       &gt;&gt; Average episode length: <span style=\"font-weight: bold\">(</span><span style=\"color: #000080; text-decoration-color: #000080; font-weight: bold\">355.71479500891263</span><span style=\"font-weight: bold\">)</span>.                      \n",
       "                    Average std dev: <span style=\"font-weight: bold\">(</span><span style=\"color: #000080; text-decoration-color: #000080; font-weight: bold\">307.0268046361179</span><span style=\"font-weight: bold\">)</span>                                     \n",
       "</pre>\n"
      ],
      "text/plain": [
       "<rich.jupyter.JupyterRenderable at 0x29617408488>"
      ]
     },
     "metadata": {},
     "output_type": "display_data"
    },
    {
     "data": {
      "text/html": [
       "<pre style=\"white-space:pre;overflow-x:auto;line-height:normal;font-family:Menlo,'DejaVu Sans Mono',consolas,'Courier New',monospace\"><span style=\"color: #7fbfbf; text-decoration-color: #7fbfbf\">[16:45:54] </span><span style=\"color: #000080; text-decoration-color: #000080\">INFO    </span> Fitting model<span style=\"color: #808000; text-decoration-color: #808000\">...</span>                        <a href=\"file://<ipython-input-9-ae1fac9f2918>\"><span style=\"color: #7f7f7f; text-decoration-color: #7f7f7f\">&lt;ipython-input-9-ae1fac9f2918&gt;</span></a><span style=\"color: #7f7f7f; text-decoration-color: #7f7f7f\">:26</span>\n",
       "</pre>\n"
      ],
      "text/plain": [
       "<rich.jupyter.JupyterRenderable at 0x2961736de48>"
      ]
     },
     "metadata": {},
     "output_type": "display_data"
    },
    {
     "name": "stderr",
     "output_type": "stream",
     "text": [
      "C:\\Users\\JOMCDOWE\\Miniconda3\\envs\\ddm\\lib\\site-packages\\xgboost\\data.py:106: UserWarning: Use subset (sliced data) of np.ndarray is not recommended because it will generate extra copies and increase memory consumption\n",
      "  \"because it will generate extra copies and increase \" +\n"
     ]
    },
    {
     "data": {
      "text/html": [
       "<pre style=\"white-space:pre;overflow-x:auto;line-height:normal;font-family:Menlo,'DejaVu Sans Mono',consolas,'Courier New',monospace\"><span style=\"color: #7fbfbf; text-decoration-color: #7fbfbf\">[16:47:29] </span><span style=\"color: #000080; text-decoration-color: #000080\">INFO    </span> Model trained!                          <a href=\"file://<ipython-input-9-ae1fac9f2918>\"><span style=\"color: #7f7f7f; text-decoration-color: #7f7f7f\">&lt;ipython-input-9-ae1fac9f2918&gt;</span></a><span style=\"color: #7f7f7f; text-decoration-color: #7f7f7f\">:28</span>\n",
       "</pre>\n"
      ],
      "text/plain": [
       "<rich.jupyter.JupyterRenderable at 0x29615b23ac8>"
      ]
     },
     "metadata": {},
     "output_type": "display_data"
    }
   ],
   "source": [
    "model = train_models(cfg)"
   ]
  },
  {
   "cell_type": "markdown",
   "id": "da34ce25",
   "metadata": {},
   "source": [
    "### Save Model"
   ]
  },
  {
   "cell_type": "code",
   "execution_count": 11,
   "id": "0fd15a42",
   "metadata": {},
   "outputs": [
    {
     "data": {
      "text/html": [
       "<pre style=\"white-space:pre;overflow-x:auto;line-height:normal;font-family:Menlo,'DejaVu Sans Mono',consolas,'Courier New',monospace\"><span style=\"color: #7fbfbf; text-decoration-color: #7fbfbf\">           </span><span style=\"color: #000080; text-decoration-color: #000080\">INFO    </span> Scale transformations used, saving to                <span style=\"color: #7f7f7f; text-decoration-color: #7f7f7f\">gboost_models.py:123</span>\n",
       "                    models/xgboost_models/quanser                                            \n",
       "</pre>\n"
      ],
      "text/plain": [
       "<rich.jupyter.JupyterRenderable at 0x29615abfcc8>"
      ]
     },
     "metadata": {},
     "output_type": "display_data"
    }
   ],
   "source": [
    "model.save_model(filename=cfg[\"model\"][\"saver\"][\"filename\"])"
   ]
  },
  {
   "cell_type": "markdown",
   "id": "0cf9812d",
   "metadata": {},
   "source": [
    "### Data Structure of Saved model"
   ]
  },
  {
   "cell_type": "code",
   "execution_count": 12,
   "id": "fe98fd66",
   "metadata": {},
   "outputs": [
    {
     "data": {
      "text/html": [
       "<pre style=\"white-space:pre;overflow-x:auto;line-height:normal;font-family:Menlo,'DejaVu Sans Mono',consolas,'Courier New',monospace\"><span style=\"color: #7fbfbf; text-decoration-color: #7fbfbf\">[16:47:30] </span><span style=\"color: #000080; text-decoration-color: #000080\">INFO    </span> Input_cols:  <span style=\"font-weight: bold\">[</span><span style=\"color: #008000; text-decoration-color: #008000\">'theta'</span>, <span style=\"color: #008000; text-decoration-color: #008000\">'alpha'</span>,         <a href=\"file://<ipython-input-12-3da48a5edf65>\"><span style=\"color: #7f7f7f; text-decoration-color: #7f7f7f\">&lt;ipython-input-12-3da48a5edf65&gt;</span></a><span style=\"color: #7f7f7f; text-decoration-color: #7f7f7f\">:1</span>\n",
       "                    <span style=\"color: #008000; text-decoration-color: #008000\">'theta_dot'</span>, <span style=\"color: #008000; text-decoration-color: #008000\">'alpha_dot'</span>, <span style=\"color: #008000; text-decoration-color: #008000\">'Vm'</span><span style=\"font-weight: bold\">]</span>                                          \n",
       "</pre>\n"
      ],
      "text/plain": [
       "<rich.jupyter.JupyterRenderable at 0x29615a63e08>"
      ]
     },
     "metadata": {},
     "output_type": "display_data"
    },
    {
     "data": {
      "text/html": [
       "<pre style=\"white-space:pre;overflow-x:auto;line-height:normal;font-family:Menlo,'DejaVu Sans Mono',consolas,'Courier New',monospace\"><span style=\"color: #7fbfbf; text-decoration-color: #7fbfbf\">           </span><span style=\"color: #000080; text-decoration-color: #000080\">INFO    </span> Output_cols: <span style=\"font-weight: bold\">[</span><span style=\"color: #008000; text-decoration-color: #008000\">'theta'</span>, <span style=\"color: #008000; text-decoration-color: #008000\">'alpha'</span>,         <a href=\"file://<ipython-input-12-3da48a5edf65>\"><span style=\"color: #7f7f7f; text-decoration-color: #7f7f7f\">&lt;ipython-input-12-3da48a5edf65&gt;</span></a><span style=\"color: #7f7f7f; text-decoration-color: #7f7f7f\">:2</span>\n",
       "                    <span style=\"color: #008000; text-decoration-color: #008000\">'theta_dot'</span>, <span style=\"color: #008000; text-decoration-color: #008000\">'alpha_dot'</span><span style=\"font-weight: bold\">]</span>                                                \n",
       "</pre>\n"
      ],
      "text/plain": [
       "<rich.jupyter.JupyterRenderable at 0x29601434548>"
      ]
     },
     "metadata": {},
     "output_type": "display_data"
    }
   ],
   "source": [
    "logger.info(f\"Input_cols:  {model.features}\")\n",
    "logger.info(f\"Output_cols: {model.labels}\")"
   ]
  },
  {
   "cell_type": "markdown",
   "id": "a28ecf35",
   "metadata": {},
   "source": [
    "## 4. Model Evaluations\n",
    "\n",
    "We provide three methods for evaluating the errors of our trained models:\n",
    "\n",
    "1. Model predictive error: using a specified metric (such as RMSE) and a test set, we evaluate the metric on the test set.\n",
    "2. Visualization of per-iteration predictions vs a test set\n",
    "3. Visualization of sequential predictions vs a test set"
   ]
  },
  {
   "cell_type": "markdown",
   "id": "8031aed2",
   "metadata": {},
   "source": [
    "### 4.1. Estimated Prediction Error\n",
    "#### 4.1.a. Estimated Prediction Error: Per-Iteration Predictions"
   ]
  },
  {
   "cell_type": "code",
   "execution_count": null,
   "id": "2043ed96",
   "metadata": {},
   "outputs": [],
   "source": [
    "from assessment_metrics_loader import available_metrics\n",
    "rms_error = available_metrics[\"root_mean_squared_error\"]\n",
    "ms_error = available_metrics[\"mean_squared_error\"]"
   ]
  },
  {
   "cell_type": "code",
   "execution_count": null,
   "id": "a3185deb",
   "metadata": {},
   "outputs": [],
   "source": [
    "X_test, y_test = model.get_test_set(grouped_per_episode=False)\n",
    "\n",
    "per_iteration_eval_table = model.evaluate(rms_error, X_test, y_test, marginal=True)\n",
    "\n",
    "per_iteration_eval_table.rename(columns = {'score':'score_per_it'}, inplace = True)"
   ]
  },
  {
   "cell_type": "code",
   "execution_count": null,
   "id": "35fce2ad",
   "metadata": {},
   "outputs": [],
   "source": [
    "if (per_iteration_eval_table[\"score_per_it\"] > 1.0).any():\n",
    "    logger.warn(\"Per-iteration assessment error is high. Please, review your model\")\n",
    "\n",
    "per_iteration_eval_table"
   ]
  },
  {
   "cell_type": "markdown",
   "id": "6c1ebaad",
   "metadata": {},
   "source": [
    "#### 4.1.b. Estimated Prediction Error: Per-Iteration Predictions"
   ]
  },
  {
   "cell_type": "code",
   "execution_count": 13,
   "id": "1031352b",
   "metadata": {},
   "outputs": [],
   "source": [
    "# number of iterations to predict sequentially\n",
    "it_per_episode = 640"
   ]
  },
  {
   "cell_type": "code",
   "execution_count": null,
   "id": "e2765043",
   "metadata": {},
   "outputs": [],
   "source": [
    "X_test_grouped, y_test_grouped = model.get_test_set(grouped_per_episode=True)\n",
    "print(type(X_test_grouped))\n",
    "\n",
    "sequential_eval_table = model.evaluate_sequentially(\n",
    "    rms_error,\n",
    "    X_test_grouped,\n",
    "    y_test_grouped,\n",
    "    marginal=True,\n",
    "    it_per_episode=it_per_episode\n",
    ")\n",
    "\n",
    "sequential_eval_table.rename(columns = {'score':'seq_score'}, inplace = True)"
   ]
  },
  {
   "cell_type": "code",
   "execution_count": null,
   "id": "aba80f76",
   "metadata": {},
   "outputs": [],
   "source": [
    "X_test_grouped[0].shape"
   ]
  },
  {
   "cell_type": "code",
   "execution_count": null,
   "id": "c58c7f7e",
   "metadata": {},
   "outputs": [],
   "source": [
    "if (sequential_eval_table[\"seq_score\"] > 1.0).any():\n",
    "    logger.warn(\"Sequentially analyzed assessment error is high. Please, review your model\")\n",
    "\n",
    "sequential_eval_table"
   ]
  },
  {
   "cell_type": "markdown",
   "id": "97fa1ade",
   "metadata": {},
   "source": [
    "### 4.2. Per-Iteration Predictions"
   ]
  },
  {
   "cell_type": "code",
   "execution_count": 14,
   "id": "aa11d7c3",
   "metadata": {},
   "outputs": [],
   "source": [
    "action_feat = \"Vm\""
   ]
  },
  {
   "cell_type": "code",
   "execution_count": null,
   "id": "77bfdfcd",
   "metadata": {},
   "outputs": [],
   "source": [
    "X_test, y_test = model.get_test_set(grouped_per_episode=False)\n",
    "preds = model.predict(X_test)"
   ]
  },
  {
   "cell_type": "code",
   "execution_count": null,
   "id": "dc55ecc6",
   "metadata": {},
   "outputs": [],
   "source": [
    "# Plot results graphs\n",
    "label_count = np.shape(preds)[1]\n",
    "fig,axs = plt.subplots(3,2,)\n",
    "for i in range(label_count):\n",
    "    axs[i//2,i%2].set_title(f\"Per-iteration predictions: {model.labels[i]}\")\n",
    "    axs[i//2,i%2].plot(y_test[:,i], \"green\")\n",
    "    axs[i//2,i%2].plot(preds[:,i], \"brown\")\n",
    "    \n",
    "# select section to zoom in (for both action & episode visualization)\n",
    "sample_from = 0\n",
    "sample_to = 50\n",
    "\n",
    "# Plot action changes\n",
    "action_idx = model.features.index(action_feat)\n",
    "axs[(i+1)//2,(i+1)%2].set_title(f\"Plot [{sample_from}:{sample_to}] actions (ensure action is not stale)\")\n",
    "axs[(i+1)//2,(i+1)%2].plot(X[sample_from:sample_to,action_idx])\n",
    "    \n",
    "# Plot prediction graph -- with zoom on 100 iterations\n",
    "action_idx = model.features.index(action_feat)\n",
    "feat_idx = 1\n",
    "axs[(i+2)//2,(i+2)%2].set_title(f\"Plot [{sample_from}:{sample_to}] state preds: {model.labels[feat_idx]}\")\n",
    "axs[(i+2)//2,(i+2)%2].plot(y_test[sample_from:sample_to,feat_idx], \"green\")\n",
    "axs[(i+2)//2,(i+2)%2].plot(preds[sample_from:sample_to,feat_idx], \"brown\")"
   ]
  },
  {
   "cell_type": "markdown",
   "id": "54da42ed",
   "metadata": {},
   "source": [
    "### 4.3. Sequential Predictions"
   ]
  },
  {
   "cell_type": "code",
   "execution_count": 15,
   "id": "3c82f196",
   "metadata": {},
   "outputs": [],
   "source": [
    "# number of iterations to predict sequentially\n",
    "# - taking the value defined above by default -\n",
    "it_per_episode = it_per_episode\n",
    "action_feat = action_feat"
   ]
  },
  {
   "cell_type": "code",
   "execution_count": 16,
   "id": "1d520bff",
   "metadata": {},
   "outputs": [
    {
     "name": "stderr",
     "output_type": "stream",
     "text": [
      "C:\\Users\\JOMCDOWE\\Miniconda3\\envs\\ddm\\lib\\site-packages\\numpy\\core\\_asarray.py:83: VisibleDeprecationWarning: Creating an ndarray from ragged nested sequences (which is a list-or-tuple of lists-or-tuples-or ndarrays with different lengths or shapes) is deprecated. If you meant to do this, you must specify 'dtype=object' when creating the ndarray\n",
      "  return array(a, dtype, copy=False, order=order)\n"
     ]
    },
    {
     "name": "stdout",
     "output_type": "stream",
     "text": [
      "X (predict_sequentially) ---> (71,)\n"
     ]
    }
   ],
   "source": [
    "X_test_grouped, y_test_grouped = model.get_test_set(grouped_per_episode=True)\n",
    "\n",
    "preds_sequentially, labels_sequentially = model.predict_sequentially(\n",
    "    X_test_grouped,\n",
    "    y_test_grouped,\n",
    "    it_per_episode=it_per_episode\n",
    ")"
   ]
  },
  {
   "cell_type": "code",
   "execution_count": 17,
   "id": "33cc97d1",
   "metadata": {},
   "outputs": [
    {
     "data": {
      "text/plain": [
       "[<matplotlib.lines.Line2D at 0x29615eaddc8>]"
      ]
     },
     "execution_count": 17,
     "metadata": {},
     "output_type": "execute_result"
    },
    {
     "data": {
      "image/png": "[encoded data removed]",
      "text/plain": [
       "<Figure size 864x720 with 6 Axes>"
      ]
     },
     "metadata": {
      "needs_background": "light"
     },
     "output_type": "display_data"
    }
   ],
   "source": [
    "# Plot results graphs\n",
    "label_count = np.shape(preds_sequentially)[1]\n",
    "fig,axs = plt.subplots(3,2,)\n",
    "for i in range(label_count):\n",
    "    axs[i//2,i%2].set_title(f\"Sequential predictions: {model.labels[i]}\")\n",
    "    axs[i//2,i%2].plot(labels_sequentially[:,i], \"green\")\n",
    "    axs[i//2,i%2].plot(preds_sequentially[:,i], \"brown\")\n",
    "    \n",
    "# select section to zoom in (for both action & episode visualization)\n",
    "sample_from = 0\n",
    "sample_to = 50\n",
    "\n",
    "# Plot action changes\n",
    "action_idx = model.features.index(action_feat)\n",
    "axs[(i+1)//2,(i+1)%2].set_title(f\"Plot [{sample_from}:{sample_to}] actions (ensure action is not stale)\")\n",
    "axs[(i+1)//2,(i+1)%2].plot(X[sample_from:sample_to,action_idx])\n",
    "    \n",
    "# Plot prediction graph -- with zoom on 100 iterations\n",
    "action_idx = model.features.index(action_feat)\n",
    "feat_idx = 1\n",
    "axs[(i+2)//2,(i+2)%2].set_title(f\"Plot [{sample_from}:{sample_to}] state preds: {model.labels[feat_idx]}\")\n",
    "axs[(i+2)//2,(i+2)%2].plot(labels_sequentially[sample_from:sample_to,feat_idx], \"green\")\n",
    "axs[(i+2)//2,(i+2)%2].plot(preds_sequentially[sample_from:sample_to,feat_idx], \"brown\")"
   ]
  },
  {
   "cell_type": "markdown",
   "id": "fb0bbc9a",
   "metadata": {},
   "source": [
    "## 5. Comparing Model Evaluations\n",
    "\n",
    "If you want to compare various models, you can use the following section to save them in between runs.\n",
    "\n",
    "1. Select appropriate \"model_name\" tag, and run this section\n",
    "2. Change config through \"config.yaml\" (located at 'conf' folder)\n",
    "3. Rerun from Model Build, until this section\n",
    "4. Define a new value for \"model_name\" tag, and run this section again"
   ]
  },
  {
   "cell_type": "code",
   "execution_count": null,
   "id": "41a9b9a4",
   "metadata": {},
   "outputs": [],
   "source": [
    "# select model name, and feats to extract\n",
    "model_name = \"xgb\""
   ]
  },
  {
   "cell_type": "code",
   "execution_count": null,
   "id": "3cad0b79",
   "metadata": {},
   "outputs": [],
   "source": [
    "# per-iteration & sequential scores\n",
    "model_per_it_scores = copy.deepcopy(per_iteration_eval_table)\n",
    "model_sequential_scores = copy.deepcopy(sequential_eval_table)"
   ]
  },
  {
   "cell_type": "code",
   "execution_count": null,
   "id": "3b5d9ad0",
   "metadata": {},
   "outputs": [],
   "source": [
    "# initialize models dictionary if it doesn't exist already\n",
    "if 'models_dict' not in locals():\n",
    "    models_dict = dict()\n",
    "\n",
    "# append tables to model using selected model name as key\n",
    "models_dict[model_name] = (model_per_it_scores, model_sequential_scores)\n",
    "\n",
    "# redefine column names if needed\n",
    "for model_name, score_tables in models_dict.items():\n",
    "    for score_table in score_tables:\n",
    "        for col_name in score_table.columns:\n",
    "            if \"score\" in col_name and model_name not in col_name:\n",
    "                score_table.rename(columns = {col_name:model_name+\"_\"+col_name}, inplace = True)\n",
    "\n",
    "# concatenate across all models\n",
    "all_scores = None\n",
    "for model_name, score_tables in models_dict.items():\n",
    "    for score_table in score_tables:\n",
    "        if all_scores is None:\n",
    "            all_scores = score_table\n",
    "        else:\n",
    "            all_scores = all_scores.merge(score_table,how='outer')\n",
    "\n",
    "all_scores"
   ]
  },
  {
   "cell_type": "code",
   "execution_count": null,
   "id": "0029fc86",
   "metadata": {},
   "outputs": [],
   "source": []
  }
 ],
 "metadata": {
  "kernelspec": {
   "display_name": "Python 3",
   "language": "python",
   "name": "python3"
  },
  "language_info": {
   "codemirror_mode": {
    "name": "ipython",
    "version": 3
   },
   "file_extension": ".py",
   "mimetype": "text/x-python",
   "name": "python",
   "nbconvert_exporter": "python",
   "pygments_lexer": "ipython3",
   "version": "3.7.7"
  }
 },
 "nbformat": 4,
 "nbformat_minor": 5
}
