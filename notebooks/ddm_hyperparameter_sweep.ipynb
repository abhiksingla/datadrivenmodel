{
 "cells": [
  {
   "cell_type": "markdown",
   "metadata": {},
   "source": [
    "# Tune Model Hyperparameters with the Data-Driven Library\n",
    "\n",
    "The datadriven library provides an extensible command-line interface for training, evaluating, and predicting data-driven simulators. However, you may prefer training and sweeping models inside a notebook. This notebook provides an example for doing so."
   ]
  },
  {
   "cell_type": "markdown",
   "metadata": {},
   "source": [
    "## Set Working Directory and Import Necessary Libraries"
   ]
  },
  {
   "cell_type": "code",
   "execution_count": 1,
   "metadata": {},
   "outputs": [
    {
     "name": "stdout",
     "output_type": "stream",
     "text": [
      "/Users/jill/bonsai/datadrivenmodel\n"
     ]
    }
   ],
   "source": [
    "cd .."
   ]
  },
  {
   "cell_type": "code",
   "execution_count": 2,
   "metadata": {},
   "outputs": [],
   "source": [
    "from hydra.experimental import initialize, compose\n",
    "from omegaconf import DictConfig, ListConfig, OmegaConf\n",
    "from model_loader import available_models\n",
    "from base import plot_parallel_coords\n",
    "import logging\n",
    "import matplotlib.pyplot as plt\n",
    "import numpy as np\n",
    "from rich import print\n",
    "from rich.logging import RichHandler\n",
    "import copy\n",
    "import pandas as pd\n",
    "from assessment_metrics_loader import available_metrics\n",
    "\n",
    "logging.basicConfig(\n",
    "    level=logging.INFO,\n",
    "    format=\"%(message)s\",\n",
    "    datefmt=\"[%X]\",\n",
    "    handlers=[RichHandler()]\n",
    ")\n",
    "logger = logging.getLogger(\"ddm_training\")\n",
    "logger.setLevel(logging.INFO)"
   ]
  },
  {
   "cell_type": "markdown",
   "metadata": {},
   "source": [
    "## Initialize Configuration\n",
    "\n",
    "While you can provide every argument manually, there is benefit in directly using the `hydra` config class to load an existing configuration file. This way you can ensure your parameters are saved to a file for later use, and you automatically gain the benefit of all the logging and model artifacts that are provided by our workflow of `hydra` and `mlflow`.\n",
    "\n",
    "If you want to override any settings of the configurations, provide them in a list of `overrides` as shown below."
   ]
  },
  {
   "cell_type": "code",
   "execution_count": 3,
   "metadata": {},
   "outputs": [
    {
     "name": "stderr",
     "output_type": "stream",
     "text": [
      "/Users/jill/opt/anaconda3/envs/ddm/lib/python3.8/site-packages/hydra/plugins/config_source.py:190: UserWarning: \n",
      "Missing @package directive model/xgboost.yaml in file:///Users/jill/bonsai/datadrivenmodel/conf.\n",
      "See https://hydra.cc/docs/next/upgrades/0.11_to_1.0/adding_a_package_directive\n",
      "  warnings.warn(message=msg, category=UserWarning)\n",
      "/Users/jill/opt/anaconda3/envs/ddm/lib/python3.8/site-packages/hydra/plugins/config_source.py:190: UserWarning: \n",
      "Missing @package directive data/house_energy.yaml in file:///Users/jill/bonsai/datadrivenmodel/conf.\n",
      "See https://hydra.cc/docs/next/upgrades/0.11_to_1.0/adding_a_package_directive\n",
      "  warnings.warn(message=msg, category=UserWarning)\n",
      "/Users/jill/opt/anaconda3/envs/ddm/lib/python3.8/site-packages/hydra/plugins/config_source.py:190: UserWarning: \n",
      "Missing @package directive simulator/house_energy_simparam.yaml in file:///Users/jill/bonsai/datadrivenmodel/conf.\n",
      "See https://hydra.cc/docs/next/upgrades/0.11_to_1.0/adding_a_package_directive\n",
      "  warnings.warn(message=msg, category=UserWarning)\n"
     ]
    }
   ],
   "source": [
    "initialize(config_path=\"../conf\", job_name=\"ddm_training\")\n",
    "cfg = compose(config_name=\"config\", overrides=[\"data=house_energy\", \"model=xgboost\"])"
   ]
  },
  {
   "cell_type": "code",
   "execution_count": 4,
   "metadata": {},
   "outputs": [
    {
     "data": {
      "text/html": [
       "<pre style=\"white-space:pre;overflow-x:auto;line-height:normal;font-family:Menlo,'DejaVu Sans Mono',consolas,'Courier New',monospace\">model:\n",
       "  name: xgboost\n",
       "  build_params:\n",
       "    model_type: xgboost\n",
       "    fit_separate: false\n",
       "    halt_model: false\n",
       "    n_estimators: <span style=\"color: #000080; text-decoration-color: #000080; font-weight: bold\">100</span>\n",
       "    objective: reg:squarederror\n",
       "    learning_rate: <span style=\"color: #000080; text-decoration-color: #000080; font-weight: bold\">0.3</span>\n",
       "    scale_data: true\n",
       "    max_depth: <span style=\"color: #000080; text-decoration-color: #000080; font-weight: bold\">6</span>\n",
       "  saver:\n",
       "    filename: models/xgboost_models/house_energy\n",
       "  sweep:\n",
       "    run: false\n",
       "    split_strategy: timeseries\n",
       "    search_algorithm: bayesian\n",
       "    num_trials: <span style=\"color: #000080; text-decoration-color: #000080; font-weight: bold\">15</span>\n",
       "    scoring_func: r2\n",
       "    early_stopping: false\n",
       "    results_csv_path: xgboost_gridsearch/search_results.csv\n",
       "    params:\n",
       "      estimator__max_depth:\n",
       "      - <span style=\"color: #000080; text-decoration-color: #000080; font-weight: bold\">1</span>\n",
       "      - <span style=\"color: #000080; text-decoration-color: #000080; font-weight: bold\">3</span>\n",
       "      - <span style=\"color: #000080; text-decoration-color: #000080; font-weight: bold\">5</span>\n",
       "      - <span style=\"color: #000080; text-decoration-color: #000080; font-weight: bold\">10</span>\n",
       "      estimator__gamma:\n",
       "      - <span style=\"color: #000080; text-decoration-color: #000080; font-weight: bold\">0</span>\n",
       "      - <span style=\"color: #000080; text-decoration-color: #000080; font-weight: bold\">0.5</span>\n",
       "      - <span style=\"color: #000080; text-decoration-color: #000080; font-weight: bold\">1</span>\n",
       "      - <span style=\"color: #000080; text-decoration-color: #000080; font-weight: bold\">5</span>\n",
       "      estimator__subsample:\n",
       "      - <span style=\"color: #000080; text-decoration-color: #000080; font-weight: bold\">0.1</span>\n",
       "      - <span style=\"color: #000080; text-decoration-color: #000080; font-weight: bold\">0.5</span>\n",
       "      - <span style=\"color: #000080; text-decoration-color: #000080; font-weight: bold\">1</span>\n",
       "      estimator__eta:\n",
       "      - <span style=\"color: #000080; text-decoration-color: #000080; font-weight: bold\">0.3</span>\n",
       "      - <span style=\"color: #000080; text-decoration-color: #000080; font-weight: bold\">0.1</span>\n",
       "      - <span style=\"color: #000080; text-decoration-color: #000080; font-weight: bold\">0.5</span>\n",
       "data:\n",
       "  path: csv_data/house_energy.csv\n",
       "  full_or_relative: relative\n",
       "  inputs:\n",
       "  - Tin\n",
       "  - Tout\n",
       "  outputs:\n",
       "  - Tin\n",
       "  augmented_cols:\n",
       "  - K\n",
       "  - C\n",
       "  - Qhvac\n",
       "  - horizon\n",
       "  - Tset_start\n",
       "  - Tset_stop\n",
       "  - Tset_transition\n",
       "  - Tout_amplitude\n",
       "  - Tout_median\n",
       "  - hvacON\n",
       "  iteration_order: <span style=\"color: #000080; text-decoration-color: #000080; font-weight: bold\">-1</span>\n",
       "  episode_col: episode\n",
       "  iteration_col: iteration\n",
       "  max_rows: <span style=\"color: #000080; text-decoration-color: #000080; font-weight: bold\">-1</span>\n",
       "  diff_state: false\n",
       "  test_perc: <span style=\"color: #000080; text-decoration-color: #000080; font-weight: bold\">0.2</span>\n",
       "simulator:\n",
       "  states:\n",
       "  - Tin\n",
       "  - Tout\n",
       "  actions:\n",
       "  - hvacON\n",
       "  configs:\n",
       "  - K\n",
       "  - C\n",
       "  - Qhvac\n",
       "  - horizon\n",
       "  - Tset_start\n",
       "  - Tset_stop\n",
       "  - Tset_transition\n",
       "  - Tout_amplitude\n",
       "  - Tout_median\n",
       "  episode_inits:\n",
       "    K: <span style=\"color: #000080; text-decoration-color: #000080; font-weight: bold\">0.5</span>\n",
       "    C: <span style=\"color: #000080; text-decoration-color: #000080; font-weight: bold\">0.3</span>\n",
       "    Qhvac: <span style=\"color: #000080; text-decoration-color: #000080; font-weight: bold\">9</span>\n",
       "    horizon: <span style=\"color: #000080; text-decoration-color: #000080; font-weight: bold\">288</span>\n",
       "    Tset_start: <span style=\"color: #000080; text-decoration-color: #000080; font-weight: bold\">25</span>\n",
       "    Tset_stop: <span style=\"color: #000080; text-decoration-color: #000080; font-weight: bold\">20</span>\n",
       "    Tset_transition: <span style=\"color: #000080; text-decoration-color: #000080; font-weight: bold\">100</span>\n",
       "    Tout_amplitude: <span style=\"color: #000080; text-decoration-color: #000080; font-weight: bold\">5</span>\n",
       "    Tout_median: <span style=\"color: #000080; text-decoration-color: #000080; font-weight: bold\">25</span>\n",
       "  initial_states:\n",
       "    Tin:\n",
       "      inkling_name: Tin_initial\n",
       "      min: <span style=\"color: #000080; text-decoration-color: #000080; font-weight: bold\">18</span>\n",
       "      max: <span style=\"color: #000080; text-decoration-color: #000080; font-weight: bold\">30</span>\n",
       "    Tout:\n",
       "      inkling_name: Tout\n",
       "      min: <span style=\"color: #000080; text-decoration-color: #000080; font-weight: bold\">25</span>\n",
       "      max: <span style=\"color: #000080; text-decoration-color: #000080; font-weight: bold\">25</span>\n",
       "  signal_builder:\n",
       "    signal_types:\n",
       "      Tset: step_function\n",
       "      Tout: sinewave\n",
       "    horizon: <span style=\"color: #000080; text-decoration-color: #000080; font-weight: bold\">288</span>\n",
       "    signal_params:\n",
       "      Tset:\n",
       "        start:\n",
       "          min: <span style=\"color: #000080; text-decoration-color: #000080; font-weight: bold\">25</span>\n",
       "          max: <span style=\"color: #000080; text-decoration-color: #000080; font-weight: bold\">25</span>\n",
       "        stop:\n",
       "          min: <span style=\"color: #000080; text-decoration-color: #000080; font-weight: bold\">20</span>\n",
       "          max: <span style=\"color: #000080; text-decoration-color: #000080; font-weight: bold\">22</span>\n",
       "        transition:\n",
       "          min: <span style=\"color: #000080; text-decoration-color: #000080; font-weight: bold\">100</span>\n",
       "          max: <span style=\"color: #000080; text-decoration-color: #000080; font-weight: bold\">148</span>\n",
       "      Tout:\n",
       "        amplitude:\n",
       "          min: <span style=\"color: #000080; text-decoration-color: #000080; font-weight: bold\">3</span>\n",
       "          max: <span style=\"color: #000080; text-decoration-color: #000080; font-weight: bold\">5</span>\n",
       "        median:\n",
       "          min: <span style=\"color: #000080; text-decoration-color: #000080; font-weight: bold\">23</span>\n",
       "          max: <span style=\"color: #000080; text-decoration-color: #000080; font-weight: bold\">30</span>\n",
       "  policy: bonsai\n",
       "  logging: enable\n",
       "  workspace_setup: true\n",
       "\n",
       "</pre>\n"
      ],
      "text/plain": [
       "<rich.jupyter.JupyterRenderable at 0x7fbc4ce90220>"
      ]
     },
     "metadata": {},
     "output_type": "display_data"
    }
   ],
   "source": [
    "print(OmegaConf.to_yaml(cfg))"
   ]
  },
  {
   "cell_type": "code",
   "execution_count": 5,
   "metadata": {},
   "outputs": [],
   "source": [
    "# Extract features from yaml file\n",
    "input_cols = cfg['data']['inputs']\n",
    "output_cols = cfg['data']['outputs']\n",
    "augmented_cols = cfg['data']['augmented_cols']\n",
    "dataset_path = cfg['data']['path']\n",
    "iteration_order = cfg['data']['iteration_order']\n",
    "episode_col = cfg['data']['episode_col']\n",
    "iteration_col = cfg['data']['iteration_col']\n",
    "max_rows = cfg['data']['max_rows']\n",
    "test_perc = cfg['data']['test_perc']"
   ]
  },
  {
   "cell_type": "markdown",
   "metadata": {},
   "source": [
    "## Model Trainer\n",
    "\n",
    "To make it easy to sweep over models later, we create a simple `train_models` function here:"
   ]
  },
  {
   "cell_type": "code",
   "execution_count": 6,
   "metadata": {},
   "outputs": [],
   "source": [
    "def train_models(config=cfg):\n",
    "\n",
    "    logger.info(f'Model type: {available_models[config[\"model\"][\"name\"]]}')\n",
    "    Model = available_models[config[\"model\"][\"name\"]]\n",
    "    model = Model()\n",
    "    logger.info(f\"Building model with parameters: {config}\")\n",
    "    model.build_model(\n",
    "        **config[\"model\"][\"build_params\"]\n",
    "    )\n",
    "    logger.info(f\"Loading data from {dataset_path}\")\n",
    "    X, y = model.load_csv(\n",
    "        input_cols=input_cols,\n",
    "        output_cols=output_cols,\n",
    "        augm_cols=list(augmented_cols),\n",
    "        dataset_path=dataset_path,\n",
    "        iteration_order=iteration_order,\n",
    "        episode_col=episode_col,\n",
    "        iteration_col=iteration_col,\n",
    "        max_rows=max_rows,\n",
    "    )\n",
    "    global X_train, y_train, episode_ids_train, X_test, y_test, episode_ids_test\n",
    "    train_id_end = int(np.floor(X.shape[0] * (1 - test_perc)))\n",
    "    X_train, y_train, episode_ids_train = (X[:train_id_end,],y[:train_id_end,],model.episode_ids[:train_id_end,])\n",
    "    X_test, y_test, episode_ids_test = (X[train_id_end:,],y[train_id_end:,],model.episode_ids[train_id_end:,])\n",
    "    \n",
    "    \n",
    "    logger.info(f\"Fitting model...\")\n",
    "    model.fit(X_train, y_train)\n",
    "    logger.info(f\"Model trained!\")\n",
    "    y_pred = model.predict(X_test)\n",
    "    r2_score = available_metrics[\"r2_score\"]\n",
    "    logger.info(f\"R^2 score is {r2_score(y_test,y_pred)} for the test set.\")\n",
    "\n",
    "    return model"
   ]
  },
  {
   "cell_type": "code",
   "execution_count": 7,
   "metadata": {},
   "outputs": [
    {
     "data": {
      "text/html": [
       "<pre style=\"white-space:pre;overflow-x:auto;line-height:normal;font-family:Menlo,'DejaVu Sans Mono',consolas,'Courier New',monospace\"><span style=\"color: #7fbfbf; text-decoration-color: #7fbfbf\">[15:38:20] </span><span style=\"color: #000080; text-decoration-color: #000080\">INFO    </span> Model type: <span style=\"font-weight: bold\">&lt;</span><span style=\"color: #ff00ff; text-decoration-color: #ff00ff; font-weight: bold\">class</span><span style=\"color: #000000; text-decoration-color: #000000\"> </span><span style=\"color: #008000; text-decoration-color: #008000\">'gboost_models.GBoostModel'</span><span style=\"font-weight: bold\">&gt;</span>           <a href=\"file:///var/folders/0n/4grcjjyx7sv7zx8fr2h1yxym0000gn/T/ipykernel_63321/1073314026.py\"><span style=\"color: #7f7f7f; text-decoration-color: #7f7f7f\">1073314026.py</span></a><span style=\"color: #7f7f7f; text-decoration-color: #7f7f7f\">:3</span>\n",
       "</pre>\n"
      ],
      "text/plain": [
       "<rich.jupyter.JupyterRenderable at 0x7fbc4cfa3c40>"
      ]
     },
     "metadata": {},
     "output_type": "display_data"
    },
    {
     "data": {
      "text/html": [
       "<pre style=\"white-space:pre;overflow-x:auto;line-height:normal;font-family:Menlo,'DejaVu Sans Mono',consolas,'Courier New',monospace\"><span style=\"color: #7fbfbf; text-decoration-color: #7fbfbf\">           </span><span style=\"color: #000080; text-decoration-color: #000080\">INFO    </span> Building model with parameters: <span style=\"font-weight: bold\">{</span><span style=\"color: #008000; text-decoration-color: #008000\">'model'</span>: <span style=\"font-weight: bold\">{</span><span style=\"color: #008000; text-decoration-color: #008000\">'name'</span>:        <a href=\"file:///var/folders/0n/4grcjjyx7sv7zx8fr2h1yxym0000gn/T/ipykernel_63321/1073314026.py\"><span style=\"color: #7f7f7f; text-decoration-color: #7f7f7f\">1073314026.py</span></a><span style=\"color: #7f7f7f; text-decoration-color: #7f7f7f\">:6</span>\n",
       "                    <span style=\"color: #008000; text-decoration-color: #008000\">'xgboost'</span>, <span style=\"color: #008000; text-decoration-color: #008000\">'build_params'</span>: <span style=\"font-weight: bold\">{</span><span style=\"color: #008000; text-decoration-color: #008000\">'model_type'</span>: <span style=\"color: #008000; text-decoration-color: #008000\">'xgboost'</span>,                     \n",
       "                    <span style=\"color: #008000; text-decoration-color: #008000\">'fit_separate'</span>: <span style=\"color: #ff0000; text-decoration-color: #ff0000; font-style: italic\">False</span>, <span style=\"color: #008000; text-decoration-color: #008000\">'halt_model'</span>: <span style=\"color: #ff0000; text-decoration-color: #ff0000; font-style: italic\">False</span>,                              \n",
       "                    <span style=\"color: #008000; text-decoration-color: #008000\">'n_estimators'</span>: <span style=\"color: #000080; text-decoration-color: #000080; font-weight: bold\">100</span>, <span style=\"color: #008000; text-decoration-color: #008000\">'objective'</span>: <span style=\"color: #008000; text-decoration-color: #008000\">'reg:squarederror'</span>,                    \n",
       "                    <span style=\"color: #008000; text-decoration-color: #008000\">'learning_rate'</span>: <span style=\"color: #000080; text-decoration-color: #000080; font-weight: bold\">0.3</span>, <span style=\"color: #008000; text-decoration-color: #008000\">'scale_data'</span>: <span style=\"color: #00ff00; text-decoration-color: #00ff00; font-style: italic\">True</span>, <span style=\"color: #008000; text-decoration-color: #008000\">'max_depth'</span>:                   \n",
       "                    <span style=\"color: #000080; text-decoration-color: #000080; font-weight: bold\">6</span><span style=\"font-weight: bold\">}</span>, <span style=\"color: #008000; text-decoration-color: #008000\">'saver'</span>: <span style=\"font-weight: bold\">{</span><span style=\"color: #008000; text-decoration-color: #008000\">'filename'</span>:                                                \n",
       "                    <span style=\"color: #008000; text-decoration-color: #008000\">'models/xgboost_models/house_energy'</span><span style=\"font-weight: bold\">}</span>, <span style=\"color: #008000; text-decoration-color: #008000\">'sweep'</span>: <span style=\"font-weight: bold\">{</span><span style=\"color: #008000; text-decoration-color: #008000\">'run'</span>:                  \n",
       "                    <span style=\"color: #ff0000; text-decoration-color: #ff0000; font-style: italic\">False</span>, <span style=\"color: #008000; text-decoration-color: #008000\">'split_strategy'</span>: <span style=\"color: #008000; text-decoration-color: #008000\">'timeseries'</span>,                                   \n",
       "                    <span style=\"color: #008000; text-decoration-color: #008000\">'search_algorithm'</span>: <span style=\"color: #008000; text-decoration-color: #008000\">'bayesian'</span>, <span style=\"color: #008000; text-decoration-color: #008000\">'num_trials'</span>: <span style=\"color: #000080; text-decoration-color: #000080; font-weight: bold\">15</span>,                        \n",
       "                    <span style=\"color: #008000; text-decoration-color: #008000\">'scoring_func'</span>: <span style=\"color: #008000; text-decoration-color: #008000\">'r2'</span>, <span style=\"color: #008000; text-decoration-color: #008000\">'early_stopping'</span>: <span style=\"color: #ff0000; text-decoration-color: #ff0000; font-style: italic\">False</span>,                           \n",
       "                    <span style=\"color: #008000; text-decoration-color: #008000\">'results_csv_path'</span>:                                                      \n",
       "                    <span style=\"color: #008000; text-decoration-color: #008000\">'xgboost_gridsearch/search_results.csv'</span>, <span style=\"color: #008000; text-decoration-color: #008000\">'params'</span>:                       \n",
       "                    <span style=\"font-weight: bold\">{</span><span style=\"color: #008000; text-decoration-color: #008000\">'estimator__max_depth'</span>: <span style=\"font-weight: bold\">[</span><span style=\"color: #000080; text-decoration-color: #000080; font-weight: bold\">1</span>, <span style=\"color: #000080; text-decoration-color: #000080; font-weight: bold\">3</span>, <span style=\"color: #000080; text-decoration-color: #000080; font-weight: bold\">5</span>, <span style=\"color: #000080; text-decoration-color: #000080; font-weight: bold\">10</span><span style=\"font-weight: bold\">]</span>,                                  \n",
       "                    <span style=\"color: #008000; text-decoration-color: #008000\">'estimator__gamma'</span>: <span style=\"font-weight: bold\">[</span><span style=\"color: #000080; text-decoration-color: #000080; font-weight: bold\">0</span>, <span style=\"color: #000080; text-decoration-color: #000080; font-weight: bold\">0.5</span>, <span style=\"color: #000080; text-decoration-color: #000080; font-weight: bold\">1</span>, <span style=\"color: #000080; text-decoration-color: #000080; font-weight: bold\">5</span><span style=\"font-weight: bold\">]</span>,                                      \n",
       "                    <span style=\"color: #008000; text-decoration-color: #008000\">'estimator__subsample'</span>: <span style=\"font-weight: bold\">[</span><span style=\"color: #000080; text-decoration-color: #000080; font-weight: bold\">0.1</span>, <span style=\"color: #000080; text-decoration-color: #000080; font-weight: bold\">0.5</span>, <span style=\"color: #000080; text-decoration-color: #000080; font-weight: bold\">1</span><span style=\"font-weight: bold\">]</span>, <span style=\"color: #008000; text-decoration-color: #008000\">'estimator__eta'</span>:                 \n",
       "                    <span style=\"font-weight: bold\">[</span><span style=\"color: #000080; text-decoration-color: #000080; font-weight: bold\">0.3</span>, <span style=\"color: #000080; text-decoration-color: #000080; font-weight: bold\">0.1</span>, <span style=\"color: #000080; text-decoration-color: #000080; font-weight: bold\">0.5</span><span style=\"font-weight: bold\">]}}}</span>, <span style=\"color: #008000; text-decoration-color: #008000\">'data'</span>: <span style=\"font-weight: bold\">{</span><span style=\"color: #008000; text-decoration-color: #008000\">'path'</span>:                                     \n",
       "                    <span style=\"color: #008000; text-decoration-color: #008000\">'csv_data/house_energy.csv'</span>, <span style=\"color: #008000; text-decoration-color: #008000\">'full_or_relative'</span>:                         \n",
       "                    <span style=\"color: #008000; text-decoration-color: #008000\">'relative'</span>, <span style=\"color: #008000; text-decoration-color: #008000\">'inputs'</span>: <span style=\"font-weight: bold\">[</span><span style=\"color: #008000; text-decoration-color: #008000\">'Tin'</span>, <span style=\"color: #008000; text-decoration-color: #008000\">'Tout'</span><span style=\"font-weight: bold\">]</span>, <span style=\"color: #008000; text-decoration-color: #008000\">'outputs'</span>:                        \n",
       "                    <span style=\"font-weight: bold\">[</span><span style=\"color: #008000; text-decoration-color: #008000\">'Tin'</span><span style=\"font-weight: bold\">]</span>, <span style=\"color: #008000; text-decoration-color: #008000\">'augmented_cols'</span>: <span style=\"font-weight: bold\">[</span><span style=\"color: #008000; text-decoration-color: #008000\">'K'</span>, <span style=\"color: #008000; text-decoration-color: #008000\">'C'</span>, <span style=\"color: #008000; text-decoration-color: #008000\">'Qhvac'</span>, <span style=\"color: #008000; text-decoration-color: #008000\">'horizon'</span>,                \n",
       "                    <span style=\"color: #008000; text-decoration-color: #008000\">'Tset_start'</span>, <span style=\"color: #008000; text-decoration-color: #008000\">'Tset_stop'</span>, <span style=\"color: #008000; text-decoration-color: #008000\">'Tset_transition'</span>,                            \n",
       "                    <span style=\"color: #008000; text-decoration-color: #008000\">'Tout_amplitude'</span>, <span style=\"color: #008000; text-decoration-color: #008000\">'Tout_median'</span>, <span style=\"color: #008000; text-decoration-color: #008000\">'hvacON'</span><span style=\"font-weight: bold\">]</span>,                              \n",
       "                    <span style=\"color: #008000; text-decoration-color: #008000\">'iteration_order'</span>: <span style=\"color: #000080; text-decoration-color: #000080; font-weight: bold\">-1</span>, <span style=\"color: #008000; text-decoration-color: #008000\">'episode_col'</span>: <span style=\"color: #008000; text-decoration-color: #008000\">'episode'</span>,                         \n",
       "                    <span style=\"color: #008000; text-decoration-color: #008000\">'iteration_col'</span>: <span style=\"color: #008000; text-decoration-color: #008000\">'iteration'</span>, <span style=\"color: #008000; text-decoration-color: #008000\">'max_rows'</span>: <span style=\"color: #000080; text-decoration-color: #000080; font-weight: bold\">-1</span>,                            \n",
       "                    <span style=\"color: #008000; text-decoration-color: #008000\">'diff_state'</span>: <span style=\"color: #ff0000; text-decoration-color: #ff0000; font-style: italic\">False</span>, <span style=\"color: #008000; text-decoration-color: #008000\">'test_perc'</span>: <span style=\"color: #000080; text-decoration-color: #000080; font-weight: bold\">0.2</span><span style=\"font-weight: bold\">}</span>, <span style=\"color: #008000; text-decoration-color: #008000\">'simulator'</span>:                     \n",
       "                    <span style=\"font-weight: bold\">{</span><span style=\"color: #008000; text-decoration-color: #008000\">'states'</span>: <span style=\"font-weight: bold\">[</span><span style=\"color: #008000; text-decoration-color: #008000\">'Tin'</span>, <span style=\"color: #008000; text-decoration-color: #008000\">'Tout'</span><span style=\"font-weight: bold\">]</span>, <span style=\"color: #008000; text-decoration-color: #008000\">'actions'</span>: <span style=\"font-weight: bold\">[</span><span style=\"color: #008000; text-decoration-color: #008000\">'hvacON'</span><span style=\"font-weight: bold\">]</span>,                       \n",
       "                    <span style=\"color: #008000; text-decoration-color: #008000\">'configs'</span>: <span style=\"font-weight: bold\">[</span><span style=\"color: #008000; text-decoration-color: #008000\">'K'</span>, <span style=\"color: #008000; text-decoration-color: #008000\">'C'</span>, <span style=\"color: #008000; text-decoration-color: #008000\">'Qhvac'</span>, <span style=\"color: #008000; text-decoration-color: #008000\">'horizon'</span>, <span style=\"color: #008000; text-decoration-color: #008000\">'Tset_start'</span>,                  \n",
       "                    <span style=\"color: #008000; text-decoration-color: #008000\">'Tset_stop'</span>, <span style=\"color: #008000; text-decoration-color: #008000\">'Tset_transition'</span>, <span style=\"color: #008000; text-decoration-color: #008000\">'Tout_amplitude'</span>,                        \n",
       "                    <span style=\"color: #008000; text-decoration-color: #008000\">'Tout_median'</span><span style=\"font-weight: bold\">]</span>, <span style=\"color: #008000; text-decoration-color: #008000\">'episode_inits'</span>: <span style=\"font-weight: bold\">{</span><span style=\"color: #008000; text-decoration-color: #008000\">'K'</span>: <span style=\"color: #000080; text-decoration-color: #000080; font-weight: bold\">0.5</span>, <span style=\"color: #008000; text-decoration-color: #008000\">'C'</span>: <span style=\"color: #000080; text-decoration-color: #000080; font-weight: bold\">0.3</span>,                    \n",
       "                    <span style=\"color: #008000; text-decoration-color: #008000\">'Qhvac'</span>: <span style=\"color: #000080; text-decoration-color: #000080; font-weight: bold\">9</span>, <span style=\"color: #008000; text-decoration-color: #008000\">'horizon'</span>: <span style=\"color: #000080; text-decoration-color: #000080; font-weight: bold\">288</span>, <span style=\"color: #008000; text-decoration-color: #008000\">'Tset_start'</span>: <span style=\"color: #000080; text-decoration-color: #000080; font-weight: bold\">25</span>,                            \n",
       "                    <span style=\"color: #008000; text-decoration-color: #008000\">'Tset_stop'</span>: <span style=\"color: #000080; text-decoration-color: #000080; font-weight: bold\">20</span>, <span style=\"color: #008000; text-decoration-color: #008000\">'Tset_transition'</span>: <span style=\"color: #000080; text-decoration-color: #000080; font-weight: bold\">100</span>,                                 \n",
       "                    <span style=\"color: #008000; text-decoration-color: #008000\">'Tout_amplitude'</span>: <span style=\"color: #000080; text-decoration-color: #000080; font-weight: bold\">5</span>, <span style=\"color: #008000; text-decoration-color: #008000\">'Tout_median'</span>: <span style=\"color: #000080; text-decoration-color: #000080; font-weight: bold\">25</span><span style=\"font-weight: bold\">}</span>,                                 \n",
       "                    <span style=\"color: #008000; text-decoration-color: #008000\">'initial_states'</span>: <span style=\"font-weight: bold\">{</span><span style=\"color: #008000; text-decoration-color: #008000\">'Tin'</span>: <span style=\"font-weight: bold\">{</span><span style=\"color: #008000; text-decoration-color: #008000\">'inkling_name'</span>: <span style=\"color: #008000; text-decoration-color: #008000\">'Tin_initial'</span>,                \n",
       "                    <span style=\"color: #008000; text-decoration-color: #008000\">'min'</span>: <span style=\"color: #000080; text-decoration-color: #000080; font-weight: bold\">18</span>, <span style=\"color: #008000; text-decoration-color: #008000\">'max'</span>: <span style=\"color: #000080; text-decoration-color: #000080; font-weight: bold\">30</span><span style=\"font-weight: bold\">}</span>, <span style=\"color: #008000; text-decoration-color: #008000\">'Tout'</span>: <span style=\"font-weight: bold\">{</span><span style=\"color: #008000; text-decoration-color: #008000\">'inkling_name'</span>: <span style=\"color: #008000; text-decoration-color: #008000\">'Tout'</span>,                  \n",
       "                    <span style=\"color: #008000; text-decoration-color: #008000\">'min'</span>: <span style=\"color: #000080; text-decoration-color: #000080; font-weight: bold\">25</span>, <span style=\"color: #008000; text-decoration-color: #008000\">'max'</span>: <span style=\"color: #000080; text-decoration-color: #000080; font-weight: bold\">25</span><span style=\"font-weight: bold\">}}</span>, <span style=\"color: #008000; text-decoration-color: #008000\">'signal_builder'</span>:                                \n",
       "                    <span style=\"font-weight: bold\">{</span><span style=\"color: #008000; text-decoration-color: #008000\">'signal_types'</span>: <span style=\"font-weight: bold\">{</span><span style=\"color: #008000; text-decoration-color: #008000\">'Tset'</span>: <span style=\"color: #008000; text-decoration-color: #008000\">'step_function'</span>, <span style=\"color: #008000; text-decoration-color: #008000\">'Tout'</span>:                       \n",
       "                    <span style=\"color: #008000; text-decoration-color: #008000\">'sinewave'</span><span style=\"font-weight: bold\">}</span>, <span style=\"color: #008000; text-decoration-color: #008000\">'horizon'</span>: <span style=\"color: #000080; text-decoration-color: #000080; font-weight: bold\">288</span>, <span style=\"color: #008000; text-decoration-color: #008000\">'signal_params'</span>: <span style=\"font-weight: bold\">{</span><span style=\"color: #008000; text-decoration-color: #008000\">'Tset'</span>:                   \n",
       "                    <span style=\"font-weight: bold\">{</span><span style=\"color: #008000; text-decoration-color: #008000\">'start'</span>: <span style=\"font-weight: bold\">{</span><span style=\"color: #008000; text-decoration-color: #008000\">'min'</span>: <span style=\"color: #000080; text-decoration-color: #000080; font-weight: bold\">25</span>, <span style=\"color: #008000; text-decoration-color: #008000\">'max'</span>: <span style=\"color: #000080; text-decoration-color: #000080; font-weight: bold\">25</span><span style=\"font-weight: bold\">}</span>, <span style=\"color: #008000; text-decoration-color: #008000\">'stop'</span>: <span style=\"font-weight: bold\">{</span><span style=\"color: #008000; text-decoration-color: #008000\">'min'</span>: <span style=\"color: #000080; text-decoration-color: #000080; font-weight: bold\">20</span>,                    \n",
       "                    <span style=\"color: #008000; text-decoration-color: #008000\">'max'</span>: <span style=\"color: #000080; text-decoration-color: #000080; font-weight: bold\">22</span><span style=\"font-weight: bold\">}</span>, <span style=\"color: #008000; text-decoration-color: #008000\">'transition'</span>: <span style=\"font-weight: bold\">{</span><span style=\"color: #008000; text-decoration-color: #008000\">'min'</span>: <span style=\"color: #000080; text-decoration-color: #000080; font-weight: bold\">100</span>, <span style=\"color: #008000; text-decoration-color: #008000\">'max'</span>: <span style=\"color: #000080; text-decoration-color: #000080; font-weight: bold\">148</span><span style=\"font-weight: bold\">}}</span>,                     \n",
       "                    <span style=\"color: #008000; text-decoration-color: #008000\">'Tout'</span>: <span style=\"font-weight: bold\">{</span><span style=\"color: #008000; text-decoration-color: #008000\">'amplitude'</span>: <span style=\"font-weight: bold\">{</span><span style=\"color: #008000; text-decoration-color: #008000\">'min'</span>: <span style=\"color: #000080; text-decoration-color: #000080; font-weight: bold\">3</span>, <span style=\"color: #008000; text-decoration-color: #008000\">'max'</span>: <span style=\"color: #000080; text-decoration-color: #000080; font-weight: bold\">5</span><span style=\"font-weight: bold\">}</span>, <span style=\"color: #008000; text-decoration-color: #008000\">'median'</span>:                    \n",
       "                    <span style=\"font-weight: bold\">{</span><span style=\"color: #008000; text-decoration-color: #008000\">'min'</span>: <span style=\"color: #000080; text-decoration-color: #000080; font-weight: bold\">23</span>, <span style=\"color: #008000; text-decoration-color: #008000\">'max'</span>: <span style=\"color: #000080; text-decoration-color: #000080; font-weight: bold\">30</span><span style=\"font-weight: bold\">}}}}</span>, <span style=\"color: #008000; text-decoration-color: #008000\">'policy'</span>: <span style=\"color: #008000; text-decoration-color: #008000\">'bonsai'</span>, <span style=\"color: #008000; text-decoration-color: #008000\">'logging'</span>:                \n",
       "                    <span style=\"color: #008000; text-decoration-color: #008000\">'enable'</span>, <span style=\"color: #008000; text-decoration-color: #008000\">'workspace_setup'</span>: <span style=\"color: #00ff00; text-decoration-color: #00ff00; font-style: italic\">True</span><span style=\"font-weight: bold\">}}</span>                                      \n",
       "</pre>\n"
      ],
      "text/plain": [
       "<rich.jupyter.JupyterRenderable at 0x7fbc4cf9a580>"
      ]
     },
     "metadata": {},
     "output_type": "display_data"
    },
    {
     "data": {
      "text/html": [
       "<pre style=\"white-space:pre;overflow-x:auto;line-height:normal;font-family:Menlo,'DejaVu Sans Mono',consolas,'Courier New',monospace\"><span style=\"color: #7fbfbf; text-decoration-color: #7fbfbf\">           </span><span style=\"color: #000080; text-decoration-color: #000080\">INFO    </span> Loading data from csv_data/house_energy.csv              <a href=\"file:///var/folders/0n/4grcjjyx7sv7zx8fr2h1yxym0000gn/T/ipykernel_63321/1073314026.py\"><span style=\"color: #7f7f7f; text-decoration-color: #7f7f7f\">1073314026.py</span></a><span style=\"color: #7f7f7f; text-decoration-color: #7f7f7f\">:10</span>\n",
       "</pre>\n"
      ],
      "text/plain": [
       "<rich.jupyter.JupyterRenderable at 0x7fbc4cf84250>"
      ]
     },
     "metadata": {},
     "output_type": "display_data"
    },
    {
     "name": "stderr",
     "output_type": "stream",
     "text": [
      "/Users/jill/opt/anaconda3/envs/ddm/lib/python3.8/site-packages/IPython/core/interactiveshell.py:3444: DtypeWarning: Columns (13) have mixed types.Specify dtype option on import or set low_memory=False.\n",
      "  exec(code_obj, self.user_global_ns, self.user_ns)\n"
     ]
    },
    {
     "data": {
      "text/html": [
       "<pre style=\"white-space:pre;overflow-x:auto;line-height:normal;font-family:Menlo,'DejaVu Sans Mono',consolas,'Courier New',monospace\"><span style=\"color: #7fbfbf; text-decoration-color: #7fbfbf\">           </span><span style=\"color: #000080; text-decoration-color: #000080\">INFO    </span> Using <span style=\"font-weight: bold\">[</span><span style=\"color: #008000; text-decoration-color: #008000\">'Tin'</span>, <span style=\"color: #008000; text-decoration-color: #008000\">'Tout'</span>, <span style=\"color: #008000; text-decoration-color: #008000\">'K'</span>, <span style=\"color: #008000; text-decoration-color: #008000\">'C'</span>, <span style=\"color: #008000; text-decoration-color: #008000\">'Qhvac'</span>, <span style=\"color: #008000; text-decoration-color: #008000\">'horizon'</span>,           <a href=\"file:///Users/jill/bonsai/datadrivenmodel/base.py\"><span style=\"color: #7f7f7f; text-decoration-color: #7f7f7f\">base.py</span></a><span style=\"color: #7f7f7f; text-decoration-color: #7f7f7f\">:119</span>\n",
       "                    <span style=\"color: #008000; text-decoration-color: #008000\">'Tset_start'</span>, <span style=\"color: #008000; text-decoration-color: #008000\">'Tset_stop'</span>, <span style=\"color: #008000; text-decoration-color: #008000\">'Tset_transition'</span>,                            \n",
       "                    <span style=\"color: #008000; text-decoration-color: #008000\">'Tout_amplitude'</span>, <span style=\"color: #008000; text-decoration-color: #008000\">'Tout_median'</span>, <span style=\"color: #008000; text-decoration-color: #008000\">'hvacON'</span><span style=\"font-weight: bold\">]</span> as the features               \n",
       "                    for modeling DDM                                                         \n",
       "</pre>\n"
      ],
      "text/plain": [
       "<rich.jupyter.JupyterRenderable at 0x7fbc4cad75b0>"
      ]
     },
     "metadata": {},
     "output_type": "display_data"
    },
    {
     "data": {
      "text/html": [
       "<pre style=\"white-space:pre;overflow-x:auto;line-height:normal;font-family:Menlo,'DejaVu Sans Mono',consolas,'Courier New',monospace\"><span style=\"color: #7fbfbf; text-decoration-color: #7fbfbf\">           </span><span style=\"color: #000080; text-decoration-color: #000080\">INFO    </span> Using <span style=\"font-weight: bold\">[</span><span style=\"color: #008000; text-decoration-color: #008000\">'Tin'</span><span style=\"font-weight: bold\">]</span> as the labels for modeling DDM                  <a href=\"file:///Users/jill/bonsai/datadrivenmodel/base.py\"><span style=\"color: #7f7f7f; text-decoration-color: #7f7f7f\">base.py</span></a><span style=\"color: #7f7f7f; text-decoration-color: #7f7f7f\">:130</span>\n",
       "</pre>\n"
      ],
      "text/plain": [
       "<rich.jupyter.JupyterRenderable at 0x7fbc4cf84760>"
      ]
     },
     "metadata": {},
     "output_type": "display_data"
    },
    {
     "data": {
      "text/html": [
       "<pre style=\"white-space:pre;overflow-x:auto;line-height:normal;font-family:Menlo,'DejaVu Sans Mono',consolas,'Courier New',monospace\"><span style=\"color: #7fbfbf; text-decoration-color: #7fbfbf\">           </span><span style=\"color: #000080; text-decoration-color: #000080\">INFO    </span> Iteration order set to <span style=\"color: #000080; text-decoration-color: #000080; font-weight: bold\">-1</span> so using inputs from previous <span style=\"color: #000080; text-decoration-color: #000080; font-weight: bold\">-1</span>  <a href=\"file:///Users/jill/bonsai/datadrivenmodel/loaders.py\"><span style=\"color: #7f7f7f; text-decoration-color: #7f7f7f\">loaders.py</span></a><span style=\"color: #7f7f7f; text-decoration-color: #7f7f7f\">:49</span>\n",
       "                    row                                                                      \n",
       "</pre>\n"
      ],
      "text/plain": [
       "<rich.jupyter.JupyterRenderable at 0x7fbc4cf84220>"
      ]
     },
     "metadata": {},
     "output_type": "display_data"
    },
    {
     "name": "stderr",
     "output_type": "stream",
     "text": [
      "/Users/jill/opt/anaconda3/envs/ddm/lib/python3.8/site-packages/pandas/core/frame.py:3069: SettingWithCopyWarning: \n",
      "A value is trying to be set on a copy of a slice from a DataFrame.\n",
      "Try using .loc[row_indexer,col_indexer] = value instead\n",
      "\n",
      "See the caveats in the documentation: https://pandas.pydata.org/pandas-docs/stable/user_guide/indexing.html#returning-a-view-versus-a-copy\n",
      "  self[k1] = value[k2]\n"
     ]
    },
    {
     "data": {
      "text/html": [
       "<pre style=\"white-space:pre;overflow-x:auto;line-height:normal;font-family:Menlo,'DejaVu Sans Mono',consolas,'Courier New',monospace\"><span style=\"color: #7fbfbf; text-decoration-color: #7fbfbf\">           </span><span style=\"color: #000080; text-decoration-color: #000080\">INFO    </span> Feature columns are: <span style=\"font-weight: bold\">[</span><span style=\"color: #008000; text-decoration-color: #008000\">'prev_Tin'</span>, <span style=\"color: #008000; text-decoration-color: #008000\">'Tout'</span>, <span style=\"color: #008000; text-decoration-color: #008000\">'K'</span>, <span style=\"color: #008000; text-decoration-color: #008000\">'C'</span>,         <a href=\"file:///Users/jill/bonsai/datadrivenmodel/loaders.py\"><span style=\"color: #7f7f7f; text-decoration-color: #7f7f7f\">loaders.py</span></a><span style=\"color: #7f7f7f; text-decoration-color: #7f7f7f\">:91</span>\n",
       "                    <span style=\"color: #008000; text-decoration-color: #008000\">'Qhvac'</span>, <span style=\"color: #008000; text-decoration-color: #008000\">'horizon'</span>, <span style=\"color: #008000; text-decoration-color: #008000\">'Tset_start'</span>, <span style=\"color: #008000; text-decoration-color: #008000\">'Tset_stop'</span>,                           \n",
       "                    <span style=\"color: #008000; text-decoration-color: #008000\">'Tset_transition'</span>, <span style=\"color: #008000; text-decoration-color: #008000\">'Tout_amplitude'</span>, <span style=\"color: #008000; text-decoration-color: #008000\">'Tout_median'</span>,                      \n",
       "                    <span style=\"color: #008000; text-decoration-color: #008000\">'hvacON'</span><span style=\"font-weight: bold\">]</span>                                                                \n",
       "</pre>\n"
      ],
      "text/plain": [
       "<rich.jupyter.JupyterRenderable at 0x7fbc4cf6fbe0>"
      ]
     },
     "metadata": {},
     "output_type": "display_data"
    },
    {
     "data": {
      "text/html": [
       "<pre style=\"white-space:pre;overflow-x:auto;line-height:normal;font-family:Menlo,'DejaVu Sans Mono',consolas,'Courier New',monospace\"><span style=\"color: #7fbfbf; text-decoration-color: #7fbfbf\">           </span><span style=\"color: #000080; text-decoration-color: #000080\">INFO    </span> Label columns are: <span style=\"font-weight: bold\">[</span><span style=\"color: #008000; text-decoration-color: #008000\">'Tin'</span><span style=\"font-weight: bold\">]</span>                                  <a href=\"file:///Users/jill/bonsai/datadrivenmodel/loaders.py\"><span style=\"color: #7f7f7f; text-decoration-color: #7f7f7f\">loaders.py</span></a><span style=\"color: #7f7f7f; text-decoration-color: #7f7f7f\">:92</span>\n",
       "</pre>\n"
      ],
      "text/plain": [
       "<rich.jupyter.JupyterRenderable at 0x7fbc4cf6f760>"
      ]
     },
     "metadata": {},
     "output_type": "display_data"
    },
    {
     "data": {
      "text/html": [
       "<pre style=\"white-space:pre;overflow-x:auto;line-height:normal;font-family:Menlo,'DejaVu Sans Mono',consolas,'Courier New',monospace\"><span style=\"color: #7fbfbf; text-decoration-color: #7fbfbf\">           </span><span style=\"color: #000080; text-decoration-color: #000080\">INFO    </span> Fitting model<span style=\"color: #808000; text-decoration-color: #808000\">...</span>                                         <a href=\"file:///var/folders/0n/4grcjjyx7sv7zx8fr2h1yxym0000gn/T/ipykernel_63321/1073314026.py\"><span style=\"color: #7f7f7f; text-decoration-color: #7f7f7f\">1073314026.py</span></a><span style=\"color: #7f7f7f; text-decoration-color: #7f7f7f\">:27</span>\n",
       "</pre>\n"
      ],
      "text/plain": [
       "<rich.jupyter.JupyterRenderable at 0x7fbc4ce5b730>"
      ]
     },
     "metadata": {},
     "output_type": "display_data"
    },
    {
     "data": {
      "text/html": [
       "<pre style=\"white-space:pre;overflow-x:auto;line-height:normal;font-family:Menlo,'DejaVu Sans Mono',consolas,'Courier New',monospace\"><span style=\"color: #7fbfbf; text-decoration-color: #7fbfbf\">[15:38:21] </span><span style=\"color: #000080; text-decoration-color: #000080\">INFO    </span> Model trained!                                           <a href=\"file:///var/folders/0n/4grcjjyx7sv7zx8fr2h1yxym0000gn/T/ipykernel_63321/1073314026.py\"><span style=\"color: #7f7f7f; text-decoration-color: #7f7f7f\">1073314026.py</span></a><span style=\"color: #7f7f7f; text-decoration-color: #7f7f7f\">:29</span>\n",
       "</pre>\n"
      ],
      "text/plain": [
       "<rich.jupyter.JupyterRenderable at 0x7fbc4cf9a610>"
      ]
     },
     "metadata": {},
     "output_type": "display_data"
    },
    {
     "data": {
      "text/html": [
       "<pre style=\"white-space:pre;overflow-x:auto;line-height:normal;font-family:Menlo,'DejaVu Sans Mono',consolas,'Courier New',monospace\"><span style=\"color: #7fbfbf; text-decoration-color: #7fbfbf\">           </span><span style=\"color: #000080; text-decoration-color: #000080\">INFO    </span> R^<span style=\"color: #000080; text-decoration-color: #000080; font-weight: bold\">2</span> score is <span style=\"color: #000080; text-decoration-color: #000080; font-weight: bold\">0.9998685485881936</span> for the test set.        <a href=\"file:///var/folders/0n/4grcjjyx7sv7zx8fr2h1yxym0000gn/T/ipykernel_63321/1073314026.py\"><span style=\"color: #7f7f7f; text-decoration-color: #7f7f7f\">1073314026.py</span></a><span style=\"color: #7f7f7f; text-decoration-color: #7f7f7f\">:32</span>\n",
       "</pre>\n"
      ],
      "text/plain": [
       "<rich.jupyter.JupyterRenderable at 0x7fbc4cf9a2b0>"
      ]
     },
     "metadata": {},
     "output_type": "display_data"
    }
   ],
   "source": [
    "model = train_models(cfg)"
   ]
  },
  {
   "cell_type": "markdown",
   "metadata": {},
   "source": [
    "## Hyperparameter Sweeping\n",
    "\n",
    "The `datadrivenmodel` has an automatic solution for hyperparameter sweeping and tuning. These settings are provided in the config `model.sweep` parameters. Provide the limits of the variables you want to sweep over and the `sweep` method will automatically parallelize the sweep over the available number of cores and find the optimal solution according to your `scoring_func`."
   ]
  },
  {
   "cell_type": "markdown",
   "metadata": {},
   "source": [
    "### Configuration Parameters\n",
    "\n",
    "You can select the search algorithm you'd like to use: `bayesian` runs bayesian optimiziation (using scikit-optimize), `hyperopt` runs [Tree-Parzen Estimators](https://papers.nips.cc/paper/2011/file/86e8f7ab32cfd12577bc2619bc635690-Paper.pdf) with the `hyperopt` package, `bohb` uses Bayesian Opt/HyperBand, or `optuna` which also runs Tree-Parzen estimators but using the [`optuna`](https://optuna.readthedocs.io/en/stable/) package."
   ]
  },
  {
   "cell_type": "code",
   "execution_count": 8,
   "metadata": {},
   "outputs": [
    {
     "data": {
      "text/html": [
       "<pre style=\"white-space:pre;overflow-x:auto;line-height:normal;font-family:Menlo,'DejaVu Sans Mono',consolas,'Courier New',monospace\">run: false\n",
       "split_strategy: timeseries\n",
       "search_algorithm: bayesian\n",
       "num_trials: <span style=\"color: #000080; text-decoration-color: #000080; font-weight: bold\">15</span>\n",
       "scoring_func: r2\n",
       "early_stopping: false\n",
       "results_csv_path: xgboost_gridsearch/search_results.csv\n",
       "params:\n",
       "  estimator__max_depth:\n",
       "  - <span style=\"color: #000080; text-decoration-color: #000080; font-weight: bold\">1</span>\n",
       "  - <span style=\"color: #000080; text-decoration-color: #000080; font-weight: bold\">3</span>\n",
       "  - <span style=\"color: #000080; text-decoration-color: #000080; font-weight: bold\">5</span>\n",
       "  - <span style=\"color: #000080; text-decoration-color: #000080; font-weight: bold\">10</span>\n",
       "  estimator__gamma:\n",
       "  - <span style=\"color: #000080; text-decoration-color: #000080; font-weight: bold\">0</span>\n",
       "  - <span style=\"color: #000080; text-decoration-color: #000080; font-weight: bold\">0.5</span>\n",
       "  - <span style=\"color: #000080; text-decoration-color: #000080; font-weight: bold\">1</span>\n",
       "  - <span style=\"color: #000080; text-decoration-color: #000080; font-weight: bold\">5</span>\n",
       "  estimator__subsample:\n",
       "  - <span style=\"color: #000080; text-decoration-color: #000080; font-weight: bold\">0.1</span>\n",
       "  - <span style=\"color: #000080; text-decoration-color: #000080; font-weight: bold\">0.5</span>\n",
       "  - <span style=\"color: #000080; text-decoration-color: #000080; font-weight: bold\">1</span>\n",
       "  estimator__eta:\n",
       "  - <span style=\"color: #000080; text-decoration-color: #000080; font-weight: bold\">0.3</span>\n",
       "  - <span style=\"color: #000080; text-decoration-color: #000080; font-weight: bold\">0.1</span>\n",
       "  - <span style=\"color: #000080; text-decoration-color: #000080; font-weight: bold\">0.5</span>\n",
       "\n",
       "</pre>\n"
      ],
      "text/plain": [
       "<rich.jupyter.JupyterRenderable at 0x7fbc48242fd0>"
      ]
     },
     "metadata": {},
     "output_type": "display_data"
    }
   ],
   "source": [
    "print(OmegaConf.to_yaml(cfg[\"model\"][\"sweep\"]))"
   ]
  },
  {
   "cell_type": "code",
   "execution_count": 9,
   "metadata": {
    "tags": []
   },
   "outputs": [
    {
     "data": {
      "text/html": [
       "== Status ==<br>Memory usage on this node: 10.0/16.0 GiB<br>Using FIFO scheduling algorithm.<br>Resources requested: 0/16 CPUs, 0/0 GPUs, 0.0/5.52 GiB heap, 0.0/1.9 GiB objects<br>Result logdir: /Users/jill/ray_results/_Trainable_2021-11-18_15-38-25<br>Number of trials: 15/15 (15 TERMINATED)<br><br>"
      ],
      "text/plain": [
       "<IPython.core.display.HTML object>"
      ]
     },
     "metadata": {},
     "output_type": "display_data"
    },
    {
     "data": {
      "text/html": [
       "<pre style=\"white-space:pre;overflow-x:auto;line-height:normal;font-family:Menlo,'DejaVu Sans Mono',consolas,'Courier New',monospace\"><span style=\"color: #7fbfbf; text-decoration-color: #7fbfbf\">           </span><span style=\"color: #000080; text-decoration-color: #000080\">INFO    </span> Total run time: <span style=\"color: #000080; text-decoration-color: #000080; font-weight: bold\">39.94</span> seconds <span style=\"font-weight: bold\">(</span><span style=\"color: #000080; text-decoration-color: #000080; font-weight: bold\">39.85</span> seconds for the tuning   <a href=\"file:///Users/jill/opt/anaconda3/envs/ddm/lib/python3.8/site-packages/ray/tune/tune.py\"><span style=\"color: #7f7f7f; text-decoration-color: #7f7f7f\">tune.py</span></a><span style=\"color: #7f7f7f; text-decoration-color: #7f7f7f\">:450</span>\n",
       "                    loop<span style=\"font-weight: bold\">)</span>.                                                                   \n",
       "</pre>\n"
      ],
      "text/plain": [
       "<rich.jupyter.JupyterRenderable at 0x7fbc3844b8b0>"
      ]
     },
     "metadata": {},
     "output_type": "display_data"
    },
    {
     "data": {
      "text/html": [
       "<pre style=\"white-space:pre;overflow-x:auto;line-height:normal;font-family:Menlo,'DejaVu Sans Mono',consolas,'Courier New',monospace\"><span style=\"color: #7fbfbf; text-decoration-color: #7fbfbf\">[15:39:07] </span><span style=\"color: #000080; text-decoration-color: #000080\">INFO    </span> Saving sweeping results to                                    <a href=\"file:///Users/jill/bonsai/datadrivenmodel/base.py\"><span style=\"color: #7f7f7f; text-decoration-color: #7f7f7f\">base.py</span></a><span style=\"color: #7f7f7f; text-decoration-color: #7f7f7f\">:662</span>\n",
       "                    xgboost_gridsearch/search_results_20211118-<span style=\"color: #000080; text-decoration-color: #000080; font-weight: bold\">153907.</span>csv                    \n",
       "</pre>\n"
      ],
      "text/plain": [
       "<rich.jupyter.JupyterRenderable at 0x7fbc35632e20>"
      ]
     },
     "metadata": {},
     "output_type": "display_data"
    },
    {
     "data": {
      "text/html": [
       "<pre style=\"white-space:pre;overflow-x:auto;line-height:normal;font-family:Menlo,'DejaVu Sans Mono',consolas,'Courier New',monospace\"><span style=\"color: #7fbfbf; text-decoration-color: #7fbfbf\">           </span><span style=\"color: #000080; text-decoration-color: #000080\">INFO    </span> Best hyperparams: <span style=\"font-weight: bold\">{</span><span style=\"color: #008000; text-decoration-color: #008000\">'estimator__max_depth'</span>: <span style=\"color: #000080; text-decoration-color: #000080; font-weight: bold\">5</span>,                 <a href=\"file:///Users/jill/bonsai/datadrivenmodel/base.py\"><span style=\"color: #7f7f7f; text-decoration-color: #7f7f7f\">base.py</span></a><span style=\"color: #7f7f7f; text-decoration-color: #7f7f7f\">:664</span>\n",
       "                    <span style=\"color: #008000; text-decoration-color: #008000\">'estimator__gamma'</span>: <span style=\"color: #000080; text-decoration-color: #000080; font-weight: bold\">0.0</span>, <span style=\"color: #008000; text-decoration-color: #008000\">'estimator__subsample'</span>: <span style=\"color: #000080; text-decoration-color: #000080; font-weight: bold\">0.5</span>,                    \n",
       "                    <span style=\"color: #008000; text-decoration-color: #008000\">'estimator__eta'</span>: <span style=\"color: #000080; text-decoration-color: #000080; font-weight: bold\">0.3</span><span style=\"font-weight: bold\">}</span>                                                   \n",
       "</pre>\n"
      ],
      "text/plain": [
       "<rich.jupyter.JupyterRenderable at 0x7fbc35acaf10>"
      ]
     },
     "metadata": {},
     "output_type": "display_data"
    },
    {
     "data": {
      "text/html": [
       "<pre style=\"white-space:pre;overflow-x:auto;line-height:normal;font-family:Menlo,'DejaVu Sans Mono',consolas,'Courier New',monospace\"><span style=\"color: #7fbfbf; text-decoration-color: #7fbfbf\">           </span><span style=\"color: #000080; text-decoration-color: #000080\">INFO    </span> Best score: <span style=\"color: #000080; text-decoration-color: #000080; font-weight: bold\">0.999774917715466</span>                                 <a href=\"file:///Users/jill/bonsai/datadrivenmodel/base.py\"><span style=\"color: #7f7f7f; text-decoration-color: #7f7f7f\">base.py</span></a><span style=\"color: #7f7f7f; text-decoration-color: #7f7f7f\">:665</span>\n",
       "</pre>\n"
      ],
      "text/plain": [
       "<rich.jupyter.JupyterRenderable at 0x7fbc35687ac0>"
      ]
     },
     "metadata": {},
     "output_type": "display_data"
    }
   ],
   "source": [
    "params = OmegaConf.to_container(cfg[\"model\"][\"sweep\"][\"params\"])\n",
    "logger.info(f\"Sweeping with parameters: {params}\")\n",
    "\n",
    "# Perform the sweep\n",
    "sweep_df = model.sweep(\n",
    "    params=params,\n",
    "    X=X_train,\n",
    "    y=y_train,\n",
    "    search_algorithm=cfg[\"model\"][\"sweep\"][\"search_algorithm\"],\n",
    "    num_trials=cfg[\"model\"][\"sweep\"][\"num_trials\"],\n",
    "    scoring_func=cfg[\"model\"][\"sweep\"][\"scoring_func\"],\n",
    "    results_csv_path=cfg[\"model\"][\"sweep\"][\"results_csv_path\"],\n",
    ")    "
   ]
  },
  {
   "cell_type": "code",
   "execution_count": 10,
   "metadata": {},
   "outputs": [
    {
     "data": {
      "text/html": [
       "<pre style=\"white-space:pre;overflow-x:auto;line-height:normal;font-family:Menlo,'DejaVu Sans Mono',consolas,'Courier New',monospace\"><span style=\"color: #7fbfbf; text-decoration-color: #7fbfbf\">           </span><span style=\"color: #000080; text-decoration-color: #000080\">INFO    </span> R^<span style=\"color: #000080; text-decoration-color: #000080; font-weight: bold\">2</span> score is <span style=\"color: #000080; text-decoration-color: #000080; font-weight: bold\">0.9998022271676795</span> for the test set.           <a href=\"file:///var/folders/0n/4grcjjyx7sv7zx8fr2h1yxym0000gn/T/ipykernel_63321/73494160.py\"><span style=\"color: #7f7f7f; text-decoration-color: #7f7f7f\">73494160.py</span></a><span style=\"color: #7f7f7f; text-decoration-color: #7f7f7f\">:4</span>\n",
       "</pre>\n"
      ],
      "text/plain": [
       "<rich.jupyter.JupyterRenderable at 0x7fbc4cf67970>"
      ]
     },
     "metadata": {},
     "output_type": "display_data"
    }
   ],
   "source": [
    "# Print the final score for the held out test set\n",
    "y_pred = model.predict(X_test)\n",
    "r2_score = available_metrics[\"r2_score\"]\n",
    "logger.info(f\"R^2 score is {r2_score(y_test,y_pred)} for the test set.\")"
   ]
  },
  {
   "cell_type": "code",
   "execution_count": 11,
   "metadata": {},
   "outputs": [
    {
     "data": {
      "text/html": [
       "<div>\n",
       "<style scoped>\n",
       "    .dataframe tbody tr th:only-of-type {\n",
       "        vertical-align: middle;\n",
       "    }\n",
       "\n",
       "    .dataframe tbody tr th {\n",
       "        vertical-align: top;\n",
       "    }\n",
       "\n",
       "    .dataframe thead th {\n",
       "        text-align: right;\n",
       "    }\n",
       "</style>\n",
       "<table border=\"1\" class=\"dataframe\">\n",
       "  <thead>\n",
       "    <tr style=\"text-align: right;\">\n",
       "      <th></th>\n",
       "      <th>params</th>\n",
       "      <th>split0_test_score</th>\n",
       "      <th>split1_test_score</th>\n",
       "      <th>split2_test_score</th>\n",
       "      <th>split3_test_score</th>\n",
       "      <th>split4_test_score</th>\n",
       "      <th>mean_test_score</th>\n",
       "      <th>std_test_score</th>\n",
       "      <th>rank_test_score</th>\n",
       "      <th>time_total_s</th>\n",
       "      <th>training_iteration</th>\n",
       "      <th>param_estimator__max_depth</th>\n",
       "      <th>param_estimator__gamma</th>\n",
       "      <th>param_estimator__subsample</th>\n",
       "      <th>param_estimator__eta</th>\n",
       "    </tr>\n",
       "  </thead>\n",
       "  <tbody>\n",
       "    <tr>\n",
       "      <th>0</th>\n",
       "      <td>{'estimator__max_depth': 5, 'estimator__gamma'...</td>\n",
       "      <td>0.999150</td>\n",
       "      <td>0.999252</td>\n",
       "      <td>0.999310</td>\n",
       "      <td>0.999304</td>\n",
       "      <td>0.999222</td>\n",
       "      <td>0.999248</td>\n",
       "      <td>0.000059</td>\n",
       "      <td>6</td>\n",
       "      <td>22.460661</td>\n",
       "      <td>1</td>\n",
       "      <td>5</td>\n",
       "      <td>0.5</td>\n",
       "      <td>1</td>\n",
       "      <td>0.3</td>\n",
       "    </tr>\n",
       "    <tr>\n",
       "      <th>1</th>\n",
       "      <td>{'estimator__max_depth': 10, 'estimator__gamma...</td>\n",
       "      <td>0.999115</td>\n",
       "      <td>0.999268</td>\n",
       "      <td>0.999245</td>\n",
       "      <td>0.999324</td>\n",
       "      <td>0.999322</td>\n",
       "      <td>0.999255</td>\n",
       "      <td>0.000077</td>\n",
       "      <td>4</td>\n",
       "      <td>34.877752</td>\n",
       "      <td>1</td>\n",
       "      <td>10</td>\n",
       "      <td>0.5</td>\n",
       "      <td>0.5</td>\n",
       "      <td>0.5</td>\n",
       "    </tr>\n",
       "    <tr>\n",
       "      <th>2</th>\n",
       "      <td>{'estimator__max_depth': 1, 'estimator__gamma'...</td>\n",
       "      <td>0.992494</td>\n",
       "      <td>0.993475</td>\n",
       "      <td>0.992761</td>\n",
       "      <td>0.993419</td>\n",
       "      <td>0.993241</td>\n",
       "      <td>0.993078</td>\n",
       "      <td>0.000385</td>\n",
       "      <td>14</td>\n",
       "      <td>6.184767</td>\n",
       "      <td>1</td>\n",
       "      <td>1</td>\n",
       "      <td>1</td>\n",
       "      <td>1</td>\n",
       "      <td>0.5</td>\n",
       "    </tr>\n",
       "    <tr>\n",
       "      <th>3</th>\n",
       "      <td>{'estimator__max_depth': 5, 'estimator__gamma'...</td>\n",
       "      <td>0.998728</td>\n",
       "      <td>0.998939</td>\n",
       "      <td>0.998942</td>\n",
       "      <td>0.998929</td>\n",
       "      <td>0.998957</td>\n",
       "      <td>0.998899</td>\n",
       "      <td>0.000086</td>\n",
       "      <td>11</td>\n",
       "      <td>24.567032</td>\n",
       "      <td>1</td>\n",
       "      <td>5</td>\n",
       "      <td>1</td>\n",
       "      <td>0.5</td>\n",
       "      <td>0.3</td>\n",
       "    </tr>\n",
       "    <tr>\n",
       "      <th>4</th>\n",
       "      <td>{'estimator__max_depth': 3, 'estimator__gamma'...</td>\n",
       "      <td>0.994716</td>\n",
       "      <td>0.995125</td>\n",
       "      <td>0.994683</td>\n",
       "      <td>0.994927</td>\n",
       "      <td>0.994409</td>\n",
       "      <td>0.994772</td>\n",
       "      <td>0.000242</td>\n",
       "      <td>13</td>\n",
       "      <td>15.766560</td>\n",
       "      <td>1</td>\n",
       "      <td>3</td>\n",
       "      <td>5</td>\n",
       "      <td>0.5</td>\n",
       "      <td>0.3</td>\n",
       "    </tr>\n",
       "  </tbody>\n",
       "</table>\n",
       "</div>"
      ],
      "text/plain": [
       "                                              params  split0_test_score  \\\n",
       "0  {'estimator__max_depth': 5, 'estimator__gamma'...           0.999150   \n",
       "1  {'estimator__max_depth': 10, 'estimator__gamma...           0.999115   \n",
       "2  {'estimator__max_depth': 1, 'estimator__gamma'...           0.992494   \n",
       "3  {'estimator__max_depth': 5, 'estimator__gamma'...           0.998728   \n",
       "4  {'estimator__max_depth': 3, 'estimator__gamma'...           0.994716   \n",
       "\n",
       "   split1_test_score  split2_test_score  split3_test_score  split4_test_score  \\\n",
       "0           0.999252           0.999310           0.999304           0.999222   \n",
       "1           0.999268           0.999245           0.999324           0.999322   \n",
       "2           0.993475           0.992761           0.993419           0.993241   \n",
       "3           0.998939           0.998942           0.998929           0.998957   \n",
       "4           0.995125           0.994683           0.994927           0.994409   \n",
       "\n",
       "   mean_test_score  std_test_score  rank_test_score  time_total_s  \\\n",
       "0         0.999248        0.000059                6     22.460661   \n",
       "1         0.999255        0.000077                4     34.877752   \n",
       "2         0.993078        0.000385               14      6.184767   \n",
       "3         0.998899        0.000086               11     24.567032   \n",
       "4         0.994772        0.000242               13     15.766560   \n",
       "\n",
       "   training_iteration param_estimator__max_depth param_estimator__gamma  \\\n",
       "0                   1                          5                    0.5   \n",
       "1                   1                         10                    0.5   \n",
       "2                   1                          1                      1   \n",
       "3                   1                          5                      1   \n",
       "4                   1                          3                      5   \n",
       "\n",
       "  param_estimator__subsample param_estimator__eta  \n",
       "0                          1                  0.3  \n",
       "1                        0.5                  0.5  \n",
       "2                          1                  0.5  \n",
       "3                        0.5                  0.3  \n",
       "4                        0.5                  0.3  "
      ]
     },
     "execution_count": 11,
     "metadata": {},
     "output_type": "execute_result"
    }
   ],
   "source": [
    "# Print some of the results from the sweep\n",
    "sweep_df.head()"
   ]
  },
  {
   "cell_type": "markdown",
   "metadata": {},
   "source": [
    "### Visualizing Hyperparameter Results"
   ]
  },
  {
   "cell_type": "code",
   "execution_count": null,
   "metadata": {},
   "outputs": [],
   "source": [
    "plot_parallel_coords(sweep_df)"
   ]
  },
  {
   "cell_type": "markdown",
   "metadata": {},
   "source": [
    "### Reading Saved Runs from CSV\n",
    "\n",
    "Runs are automatically saved to a CSV in the outputs directory:"
   ]
  },
  {
   "cell_type": "code",
   "execution_count": null,
   "metadata": {},
   "outputs": [],
   "source": [
    "sweep_df2 = pd.read_csv(\"xgboost_gridsearch/search_results.csv\")"
   ]
  },
  {
   "cell_type": "code",
   "execution_count": null,
   "metadata": {},
   "outputs": [],
   "source": [
    "plot_parallel_coords(sweep_df2)"
   ]
  },
  {
   "cell_type": "code",
   "execution_count": null,
   "metadata": {},
   "outputs": [],
   "source": []
  }
 ],
 "metadata": {
  "kernelspec": {
   "display_name": "Python 3 (ipykernel)",
   "language": "python",
   "name": "python3"
  },
  "language_info": {
   "codemirror_mode": {
    "name": "ipython",
    "version": 3
   },
   "file_extension": ".py",
   "mimetype": "text/x-python",
   "name": "python",
   "nbconvert_exporter": "python",
   "pygments_lexer": "ipython3",
   "version": "3.8.11"
  }
 },
 "nbformat": 4,
 "nbformat_minor": 4
}
